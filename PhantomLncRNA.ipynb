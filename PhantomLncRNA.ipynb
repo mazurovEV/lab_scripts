{
 "cells": [
  {
   "cell_type": "code",
   "execution_count": 25,
   "metadata": {},
   "outputs": [],
   "source": [
    "import pandas as pd\n",
    "import pickle\n",
    "from collections import defaultdict"
   ]
  },
  {
   "cell_type": "code",
   "execution_count": null,
   "metadata": {},
   "outputs": [],
   "source": []
  },
  {
   "cell_type": "code",
   "execution_count": 15,
   "metadata": {},
   "outputs": [],
   "source": [
    "with open(\"../H3K27me3/lncRNA_Peaks_Correlations_corrected.pickle\", 'rb') as f:\n",
    "    corr = pickle.load(f)"
   ]
  },
  {
   "cell_type": "code",
   "execution_count": 5,
   "metadata": {},
   "outputs": [],
   "source": [
    "data = pd.read_csv(\"../H3K27me3/phantom_lncRNAs.txt\", header=None)"
   ]
  },
  {
   "cell_type": "code",
   "execution_count": 20,
   "metadata": {},
   "outputs": [],
   "source": [
    "phantom_rna = set([g.split('.')[0]for g in data[0].tolist()])"
   ]
  },
  {
   "cell_type": "code",
   "execution_count": 23,
   "metadata": {},
   "outputs": [
    {
     "data": {
      "text/plain": [
       "126"
      ]
     },
     "execution_count": 23,
     "metadata": {},
     "output_type": "execute_result"
    }
   ],
   "source": [
    "len(phantom_rna)"
   ]
  },
  {
   "cell_type": "code",
   "execution_count": 18,
   "metadata": {},
   "outputs": [],
   "source": [
    "our_rna = set([g.split('.')[0] for g, p, c in corr])"
   ]
  },
  {
   "cell_type": "code",
   "execution_count": 22,
   "metadata": {},
   "outputs": [
    {
     "data": {
      "text/plain": [
       "78"
      ]
     },
     "execution_count": 22,
     "metadata": {},
     "output_type": "execute_result"
    }
   ],
   "source": [
    "len(our_rna.intersection(phantom_rna))"
   ]
  },
  {
   "cell_type": "code",
   "execution_count": 28,
   "metadata": {},
   "outputs": [],
   "source": [
    "rnas = set([g for g, p, c in corr])"
   ]
  },
  {
   "cell_type": "code",
   "execution_count": 39,
   "metadata": {},
   "outputs": [],
   "source": [
    "gene_key_corrs = defaultdict(list)\n",
    "for g, p, c in corr:\n",
    "    gene_key_corrs[g.split('.')[0]].append((p, c))"
   ]
  },
  {
   "cell_type": "code",
   "execution_count": 29,
   "metadata": {},
   "outputs": [],
   "source": [
    "corrs_with_sign = []\n",
    "for rna in rnas:\n",
    "    corrs = gene_key_corrs[rna]\n",
    "    plus_corrs = len([(p, c) for p, c in corrs if c[0] > 0])\n",
    "    minus_corrs = len([(p, c) for p, c in corrs if c[0] < 0])\n",
    "    corrs_with_sign.append((rna, plus_corrs, minus_corrs))"
   ]
  },
  {
   "cell_type": "code",
   "execution_count": 30,
   "metadata": {},
   "outputs": [],
   "source": [
    "corrs_with_sign_sorted_plus = sorted(corrs_with_sign, key=lambda x: x[1], reverse=True)\n",
    "corrs_with_sign_sorted_minus = sorted(corrs_with_sign, key=lambda x: x[2], reverse=True)"
   ]
  },
  {
   "cell_type": "code",
   "execution_count": 36,
   "metadata": {},
   "outputs": [],
   "source": [
    "set_plus_top = set([g.split('.')[0] for g, p, m in corrs_with_sign_sorted_plus[0:100]])\n",
    "set_minus_top = set([g.split('.')[0] for g, p, m in corrs_with_sign_sorted_minus[0:100]])"
   ]
  },
  {
   "cell_type": "code",
   "execution_count": 37,
   "metadata": {},
   "outputs": [
    {
     "data": {
      "text/plain": [
       "{'ENSG00000225439', 'ENSG00000231312', 'ENSG00000245937', 'ENSG00000267751'}"
      ]
     },
     "execution_count": 37,
     "metadata": {},
     "output_type": "execute_result"
    }
   ],
   "source": [
    "set_minus_top.intersection(phantom_rna)"
   ]
  },
  {
   "cell_type": "code",
   "execution_count": 38,
   "metadata": {},
   "outputs": [
    {
     "data": {
      "text/plain": [
       "{'ENSG00000225439'}"
      ]
     },
     "execution_count": 38,
     "metadata": {},
     "output_type": "execute_result"
    }
   ],
   "source": [
    "set_plus_top.intersection(phantom_rna)"
   ]
  },
  {
   "cell_type": "code",
   "execution_count": 41,
   "metadata": {},
   "outputs": [],
   "source": [
    "sorted_by_corr = sorted(corr, key=lambda x: x[2][0])"
   ]
  },
  {
   "cell_type": "code",
   "execution_count": 74,
   "metadata": {},
   "outputs": [],
   "source": [
    "top_100_minus = set([g.split('.')[0] for g, p, c in sorted_by_corr[0:355]])\n",
    "top_100_plus = set([g.split('.')[0] for g, p, c in sorted_by_corr[-226:-1]])"
   ]
  },
  {
   "cell_type": "code",
   "execution_count": 75,
   "metadata": {},
   "outputs": [
    {
     "data": {
      "text/plain": [
       "100"
      ]
     },
     "execution_count": 75,
     "metadata": {},
     "output_type": "execute_result"
    }
   ],
   "source": [
    "len(top_100_plus)"
   ]
  },
  {
   "cell_type": "code",
   "execution_count": 76,
   "metadata": {},
   "outputs": [
    {
     "data": {
      "text/plain": [
       "{'ENSG00000224086',\n",
       " 'ENSG00000225439',\n",
       " 'ENSG00000227811',\n",
       " 'ENSG00000230082',\n",
       " 'ENSG00000233117',\n",
       " 'ENSG00000233396',\n",
       " 'ENSG00000245532',\n",
       " 'ENSG00000245937'}"
      ]
     },
     "execution_count": 76,
     "metadata": {},
     "output_type": "execute_result"
    }
   ],
   "source": [
    "top_100_plus.intersection(phantom_rna)"
   ]
  },
  {
   "cell_type": "code",
   "execution_count": 77,
   "metadata": {},
   "outputs": [
    {
     "data": {
      "text/plain": [
       "{'ENSG00000233117', 'ENSG00000241990'}"
      ]
     },
     "execution_count": 77,
     "metadata": {},
     "output_type": "execute_result"
    }
   ],
   "source": [
    "top_100_minus.intersection(phantom_rna)"
   ]
  },
  {
   "cell_type": "code",
   "execution_count": 83,
   "metadata": {},
   "outputs": [
    {
     "data": {
      "text/plain": [
       "[(386, ('ENSG00000214548.10', 735, 1014))]"
      ]
     },
     "execution_count": 83,
     "metadata": {},
     "output_type": "execute_result"
    }
   ],
   "source": [
    "[(i, g) for i, g in enumerate(corrs_with_sign_sorted_plus) if g[0].split('.')[0] == 'ENSG00000214548']"
   ]
  },
  {
   "cell_type": "code",
   "execution_count": 84,
   "metadata": {},
   "outputs": [
    {
     "data": {
      "text/plain": [
       "[(231, ('ENSG00000214548.10', 735, 1014))]"
      ]
     },
     "execution_count": 84,
     "metadata": {},
     "output_type": "execute_result"
    }
   ],
   "source": [
    "[(i, g) for i, g in enumerate(corrs_with_sign_sorted_minus) if g[0].split('.')[0] == 'ENSG00000214548']"
   ]
  },
  {
   "cell_type": "code",
   "execution_count": null,
   "metadata": {},
   "outputs": [],
   "source": []
  }
 ],
 "metadata": {
  "kernelspec": {
   "display_name": "Python 3",
   "language": "python",
   "name": "python3"
  },
  "language_info": {
   "codemirror_mode": {
    "name": "ipython",
    "version": 3
   },
   "file_extension": ".py",
   "mimetype": "text/x-python",
   "name": "python",
   "nbconvert_exporter": "python",
   "pygments_lexer": "ipython3",
   "version": "3.6.5"
  }
 },
 "nbformat": 4,
 "nbformat_minor": 2
}
