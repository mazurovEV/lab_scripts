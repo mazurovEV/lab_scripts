{
 "cells": [
  {
   "cell_type": "code",
   "execution_count": 30,
   "metadata": {},
   "outputs": [],
   "source": [
    "import mygene\n",
    "from neo4j import GraphDatabase\n",
    "from py2neo import Graph\n",
    "import pandas as pd"
   ]
  },
  {
   "cell_type": "code",
   "execution_count": 2,
   "metadata": {},
   "outputs": [],
   "source": [
    "def get_gene_name(gene_id):\n",
    "    mg = mygene.MyGeneInfo()\n",
    "    out = mg.querymany(gene_id, scopes='ensembl.gene', fields=\"symbol\", species='human', \n",
    "                           returnall=True, as_dataframe=True)\n",
    "    with_symbol = out['out']\n",
    "    del with_symbol.index.name\n",
    "    with_symbol['ensembl_id'] = with_symbol.index\n",
    "    if 'symbol' in with_symbol.columns:\n",
    "        with_symbol = with_symbol.reset_index()[['ensembl_id', 'symbol']]\n",
    "        with_symbol = with_symbol[with_symbol['symbol'].notnull()]\n",
    "        return with_symbol\n",
    "    else:\n",
    "        return None"
   ]
  },
  {
   "cell_type": "code",
   "execution_count": 3,
   "metadata": {},
   "outputs": [],
   "source": [
    "def _ids(tx, query):\n",
    "    result = tx.run(query)\n",
    "    return [record[\"id\"] for record in result]"
   ]
  },
  {
   "cell_type": "code",
   "execution_count": 6,
   "metadata": {},
   "outputs": [],
   "source": [
    "driver = GraphDatabase.driver(\"bolt://localhost:7687\")\n",
    "neo4j_db = driver.session()"
   ]
  },
  {
   "cell_type": "code",
   "execution_count": 7,
   "metadata": {},
   "outputs": [],
   "source": [
    "cypher = \"match (g: Gene) return g.ensembl_id as id\""
   ]
  },
  {
   "cell_type": "code",
   "execution_count": 8,
   "metadata": {},
   "outputs": [],
   "source": [
    "result = neo4j_db.read_transaction(_ids, cypher)"
   ]
  },
  {
   "cell_type": "code",
   "execution_count": 12,
   "metadata": {},
   "outputs": [
    {
     "data": {
      "text/plain": [
       "39458"
      ]
     },
     "execution_count": 12,
     "metadata": {},
     "output_type": "execute_result"
    }
   ],
   "source": [
    "len([r for r in result if \"CAT\" not in r])"
   ]
  },
  {
   "cell_type": "code",
   "execution_count": 13,
   "metadata": {},
   "outputs": [
    {
     "name": "stdout",
     "output_type": "stream",
     "text": [
      "querying 1-1000...done.\n",
      "querying 1001-2000...done.\n",
      "querying 2001-3000...done.\n",
      "querying 3001-4000...done.\n",
      "querying 4001-5000...done.\n",
      "querying 5001-6000...done.\n",
      "querying 6001-7000...done.\n",
      "querying 7001-8000...done.\n",
      "querying 8001-9000...done.\n",
      "querying 9001-10000...done.\n",
      "querying 10001-11000...done.\n",
      "querying 11001-12000...done.\n",
      "querying 12001-13000...done.\n",
      "querying 13001-14000...done.\n",
      "querying 14001-15000...done.\n",
      "querying 15001-16000...done.\n",
      "querying 16001-17000...done.\n",
      "querying 17001-18000...done.\n",
      "querying 18001-19000...done.\n",
      "querying 19001-20000...done.\n",
      "querying 20001-21000...done.\n",
      "querying 21001-22000...done.\n",
      "querying 22001-23000...done.\n",
      "querying 23001-24000...done.\n",
      "querying 24001-25000...done.\n",
      "querying 25001-26000...done.\n",
      "querying 26001-27000...done.\n",
      "querying 27001-28000...done.\n",
      "querying 28001-29000...done.\n",
      "querying 29001-30000...done.\n",
      "querying 30001-31000...done.\n",
      "querying 31001-32000...done.\n",
      "querying 32001-33000...done.\n",
      "querying 33001-34000...done.\n",
      "querying 34001-35000...done.\n",
      "querying 35001-36000...done.\n",
      "querying 36001-37000...done.\n",
      "querying 37001-38000...done.\n",
      "querying 38001-39000...done.\n",
      "querying 39001-39458...done.\n",
      "Finished.\n",
      "1 input query terms found dup hits:\n",
      "\t[('ENSG00000229425', 2)]\n",
      "2090 input query terms found no hit:\n",
      "\t['ENSG00000250061', 'ENSG00000251836', 'ENSG00000152268', 'ENSG00000230058', 'ENSG00000261622', 'ENS\n"
     ]
    }
   ],
   "source": [
    "names = get_gene_name([r for r in result if \"CAT\" not in r])"
   ]
  },
  {
   "cell_type": "code",
   "execution_count": 14,
   "metadata": {},
   "outputs": [
    {
     "data": {
      "text/html": [
       "<div>\n",
       "<style scoped>\n",
       "    .dataframe tbody tr th:only-of-type {\n",
       "        vertical-align: middle;\n",
       "    }\n",
       "\n",
       "    .dataframe tbody tr th {\n",
       "        vertical-align: top;\n",
       "    }\n",
       "\n",
       "    .dataframe thead th {\n",
       "        text-align: right;\n",
       "    }\n",
       "</style>\n",
       "<table border=\"1\" class=\"dataframe\">\n",
       "  <thead>\n",
       "    <tr style=\"text-align: right;\">\n",
       "      <th></th>\n",
       "      <th>ensembl_id</th>\n",
       "      <th>symbol</th>\n",
       "    </tr>\n",
       "  </thead>\n",
       "  <tbody>\n",
       "    <tr>\n",
       "      <th>0</th>\n",
       "      <td>ENSG00000116251</td>\n",
       "      <td>RPL22</td>\n",
       "    </tr>\n",
       "    <tr>\n",
       "      <th>1</th>\n",
       "      <td>ENSG00000125944</td>\n",
       "      <td>HNRNPR</td>\n",
       "    </tr>\n",
       "    <tr>\n",
       "      <th>2</th>\n",
       "      <td>ENSG00000116675</td>\n",
       "      <td>DNAJC6</td>\n",
       "    </tr>\n",
       "    <tr>\n",
       "      <th>3</th>\n",
       "      <td>ENSG00000213625</td>\n",
       "      <td>LEPROT</td>\n",
       "    </tr>\n",
       "    <tr>\n",
       "      <th>4</th>\n",
       "      <td>ENSG00000122482</td>\n",
       "      <td>ZNF644</td>\n",
       "    </tr>\n",
       "  </tbody>\n",
       "</table>\n",
       "</div>"
      ],
      "text/plain": [
       "        ensembl_id  symbol\n",
       "0  ENSG00000116251   RPL22\n",
       "1  ENSG00000125944  HNRNPR\n",
       "2  ENSG00000116675  DNAJC6\n",
       "3  ENSG00000213625  LEPROT\n",
       "4  ENSG00000122482  ZNF644"
      ]
     },
     "execution_count": 14,
     "metadata": {},
     "output_type": "execute_result"
    }
   ],
   "source": [
    "names.head()"
   ]
  },
  {
   "cell_type": "code",
   "execution_count": 16,
   "metadata": {},
   "outputs": [],
   "source": [
    "graph = Graph()"
   ]
  },
  {
   "cell_type": "code",
   "execution_count": 29,
   "metadata": {},
   "outputs": [
    {
     "name": "stderr",
     "output_type": "stream",
     "text": [
      "/home/mazurovev/.local/lib/python3.6/site-packages/ipykernel_launcher.py:6: DeprecationWarning: Graph.begin(autocommit=True) is deprecated, use Graph.auto() instead\n",
      "  \n"
     ]
    }
   ],
   "source": [
    "statement = \"\"\"\n",
    "          UNWIND $rows as row\n",
    "          MATCH (g:Gene) WHERE g.ensembl_id=row.ensembl_id\n",
    "          SET g.name = row.symbol \n",
    "\"\"\"\n",
    "tx = graph.begin(autocommit=True)\n",
    "params = []\n",
    "for index, row in names.iterrows():\n",
    "    params = params + [{'ensembl_id': row['ensembl_id'], 'symbol': row['symbol']}]\n",
    "    #if index % 5000 == 0:\n",
    "    #    print(\"evaluate\")\n",
    "    #    tx.evaluate(statement, rows=params)\n",
    "    #    params = []\n",
    "tx.evaluate(statement, rows=params)"
   ]
  },
  {
   "cell_type": "code",
   "execution_count": 31,
   "metadata": {},
   "outputs": [
    {
     "name": "stderr",
     "output_type": "stream",
     "text": [
      "/home/mazurovev/.local/lib/python3.6/site-packages/IPython/core/interactiveshell.py:3072: DtypeWarning: Columns (23) have mixed types. Specify dtype option on import or set low_memory=False.\n",
      "  interactivity=interactivity, compiler=compiler, result=result)\n"
     ]
    }
   ],
   "source": [
    "chip = pd.read_csv(\"/data/mazurovev/all_marks/ChiP-Seq_for_all_marks_all_replicas.tsv\", sep = \"\\t\")\n",
    "data_origin = pd.read_csv(\"/data/mazurovev/all_marks/metadata_many_marks_hg38.tsv\", sep=\"\\t\")\n",
    "data_origin = data_origin[['Biosample term id', 'Biosample term name']]\n",
    "d = {}\n",
    "for e in [\"H3K27ac\", \"H3K27me3\", \"H3K36me3\", \"H3K4me1\", \"H3K4me2\", \"H3K4me3\", \"H3K9ac\", \"H3K9me3\", \"H3K79me2\", \"H4K20me1\"]:\n",
    "    exp_targets = chip[chip['Experiment target'] == e + \"-human\"]['Biosample term id'].unique()\n",
    "    d[e] = (len(exp_targets), data_origin[data_origin['Biosample term id'].isin(exp_targets)]['Biosample term name'].unique())"
   ]
  },
  {
   "cell_type": "code",
   "execution_count": 41,
   "metadata": {},
   "outputs": [
    {
     "data": {
      "text/plain": [
       "'myoepithelial cell of mammary gland'"
      ]
     },
     "execution_count": 41,
     "metadata": {},
     "output_type": "execute_result"
    }
   ],
   "source": [
    "data_origin[data_origin['Biosample term id'] == 'CL:0002324'].iloc[0]['Biosample term name']"
   ]
  },
  {
   "cell_type": "code",
   "execution_count": 44,
   "metadata": {},
   "outputs": [],
   "source": [
    "params = []\n",
    "for i in data_origin['Biosample term id'].unique():\n",
    "    params = params + [{\"id\": i, \"name\": data_origin[data_origin['Biosample term id'] == i].iloc[0]['Biosample term name']}]"
   ]
  },
  {
   "cell_type": "code",
   "execution_count": 45,
   "metadata": {},
   "outputs": [
    {
     "data": {
      "text/plain": [
       "[{'id': 'CL:0002324', 'name': 'myoepithelial cell of mammary gland'},\n",
       " {'id': 'UBERON:0000320', 'name': 'duodenal mucosa'},\n",
       " {'id': 'UBERON:0012488', 'name': 'muscle layer of duodenum'},\n",
       " {'id': 'EFO:0002067', 'name': 'K562'},\n",
       " {'id': 'UBERON:0000948', 'name': 'heart'},\n",
       " {'id': 'EFO:0001086', 'name': 'A549'},\n",
       " {'id': 'NTR:0003830', 'name': 'mid-neurogenesis radial glial cells'},\n",
       " {'id': 'EFO:0002713', 'name': 'Panc1'},\n",
       " {'id': 'CL:0002326', 'name': 'luminal epithelial cell of mammary gland'},\n",
       " {'id': 'EFO:0001260', 'name': 'WI38'},\n",
       " {'id': 'UBERON:0014455', 'name': 'subcutaneous abdominal adipose tissue'},\n",
       " {'id': 'UBERON:0002106', 'name': 'spleen'},\n",
       " {'id': 'UBERON:0001134', 'name': 'skeletal muscle tissue'},\n",
       " {'id': 'EFO:0002779', 'name': 'BJ'},\n",
       " {'id': 'CL:0000594', 'name': 'skeletal muscle satellite cell'},\n",
       " {'id': 'CL:0000625', 'name': 'CD8-positive, alpha-beta T cell'},\n",
       " {'id': 'UBERON:0002107', 'name': 'liver'},\n",
       " {'id': 'EFO:0007105', 'name': 'iPS-18a'},\n",
       " {'id': 'UBERON:0012489', 'name': 'muscle layer of colon'},\n",
       " {'id': 'UBERON:0000016', 'name': 'endocrine pancreas'},\n",
       " {'id': 'UBERON:0002108', 'name': 'small intestine'},\n",
       " {'id': 'NTR:0003079', 'name': 'fibroblast of breast'},\n",
       " {'id': 'CL:0002259', 'name': 'neuroepithelial stem cell'},\n",
       " {'id': 'UBERON:0001873', 'name': 'caudate nucleus'},\n",
       " {'id': 'CL:0000188', 'name': 'skeletal muscle cell'},\n",
       " {'id': 'UBERON:0003124', 'name': 'chorion'},\n",
       " {'id': 'UBERON:0002084', 'name': 'heart left ventricle'},\n",
       " {'id': 'UBERON:0002369', 'name': 'adrenal gland'},\n",
       " {'id': 'EFO:0002783', 'name': 'GM06990'},\n",
       " {'id': 'CL:0002327', 'name': 'mammary epithelial cell'},\n",
       " {'id': 'CL:0000792',\n",
       "  'name': 'CD4-positive, CD25-positive, alpha-beta regulatory T cell'},\n",
       " {'id': 'CL:0000084', 'name': 'T-cell'},\n",
       " {'id': 'EFO:0006270', 'name': 'AG04450'},\n",
       " {'id': 'CL:0000815', 'name': 'regulatory T cell'},\n",
       " {'id': 'CL:0001054', 'name': 'CD14-positive monocyte'},\n",
       " {'id': 'CL:1001606', 'name': 'foreskin keratinocyte'},\n",
       " {'id': 'CL:0000681', 'name': 'radial glial cell'},\n",
       " {'id': 'CL:0000236', 'name': 'B cell'},\n",
       " {'id': 'CL:2000001', 'name': 'peripheral blood mononuclear cell'},\n",
       " {'id': 'CL:0000623', 'name': 'natural killer cell'},\n",
       " {'id': 'CL:1001608', 'name': 'foreskin fibroblast'},\n",
       " {'id': 'EFO:0003042', 'name': 'H1'},\n",
       " {'id': 'CL:0002252', 'name': 'epithelial cell of esophagus'},\n",
       " {'id': 'EFO:0007083', 'name': 'HUES48'},\n",
       " {'id': 'CL:0000624', 'name': 'CD4-positive, alpha-beta T cell'},\n",
       " {'id': 'UBERON:0004222', 'name': 'stomach smooth muscle'},\n",
       " {'id': 'EFO:0003045', 'name': 'H9'},\n",
       " {'id': 'UBERON:0002078', 'name': 'right cardiac atrium'},\n",
       " {'id': 'UBERON:0001515', 'name': 'thoracic aorta'},\n",
       " {'id': 'NTR:0000856', 'name': 'mesendoderm'},\n",
       " {'id': 'UBERON:0002305', 'name': 'layer of hippocampus'},\n",
       " {'id': 'UBERON:0002048', 'name': 'lung'},\n",
       " {'id': 'NTR:0001407', 'name': 'germinal matrix'},\n",
       " {'id': 'CL:2000045', 'name': 'foreskin melanocyte'},\n",
       " {'id': 'EFO:0007107', 'name': 'iPS-18c'},\n",
       " {'id': 'EFO:0007102', 'name': 'iPS-15b'},\n",
       " {'id': 'EFO:0001182', 'name': 'HEK293'},\n",
       " {'id': 'EFO:0005904', 'name': 'H7'},\n",
       " {'id': 'NTR:0000481', 'name': 'AG10803'},\n",
       " {'id': 'EFO:0003072', 'name': 'SK-N-SH'},\n",
       " {'id': 'EFO:0002824', 'name': 'HCT116'},\n",
       " {'id': 'EFO:0002860', 'name': 'SK-N-MC'},\n",
       " {'id': 'CL:0001059', 'name': 'common myeloid progenitor, CD34-positive'},\n",
       " {'id': 'EFO:0001187', 'name': 'HepG2'},\n",
       " {'id': 'UBERON:0002370', 'name': 'thymus'},\n",
       " {'id': 'UBERON:0003346', 'name': 'mucosa of rectum'},\n",
       " {'id': 'UBERON:0002038', 'name': 'substantia nigra'},\n",
       " {'id': 'EFO:0005723', 'name': 'GM23248'},\n",
       " {'id': 'UBERON:0018112', 'name': 'rectal smooth muscle tissue'},\n",
       " {'id': 'UBERON:0000955', 'name': 'brain'},\n",
       " {'id': 'EFO:0002847', 'name': 'PC-9'},\n",
       " {'id': 'UBERON:0001199', 'name': 'mucosa of stomach'},\n",
       " {'id': 'EFO:0007096', 'name': 'iPS DF 19.11'},\n",
       " {'id': 'UBERON:0000317', 'name': 'colonic mucosa'},\n",
       " {'id': 'EFO:0007086', 'name': 'HUES6'},\n",
       " {'id': 'UBERON:0001150', 'name': 'body of pancreas'},\n",
       " {'id': 'EFO:0007076', 'name': 'ES-I3'},\n",
       " {'id': 'UBERON:0001264', 'name': 'pancreas'},\n",
       " {'id': 'EFO:0007116', 'name': 'UCSF-4'},\n",
       " {'id': 'EFO:0006283', 'name': 'KOPT-K1'},\n",
       " {'id': 'CL:0010021', 'name': 'cardiac myoblast'},\n",
       " {'id': 'EFO:0007089', 'name': 'HUES64'},\n",
       " {'id': 'UBERON:0002686', 'name': 'angular gyrus'},\n",
       " {'id': 'EFO:0007108', 'name': 'iPS-20b'},\n",
       " {'id': 'UBERON:0011907', 'name': 'gastrocnemius medialis'},\n",
       " {'id': 'UBERON:0000305', 'name': 'amnion'},\n",
       " {'id': 'CL:0002618', 'name': 'endothelial cell of umbilical vein'},\n",
       " {'id': 'NTR:0000427', 'name': 'neurosphere'},\n",
       " {'id': 'CL:0000895',\n",
       "  'name': 'naive thymus-derived CD4-positive, alpha-beta T cell'},\n",
       " {'id': 'CL:0000047', 'name': 'neural stem progenitor cell'},\n",
       " {'id': 'UBERON:0002046', 'name': 'thyroid gland'},\n",
       " {'id': 'UBERON:0000992', 'name': 'ovary'},\n",
       " {'id': 'UBERON:0001871', 'name': 'temporal lobe'},\n",
       " {'id': 'UBERON:0001255', 'name': 'urinary bladder'},\n",
       " {'id': 'CL:0000134', 'name': 'mesenchymal stem cell'},\n",
       " {'id': 'EFO:0005694', 'name': 'KMS-11'},\n",
       " {'id': 'CL:0000775', 'name': 'neutrophil'},\n",
       " {'id': 'CL:0002553', 'name': 'fibroblast of lung'},\n",
       " {'id': 'UBERON:0001383', 'name': 'muscle of leg'},\n",
       " {'id': 'UBERON:0001043', 'name': 'esophagus'},\n",
       " {'id': 'CL:0000899', 'name': 'T-helper 17 cell'},\n",
       " {'id': 'EFO:0005337', 'name': 'GM12864'},\n",
       " {'id': 'CL:0002551', 'name': 'fibroblast of dermis'},\n",
       " {'id': 'CL:0000842', 'name': 'mononuclear cell'},\n",
       " {'id': 'EFO:0001203', 'name': 'MCF-7'},\n",
       " {'id': 'UBERON:0002967', 'name': 'cingulate gyrus'},\n",
       " {'id': 'CL:0000540', 'name': 'neuron'},\n",
       " {'id': 'UBERON:0002113', 'name': 'kidney'},\n",
       " {'id': 'UBERON:0000945', 'name': 'stomach'},\n",
       " {'id': 'UBERON:0000059', 'name': 'large intestine'},\n",
       " {'id': 'CL:0002606', 'name': 'astrocyte of the spinal cord'},\n",
       " {'id': 'UBERON:0002080', 'name': 'heart right ventricle'},\n",
       " {'id': 'UBERON:0008450', 'name': 'psoas muscle'},\n",
       " {'id': 'EFO:0005724', 'name': 'MM.1S'},\n",
       " {'id': 'UBERON:0001774', 'name': 'muscle of trunk'},\n",
       " {'id': 'UBERON:0000947', 'name': 'aorta'},\n",
       " {'id': 'EFO:0005236', 'name': 'NT2/D1'},\n",
       " {'id': 'NTR:0000514', 'name': 'cardiovascular progenitor cell'},\n",
       " {'id': 'UBERON:0002240', 'name': 'spinal cord'},\n",
       " {'id': 'EFO:0007950', 'name': 'GM23338'},\n",
       " {'id': 'EFO:0007098', 'name': 'iPS DF 6.9'},\n",
       " {'id': 'EFO:0005338', 'name': 'GM12865'},\n",
       " {'id': 'CL:0000515', 'name': 'skeletal muscle myoblast'},\n",
       " {'id': 'CL:0002372', 'name': 'myotube'},\n",
       " {'id': 'CL:2000044', 'name': 'brain microvascular endothelial cell'},\n",
       " {'id': 'EFO:0002784', 'name': 'GM12878'},\n",
       " {'id': 'UBERON:0001496', 'name': 'ascending aorta'},\n",
       " {'id': 'CL:0000103', 'name': 'bipolar neuron'},\n",
       " {'id': 'EFO:0007074', 'name': 'DND-41'},\n",
       " {'id': 'CL:0000909', 'name': 'CD8-positive, alpha-beta memory T cell'},\n",
       " {'id': 'CL:0000897', 'name': 'CD4-positive, alpha-beta memory T cell'},\n",
       " {'id': 'CL:0000062', 'name': 'osteoblast'},\n",
       " {'id': 'CL:0002319', 'name': 'neural cell'},\n",
       " {'id': 'EFO:0007099', 'name': 'iPS-11a'},\n",
       " {'id': 'CL:0000351', 'name': 'trophoblast cell'},\n",
       " {'id': 'CL:0002547', 'name': 'fibroblast of the aortic adventitia'},\n",
       " {'id': 'CL:0000192', 'name': 'smooth muscle cell'},\n",
       " {'id': 'CL:0000182', 'name': 'hepatocyte'},\n",
       " {'id': 'UBERON:0000996', 'name': 'vagina'},\n",
       " {'id': 'CL:0000221', 'name': 'ectodermal cell'},\n",
       " {'id': 'UBERON:0001159', 'name': 'sigmoid colon'},\n",
       " {'id': 'EFO:0001196', 'name': 'IMR-90'},\n",
       " {'id': 'CL:0000223', 'name': 'endodermal cell'},\n",
       " {'id': 'CL:0000222', 'name': 'mesodermal cell'},\n",
       " {'id': 'EFO:0002791', 'name': 'HeLa-S3'},\n",
       " {'id': 'NTR:0000711', 'name': 'neural progenitor cell'},\n",
       " {'id': 'CL:0000136', 'name': 'adipocyte'},\n",
       " {'id': 'UBERON:0007610', 'name': 'tibial artery'},\n",
       " {'id': 'CL:0000905',\n",
       "  'name': 'effector memory CD4-positive, alpha-beta T cell'},\n",
       " {'id': 'UBERON:0001211', 'name': \"Peyer's patch\"},\n",
       " {'id': 'UBERON:0001323', 'name': 'tibial nerve'},\n",
       " {'id': 'UBERON:0004648', 'name': 'esophagus muscularis mucosa'},\n",
       " {'id': 'EFO:0001162', 'name': 'GM12875'},\n",
       " {'id': 'EFO:0005339', 'name': 'GM12866'},\n",
       " {'id': 'UBERON:0001157', 'name': 'transverse colon'},\n",
       " {'id': 'CL:0002548', 'name': 'cardiac fibroblast'},\n",
       " {'id': 'UBERON:0006920', 'name': 'esophagus squamous epithelium'},\n",
       " {'id': 'UBERON:0000995', 'name': 'uterus'},\n",
       " {'id': 'EFO:0002095', 'name': '22Rv1'},\n",
       " {'id': 'UBERON:0006483', 'name': 'middle frontal area 46'},\n",
       " {'id': 'EFO:0001221', 'name': 'NCI-H929'},\n",
       " {'id': 'CL:0000127', 'name': 'astrocyte'},\n",
       " {'id': 'EFO:0005726', 'name': 'LNCaP clone FGC'},\n",
       " {'id': 'CL:0000312', 'name': 'keratinocyte'},\n",
       " {'id': 'UBERON:0008367', 'name': 'breast epithelium'},\n",
       " {'id': 'CL:0002328', 'name': 'bronchial epithelial cell'},\n",
       " {'id': 'NTR:0000478', 'name': 'AG04449'},\n",
       " {'id': 'UBERON:0008952', 'name': 'upper lobe of left lung'},\n",
       " {'id': 'CL:0002518', 'name': 'kidney epithelial cell'},\n",
       " {'id': 'UBERON:0004264', 'name': 'lower leg skin'},\n",
       " {'id': 'EFO:0007752', 'name': 'VCaP'},\n",
       " {'id': 'CL:0002558', 'name': 'fibroblast of villous mesenchyme'},\n",
       " {'id': 'UBERON:0001013', 'name': 'adipose tissue'},\n",
       " {'id': 'EFO:0002106', 'name': 'A673'},\n",
       " {'id': 'UBERON:0001987', 'name': 'placenta'},\n",
       " {'id': 'CL:0002306', 'name': 'epithelial cell of proximal tubule'},\n",
       " {'id': 'EFO:0001099', 'name': 'Caco-2'},\n",
       " {'id': 'EFO:0005333', 'name': 'GM08714'},\n",
       " {'id': 'UBERON:0001621', 'name': 'coronary artery'},\n",
       " {'id': 'UBERON:0004550', 'name': 'gastroesophageal sphincter'},\n",
       " {'id': 'CL:0000746', 'name': 'cardiac muscle cell'},\n",
       " {'id': 'UBERON:0001114', 'name': 'right lobe of liver'},\n",
       " {'id': 'CL:0002231', 'name': 'epithelial cell of prostate'},\n",
       " {'id': 'CL:0002557', 'name': 'fibroblast of pulmonary artery'},\n",
       " {'id': 'CL:0002603', 'name': 'astrocyte of the cerebellum'},\n",
       " {'id': 'EFO:0007610', 'name': 'RWPE2'},\n",
       " {'id': 'CL:0000706', 'name': 'choroid plexus epithelial cell'},\n",
       " {'id': 'EFO:0005725', 'name': 'BE2C'},\n",
       " {'id': 'NTR:0001226', 'name': 'parathyroid adenoma'},\n",
       " {'id': 'EFO:0006365', 'name': 'C4-2B'},\n",
       " {'id': 'NTR:0003860', 'name': 'Jurkat clone E61'},\n",
       " {'id': 'EFO:0006710', 'name': 'OCI-LY3'},\n",
       " {'id': 'NTR:0000480', 'name': 'AG09319'},\n",
       " {'id': 'EFO:0002074', 'name': 'PC-3'},\n",
       " {'id': 'EFO:0002323', 'name': 'RWPE1'},\n",
       " {'id': 'CL:0002586', 'name': 'retinal pigment epithelial cell'},\n",
       " {'id': 'NTR:0000479', 'name': 'AG09309'},\n",
       " {'id': 'UBERON:0000473', 'name': 'testis'},\n",
       " {'id': 'EFO:0002793', 'name': 'HL-60'},\n",
       " {'id': 'EFO:0005715', 'name': 'WERI-Rb-1'},\n",
       " {'id': 'EFO:0002357', 'name': 'SU-DHL-6'},\n",
       " {'id': 'EFO:0005907', 'name': 'OCI-LY1'},\n",
       " {'id': 'EFO:0005719', 'name': 'Karpas-422'},\n",
       " {'id': 'EFO:0007112', 'name': 'Loucy'},\n",
       " {'id': 'EFO:0007070', 'name': 'ACC112'},\n",
       " {'id': 'EFO:0006711', 'name': 'OCI-LY7'},\n",
       " {'id': 'CL:0002555', 'name': 'fibroblast of mammary gland'},\n",
       " {'id': 'EFO:0005710', 'name': 'HFF-Myc'},\n",
       " {'id': 'EFO:0002167', 'name': 'DOHH2'},\n",
       " {'id': 'EFO:0002798', 'name': 'NB4'},\n",
       " {'id': 'UBERON:0006631', 'name': 'right atrium auricular region'},\n",
       " {'id': 'UBERON:0002367', 'name': 'prostate gland'}]"
      ]
     },
     "execution_count": 45,
     "metadata": {},
     "output_type": "execute_result"
    }
   ],
   "source": [
    "params"
   ]
  },
  {
   "cell_type": "code",
   "execution_count": 46,
   "metadata": {},
   "outputs": [
    {
     "name": "stderr",
     "output_type": "stream",
     "text": [
      "/home/mazurovev/.local/lib/python3.6/site-packages/ipykernel_launcher.py:6: DeprecationWarning: Graph.begin(autocommit=True) is deprecated, use Graph.auto() instead\n",
      "  \n"
     ]
    }
   ],
   "source": [
    "statement = \"\"\"\n",
    "          UNWIND $rows as row\n",
    "          MATCH (t:Tissue) WHERE t.encode_id=row.id\n",
    "          SET t.name = row.name\n",
    "\"\"\"\n",
    "tx = graph.begin(autocommit=True)\n",
    "tx.evaluate(statement, rows=params)"
   ]
  },
  {
   "cell_type": "code",
   "execution_count": null,
   "metadata": {},
   "outputs": [],
   "source": []
  }
 ],
 "metadata": {
  "kernelspec": {
   "display_name": "Python 3",
   "language": "python",
   "name": "python3"
  },
  "language_info": {
   "codemirror_mode": {
    "name": "ipython",
    "version": 3
   },
   "file_extension": ".py",
   "mimetype": "text/x-python",
   "name": "python",
   "nbconvert_exporter": "python",
   "pygments_lexer": "ipython3",
   "version": "3.6.9"
  }
 },
 "nbformat": 4,
 "nbformat_minor": 2
}
