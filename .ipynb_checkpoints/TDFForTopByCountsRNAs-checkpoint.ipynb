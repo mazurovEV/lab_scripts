{
 "cells": [
  {
   "cell_type": "code",
   "execution_count": 18,
   "metadata": {},
   "outputs": [],
   "source": [
    "import pickle\n",
    "import pandas as pd\n",
    "from pybedtools import BedTool\n",
    "import matplotlib.pyplot as plt\n",
    "import seaborn as sb\n",
    "from collections import defaultdict\n",
    "import gffutils\n",
    "from BCBio import GFF\n",
    "import subprocess\n",
    "import os\n",
    "from multiprocessing import Pool"
   ]
  },
  {
   "cell_type": "code",
   "execution_count": 19,
   "metadata": {},
   "outputs": [],
   "source": [
    "with open(\"../H3K27me3/lncRNA_Peaks_Correlations_corrected.pickle\", 'rb') as f:\n",
    "    corr = pickle.load(f)"
   ]
  },
  {
   "cell_type": "code",
   "execution_count": 20,
   "metadata": {},
   "outputs": [],
   "source": [
    "peaks = pd.read_csv(\"../H3K27me3/bw/subsampleHimericBam_peaks.bed\", sep=\"\\t\", skiprows=1, header=None)"
   ]
  },
  {
   "cell_type": "code",
   "execution_count": 21,
   "metadata": {},
   "outputs": [],
   "source": [
    "rnas = set([g for g, p, c in corr])"
   ]
  },
  {
   "cell_type": "code",
   "execution_count": 22,
   "metadata": {},
   "outputs": [],
   "source": [
    "gene_key_corrs = defaultdict(list)\n",
    "for g, p, c in corr:\n",
    "    gene_key_corrs[g].append((p, c))"
   ]
  },
  {
   "cell_type": "code",
   "execution_count": 23,
   "metadata": {},
   "outputs": [],
   "source": [
    "corrs_with_sign = []\n",
    "for rna in rnas:\n",
    "    corrs = gene_key_corrs[rna]\n",
    "    plus_corrs = len([(p, c) for p, c in corrs if c[0] > 0])\n",
    "    minus_corrs = len([(p, c) for p, c in corrs if c[0] < 0])\n",
    "    corrs_with_sign.append((rna, plus_corrs, minus_corrs))"
   ]
  },
  {
   "cell_type": "code",
   "execution_count": 24,
   "metadata": {},
   "outputs": [],
   "source": [
    "corrs_with_sign_sorted_plus = sorted(corrs_with_sign, key=lambda x: x[1], reverse=True)\n",
    "corrs_with_sign_sorted_minus = sorted(corrs_with_sign, key=lambda x: x[2], reverse=True)"
   ]
  },
  {
   "cell_type": "code",
   "execution_count": null,
   "metadata": {},
   "outputs": [],
   "source": []
  },
  {
   "cell_type": "code",
   "execution_count": 25,
   "metadata": {},
   "outputs": [],
   "source": [
    "corrs = list(set(corrs_with_sign_sorted_plus[0:20]).union(set(corrs_with_sign_sorted_minus[0:20])))"
   ]
  },
  {
   "cell_type": "code",
   "execution_count": 32,
   "metadata": {},
   "outputs": [],
   "source": [
    "rna_for_region_test = [\"ENSG00000185044.10\", \"ENSG00000204055.4\", \"ENSG00000206195.6\", \"ENSG00000257176.1\"]"
   ]
  },
  {
   "cell_type": "code",
   "execution_count": null,
   "metadata": {},
   "outputs": [],
   "source": [
    "def runTDF(corr):\n",
    "    g = corr[0]\n",
    "    cmd = \"rgt-TDF promotertest -rm 2 -r ../H3K27me3/tdf_lncRNA_gene_sequences/\" + g + \"_gene_lncRNA.fa -rn \" + g + \" -bed ../H3K27me3/peaks_for_tdf/plus_\" + g + \"_peaks.bed -bg ../H3K27me3/peaks_for_tdf/ne_\" + g + \"_peaks.bed -o ../H3K27me3/promoter_test/ -organism hg19 -l 12 -ccf 20\"\n",
    "    print(cmd)\n",
    "    return subprocess.check_output(cmd, shell=True) "
   ]
  },
  {
   "cell_type": "code",
   "execution_count": 35,
   "metadata": {},
   "outputs": [],
   "source": [
    "def runTDFregionTest(rna):\n",
    "    cmd = \"rgt-TDF regiontest -rm 2 -r ../H3K27me3/tdf_lncRNA_gene_sequences/\" + rna + \"_gene_lncRNA.fa -rn \" + rna + \" -bed ../H3K27me3/peaks_for_tdf/plus_\" + rna + \"_peaks.bed -f ../H3K27me3/region_test/bg_\" + rna + \".bed -o ../H3K27me3/region_test/ -organism hg19 -l 12 -ccf 20\"\n",
    "    print(cmd)\n",
    "    return subprocess.check_output(cmd, shell=True)"
   ]
  },
  {
   "cell_type": "code",
   "execution_count": 29,
   "metadata": {},
   "outputs": [],
   "source": [
    "#bedtools subtract -a A.bed -b B.bed\n",
    "#A - B = substract\n",
    "def generateBackgroundForRegionTest(rna):\n",
    "    target = BedTool('../H3K27me3/peaks_for_tdf/plus_' + rna + '_peaks.bed')\n",
    "    hg19 = BedTool('../hg19/allChr.bed')\n",
    "    hg19.subtract(target, output='../H3K27me3/region_test/bg_' + rna + \".bed\")"
   ]
  },
  {
   "cell_type": "code",
   "execution_count": 33,
   "metadata": {},
   "outputs": [],
   "source": [
    "for rna in rna_for_region_test:\n",
    "    generateBackgroundForRegionTest(rna)"
   ]
  },
  {
   "cell_type": "code",
   "execution_count": 36,
   "metadata": {},
   "outputs": [
    {
     "name": "stdout",
     "output_type": "stream",
     "text": [
      "rgt-TDF regiontest -rm 2 -r ../H3K27me3/tdf_lncRNA_gene_sequences/ENSG00000185044.10_gene_lncRNA.fa -rn ENSG00000185044.10 -bed ../H3K27me3/peaks_for_tdf/plus_ENSG00000185044.10_peaks.bed -f ../H3K27me3/region_test/bg_ENSG00000185044.10.bed -o ../H3K27me3/region_test/ -organism hg19 -l 12 -ccf 20\n"
     ]
    },
    {
     "ename": "KeyboardInterrupt",
     "evalue": "",
     "output_type": "error",
     "traceback": [
      "\u001b[0;31m---------------------------------------------------------------------------\u001b[0m",
      "\u001b[0;31mKeyboardInterrupt\u001b[0m                         Traceback (most recent call last)",
      "\u001b[0;32m<ipython-input-36-7655c8c75031>\u001b[0m in \u001b[0;36m<module>\u001b[0;34m()\u001b[0m\n\u001b[0;32m----> 1\u001b[0;31m \u001b[0mrunTDFregionTest\u001b[0m\u001b[0;34m(\u001b[0m\u001b[0;34m\"ENSG00000185044.10\"\u001b[0m\u001b[0;34m)\u001b[0m\u001b[0;34m\u001b[0m\u001b[0;34m\u001b[0m\u001b[0m\n\u001b[0m",
      "\u001b[0;32m<ipython-input-35-85c4b377b1d0>\u001b[0m in \u001b[0;36mrunTDFregionTest\u001b[0;34m(rna)\u001b[0m\n\u001b[1;32m      2\u001b[0m     \u001b[0mcmd\u001b[0m \u001b[0;34m=\u001b[0m \u001b[0;34m\"rgt-TDF regiontest -rm 2 -r ../H3K27me3/tdf_lncRNA_gene_sequences/\"\u001b[0m \u001b[0;34m+\u001b[0m \u001b[0mrna\u001b[0m \u001b[0;34m+\u001b[0m \u001b[0;34m\"_gene_lncRNA.fa -rn \"\u001b[0m \u001b[0;34m+\u001b[0m \u001b[0mrna\u001b[0m \u001b[0;34m+\u001b[0m \u001b[0;34m\" -bed ../H3K27me3/peaks_for_tdf/plus_\"\u001b[0m \u001b[0;34m+\u001b[0m \u001b[0mrna\u001b[0m \u001b[0;34m+\u001b[0m \u001b[0;34m\"_peaks.bed -f ../H3K27me3/region_test/bg_\"\u001b[0m \u001b[0;34m+\u001b[0m \u001b[0mrna\u001b[0m \u001b[0;34m+\u001b[0m \u001b[0;34m\".bed -o ../H3K27me3/region_test/ -organism hg19 -l 12 -ccf 20\"\u001b[0m\u001b[0;34m\u001b[0m\u001b[0;34m\u001b[0m\u001b[0m\n\u001b[1;32m      3\u001b[0m     \u001b[0mprint\u001b[0m\u001b[0;34m(\u001b[0m\u001b[0mcmd\u001b[0m\u001b[0;34m)\u001b[0m\u001b[0;34m\u001b[0m\u001b[0;34m\u001b[0m\u001b[0m\n\u001b[0;32m----> 4\u001b[0;31m     \u001b[0;32mreturn\u001b[0m \u001b[0msubprocess\u001b[0m\u001b[0;34m.\u001b[0m\u001b[0mcheck_output\u001b[0m\u001b[0;34m(\u001b[0m\u001b[0mcmd\u001b[0m\u001b[0;34m,\u001b[0m \u001b[0mshell\u001b[0m\u001b[0;34m=\u001b[0m\u001b[0;32mTrue\u001b[0m\u001b[0;34m)\u001b[0m\u001b[0;34m\u001b[0m\u001b[0;34m\u001b[0m\u001b[0m\n\u001b[0m",
      "\u001b[0;32m/usr/lib/python3.6/subprocess.py\u001b[0m in \u001b[0;36mcheck_output\u001b[0;34m(timeout, *popenargs, **kwargs)\u001b[0m\n\u001b[1;32m    334\u001b[0m \u001b[0;34m\u001b[0m\u001b[0m\n\u001b[1;32m    335\u001b[0m     return run(*popenargs, stdout=PIPE, timeout=timeout, check=True,\n\u001b[0;32m--> 336\u001b[0;31m                **kwargs).stdout\n\u001b[0m\u001b[1;32m    337\u001b[0m \u001b[0;34m\u001b[0m\u001b[0m\n\u001b[1;32m    338\u001b[0m \u001b[0;34m\u001b[0m\u001b[0m\n",
      "\u001b[0;32m/usr/lib/python3.6/subprocess.py\u001b[0m in \u001b[0;36mrun\u001b[0;34m(input, timeout, check, *popenargs, **kwargs)\u001b[0m\n\u001b[1;32m    403\u001b[0m     \u001b[0;32mwith\u001b[0m \u001b[0mPopen\u001b[0m\u001b[0;34m(\u001b[0m\u001b[0;34m*\u001b[0m\u001b[0mpopenargs\u001b[0m\u001b[0;34m,\u001b[0m \u001b[0;34m**\u001b[0m\u001b[0mkwargs\u001b[0m\u001b[0;34m)\u001b[0m \u001b[0;32mas\u001b[0m \u001b[0mprocess\u001b[0m\u001b[0;34m:\u001b[0m\u001b[0;34m\u001b[0m\u001b[0;34m\u001b[0m\u001b[0m\n\u001b[1;32m    404\u001b[0m         \u001b[0;32mtry\u001b[0m\u001b[0;34m:\u001b[0m\u001b[0;34m\u001b[0m\u001b[0;34m\u001b[0m\u001b[0m\n\u001b[0;32m--> 405\u001b[0;31m             \u001b[0mstdout\u001b[0m\u001b[0;34m,\u001b[0m \u001b[0mstderr\u001b[0m \u001b[0;34m=\u001b[0m \u001b[0mprocess\u001b[0m\u001b[0;34m.\u001b[0m\u001b[0mcommunicate\u001b[0m\u001b[0;34m(\u001b[0m\u001b[0minput\u001b[0m\u001b[0;34m,\u001b[0m \u001b[0mtimeout\u001b[0m\u001b[0;34m=\u001b[0m\u001b[0mtimeout\u001b[0m\u001b[0;34m)\u001b[0m\u001b[0;34m\u001b[0m\u001b[0;34m\u001b[0m\u001b[0m\n\u001b[0m\u001b[1;32m    406\u001b[0m         \u001b[0;32mexcept\u001b[0m \u001b[0mTimeoutExpired\u001b[0m\u001b[0;34m:\u001b[0m\u001b[0;34m\u001b[0m\u001b[0;34m\u001b[0m\u001b[0m\n\u001b[1;32m    407\u001b[0m             \u001b[0mprocess\u001b[0m\u001b[0;34m.\u001b[0m\u001b[0mkill\u001b[0m\u001b[0;34m(\u001b[0m\u001b[0;34m)\u001b[0m\u001b[0;34m\u001b[0m\u001b[0;34m\u001b[0m\u001b[0m\n",
      "\u001b[0;32m/usr/lib/python3.6/subprocess.py\u001b[0m in \u001b[0;36mcommunicate\u001b[0;34m(self, input, timeout)\u001b[0m\n\u001b[1;32m    828\u001b[0m                 \u001b[0mself\u001b[0m\u001b[0;34m.\u001b[0m\u001b[0m_stdin_write\u001b[0m\u001b[0;34m(\u001b[0m\u001b[0minput\u001b[0m\u001b[0;34m)\u001b[0m\u001b[0;34m\u001b[0m\u001b[0;34m\u001b[0m\u001b[0m\n\u001b[1;32m    829\u001b[0m             \u001b[0;32melif\u001b[0m \u001b[0mself\u001b[0m\u001b[0;34m.\u001b[0m\u001b[0mstdout\u001b[0m\u001b[0;34m:\u001b[0m\u001b[0;34m\u001b[0m\u001b[0;34m\u001b[0m\u001b[0m\n\u001b[0;32m--> 830\u001b[0;31m                 \u001b[0mstdout\u001b[0m \u001b[0;34m=\u001b[0m \u001b[0mself\u001b[0m\u001b[0;34m.\u001b[0m\u001b[0mstdout\u001b[0m\u001b[0;34m.\u001b[0m\u001b[0mread\u001b[0m\u001b[0;34m(\u001b[0m\u001b[0;34m)\u001b[0m\u001b[0;34m\u001b[0m\u001b[0;34m\u001b[0m\u001b[0m\n\u001b[0m\u001b[1;32m    831\u001b[0m                 \u001b[0mself\u001b[0m\u001b[0;34m.\u001b[0m\u001b[0mstdout\u001b[0m\u001b[0;34m.\u001b[0m\u001b[0mclose\u001b[0m\u001b[0;34m(\u001b[0m\u001b[0;34m)\u001b[0m\u001b[0;34m\u001b[0m\u001b[0;34m\u001b[0m\u001b[0m\n\u001b[1;32m    832\u001b[0m             \u001b[0;32melif\u001b[0m \u001b[0mself\u001b[0m\u001b[0;34m.\u001b[0m\u001b[0mstderr\u001b[0m\u001b[0;34m:\u001b[0m\u001b[0;34m\u001b[0m\u001b[0;34m\u001b[0m\u001b[0m\n",
      "\u001b[0;31mKeyboardInterrupt\u001b[0m: "
     ]
    }
   ],
   "source": [
    "runTDFregionTest(\"ENSG00000185044.10\")"
   ]
  },
  {
   "cell_type": "code",
   "execution_count": 16,
   "metadata": {},
   "outputs": [],
   "source": [
    "not_done = [\"ENSG00000197291.4\", \"ENSG00000251209.3\"]"
   ]
  },
  {
   "cell_type": "code",
   "execution_count": null,
   "metadata": {},
   "outputs": [],
   "source": [
    "def getConvertIds():\n",
    "    lncRNAMatrix = pd.read_csv(\"../H3K27me3/lncRNA_matrix_filtered.csv\", sep=\"\\t\", index_col=0)\n",
    "\n",
    "    #hg19 айдишники\n",
    "    lncRNAGenes = list(lncRNAMatrix.index)\n",
    "\n",
    "    in_file = \"../H3K27me3/gencode.v29lift37.long_noncoding_RNAs.gff3\"\n",
    "    in_handle = open(in_file)\n",
    "\n",
    "    limit_info = dict(\n",
    "        gff_id = ['chr1', 'chr10', 'chr11', 'chr12', 'chr13', 'chr14', 'chr15', 'chr16', 'chr17', 'chr18', \n",
    "     'chr19', 'chr2', 'chr20', 'chr21', 'chr22', 'chr3', 'chr4', 'chr5', 'chr6', 'chr7', 'chr8', 'chr9'],\n",
    "        gff_type = [\"gene\"])\n",
    "\n",
    "    lncRNAgenes = []\n",
    "    for rec in GFF.parse(in_handle, limit_info=limit_info):\n",
    "        lncRNAgenes.append((rec.id, rec.features)) \n",
    "\n",
    "    in_handle.close()\n",
    "\n",
    "    tmp = [k.split('.')[0] for k in lncRNAGenes]\n",
    "\n",
    "    #38 айдишники\n",
    "    lncRNAgenesIds = [g.id for i, j in lncRNAgenes for g in j if g.id.split('.')[0] in tmp]\n",
    "\n",
    "    lncRNAgenesIds.sort(key = lambda x: x.split('.')[0])\n",
    "    lncRNAGenes.sort(key = lambda x: x.split('.')[0])\n",
    "\n",
    "    #в gff лежат названия айдишников для версии ghr38, а в данных hg19\n",
    "    convertIds = {i:j for i, j in zip(lncRNAGenes, lncRNAgenesIds)} \n",
    "    \n",
    "    return convertIds"
   ]
  },
  {
   "cell_type": "code",
   "execution_count": 79,
   "metadata": {},
   "outputs": [],
   "source": [
    "def generateFilesForTDF(corrs):\n",
    "    db = gffutils.FeatureDB('../H3K27me3/long_noncoding_RNAs.db', keep_order=True)\n",
    "    convertIds = getConvertIds()\n",
    "    \n",
    "    for g, p, m in corrs:\n",
    "        print(\"lncRNA: \" + g)\n",
    "        corrs = gene_key_corrs[g]\n",
    "        plus_corrs = [p for p, c in corrs if c[0] > 0]\n",
    "        minus_corrs = [p for p, c in corrs if c[0] < 0]\n",
    "\n",
    "        #Сделать TDF положительные против отрицательных\n",
    "        gene_plus_peaks = peaks[peaks[3].isin(plus_corrs)]\n",
    "        gene_plus_peaks.to_csv(\"../H3K27me3/peaks_for_tdf/plus_\" + g + \"_peaks.bed\", sep=\"\\t\", index=False, header=None)\n",
    "\n",
    "        gene_minus_peaks = peaks[peaks[3].isin(plus_corrs)]\n",
    "        gene_minus_peaks.to_csv(\"../H3K27me3/peaks_for_tdf/minus_\" + g + \"_peaks.bed\", sep=\"\\t\", index=False, header=None)\n",
    "\n",
    "        ne_gene_peaks = peaks[~peaks[3].isin([p for p, c in corrs])]\n",
    "        ne_gene_peaks.to_csv(\"../H3K27me3/peaks_for_tdf/ne_\" + g + \"_peaks.bed\", sep=\"\\t\", index=False, header=None)\n",
    "\n",
    "        #Делаем геномную(!) последовательность нужной lncRNA\n",
    "        gene = db[convertIds[g]]\n",
    "        with open(\"../H3K27me3/tdf_lncRNA_gene_sequences/\" + g + \".gff3\", \"a\") as myfile:\n",
    "            myfile.write(str(gene) + \"\\n\")\n",
    "            for i in db.children(gene, featuretype='exon', order_by='start'):\n",
    "                myfile.write(str(i) + \"\\n\")\n",
    "\n",
    "        cmd = 'gffread ../H3K27me3/tdf_lncRNA_gene_sequences/' + g + '.gff3 -g ../hg19/allChr.fa -w ../H3K27me3/tdf_lncRNA_gene_sequences/' + g + '_gene_lncRNA.fa' \n",
    "        print(cmd + \"\\n\")\n",
    "        p = subprocess.Popen(cmd, shell=True, stdout=subprocess.PIPE)\n",
    "        p.wait()\n",
    "        print(p.returncode)"
   ]
  },
  {
   "cell_type": "code",
   "execution_count": null,
   "metadata": {},
   "outputs": [],
   "source": [
    "def generate():\n",
    "    generateFilesForTDF(corrs_with_sign_sorted_plus[0:20])\n",
    "    generateFilesForTDF(list(set(corrs_with_sign_sorted_minus[0:20]) - set(corrs_with_sign_sorted_plus[0:20])))"
   ]
  },
  {
   "cell_type": "code",
   "execution_count": null,
   "metadata": {},
   "outputs": [],
   "source": []
  },
  {
   "cell_type": "code",
   "execution_count": null,
   "metadata": {},
   "outputs": [],
   "source": [
    "pool = Pool(processes=1)\n",
    "r = pool.map(runTDF, not_done)\n",
    "\n",
    "pool.close()\n",
    "pool.join()"
   ]
  }
 ],
 "metadata": {
  "kernelspec": {
   "display_name": "Python 3",
   "language": "python",
   "name": "python3"
  },
  "language_info": {
   "codemirror_mode": {
    "name": "ipython",
    "version": 3
   },
   "file_extension": ".py",
   "mimetype": "text/x-python",
   "name": "python",
   "nbconvert_exporter": "python",
   "pygments_lexer": "ipython3",
   "version": "3.6.7"
  }
 },
 "nbformat": 4,
 "nbformat_minor": 2
}
