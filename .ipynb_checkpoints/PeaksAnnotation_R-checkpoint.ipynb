{
 "cells": [
  {
   "cell_type": "code",
   "execution_count": 10,
   "metadata": {},
   "outputs": [],
   "source": [
    "options(warn=-1)"
   ]
  },
  {
   "cell_type": "code",
   "execution_count": 11,
   "metadata": {},
   "outputs": [
    {
     "name": "stderr",
     "output_type": "stream",
     "text": [
      "Loading required package: AnnotationDbi\n",
      "\n",
      "Loading required package: Biobase\n",
      "\n",
      "Welcome to Bioconductor\n",
      "\n",
      "    Vignettes contain introductory material; view with\n",
      "    'browseVignettes()'. To cite Bioconductor, see\n",
      "    'citation(\"Biobase\")', and for packages 'citation(\"pkgname\")'.\n",
      "\n",
      "\n"
     ]
    }
   ],
   "source": [
    "library(\"ChIPpeakAnno\")\n",
    "library(\"biomaRt\")\n",
    "library(\"GenomicFeatures\")"
   ]
  },
  {
   "cell_type": "code",
   "execution_count": 17,
   "metadata": {},
   "outputs": [],
   "source": [
    "peaksAnno<-function(filename, output_filename) {\n",
    "    txdb <- makeTxDbFromGFF('../annotation/gencode.v31.annotation.gff3')\n",
    "    \n",
    "    anno <- toGRanges(txdb, format='gene')\n",
    "    gr1 <- toGRanges(filename, format=\"BED\", skip=1)\n",
    "\n",
    "    overlaps.anno <- annotatePeakInBatch(gr1, AnnotationData=anno, output=\"overlapping\", maxgap=1000L)\n",
    "    print(\"count annotation, write to file\")\n",
    "    write.table(overlaps.anno, file=output_filename, quote=FALSE, sep=\"\\t\") \n",
    "}"
   ]
  },
  {
   "cell_type": "code",
   "execution_count": 18,
   "metadata": {},
   "outputs": [
    {
     "name": "stdout",
     "output_type": "stream",
     "text": [
      "[1] \"count annotation, write to file\"\n"
     ]
    }
   ],
   "source": [
    "#peaksAnno(\"../all_marks/H3K27ac/merged_peaks_first_in_biosample.bed\", \"../all_marks/H3K27ac/peaks_anno.csv\")"
   ]
  },
  {
   "cell_type": "code",
   "execution_count": null,
   "metadata": {},
   "outputs": [],
   "source": []
  }
 ],
 "metadata": {
  "kernelspec": {
   "display_name": "R",
   "language": "R",
   "name": "ir"
  },
  "language_info": {
   "codemirror_mode": "r",
   "file_extension": ".r",
   "mimetype": "text/x-r-source",
   "name": "R",
   "pygments_lexer": "r",
   "version": "3.6.1"
  }
 },
 "nbformat": 4,
 "nbformat_minor": 2
}
