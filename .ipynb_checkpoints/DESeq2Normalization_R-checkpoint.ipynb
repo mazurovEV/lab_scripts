{
 "cells": [
  {
   "cell_type": "code",
   "execution_count": 2,
   "metadata": {},
   "outputs": [],
   "source": [
    "options(warn=-1)"
   ]
  },
  {
   "cell_type": "code",
   "execution_count": 3,
   "metadata": {},
   "outputs": [],
   "source": [
    "library(\"DESeq2\")"
   ]
  },
  {
   "cell_type": "code",
   "execution_count": null,
   "metadata": {},
   "outputs": [],
   "source": [
    "normalize <- function(matrix_path, ctl, exp, norm_matrix_path) {\n",
    "    #countdata <- read.table(\"~/workspace/peaks_signal_matrix.csv\", header=TRUE, row.names=1)\n",
    "    countdata <- read.table(matrix_path, header=TRUE, row.names=1)\n",
    "\n",
    "    countdata <- as.matrix(countdata)\n",
    "\n",
    "    (condition <- factor(c(rep(\"ctl\", ctl), rep(\"exp\", exp))))\n",
    "\n",
    "    (coldata <- data.frame(row.names=colnames(countdata), condition))\n",
    "\n",
    "    dds <- DESeqDataSetFromMatrix(countData=countdata, colData=coldata, design=~condition)\n",
    "    dds <- estimateSizeFactors(dds)\n",
    "\n",
    "    nz <- counts(dds, normalized = TRUE)\n",
    "    nz <- round(nz, 2)\n",
    "    #write.csv(nz, file=\"peaks_signal_matrix_normalized.csv\", sep=\"\\t\") \n",
    "    write.table(nz, file=norm_matrix_path, quote=FALSE, sep=\"\\t\") \n",
    "}"
   ]
  }
 ],
 "metadata": {
  "kernelspec": {
   "display_name": "R",
   "language": "R",
   "name": "ir"
  },
  "language_info": {
   "codemirror_mode": "r",
   "file_extension": ".r",
   "mimetype": "text/x-r-source",
   "name": "R",
   "pygments_lexer": "r",
   "version": "3.6.1"
  }
 },
 "nbformat": 4,
 "nbformat_minor": 2
}
