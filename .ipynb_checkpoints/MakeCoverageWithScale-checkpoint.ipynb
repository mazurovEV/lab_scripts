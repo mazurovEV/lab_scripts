{
 "cells": [
  {
   "cell_type": "code",
   "execution_count": 1,
   "metadata": {},
   "outputs": [],
   "source": [
    "#1)Вызвать для всех bam'ов контроля bedtools genomecov с превращением в bedGraph со скейлом(norm_factor)\n",
    "#2)Вызвать для всех bam'ов сигнала bedtools genomecov с превращением в bedGraph\n",
    "#3)Используя unionbedg объединить 2 верхних bedgraph в один\n",
    "#4)Вычесть из колонки сигнала колонку контроля, схлопнуть позиции(если надо будет) - получить новый bedGraph - \"очищенный\" сигнал,\n",
    "#годный для дальнейшей нормализации(подсчет  плотности в \"генах\" и последующая нормализация DESeq2)"
   ]
  },
  {
   "cell_type": "code",
   "execution_count": 1,
   "metadata": {},
   "outputs": [],
   "source": [
    "import pandas as pd\n",
    "import os\n",
    "from pybedtools import BedTool\n",
    "from multiprocessing import Pool"
   ]
  },
  {
   "cell_type": "code",
   "execution_count": 18,
   "metadata": {},
   "outputs": [],
   "source": [
    "d = pd.read_csv(\"../H3K27me3/H3K27me3_filtered_by_biosample.csv\", sep=';', index_col=False)"
   ]
  },
  {
   "cell_type": "code",
   "execution_count": 19,
   "metadata": {},
   "outputs": [],
   "source": [
    "data = []\n",
    "for index, row in d.iterrows():\n",
    "    data.append((row['File accession'], row['Control accession'], row['norm_factor']))"
   ]
  },
  {
   "cell_type": "code",
   "execution_count": 21,
   "metadata": {},
   "outputs": [],
   "source": [
    "def makePureSignal(row):\n",
    "    signal = row[0]\n",
    "    control = row[1]\n",
    "    norm_factor = row[2]\n",
    "    \n",
    "    bam = BedTool('../H3K27me3/bw/' + signal + '.bam')\n",
    "    bam.genome_coverage(bg=True, output=\"../H3K27me3/bw/\" + signal + \".bdg\")\n",
    "    \n",
    "    bam_control = BedTool('../H3K27me3/control/' + control + '.bam')\n",
    "    bam_control.genome_coverage(bg=True, scale=norm_factor, output=\"../H3K27me3/control/\" + control + \".bdg\")\n",
    "    \n",
    "    s = BedTool('../H3K27me3/bw/' + signal + '.bdg')\n",
    "    c = BedTool('../H3K27me3/control/' + control + '.bdg')\n",
    "    BedTool().union_bedgraphs(i=[s.fn, c.fn], output=\"../H3K27me3/bw/\" + signal + \"_\" + control + \".bdg\")\n",
    "    \n",
    "    union = pd.read_csv(\"../H3K27me3/bw/\" + signal + \"_\" + control + \".bdg\", sep='\\t', index_col=False, header=None)\n",
    "    diff = union[3] - union[4]\n",
    "    diff = diff.apply(lambda x: 0 if x < 0 else x)\n",
    "    union[\"diff\"] = diff\n",
    "    union.drop([3, 4], axis=1, inplace=True)\n",
    "    without_zero = union[union['diff'] != 0]\n",
    "    os.remove(\"../H3K27me3/bw/\" + signal + \"_\" + control + \".bdg\")\n",
    "    without_zero.to_csv(\"../H3K27me3/bw/pure_\" + signal + \".bdg\", sep='\\t') "
   ]
  },
  {
   "cell_type": "code",
   "execution_count": null,
   "metadata": {},
   "outputs": [],
   "source": [
    "pool = Pool(processes=16)\n",
    "r = pool.map(makePureSignal, data)\n",
    "\n",
    "pool.close()\n",
    "pool.join()"
   ]
  }
 ],
 "metadata": {
  "kernelspec": {
   "display_name": "Python 3",
   "language": "python",
   "name": "python3"
  },
  "language_info": {
   "codemirror_mode": {
    "name": "ipython",
    "version": 3
   },
   "file_extension": ".py",
   "mimetype": "text/x-python",
   "name": "python",
   "nbconvert_exporter": "python",
   "pygments_lexer": "ipython3",
   "version": "3.6.7"
  }
 },
 "nbformat": 4,
 "nbformat_minor": 2
}
