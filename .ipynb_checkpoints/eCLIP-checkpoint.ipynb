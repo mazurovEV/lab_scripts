{
 "cells": [
  {
   "cell_type": "code",
   "execution_count": 1,
   "metadata": {},
   "outputs": [],
   "source": [
    "import pandas as pd\n",
    "import os\n",
    "import h5py\n",
    "import scipy.stats as stats\n",
    "import numpy as np\n",
    "from collections import defaultdict\n",
    "from statsmodels.stats.multitest import multipletests\n",
    "\n",
    "from BCBio import GFF\n",
    "from Bio.Seq import Seq\n",
    "from Bio.SeqUtils import GC\n",
    "from Bio.SeqRecord import SeqRecord\n",
    "from Bio.SeqFeature import SeqFeature, FeatureLocation"
   ]
  },
  {
   "cell_type": "code",
   "execution_count": 2,
   "metadata": {},
   "outputs": [],
   "source": [
    "targets = [(\"H3K27ac\", \"_narrow\"), (\"H3K27me3\", \"\"), (\"H3K36me3\", \"\"), \n",
    "           (\"H3K4me1\", \"_narrow\"), (\"H3K4me2\", \"_narrow\"), (\"H3K4me3\", \"_narrow\"), (\"H3K79me2\", \"\"), \n",
    "           (\"H3K9ac\", \"_narrow\"), (\"H3K9me3\", \"\"), (\"H4K20me1\", \"\")]\n",
    "           #, (\"methylation\", \"\")]"
   ]
  },
  {
   "cell_type": "code",
   "execution_count": 3,
   "metadata": {},
   "outputs": [],
   "source": [
    "def getLncRNAGeneSet():\n",
    "    \n",
    "    in_file = \"../all_marks/gencode.v31.long_noncoding_RNAs.gff3\"\n",
    "    in_handle = open(in_file)\n",
    "\n",
    "    limit_info = dict(\n",
    "        gff_id = ['chr1', 'chr10', 'chr11', 'chr12', 'chr13', 'chr14', 'chr15', 'chr16', 'chr17', 'chr18', \n",
    "     'chr19', 'chr2', 'chr20', 'chr21', 'chr22', 'chr3', 'chr4', 'chr5', 'chr6', 'chr7', 'chr8', 'chr9', 'chrX', 'chrY'],\n",
    "        gff_type = [\"gene\"])\n",
    "\n",
    "    lncRNAgenes = []\n",
    "    for rec in GFF.parse(in_handle, limit_info=limit_info):\n",
    "        lncRNAgenes.append((rec.id, rec.features)) \n",
    "\n",
    "    in_handle.close()\n",
    "    \n",
    "    lncRNAgenesStartPositions = {\n",
    "    g.id.split(\".\")[0]:[i, g.location.start.position, g.location.end.position, g.strand] for i, j in lncRNAgenes for g in j}\n",
    "    \n",
    "    return [i for i in lncRNAgenesStartPositions.keys() if i.startswith(\"ENSG\")]"
   ]
  },
  {
   "cell_type": "code",
   "execution_count": 4,
   "metadata": {},
   "outputs": [],
   "source": [
    "#Генерим бэкграунд для конкретного эксперимента: пересекаем наш список lncRNA(из которого мы выбирали)\n",
    "#с экспериментальным списком генов, которые впринципе экспрессировались\n",
    "#Если передаем несколько бэкграундов, значит хотим их объеденить\n",
    "def getCommonBackground(*exp_backgrounds):\n",
    "    lncRNASet = set(getLncRNAGeneSet())\n",
    "    exp_background = None\n",
    "    \n",
    "    for exp in exp_backgrounds:\n",
    "        lineList = [line.rstrip('\\n') for line in open(exp)]\n",
    "        lineList = [g for g in lineList if g.startswith(\"ENSG\")]\n",
    "        if exp_background is not None:\n",
    "            exp_background = exp_background.union(set([r for l in [g.split(',') for g in lineList] for r in l]))\n",
    "        else:\n",
    "            exp_background = set([r for l in [g.split(',') for g in lineList] for r in l])\n",
    "    \n",
    "    return lncRNASet.intersection(exp_background)"
   ]
  },
  {
   "cell_type": "code",
   "execution_count": 5,
   "metadata": {},
   "outputs": [],
   "source": [
    "#Возвращаем список мишеней для конкретного белка(в конкретной клетке), которые так же есть в бэкграунде\n",
    "#Если белков несколько(могут быть из разных клеток), то сливаем их в один список\n",
    "def getTargetsList(background, *protein_files):\n",
    "    targets_list = None\n",
    "    \n",
    "    for p in protein_files:\n",
    "        print(\"Get targets list for \" + p)\n",
    "        pretargets_list = pd.read_csv(\"../eCLIP/\" + p, sep=\"\\t\")\n",
    "        pretargets_list = [r.split(',') for r in pretargets_list[pretargets_list['Gene_ID'].str.startswith(\"ENSG\")]['Gene_ID'].tolist()]\n",
    "        \n",
    "        if targets_list is not None:\n",
    "            targets_list = targets_list.union(set([r for l in pretargets_list for r in l]))\n",
    "        else:\n",
    "            targets_list = set([r for l in pretargets_list for r in l])\n",
    "            \n",
    "    res = targets_list.intersection(background)\n",
    "    \n",
    "    print(\"Targets list len \" + str(len(res)))\n",
    "    return res"
   ]
  },
  {
   "cell_type": "code",
   "execution_count": 6,
   "metadata": {},
   "outputs": [],
   "source": [
    "def getCorrsLncRNAsLists(target):\n",
    "    def getCorrsLncRNAsLists(lncRNAnames, corrs):\n",
    "        plus_corrs_idx = list(np.where(np.sum(corrs < 0, axis=1) == 0)[0])\n",
    "        plus_hm_lncRNAs = lncRNAnames[plus_corrs_idx]\n",
    "        minus_corrs_idx = list(np.where(np.sum(corrs > 0, axis=1) == 0)[0])\n",
    "        minus_hm_lncRNAs = lncRNAnames[minus_corrs_idx]\n",
    "        #mixture_idx = [i for i in range(data.shape[0]) if i not in (plus_corrs_idx + minus_corrs_idx)]\n",
    "        #mixture_hm_lncRNAs = set(lncRNAnames[mixture_idx]).intersection(background)\n",
    "   \n",
    "        return {\"general\": lncRNAnames, \"only + corrs\": plus_hm_lncRNAs, \"only - corrs\": minus_hm_lncRNAs}\n",
    "    \n",
    "\n",
    "    print(\"makes count for \" + target)\n",
    "    if(target == \"methylation\"):\n",
    "        corrs_lncRNAs = defaultdict(list)\n",
    "        for i in range(0, 19):\n",
    "            with h5py.File(\"../all_marks/\" + target + \"/lncRNA_Peaks_corrs/lncRNA_Peaks_Correlations_corrected_non_zero_\" + str(i) + \".hdf5\", 'r') as f:\n",
    "                tmp = getCorrsLncRNAsLists(f['lncRNAs_names'][:], f['corrs_matrix'][:])\n",
    "                corrs_lncRNAs[\"general\"].append(tmp[\"general\"])\n",
    "                corrs_lncRNAs[\"only + corrs\"].append(tmp[\"only + corrs\"])\n",
    "                corrs_lncRNAs[\"only - corrs\"].append(tmp[\"only - corrs\"])\n",
    "    else:\n",
    "        with h5py.File(\"../all_marks/\" + target + \"/lncRNA_Peaks_corrs/lncRNA_Peaks_Correlations_corrected_non_zero.hdf5\", 'r') as f:\n",
    "            corrs_lncRNAs = getCorrsLncRNAsLists(f['lncRNAs_names'][:], f['corrs_matrix'][:])\n",
    "            \n",
    "    return corrs_lncRNAs"
   ]
  },
  {
   "cell_type": "code",
   "execution_count": 18,
   "metadata": {},
   "outputs": [
    {
     "name": "stdout",
     "output_type": "stream",
     "text": [
      "makes count for H3K27ac\n",
      "makes count for H3K27me3\n"
     ]
    }
   ],
   "source": [
    "corrs_lncRNAs = {}\n",
    "for target in [(\"H3K27ac\", \"_narrow\"), (\"H3K27me3\", \"\")]:\n",
    "    corrs_lncRNAs[target[0]] = getCorrsLncRNAsLists(target[0])"
   ]
  },
  {
   "cell_type": "code",
   "execution_count": 7,
   "metadata": {},
   "outputs": [],
   "source": [
    "def makeCounts(eclip, eclip_targets, background):\n",
    "\n",
    "    res = []\n",
    "    for target in targets:\n",
    "\n",
    "        for list_type in  corrs_lncRNAs[target[0]].keys():\n",
    "            type_list = set(corrs_lncRNAs[target[0]][list_type]).intersection(background)\n",
    "            res.append((target[0], list_type, \n",
    "                        len(type_list), \n",
    "                        eclip, len(eclip_targets), \n",
    "                        len(type_list.intersection(set(eclip_targets)))))\n",
    "            \n",
    "                \n",
    "    df = pd.DataFrame(res, columns =['Modification', 'Modification lncRNAs list type', 'Modification lncRNAs list count', 'RBP', 'RBP lncRNAs count', 'TP'])\n",
    "    df['TN'] = len(background) - df['Modification lncRNAs list count'] - df['RBP lncRNAs count'] + df['TP']\n",
    "    df['FP'] = df['Modification lncRNAs list count'] - df['TP']\n",
    "    df['FN'] = df['RBP lncRNAs count'] - df['TP']\n",
    "    \n",
    "    return res, df"
   ]
  },
  {
   "cell_type": "code",
   "execution_count": 8,
   "metadata": {},
   "outputs": [],
   "source": [
    "def count_p_values(df):\n",
    "    pv_list = []\n",
    "    oddsratio_list = []\n",
    "    for index, row in df.iterrows():\n",
    "        oddsratio, pv = stats.fisher_exact([[row['TP'], row['FP']], [row['FN'], row['TN']]], alternative='greater')\n",
    "        pv_list.append(pv)\n",
    "        oddsratio_list.append(oddsratio)\n",
    "    \n",
    "    df['p-value'] = pv_list\n",
    "    df['oddsratio'] = oddsratio_list\n",
    "    correct = multipletests(pv_list, alpha=0.05, method='fdr_bh')\n",
    "    df['Correction'] = correct[0]\n",
    "    \n",
    "    return df"
   ]
  },
  {
   "cell_type": "code",
   "execution_count": 9,
   "metadata": {},
   "outputs": [],
   "source": [
    "def getResults(background, proteins, proteins_names):\n",
    "    res = []\n",
    "\n",
    "    for protein, name in zip(proteins, proteins_names):\n",
    "        if(isinstance(protein, list)):\n",
    "            targets = getTargetsList(background, *protein)\n",
    "        else:\n",
    "            targets = getTargetsList(background, protein)\n",
    "\n",
    "        counts = makeCounts(name, targets, background)\n",
    "        res.append((name, count_p_values(counts)))\n",
    "    \n",
    "    concat = []\n",
    "    for name, df in res:\n",
    "        concat.append(df[df['Correction'] == True])\n",
    "        \n",
    "    return pd.concat(concat)"
   ]
  },
  {
   "cell_type": "code",
   "execution_count": 84,
   "metadata": {
    "scrolled": true
   },
   "outputs": [
    {
     "name": "stdout",
     "output_type": "stream",
     "text": [
      "Get targets list for TROVE2_K562.txt\n",
      "Targets list len 10\n",
      "Get targets list for SBDS_K562.txt\n",
      "Targets list len 8\n",
      "Get targets list for U2AF1_K562.txt\n",
      "Targets list len 5\n",
      "Get targets list for SAFB_K562.txt\n",
      "Targets list len 343\n",
      "Get targets list for KHDRBS1_K562.txt\n",
      "Targets list len 90\n",
      "Get targets list for SAFB2_K562.txt\n",
      "Targets list len 541\n",
      "Get targets list for PUS1_K562.txt\n",
      "Targets list len 4\n",
      "Get targets list for HNRNPL_K562.txt\n",
      "Targets list len 340\n"
     ]
    }
   ],
   "source": [
    "proteins = [f for f in os.listdir(\"../eCLIP/\") if \"txt\" in f and \"K562\" in f]\n",
    "proteins_names = [os.path.splitext(p)[0] for p in proteins]\n",
    "background = getCommonBackground(\"../eCLIP/K562_background_genes.list\")\n",
    "\n",
    "res_k562, k562 = getResults(background, proteins, proteins_names)"
   ]
  },
  {
   "cell_type": "code",
   "execution_count": 85,
   "metadata": {},
   "outputs": [
    {
     "name": "stdout",
     "output_type": "stream",
     "text": [
      "Get targets list for HNRNPL_HepG2.txt\n",
      "Targets list len 144\n",
      "Get targets list for TROVE2_HepG2.txt\n",
      "Targets list len 4\n",
      "Get targets list for SAFB_HepG2.txt\n",
      "Targets list len 188\n",
      "Get targets list for U2AF1_HepG2.txt\n",
      "Targets list len 5\n"
     ]
    }
   ],
   "source": [
    "proteins = [f for f in os.listdir(\"../eCLIP/\") if \"txt\" in f and \"HepG2\" in f]\n",
    "proteins_names = [os.path.splitext(p)[0] for p in proteins]\n",
    "\n",
    "res_hepG2, hepG2 = getResults(getCommonBackground(\"../eCLIP/HepG2_background_genes.list\"), proteins, proteins_names)"
   ]
  },
  {
   "cell_type": "code",
   "execution_count": 91,
   "metadata": {},
   "outputs": [
    {
     "name": "stdout",
     "output_type": "stream",
     "text": [
      "Get targets list for HNRNPL_HepG2.txt\n",
      "Get targets list for HNRNPL_K562.txt\n",
      "Targets list len 404\n",
      "Get targets list for SAFB_K562.txt\n",
      "Get targets list for SAFB_HepG2.txt\n",
      "Targets list len 453\n",
      "Get targets list for TROVE2_K562.txt\n",
      "Get targets list for TROVE2_HepG2.txt\n",
      "Targets list len 12\n",
      "Get targets list for U2AF1_K562.txt\n",
      "Get targets list for U2AF1_HepG2.txt\n",
      "Targets list len 9\n"
     ]
    }
   ],
   "source": [
    "union_background = getCommonBackground(\"../eCLIP/K562_background_genes.list\", \n",
    "                                          \"../eCLIP/HepG2_background_genes.list\")\n",
    "\n",
    "proteins_names = ['HNRNPL', 'SAFB', 'TROVE2', 'U2AF1']\n",
    "proteins = []\n",
    "\n",
    "for name in proteins_names:\n",
    "    proteins.append([f for f in os.listdir(\"../eCLIP/\") if \"txt\" in f and name == os.path.splitext(f)[0].split('_')[0]])\n",
    "    \n",
    "res_union, union = getResults(union_background, proteins, [n + \"_K562_HepG2_union\" for n in proteins_names])"
   ]
  },
  {
   "cell_type": "code",
   "execution_count": 92,
   "metadata": {},
   "outputs": [],
   "source": [
    "pd.concat([k562, hepG2, union]).to_csv(\"../eCLIP/first_exp_result.tsv\", sep=\"\\t\", index=None)"
   ]
  },
  {
   "cell_type": "code",
   "execution_count": 14,
   "metadata": {},
   "outputs": [
    {
     "data": {
      "text/html": [
       "<div>\n",
       "<style scoped>\n",
       "    .dataframe tbody tr th:only-of-type {\n",
       "        vertical-align: middle;\n",
       "    }\n",
       "\n",
       "    .dataframe tbody tr th {\n",
       "        vertical-align: top;\n",
       "    }\n",
       "\n",
       "    .dataframe thead th {\n",
       "        text-align: right;\n",
       "    }\n",
       "</style>\n",
       "<table border=\"1\" class=\"dataframe\">\n",
       "  <thead>\n",
       "    <tr style=\"text-align: right;\">\n",
       "      <th></th>\n",
       "      <th>Modification</th>\n",
       "      <th>Modification lncRNAs list type</th>\n",
       "      <th>Modification lncRNAs list count</th>\n",
       "      <th>RBP</th>\n",
       "      <th>RBP lncRNAs count</th>\n",
       "      <th>TP</th>\n",
       "      <th>TN</th>\n",
       "      <th>FP</th>\n",
       "      <th>FN</th>\n",
       "      <th>p-value</th>\n",
       "      <th>oddsratio</th>\n",
       "      <th>Correction</th>\n",
       "    </tr>\n",
       "  </thead>\n",
       "  <tbody>\n",
       "    <tr>\n",
       "      <th>0</th>\n",
       "      <td>H3K27me3</td>\n",
       "      <td>only - corrs</td>\n",
       "      <td>77</td>\n",
       "      <td>SAFB2_K562</td>\n",
       "      <td>541</td>\n",
       "      <td>27</td>\n",
       "      <td>2201</td>\n",
       "      <td>50</td>\n",
       "      <td>514</td>\n",
       "      <td>7.583437e-04</td>\n",
       "      <td>2.312335</td>\n",
       "      <td>True</td>\n",
       "    </tr>\n",
       "    <tr>\n",
       "      <th>1</th>\n",
       "      <td>H3K27ac</td>\n",
       "      <td>general</td>\n",
       "      <td>764</td>\n",
       "      <td>SAFB_HepG2</td>\n",
       "      <td>188</td>\n",
       "      <td>76</td>\n",
       "      <td>2010</td>\n",
       "      <td>688</td>\n",
       "      <td>112</td>\n",
       "      <td>1.142265e-05</td>\n",
       "      <td>1.982454</td>\n",
       "      <td>True</td>\n",
       "    </tr>\n",
       "    <tr>\n",
       "      <th>2</th>\n",
       "      <td>H3K36me3</td>\n",
       "      <td>general</td>\n",
       "      <td>525</td>\n",
       "      <td>SAFB_HepG2</td>\n",
       "      <td>188</td>\n",
       "      <td>48</td>\n",
       "      <td>2221</td>\n",
       "      <td>477</td>\n",
       "      <td>140</td>\n",
       "      <td>5.974753e-03</td>\n",
       "      <td>1.596406</td>\n",
       "      <td>True</td>\n",
       "    </tr>\n",
       "    <tr>\n",
       "      <th>3</th>\n",
       "      <td>H3K36me3</td>\n",
       "      <td>only + corrs</td>\n",
       "      <td>86</td>\n",
       "      <td>SAFB_HepG2</td>\n",
       "      <td>188</td>\n",
       "      <td>12</td>\n",
       "      <td>2624</td>\n",
       "      <td>74</td>\n",
       "      <td>176</td>\n",
       "      <td>8.785641e-03</td>\n",
       "      <td>2.417690</td>\n",
       "      <td>True</td>\n",
       "    </tr>\n",
       "    <tr>\n",
       "      <th>4</th>\n",
       "      <td>H3K36me3</td>\n",
       "      <td>only - corrs</td>\n",
       "      <td>98</td>\n",
       "      <td>SAFB_HepG2</td>\n",
       "      <td>188</td>\n",
       "      <td>13</td>\n",
       "      <td>2613</td>\n",
       "      <td>85</td>\n",
       "      <td>175</td>\n",
       "      <td>9.890205e-03</td>\n",
       "      <td>2.283630</td>\n",
       "      <td>True</td>\n",
       "    </tr>\n",
       "    <tr>\n",
       "      <th>5</th>\n",
       "      <td>H3K4me1</td>\n",
       "      <td>general</td>\n",
       "      <td>766</td>\n",
       "      <td>SAFB_HepG2</td>\n",
       "      <td>188</td>\n",
       "      <td>66</td>\n",
       "      <td>1998</td>\n",
       "      <td>700</td>\n",
       "      <td>122</td>\n",
       "      <td>4.589168e-03</td>\n",
       "      <td>1.544122</td>\n",
       "      <td>True</td>\n",
       "    </tr>\n",
       "    <tr>\n",
       "      <th>6</th>\n",
       "      <td>H3K4me1</td>\n",
       "      <td>only + corrs</td>\n",
       "      <td>108</td>\n",
       "      <td>SAFB_HepG2</td>\n",
       "      <td>188</td>\n",
       "      <td>17</td>\n",
       "      <td>2607</td>\n",
       "      <td>91</td>\n",
       "      <td>171</td>\n",
       "      <td>4.699398e-04</td>\n",
       "      <td>2.848082</td>\n",
       "      <td>True</td>\n",
       "    </tr>\n",
       "    <tr>\n",
       "      <th>7</th>\n",
       "      <td>H3K27ac</td>\n",
       "      <td>general</td>\n",
       "      <td>876</td>\n",
       "      <td>SAFB_K562_HepG2_union</td>\n",
       "      <td>453</td>\n",
       "      <td>160</td>\n",
       "      <td>2289</td>\n",
       "      <td>716</td>\n",
       "      <td>293</td>\n",
       "      <td>2.370588e-07</td>\n",
       "      <td>1.745762</td>\n",
       "      <td>True</td>\n",
       "    </tr>\n",
       "    <tr>\n",
       "      <th>8</th>\n",
       "      <td>H3K27ac</td>\n",
       "      <td>only + corrs</td>\n",
       "      <td>187</td>\n",
       "      <td>SAFB_K562_HepG2_union</td>\n",
       "      <td>453</td>\n",
       "      <td>40</td>\n",
       "      <td>2858</td>\n",
       "      <td>147</td>\n",
       "      <td>413</td>\n",
       "      <td>8.213091e-04</td>\n",
       "      <td>1.883020</td>\n",
       "      <td>True</td>\n",
       "    </tr>\n",
       "    <tr>\n",
       "      <th>9</th>\n",
       "      <td>H3K27me3</td>\n",
       "      <td>general</td>\n",
       "      <td>622</td>\n",
       "      <td>SAFB_K562_HepG2_union</td>\n",
       "      <td>453</td>\n",
       "      <td>101</td>\n",
       "      <td>2484</td>\n",
       "      <td>521</td>\n",
       "      <td>352</td>\n",
       "      <td>7.194424e-03</td>\n",
       "      <td>1.368020</td>\n",
       "      <td>True</td>\n",
       "    </tr>\n",
       "    <tr>\n",
       "      <th>10</th>\n",
       "      <td>H3K27me3</td>\n",
       "      <td>only + corrs</td>\n",
       "      <td>98</td>\n",
       "      <td>SAFB_K562_HepG2_union</td>\n",
       "      <td>453</td>\n",
       "      <td>23</td>\n",
       "      <td>2930</td>\n",
       "      <td>75</td>\n",
       "      <td>430</td>\n",
       "      <td>3.124760e-03</td>\n",
       "      <td>2.089612</td>\n",
       "      <td>True</td>\n",
       "    </tr>\n",
       "    <tr>\n",
       "      <th>11</th>\n",
       "      <td>H3K4me1</td>\n",
       "      <td>general</td>\n",
       "      <td>872</td>\n",
       "      <td>SAFB_K562_HepG2_union</td>\n",
       "      <td>453</td>\n",
       "      <td>137</td>\n",
       "      <td>2270</td>\n",
       "      <td>735</td>\n",
       "      <td>316</td>\n",
       "      <td>5.411455e-03</td>\n",
       "      <td>1.338974</td>\n",
       "      <td>True</td>\n",
       "    </tr>\n",
       "  </tbody>\n",
       "</table>\n",
       "</div>"
      ],
      "text/plain": [
       "   Modification Modification lncRNAs list type  \\\n",
       "0      H3K27me3                   only - corrs   \n",
       "1       H3K27ac                        general   \n",
       "2      H3K36me3                        general   \n",
       "3      H3K36me3                   only + corrs   \n",
       "4      H3K36me3                   only - corrs   \n",
       "5       H3K4me1                        general   \n",
       "6       H3K4me1                   only + corrs   \n",
       "7       H3K27ac                        general   \n",
       "8       H3K27ac                   only + corrs   \n",
       "9      H3K27me3                        general   \n",
       "10     H3K27me3                   only + corrs   \n",
       "11      H3K4me1                        general   \n",
       "\n",
       "    Modification lncRNAs list count                    RBP  RBP lncRNAs count  \\\n",
       "0                                77             SAFB2_K562                541   \n",
       "1                               764             SAFB_HepG2                188   \n",
       "2                               525             SAFB_HepG2                188   \n",
       "3                                86             SAFB_HepG2                188   \n",
       "4                                98             SAFB_HepG2                188   \n",
       "5                               766             SAFB_HepG2                188   \n",
       "6                               108             SAFB_HepG2                188   \n",
       "7                               876  SAFB_K562_HepG2_union                453   \n",
       "8                               187  SAFB_K562_HepG2_union                453   \n",
       "9                               622  SAFB_K562_HepG2_union                453   \n",
       "10                               98  SAFB_K562_HepG2_union                453   \n",
       "11                              872  SAFB_K562_HepG2_union                453   \n",
       "\n",
       "     TP    TN   FP   FN       p-value  oddsratio  Correction  \n",
       "0    27  2201   50  514  7.583437e-04   2.312335        True  \n",
       "1    76  2010  688  112  1.142265e-05   1.982454        True  \n",
       "2    48  2221  477  140  5.974753e-03   1.596406        True  \n",
       "3    12  2624   74  176  8.785641e-03   2.417690        True  \n",
       "4    13  2613   85  175  9.890205e-03   2.283630        True  \n",
       "5    66  1998  700  122  4.589168e-03   1.544122        True  \n",
       "6    17  2607   91  171  4.699398e-04   2.848082        True  \n",
       "7   160  2289  716  293  2.370588e-07   1.745762        True  \n",
       "8    40  2858  147  413  8.213091e-04   1.883020        True  \n",
       "9   101  2484  521  352  7.194424e-03   1.368020        True  \n",
       "10   23  2930   75  430  3.124760e-03   2.089612        True  \n",
       "11  137  2270  735  316  5.411455e-03   1.338974        True  "
      ]
     },
     "execution_count": 14,
     "metadata": {},
     "output_type": "execute_result"
    }
   ],
   "source": [
    "pd.read_csv(\"../eCLIP/first_exp_result.tsv\", sep=\"\\t\")"
   ]
  },
  {
   "cell_type": "code",
   "execution_count": null,
   "metadata": {},
   "outputs": [],
   "source": [
    "#=================================================================================================================="
   ]
  },
  {
   "cell_type": "code",
   "execution_count": null,
   "metadata": {},
   "outputs": [],
   "source": [
    "#Есть список генов с  сайтами посадки SAFB в K562\n",
    "#Есть список генов с пиками конкретной метки, скоррелированными со списком конкретных РНК\n",
    "#Есть список РНК с которыми вяжется SAFB\n",
    "#1)Аннотировать сайты посадки SAFB - нашей аннотацией, потом все равно пересекать ее\n",
    "#2)Сделать бэкграунд: пересечь все транскрибирующиеся гены в K562(по идее список, которым надо аннотировать сайты) с\n",
    "#нашим списком(которым аннотировали пики)\n",
    "#3)Сделать список lncRNA: пересечь список K562 SAFB с нашим списком lncRNA\n",
    "#4)Есть список генов с сайтом, делаем список генов с пиком конкретной метки, скоррелированный со списком из\n",
    "#предыдущего пункта\n",
    "#)Пересекая эти списки делаем таблицу, потом считаем тест: по тесту на метку"
   ]
  },
  {
   "cell_type": "code",
   "execution_count": 96,
   "metadata": {},
   "outputs": [],
   "source": [
    "target = \"H3K27ac\""
   ]
  },
  {
   "cell_type": "code",
   "execution_count": 10,
   "metadata": {},
   "outputs": [],
   "source": [
    "def makeCommonGeneSet():\n",
    "    in_file = \"../annotation/gencode.v31.annotation.gff3\"\n",
    "    in_handle = open(in_file)\n",
    "\n",
    "    limit_info = dict(\n",
    "        gff_id = ['chr1', 'chr10', 'chr11', 'chr12', 'chr13', 'chr14', 'chr15', 'chr16', 'chr17', 'chr18', \n",
    "     'chr19', 'chr2', 'chr20', 'chr21', 'chr22', 'chr3', 'chr4', 'chr5', 'chr6', 'chr7', 'chr8', 'chr9', 'chrX', 'chrY'],\n",
    "        gff_type = [\"gene\"])\n",
    "\n",
    "    gencode31_genes = []\n",
    "    for rec in GFF.parse(in_handle, limit_info=limit_info):\n",
    "        gencode31_genes.append(rec.features) \n",
    "\n",
    "    in_handle.close()\n",
    "    \n",
    "    gencode31_genes = [g.qualifiers['gene_id'][0].split('.')[0] for cr in gencode31_genes for g in cr]\n",
    "    \n",
    "    #гены K562\n",
    "    lineList = [line.rstrip('\\n') for line in open(\"../eCLIP/K562_background_genes.list\")]\n",
    "    lineList = [g for g in lineList if g.startswith(\"ENSG\")]\n",
    "    eCLIP_k562_genes = set([r for l in [g.split(',') for g in lineList] for r in l])\n",
    "    \n",
    "    common_genes = set(gencode31_genes).intersection(set(eCLIP_k562_genes))\n",
    "    return common_genes"
   ]
  },
  {
   "cell_type": "code",
   "execution_count": 11,
   "metadata": {},
   "outputs": [],
   "source": [
    "#Общие гены все(не только нкРНК)\n",
    "common_genes = makeCommonGeneSet()"
   ]
  },
  {
   "cell_type": "code",
   "execution_count": 12,
   "metadata": {},
   "outputs": [],
   "source": [
    "#lncRNAs background\n",
    "common_lncRNAs = getCommonBackground(\"../eCLIP/K562_background_genes.list\")"
   ]
  },
  {
   "cell_type": "code",
   "execution_count": 13,
   "metadata": {},
   "outputs": [],
   "source": [
    "#Аннотация чипсека safb для K562\n",
    "safb_anno = pd.read_csv(\"../eCLIP/SAFB_anno.csv\", sep=\"\\t\")"
   ]
  },
  {
   "cell_type": "code",
   "execution_count": 14,
   "metadata": {},
   "outputs": [],
   "source": [
    "#Список генов, которые входят в общий с нами список генов и в чипсик белка\n",
    "safb_genes = set([f.split('.')[0] for f in safb_anno['feature']]).intersection(common_genes)"
   ]
  },
  {
   "cell_type": "code",
   "execution_count": 15,
   "metadata": {},
   "outputs": [
    {
     "name": "stdout",
     "output_type": "stream",
     "text": [
      "Get targets list for SAFB_K562.txt\n",
      "Targets list len 343\n"
     ]
    }
   ],
   "source": [
    "#нкРНК мишени у SAFB в K562(и которые могут быть в корреляциях)\n",
    "k562_SAFB_rnas = getTargetsList(common_lncRNAs, \"SAFB_K562.txt\")"
   ]
  },
  {
   "cell_type": "code",
   "execution_count": 16,
   "metadata": {},
   "outputs": [],
   "source": [
    "def makeFisher(target):\n",
    "    #нкРНК с корреляциями у H3K27ac(и которые могут быть в K562)\n",
    "    target_rnas = set(corrs_lncRNAs[target]['general']).intersection(common_lncRNAs)\n",
    "    \n",
    "    #нкРНК, которые и имеют корреляции с меткой и есть в мишенях белка\n",
    "    lncRNAs = k562_SAFB_rnas.intersection(target_rnas)\n",
    "    \n",
    "    pg_association = pd.read_csv(\"../all_marks/\" + target + \"/lncRNA_peaks_gene_association.tsv\", sep=\"\\t\")\n",
    "    \n",
    "    #Список генов(общий список с генами белка), которые имеют корреляцию с меткой через нкРНК, которые так же мишени белка\n",
    "    hm_genes = set([g.split('.')[0] for g in pg_association[pg_association['lncRNA'].isin(lncRNAs)]['gene'].unique()]).intersection(common_genes)\n",
    "\n",
    "    TP = len(hm_genes.intersection(safb_genes))\n",
    "    TN = len(common_genes) - len(safb_genes) - len(hm_genes) + TP\n",
    "    FP = len(safb_genes) - TP\n",
    "    FN = len(hm_genes) - TP\n",
    "    \n",
    "    return lncRNAs, hm_genes, stats.fisher_exact([[TP, FP], [FN, TN]], alternative='greater')"
   ]
  },
  {
   "cell_type": "code",
   "execution_count": 19,
   "metadata": {},
   "outputs": [],
   "source": [
    "lncRNAs, hm_genes, fisher = makeFisher(\"H3K27ac\")"
   ]
  },
  {
   "cell_type": "code",
   "execution_count": 20,
   "metadata": {},
   "outputs": [
    {
     "data": {
      "text/plain": [
       "(2.4309638997780683, 1.8633517278014684e-45)"
      ]
     },
     "execution_count": 20,
     "metadata": {},
     "output_type": "execute_result"
    }
   ],
   "source": [
    "fisher"
   ]
  },
  {
   "cell_type": "code",
   "execution_count": 21,
   "metadata": {},
   "outputs": [],
   "source": [
    "lncRNAs, hm_genes, fisher = makeFisher(\"H3K27me3\")"
   ]
  },
  {
   "cell_type": "code",
   "execution_count": 22,
   "metadata": {},
   "outputs": [
    {
     "data": {
      "text/plain": [
       "(1.2715115253958365, 1.7563058026120934e-12)"
      ]
     },
     "execution_count": 22,
     "metadata": {},
     "output_type": "execute_result"
    }
   ],
   "source": [
    "fisher"
   ]
  },
  {
   "cell_type": "code",
   "execution_count": 128,
   "metadata": {},
   "outputs": [],
   "source": [
    "with open('../eCLIP/K562_SAFB_H3K27ac_lncRNAs.txt', mode='w', encoding='utf-8') as f:\n",
    "    f.write('\\n'.join(lncRNAs))"
   ]
  },
  {
   "cell_type": "code",
   "execution_count": 129,
   "metadata": {},
   "outputs": [],
   "source": [
    "with open('../eCLIP/K562_SAFB_H3K27ac_genes.txt', mode='w', encoding='utf-8') as f:\n",
    "    f.write('\\n'.join(hm_genes.intersection(safb_genes)))"
   ]
  }
 ],
 "metadata": {
  "kernelspec": {
   "display_name": "Python 3",
   "language": "python",
   "name": "python3"
  },
  "language_info": {
   "codemirror_mode": {
    "name": "ipython",
    "version": 3
   },
   "file_extension": ".py",
   "mimetype": "text/x-python",
   "name": "python",
   "nbconvert_exporter": "python",
   "pygments_lexer": "ipython3",
   "version": "3.6.9"
  }
 },
 "nbformat": 4,
 "nbformat_minor": 2
}
