{
 "cells": [
  {
   "cell_type": "code",
   "execution_count": 34,
   "metadata": {},
   "outputs": [],
   "source": [
    "#Для каждой метке создаем папку для кажого biosample, внутри реплики, рядом папка с контролями. Для РНК так же.\n",
    "#Для каждой ткани в итоге получаем свой список пиков(работа с репликами). Соответственно потом их мерджим и получаем\n",
    "#список пиков для конкретной метки для этих biosample ids\n",
    "#Соответственно когда будем делать матрицы с для чипа, то строки это пики, столбцы - biosample ids, для РНК - \n",
    "#строки - гены, столбцы - biosample ids"
   ]
  },
  {
   "cell_type": "code",
   "execution_count": 1,
   "metadata": {},
   "outputs": [],
   "source": [
    "import pandas as pd\n",
    "import os\n",
    "import wget\n",
    "from multiprocessing import Pool"
   ]
  },
  {
   "cell_type": "code",
   "execution_count": 20,
   "metadata": {},
   "outputs": [
    {
     "name": "stderr",
     "output_type": "stream",
     "text": [
      "/home/mazurovev/.local/lib/python3.6/site-packages/IPython/core/interactiveshell.py:2785: DtypeWarning: Columns (23) have mixed types. Specify dtype option on import or set low_memory=False.\n",
      "  interactivity=interactivity, compiler=compiler, result=result)\n"
     ]
    },
    {
     "data": {
      "text/plain": [
       "H3K4me3-human     455\n",
       "H3K27ac-human     329\n",
       "H3K4me1-human     312\n",
       "H3K36me3-human    304\n",
       "H3K9me3-human     297\n",
       "H3K27me3-human    272\n",
       "H3K4me2-human     115\n",
       "H3K9ac-human       98\n",
       "H3K79me2-human     89\n",
       "H4K20me1-human     75\n",
       "Name: Experiment target, dtype: int64"
      ]
     },
     "execution_count": 20,
     "metadata": {},
     "output_type": "execute_result"
    }
   ],
   "source": [
    "data_origin = pd.read_csv(\"../metadata_many_marks_hg38.tsv\", sep=\"\\t\")\n",
    "data = data_origin[['File accession', 'File format', 'Output type', 'Experiment accession', 'Biosample term id', \n",
    "      'Experiment target', 'Biological replicate(s)', 'Technical replicate', 'Read length', 'Mapped read length', \n",
    "      'File download URL', 'Assembly', 'File Status', 'Lab']]\n",
    "\n",
    "data = data[(data['Output type'] == 'alignments')&\n",
    "                (data['Assembly'] == 'GRCh38')&\n",
    "                (data['File Status'] == 'released')&\n",
    "                #(data['Biological replicate(s)'] == str(1))&\n",
    "                (data['File format'] == 'bam')]\n",
    "\n",
    "data = data[data['Experiment accession'] != 'ENCSR000DRG']#Dont have control\n",
    "data['Experiment target'].value_counts()"
   ]
  },
  {
   "cell_type": "code",
   "execution_count": 21,
   "metadata": {},
   "outputs": [],
   "source": [
    "common_chip_with_replics = data[data['Biosample term id'].isin(common_ids)]"
   ]
  },
  {
   "cell_type": "code",
   "execution_count": 22,
   "metadata": {},
   "outputs": [
    {
     "data": {
      "text/plain": [
       "H3K4me3-human     180\n",
       "H3K36me3-human    140\n",
       "H3K27ac-human     140\n",
       "H3K4me1-human     136\n",
       "H3K9me3-human     120\n",
       "H3K27me3-human    119\n",
       "H3K79me2-human     41\n",
       "H3K9ac-human       41\n",
       "H4K20me1-human     40\n",
       "H3K4me2-human      39\n",
       "Name: Experiment target, dtype: int64"
      ]
     },
     "execution_count": 22,
     "metadata": {},
     "output_type": "execute_result"
    }
   ],
   "source": [
    "common_chip_with_replics['Experiment target'].value_counts()"
   ]
  },
  {
   "cell_type": "code",
   "execution_count": null,
   "metadata": {},
   "outputs": [],
   "source": [
    "#Проверить контроли\n",
    "control_accessions, experiment_accessions_without_controls = get_control_accession(data['Experiment accession'])"
   ]
  },
  {
   "cell_type": "code",
   "execution_count": 147,
   "metadata": {},
   "outputs": [],
   "source": [
    "data['Control'] = control_accessions"
   ]
  },
  {
   "cell_type": "code",
   "execution_count": 149,
   "metadata": {},
   "outputs": [],
   "source": [
    "data.to_csv(\"../ChiP-Seq_for_all_marks_filtered.tsv\", sep = \"\\t\", index=None)"
   ]
  },
  {
   "cell_type": "code",
   "execution_count": 5,
   "metadata": {},
   "outputs": [],
   "source": [
    "def getBiosamplesCount():\n",
    "    chip = pd.read_csv(\"../all_marks/ChiP-Seq_for_all_marks_all_replicas.tsv\", sep = \"\\t\")\n",
    "    d = {}\n",
    "    for e in [\"H3K27ac\", \"H3K27me3\", \"H3K36me3\", \"H3K4me1\", \"H3K4me2\", \"H3K4me3\", \"H3K9ac\", \"H3K9me3\", \"H3K79me2\", \"H4K20me1\"]:\n",
    "        d[e] = len(chip[chip['Experiment target'] == e + \"-human\"]['Biosample term id'].unique())\n",
    "    \n",
    "    return d"
   ]
  },
  {
   "cell_type": "code",
   "execution_count": 6,
   "metadata": {},
   "outputs": [
    {
     "data": {
      "text/plain": [
       "{'H3K27ac': 49,\n",
       " 'H3K27me3': 50,\n",
       " 'H3K36me3': 53,\n",
       " 'H3K4me1': 51,\n",
       " 'H3K4me2': 19,\n",
       " 'H3K4me3': 59,\n",
       " 'H3K9ac': 19,\n",
       " 'H3K9me3': 50,\n",
       " 'H3K79me2': 20,\n",
       " 'H4K20me1': 19}"
      ]
     },
     "execution_count": 6,
     "metadata": {},
     "output_type": "execute_result"
    }
   ],
   "source": [
    "d"
   ]
  },
  {
   "cell_type": "code",
   "execution_count": 4,
   "metadata": {},
   "outputs": [
    {
     "data": {
      "text/plain": [
       "H3K4me3-human     179\n",
       "H3K27ac-human     140\n",
       "H3K36me3-human    139\n",
       "H3K4me1-human     136\n",
       "H3K9me3-human     120\n",
       "H3K27me3-human    119\n",
       "H3K9ac-human       41\n",
       "H3K79me2-human     41\n",
       "H4K20me1-human     40\n",
       "H3K4me2-human      39\n",
       "Name: Experiment target, dtype: int64"
      ]
     },
     "execution_count": 4,
     "metadata": {},
     "output_type": "execute_result"
    }
   ],
   "source": [
    "chip['Experiment target'].value_counts()"
   ]
  },
  {
   "cell_type": "code",
   "execution_count": 5,
   "metadata": {},
   "outputs": [],
   "source": [
    "test = pd.DataFrame({'histone mark': \n",
    "                   [\"H3K27ac\", \"H3K27me3\", \"H3K36me3\", \"H3K4me1\", \"H3K4me2\", \"H3K4me3\", \"H3K9ac\", \"H3K9me3\", \n",
    "                    \"H3K79me2\", \"H4K20me1\"],\n",
    "                  'biosamples count': [49, 50, 53, 51, 19, 59, 19, 50, 20, 19],\n",
    "                    'peaks count' : peaks_count})"
   ]
  },
  {
   "cell_type": "code",
   "execution_count": 3,
   "metadata": {},
   "outputs": [],
   "source": [
    "targets = [(\"H3K27ac\", \"_narrow\"), (\"H3K27me3\", \"\"), (\"H3K36me3\", \"\"), \n",
    "           (\"H3K4me1\", \"_narrow\"), (\"H3K4me2\", \"_narrow\"), (\"H3K4me3\", \"_narrow\"), (\"H3K9ac\", \"_narrow\"),\n",
    "           (\"H3K9me3\", \"\"), (\"H3K79me2\", \"\"), (\"H4K20me1\", \"\")]"
   ]
  },
  {
   "cell_type": "code",
   "execution_count": 4,
   "metadata": {},
   "outputs": [],
   "source": [
    "peaks_count = []\n",
    "for target in targets:\n",
    "    peaks_count.append(pd.read_csv(\"../all_marks/\" + target[0] + \"/merged_peaks_first_in_biosample.bed\", sep=\"\\t\", header=None).shape[0])"
   ]
  },
  {
   "cell_type": "code",
   "execution_count": 8,
   "metadata": {},
   "outputs": [
    {
     "data": {
      "text/html": [
       "<div>\n",
       "<style scoped>\n",
       "    .dataframe tbody tr th:only-of-type {\n",
       "        vertical-align: middle;\n",
       "    }\n",
       "\n",
       "    .dataframe tbody tr th {\n",
       "        vertical-align: top;\n",
       "    }\n",
       "\n",
       "    .dataframe thead th {\n",
       "        text-align: right;\n",
       "    }\n",
       "</style>\n",
       "<table border=\"1\" class=\"dataframe\">\n",
       "  <thead>\n",
       "    <tr style=\"text-align: right;\">\n",
       "      <th></th>\n",
       "      <th>histone mark</th>\n",
       "      <th>peaks count</th>\n",
       "    </tr>\n",
       "  </thead>\n",
       "  <tbody>\n",
       "    <tr>\n",
       "      <th>0</th>\n",
       "      <td>H3K27ac</td>\n",
       "      <td>1018625</td>\n",
       "    </tr>\n",
       "    <tr>\n",
       "      <th>1</th>\n",
       "      <td>H3K27me3</td>\n",
       "      <td>267955</td>\n",
       "    </tr>\n",
       "    <tr>\n",
       "      <th>2</th>\n",
       "      <td>H3K36me3</td>\n",
       "      <td>424010</td>\n",
       "    </tr>\n",
       "    <tr>\n",
       "      <th>3</th>\n",
       "      <td>H3K4me1</td>\n",
       "      <td>1009358</td>\n",
       "    </tr>\n",
       "    <tr>\n",
       "      <th>4</th>\n",
       "      <td>H3K4me2</td>\n",
       "      <td>949368</td>\n",
       "    </tr>\n",
       "    <tr>\n",
       "      <th>5</th>\n",
       "      <td>H3K4me3</td>\n",
       "      <td>743721</td>\n",
       "    </tr>\n",
       "    <tr>\n",
       "      <th>6</th>\n",
       "      <td>H3K9ac</td>\n",
       "      <td>370418</td>\n",
       "    </tr>\n",
       "    <tr>\n",
       "      <th>7</th>\n",
       "      <td>H3K9me3</td>\n",
       "      <td>353519</td>\n",
       "    </tr>\n",
       "    <tr>\n",
       "      <th>8</th>\n",
       "      <td>H3K79me2</td>\n",
       "      <td>264752</td>\n",
       "    </tr>\n",
       "    <tr>\n",
       "      <th>9</th>\n",
       "      <td>H4K20me1</td>\n",
       "      <td>238524</td>\n",
       "    </tr>\n",
       "  </tbody>\n",
       "</table>\n",
       "</div>"
      ],
      "text/plain": [
       "  histone mark  peaks count\n",
       "0      H3K27ac      1018625\n",
       "1     H3K27me3       267955\n",
       "2     H3K36me3       424010\n",
       "3      H3K4me1      1009358\n",
       "4      H3K4me2       949368\n",
       "5      H3K4me3       743721\n",
       "6       H3K9ac       370418\n",
       "7      H3K9me3       353519\n",
       "8     H3K79me2       264752\n",
       "9     H4K20me1       238524"
      ]
     },
     "execution_count": 8,
     "metadata": {},
     "output_type": "execute_result"
    }
   ],
   "source": [
    "test[['histone mark', 'peaks count']]"
   ]
  },
  {
   "cell_type": "code",
   "execution_count": 30,
   "metadata": {},
   "outputs": [],
   "source": [
    "common_chip_with_replics = common_chip_with_replics.merge(chip[['Experiment accession', 'Control']], on='Experiment accession')"
   ]
  },
  {
   "cell_type": "code",
   "execution_count": 31,
   "metadata": {},
   "outputs": [],
   "source": [
    "common_chip_with_replics.to_csv(\"../ChiP-Seq_for_all_marks_all_replicas.tsv\", sep = \"\\t\", index=None)"
   ]
  },
  {
   "cell_type": "code",
   "execution_count": 144,
   "metadata": {},
   "outputs": [],
   "source": [
    "import requests\n",
    "def accession_metadata(acc):\n",
    "    \"\"\"\n",
    "    Returns the metadata for ENCODE accession `acc` (e.g., ENCSR000BJN)\n",
    "    \"\"\"\n",
    "    HEADERS = {'accept': 'application/json'}\n",
    "    URL = (\n",
    "        'https://www.encodeproject.org/experiments/{0}/?frame=object'\n",
    "        .format(acc)\n",
    "    )\n",
    "    response = requests.get(URL, headers=HEADERS)\n",
    "    return response.content\n",
    "\n",
    "def find_controls(acc):\n",
    "    \"\"\"\n",
    "    The metadata for an accession contains a \"possible controls\" field. I'm\n",
    "    taking that to mean there can be multiple controls, so to be safe I'm\n",
    "    returning a list of them.\n",
    "    \"\"\"\n",
    "    m = pd.read_json(accession_metadata(acc), typ='series')\n",
    "    c = m['possible_controls']\n",
    "    return [i.split('/')[2] for i in c]\n",
    "\n",
    "def get_control_accession(experiment_accessions):\n",
    "    control_accessions = []\n",
    "    experiment_accessions_without_controls = []\n",
    "    for i, r in enumerate(experiment_accessions):\n",
    "        control_exp = find_controls(r)\n",
    "        if(len(control_exp) > 0):\n",
    "            #может быть несколько контролей экспериментов?\n",
    "            url = \"https://www.encodeproject.org/report.tsv?type=File&dataset=/experiments/\" + control_exp[0] + \"/&file_format=bam&frame=object&assembly=GRCh38&output_type=alignments&output_type=redacted%20alignments&status=released\"\n",
    "\n",
    "            meta = pd.read_csv(url, sep=\"\\t\", header=1)\n",
    "            \n",
    "            #может быть несколько реплик контролей?\n",
    "            meta = meta.sort_values(by=['Mapped read length (nt)'], ascending=False)\n",
    "            if(meta.shape[0] != 0):\n",
    "                control_accessions.append(meta.iloc[0]['Accession'])\n",
    "            else:\n",
    "                experiment_accessions_without_controls.append((r, control_exp))\n",
    "        else:\n",
    "            experiment_accessions_without_controls.append(r)\n",
    "        \n",
    "        print(str(i))\n",
    "        \n",
    "    return control_accessions, experiment_accessions_without_controls"
   ]
  },
  {
   "cell_type": "code",
   "execution_count": null,
   "metadata": {},
   "outputs": [],
   "source": [
    "#Пересечь с РНК"
   ]
  },
  {
   "cell_type": "code",
   "execution_count": 38,
   "metadata": {},
   "outputs": [],
   "source": [
    "rna = pd.read_csv(\"../total_RNA.tsv\", sep=\"\\t\")"
   ]
  },
  {
   "cell_type": "code",
   "execution_count": 41,
   "metadata": {},
   "outputs": [],
   "source": [
    "rna = rna[['File accession', 'File format', 'Biological replicate(s)', 'Technical replicate', 'File Status', \n",
    "           'Output type', 'Experiment accession', 'Biosample term id', 'Biosample term name', 'Biosample type', \n",
    "           'File download URL', 'Assembly']]"
   ]
  },
  {
   "cell_type": "code",
   "execution_count": 42,
   "metadata": {},
   "outputs": [],
   "source": [
    "rna = rna[rna['Output type'] == 'gene quantifications']\n",
    "rna = rna[rna['Assembly'] == 'GRCh38']\n",
    "#rna = rna[rna['Biological replicate(s)'] == str(1)]\n",
    "rna = rna[rna['File Status'] == 'released']"
   ]
  },
  {
   "cell_type": "code",
   "execution_count": 53,
   "metadata": {},
   "outputs": [],
   "source": [
    "rna[rna['Biosample term id'].isin(common_ids)].to_csv(\"../RNA-Seq_for_all_marks_all_replicas.tsv\", sep = \"\\t\", index=None)"
   ]
  },
  {
   "cell_type": "code",
   "execution_count": 44,
   "metadata": {},
   "outputs": [],
   "source": [
    "rna.to_csv(\"../RNA-Seq_for_all_marks_all_replicas.tsv\", sep = \"\\t\", index=None)"
   ]
  },
  {
   "cell_type": "code",
   "execution_count": 54,
   "metadata": {},
   "outputs": [],
   "source": [
    "rna = pd.read_csv(\"../RNA-Seq_for_all_marks_all_replicas.tsv\", sep=\"\\t\")"
   ]
  },
  {
   "cell_type": "code",
   "execution_count": 51,
   "metadata": {},
   "outputs": [],
   "source": [
    "common_ids = set(chip['Biosample term id'].unique()).intersection(set(rna['Biosample term id'].unique()))"
   ]
  },
  {
   "cell_type": "code",
   "execution_count": 52,
   "metadata": {},
   "outputs": [
    {
     "data": {
      "text/plain": [
       "61"
      ]
     },
     "execution_count": 52,
     "metadata": {},
     "output_type": "execute_result"
    }
   ],
   "source": [
    "len(common_ids)"
   ]
  },
  {
   "cell_type": "code",
   "execution_count": null,
   "metadata": {},
   "outputs": [],
   "source": [
    "#Возможно нужны все контроли?\n",
    "#================================= скачиваем все нужные файлы ============================================================"
   ]
  },
  {
   "cell_type": "code",
   "execution_count": 137,
   "metadata": {},
   "outputs": [],
   "source": [
    "chip = pd.read_csv(\"../ChiP-Seq_for_all_marks_all_replicas.tsv\", sep = \"\\t\")"
   ]
  },
  {
   "cell_type": "code",
   "execution_count": 138,
   "metadata": {
    "scrolled": true
   },
   "outputs": [
    {
     "data": {
      "text/html": [
       "<div>\n",
       "<style scoped>\n",
       "    .dataframe tbody tr th:only-of-type {\n",
       "        vertical-align: middle;\n",
       "    }\n",
       "\n",
       "    .dataframe tbody tr th {\n",
       "        vertical-align: top;\n",
       "    }\n",
       "\n",
       "    .dataframe thead th {\n",
       "        text-align: right;\n",
       "    }\n",
       "</style>\n",
       "<table border=\"1\" class=\"dataframe\">\n",
       "  <thead>\n",
       "    <tr style=\"text-align: right;\">\n",
       "      <th></th>\n",
       "      <th>File accession</th>\n",
       "      <th>File format</th>\n",
       "      <th>Output type</th>\n",
       "      <th>Experiment accession</th>\n",
       "      <th>Biosample term id</th>\n",
       "      <th>Experiment target</th>\n",
       "      <th>Biological replicate(s)</th>\n",
       "      <th>Technical replicate</th>\n",
       "      <th>Read length</th>\n",
       "      <th>Mapped read length</th>\n",
       "      <th>Paired end</th>\n",
       "      <th>Paired with</th>\n",
       "      <th>File download URL</th>\n",
       "      <th>Assembly</th>\n",
       "      <th>File Status</th>\n",
       "      <th>Lab</th>\n",
       "      <th>Control</th>\n",
       "    </tr>\n",
       "  </thead>\n",
       "  <tbody>\n",
       "    <tr>\n",
       "      <th>484</th>\n",
       "      <td>ENCFF083QQZ</td>\n",
       "      <td>bam</td>\n",
       "      <td>alignments</td>\n",
       "      <td>ENCSR216OGD</td>\n",
       "      <td>EFO:0003042</td>\n",
       "      <td>H3K27me3-human</td>\n",
       "      <td>1</td>\n",
       "      <td>NaN</td>\n",
       "      <td>NaN</td>\n",
       "      <td>36.0</td>\n",
       "      <td>NaN</td>\n",
       "      <td>NaN</td>\n",
       "      <td>https://www.encodeproject.org/files/ENCFF083QQ...</td>\n",
       "      <td>GRCh38</td>\n",
       "      <td>released</td>\n",
       "      <td>ENCODE Processing Pipeline</td>\n",
       "      <td>ENCFF393RKZ</td>\n",
       "    </tr>\n",
       "  </tbody>\n",
       "</table>\n",
       "</div>"
      ],
      "text/plain": [
       "    File accession File format Output type Experiment accession  \\\n",
       "484    ENCFF083QQZ         bam  alignments          ENCSR216OGD   \n",
       "\n",
       "    Biosample term id Experiment target  Biological replicate(s)  \\\n",
       "484       EFO:0003042    H3K27me3-human                        1   \n",
       "\n",
       "     Technical replicate  Read length  Mapped read length  Paired end  \\\n",
       "484                  NaN          NaN                36.0         NaN   \n",
       "\n",
       "     Paired with                                  File download URL Assembly  \\\n",
       "484          NaN  https://www.encodeproject.org/files/ENCFF083QQ...   GRCh38   \n",
       "\n",
       "    File Status                         Lab      Control  \n",
       "484    released  ENCODE Processing Pipeline  ENCFF393RKZ  "
      ]
     },
     "execution_count": 138,
     "metadata": {},
     "output_type": "execute_result"
    }
   ],
   "source": [
    "chip[chip['File accession'] == \"ENCFF083QQZ\"]"
   ]
  },
  {
   "cell_type": "code",
   "execution_count": 100,
   "metadata": {},
   "outputs": [
    {
     "data": {
      "text/plain": [
       "1155"
      ]
     },
     "execution_count": 100,
     "metadata": {},
     "output_type": "execute_result"
    }
   ],
   "source": [
    "994 + 161"
   ]
  },
  {
   "cell_type": "code",
   "execution_count": 107,
   "metadata": {},
   "outputs": [],
   "source": [
    "rna = pd.read_csv(\"../RNA-Seq_for_all_marks_all_replicas.tsv\", sep=\"\\t\")"
   ]
  },
  {
   "cell_type": "code",
   "execution_count": 68,
   "metadata": {},
   "outputs": [],
   "source": [
    "data = []\n",
    "for index, row in chip.iterrows():\n",
    "    target = row['Experiment target'].split('-')[0]\n",
    "    dir_path = '/data/mazurovev/' + target + \"/\" + row['Biosample term id']\n",
    "    \n",
    "    data.append((dir_path, row['File accession'], row['File download URL'], '.bam'))"
   ]
  },
  {
   "cell_type": "code",
   "execution_count": 102,
   "metadata": {},
   "outputs": [],
   "source": [
    "for index, row in rna.iterrows():\n",
    "    dir_path = '/data/mazurovev/RNA-Seq/' + row['Biosample term id']\n",
    "    \n",
    "    data.append((dir_path, row['File accession'], row['File download URL'], '.tsv'))"
   ]
  },
  {
   "cell_type": "code",
   "execution_count": 86,
   "metadata": {},
   "outputs": [
    {
     "data": {
      "text/plain": [
       "161"
      ]
     },
     "execution_count": 86,
     "metadata": {},
     "output_type": "execute_result"
    }
   ],
   "source": [
    "len(chip['Control'].unique())"
   ]
  },
  {
   "cell_type": "code",
   "execution_count": 89,
   "metadata": {},
   "outputs": [],
   "source": [
    "#TODO: возможно надо использовать все контроли(для одного эксперимента может быть несколько контролей)\n",
    "controls = []\n",
    "for control_name in chip['Control'].unique():\n",
    "    url = 'https://www.encodeproject.org/files/' + control_name + '/@@download/' + control_name + '.bam'\n",
    "    \n",
    "    controls.append(('/data/mazurovev/controls', control_name, url, '.bam'))"
   ]
  },
  {
   "cell_type": "code",
   "execution_count": 125,
   "metadata": {},
   "outputs": [],
   "source": [
    "def download(data):\n",
    "    dir_path = data[0]\n",
    "    file_path = data[1]\n",
    "    file_url = data[2]\n",
    "    file_ext = data[3]\n",
    "    \n",
    "    if not os.path.exists(dir_path):\n",
    "        os.makedirs(dir_path)\n",
    "        \n",
    "    wget.download(file_url, dir_path + '/' + file_path + file_ext)\n",
    "    print(file_path + file_ext + \" downloaded\")"
   ]
  },
  {
   "cell_type": "code",
   "execution_count": 129,
   "metadata": {
    "scrolled": true
   },
   "outputs": [
    {
     "name": "stdout",
     "output_type": "stream",
     "text": [
      "ENCFF201WBT.bam downloaded\n",
      "ENCFF054FUY.bam downloaded\n",
      "ENCFF250LJV.bam downloaded\n",
      "ENCFF015DTK.bam downloaded\n",
      "ENCFF528LYA.bam downloaded\n",
      "ENCFF525TRP.bam downloaded\n",
      "ENCFF909HVD.bam downloaded\n",
      "ENCFF867OLO.bam downloaded\n",
      "ENCFF249BFZ.bam downloaded\n",
      "ENCFF634ZFT.bam downloaded\n",
      "ENCFF733BZR.bam downloaded\n",
      "ENCFF278QPY.bam downloaded\n",
      "ENCFF379XPQ.bam downloaded\n",
      "ENCFF533REZ.bam downloaded\n",
      "ENCFF516FFC.bam downloaded\n",
      "ENCFF885PKQ.bam downloaded\n",
      "ENCFF675SBU.bam downloaded\n",
      "ENCFF490IHM.bam downloaded\n"
     ]
    }
   ],
   "source": [
    "pool = Pool(processes=30)\n",
    "corr = pool.map(download, t)\n",
    "\n",
    "pool.close()\n",
    "pool.join()"
   ]
  },
  {
   "cell_type": "code",
   "execution_count": 132,
   "metadata": {},
   "outputs": [],
   "source": [
    "t = []\n",
    "for index, row in chip.iterrows():\n",
    "    target = row['Experiment target'].split('-')[0]\n",
    "    dir_path = '/data/mazurovev/' + target + \"/\" + row['Biosample term id']\n",
    "        \n",
    "    if os.path.exists(dir_path + \"/\" + row['File accession'] + '.bed'):\n",
    "        t.append((dir_path, row['File accession'], row['File download URL'], '.bed'))"
   ]
  },
  {
   "cell_type": "code",
   "execution_count": null,
   "metadata": {},
   "outputs": [],
   "source": [
    "def checkFiles():\n",
    "    files = []\n",
    "    # r=root, d=directories, f = files\n",
    "    for r, d, f in os.walk(\"/data/mazurovev/\"):\n",
    "        for file in f:\n",
    "            #\"ENCFF.+\"\n",
    "            z = re.match(\".+\\.bam.+\", file)\n",
    "            if z:\n",
    "                files.append(os.path.join(r, file))"
   ]
  },
  {
   "cell_type": "code",
   "execution_count": null,
   "metadata": {},
   "outputs": [],
   "source": [
    "#Что-то делать с репликами? А у РНК?"
   ]
  },
  {
   "cell_type": "code",
   "execution_count": null,
   "metadata": {},
   "outputs": [],
   "source": [
    "#Как выбирать пары чип-рнк(если потом надо будет их коррелировать)\n",
    "#Походу надо брать только уникальные пары(без ties) и считать не спирмана а кэндала, а значимость считать пермутациями\n",
    "#Считать за реплики, если есть несколько чипов/рнк для одной ткани(что с ними делать - выше)"
   ]
  },
  {
   "cell_type": "code",
   "execution_count": 25,
   "metadata": {},
   "outputs": [],
   "source": [
    "methyl = pd.read_csv(\"../methyl_metadata.tsv\", sep=\"\\t\")\n",
    "methyl = methyl[methyl['Output type'] == 'methylation state at CpG']\n",
    "methyl = methyl[methyl['Assembly'] == 'GRCh38']\n",
    "methyl = methyl[methyl['File format'] == 'bed bedMethyl']\n",
    "methyl = methyl[methyl['File Status'] == 'released']"
   ]
  },
  {
   "cell_type": "code",
   "execution_count": 26,
   "metadata": {},
   "outputs": [
    {
     "data": {
      "text/html": [
       "<div>\n",
       "<style scoped>\n",
       "    .dataframe tbody tr th:only-of-type {\n",
       "        vertical-align: middle;\n",
       "    }\n",
       "\n",
       "    .dataframe tbody tr th {\n",
       "        vertical-align: top;\n",
       "    }\n",
       "\n",
       "    .dataframe thead th {\n",
       "        text-align: right;\n",
       "    }\n",
       "</style>\n",
       "<table border=\"1\" class=\"dataframe\">\n",
       "  <thead>\n",
       "    <tr style=\"text-align: right;\">\n",
       "      <th></th>\n",
       "      <th>File accession</th>\n",
       "      <th>File format</th>\n",
       "      <th>Output type</th>\n",
       "      <th>Experiment accession</th>\n",
       "      <th>Assay</th>\n",
       "      <th>Biosample term id</th>\n",
       "      <th>Biosample term name</th>\n",
       "      <th>Biosample type</th>\n",
       "      <th>Biosample organism</th>\n",
       "      <th>Biosample treatments</th>\n",
       "      <th>...</th>\n",
       "      <th>Assembly</th>\n",
       "      <th>Genome annotation</th>\n",
       "      <th>Platform</th>\n",
       "      <th>Controlled by</th>\n",
       "      <th>File Status</th>\n",
       "      <th>s3_uri</th>\n",
       "      <th>Audit WARNING</th>\n",
       "      <th>Audit INTERNAL_ACTION</th>\n",
       "      <th>Audit NOT_COMPLIANT</th>\n",
       "      <th>Audit ERROR</th>\n",
       "    </tr>\n",
       "  </thead>\n",
       "  <tbody>\n",
       "    <tr>\n",
       "      <th>13</th>\n",
       "      <td>ENCFF318AMC</td>\n",
       "      <td>bed bedMethyl</td>\n",
       "      <td>methylation state at CpG</td>\n",
       "      <td>ENCSR539UBP</td>\n",
       "      <td>whole-genome shotgun bisulfite sequencing</td>\n",
       "      <td>UBERON:0001013</td>\n",
       "      <td>adipose tissue</td>\n",
       "      <td>tissue</td>\n",
       "      <td>Homo sapiens</td>\n",
       "      <td>NaN</td>\n",
       "      <td>...</td>\n",
       "      <td>GRCh38</td>\n",
       "      <td>NaN</td>\n",
       "      <td>NaN</td>\n",
       "      <td>NaN</td>\n",
       "      <td>released</td>\n",
       "      <td>s3://encode-public/2017/10/14/aa11f9b4-b251-4a...</td>\n",
       "      <td>NaN</td>\n",
       "      <td>NaN</td>\n",
       "      <td>NaN</td>\n",
       "      <td>NaN</td>\n",
       "    </tr>\n",
       "    <tr>\n",
       "      <th>46</th>\n",
       "      <td>ENCFF545MIY</td>\n",
       "      <td>bed bedMethyl</td>\n",
       "      <td>methylation state at CpG</td>\n",
       "      <td>ENCSR542QVE</td>\n",
       "      <td>whole-genome shotgun bisulfite sequencing</td>\n",
       "      <td>EFO:0007098</td>\n",
       "      <td>iPS DF 6.9</td>\n",
       "      <td>cell line</td>\n",
       "      <td>Homo sapiens</td>\n",
       "      <td>NaN</td>\n",
       "      <td>...</td>\n",
       "      <td>GRCh38</td>\n",
       "      <td>NaN</td>\n",
       "      <td>NaN</td>\n",
       "      <td>NaN</td>\n",
       "      <td>released</td>\n",
       "      <td>s3://encode-public/2017/03/03/3acf74f9-397b-48...</td>\n",
       "      <td>NaN</td>\n",
       "      <td>NaN</td>\n",
       "      <td>NaN</td>\n",
       "      <td>NaN</td>\n",
       "    </tr>\n",
       "    <tr>\n",
       "      <th>56</th>\n",
       "      <td>ENCFF831OYO</td>\n",
       "      <td>bed bedMethyl</td>\n",
       "      <td>methylation state at CpG</td>\n",
       "      <td>ENCSR442IUA</td>\n",
       "      <td>whole-genome shotgun bisulfite sequencing</td>\n",
       "      <td>UBERON:0002080</td>\n",
       "      <td>heart right ventricle</td>\n",
       "      <td>tissue</td>\n",
       "      <td>Homo sapiens</td>\n",
       "      <td>NaN</td>\n",
       "      <td>...</td>\n",
       "      <td>GRCh38</td>\n",
       "      <td>NaN</td>\n",
       "      <td>NaN</td>\n",
       "      <td>NaN</td>\n",
       "      <td>released</td>\n",
       "      <td>s3://encode-public/2017/02/23/0dc54cbe-d538-4a...</td>\n",
       "      <td>NaN</td>\n",
       "      <td>NaN</td>\n",
       "      <td>NaN</td>\n",
       "      <td>NaN</td>\n",
       "    </tr>\n",
       "    <tr>\n",
       "      <th>67</th>\n",
       "      <td>ENCFF534RNT</td>\n",
       "      <td>bed bedMethyl</td>\n",
       "      <td>methylation state at CpG</td>\n",
       "      <td>ENCSR848CUY</td>\n",
       "      <td>whole-genome shotgun bisulfite sequencing</td>\n",
       "      <td>UBERON:0000945</td>\n",
       "      <td>stomach</td>\n",
       "      <td>tissue</td>\n",
       "      <td>Homo sapiens</td>\n",
       "      <td>NaN</td>\n",
       "      <td>...</td>\n",
       "      <td>GRCh38</td>\n",
       "      <td>NaN</td>\n",
       "      <td>NaN</td>\n",
       "      <td>NaN</td>\n",
       "      <td>released</td>\n",
       "      <td>s3://encode-public/2017/02/23/635fb231-f353-4a...</td>\n",
       "      <td>NaN</td>\n",
       "      <td>NaN</td>\n",
       "      <td>NaN</td>\n",
       "      <td>NaN</td>\n",
       "    </tr>\n",
       "    <tr>\n",
       "      <th>108</th>\n",
       "      <td>ENCFF215CKT</td>\n",
       "      <td>bed bedMethyl</td>\n",
       "      <td>methylation state at CpG</td>\n",
       "      <td>ENCSR540ONK</td>\n",
       "      <td>whole-genome shotgun bisulfite sequencing</td>\n",
       "      <td>CL:0000047</td>\n",
       "      <td>neural stem progenitor cell</td>\n",
       "      <td>in vitro differentiated cells</td>\n",
       "      <td>Homo sapiens</td>\n",
       "      <td>NaN</td>\n",
       "      <td>...</td>\n",
       "      <td>GRCh38</td>\n",
       "      <td>NaN</td>\n",
       "      <td>NaN</td>\n",
       "      <td>NaN</td>\n",
       "      <td>released</td>\n",
       "      <td>s3://encode-public/2017/02/27/cf890ee4-fbc4-47...</td>\n",
       "      <td>NaN</td>\n",
       "      <td>NaN</td>\n",
       "      <td>NaN</td>\n",
       "      <td>NaN</td>\n",
       "    </tr>\n",
       "  </tbody>\n",
       "</table>\n",
       "<p>5 rows × 53 columns</p>\n",
       "</div>"
      ],
      "text/plain": [
       "    File accession    File format               Output type  \\\n",
       "13     ENCFF318AMC  bed bedMethyl  methylation state at CpG   \n",
       "46     ENCFF545MIY  bed bedMethyl  methylation state at CpG   \n",
       "56     ENCFF831OYO  bed bedMethyl  methylation state at CpG   \n",
       "67     ENCFF534RNT  bed bedMethyl  methylation state at CpG   \n",
       "108    ENCFF215CKT  bed bedMethyl  methylation state at CpG   \n",
       "\n",
       "    Experiment accession                                      Assay  \\\n",
       "13           ENCSR539UBP  whole-genome shotgun bisulfite sequencing   \n",
       "46           ENCSR542QVE  whole-genome shotgun bisulfite sequencing   \n",
       "56           ENCSR442IUA  whole-genome shotgun bisulfite sequencing   \n",
       "67           ENCSR848CUY  whole-genome shotgun bisulfite sequencing   \n",
       "108          ENCSR540ONK  whole-genome shotgun bisulfite sequencing   \n",
       "\n",
       "    Biosample term id          Biosample term name  \\\n",
       "13     UBERON:0001013               adipose tissue   \n",
       "46        EFO:0007098                   iPS DF 6.9   \n",
       "56     UBERON:0002080        heart right ventricle   \n",
       "67     UBERON:0000945                      stomach   \n",
       "108        CL:0000047  neural stem progenitor cell   \n",
       "\n",
       "                    Biosample type Biosample organism  Biosample treatments  \\\n",
       "13                          tissue       Homo sapiens                   NaN   \n",
       "46                       cell line       Homo sapiens                   NaN   \n",
       "56                          tissue       Homo sapiens                   NaN   \n",
       "67                          tissue       Homo sapiens                   NaN   \n",
       "108  in vitro differentiated cells       Homo sapiens                   NaN   \n",
       "\n",
       "        ...      Assembly  Genome annotation  Platform  Controlled by  \\\n",
       "13      ...        GRCh38                NaN       NaN            NaN   \n",
       "46      ...        GRCh38                NaN       NaN            NaN   \n",
       "56      ...        GRCh38                NaN       NaN            NaN   \n",
       "67      ...        GRCh38                NaN       NaN            NaN   \n",
       "108     ...        GRCh38                NaN       NaN            NaN   \n",
       "\n",
       "     File Status                                             s3_uri  \\\n",
       "13      released  s3://encode-public/2017/10/14/aa11f9b4-b251-4a...   \n",
       "46      released  s3://encode-public/2017/03/03/3acf74f9-397b-48...   \n",
       "56      released  s3://encode-public/2017/02/23/0dc54cbe-d538-4a...   \n",
       "67      released  s3://encode-public/2017/02/23/635fb231-f353-4a...   \n",
       "108     released  s3://encode-public/2017/02/27/cf890ee4-fbc4-47...   \n",
       "\n",
       "     Audit WARNING  Audit INTERNAL_ACTION  Audit NOT_COMPLIANT Audit ERROR  \n",
       "13             NaN                    NaN                  NaN         NaN  \n",
       "46             NaN                    NaN                  NaN         NaN  \n",
       "56             NaN                    NaN                  NaN         NaN  \n",
       "67             NaN                    NaN                  NaN         NaN  \n",
       "108            NaN                    NaN                  NaN         NaN  \n",
       "\n",
       "[5 rows x 53 columns]"
      ]
     },
     "execution_count": 26,
     "metadata": {},
     "output_type": "execute_result"
    }
   ],
   "source": [
    "methyl.head()"
   ]
  },
  {
   "cell_type": "code",
   "execution_count": 27,
   "metadata": {},
   "outputs": [],
   "source": [
    "rna = pd.read_csv(\"../RNA-Seq_for_all_marks_all_replicas.tsv\", sep=\"\\t\")"
   ]
  },
  {
   "cell_type": "code",
   "execution_count": 28,
   "metadata": {},
   "outputs": [],
   "source": [
    "common_ids = set(methyl['Biosample term id'].unique()).intersection(set(rna['Biosample term id'].unique()))"
   ]
  },
  {
   "cell_type": "code",
   "execution_count": 29,
   "metadata": {},
   "outputs": [
    {
     "data": {
      "text/plain": [
       "27"
      ]
     },
     "execution_count": 29,
     "metadata": {},
     "output_type": "execute_result"
    }
   ],
   "source": [
    "len(common_ids)"
   ]
  },
  {
   "cell_type": "code",
   "execution_count": 32,
   "metadata": {
    "scrolled": false
   },
   "outputs": [],
   "source": [
    "methyl = methyl[methyl['Biosample term id'].isin(common_ids)][['File accession', 'File format', 'Output type', 'Experiment accession', 'Biosample term id', \n",
    "      'Experiment target', 'Biological replicate(s)', 'Technical replicate', 'Read length', 'Mapped read length', \n",
    "      'File download URL', 'Assembly', 'File Status', 'Lab']]"
   ]
  },
  {
   "cell_type": "code",
   "execution_count": 36,
   "metadata": {
    "scrolled": true
   },
   "outputs": [],
   "source": [
    "methyl.to_csv(\"../Methylation_all_replicas.tsv\", sep = \"\\t\", index=None)"
   ]
  },
  {
   "cell_type": "code",
   "execution_count": 37,
   "metadata": {},
   "outputs": [
    {
     "data": {
      "text/html": [
       "<div>\n",
       "<style scoped>\n",
       "    .dataframe tbody tr th:only-of-type {\n",
       "        vertical-align: middle;\n",
       "    }\n",
       "\n",
       "    .dataframe tbody tr th {\n",
       "        vertical-align: top;\n",
       "    }\n",
       "\n",
       "    .dataframe thead th {\n",
       "        text-align: right;\n",
       "    }\n",
       "</style>\n",
       "<table border=\"1\" class=\"dataframe\">\n",
       "  <thead>\n",
       "    <tr style=\"text-align: right;\">\n",
       "      <th></th>\n",
       "      <th>File accession</th>\n",
       "      <th>File format</th>\n",
       "      <th>Output type</th>\n",
       "      <th>Experiment accession</th>\n",
       "      <th>Biosample term id</th>\n",
       "      <th>Experiment target</th>\n",
       "      <th>Biological replicate(s)</th>\n",
       "      <th>Technical replicate</th>\n",
       "      <th>Read length</th>\n",
       "      <th>Mapped read length</th>\n",
       "      <th>File download URL</th>\n",
       "      <th>Assembly</th>\n",
       "      <th>File Status</th>\n",
       "      <th>Lab</th>\n",
       "    </tr>\n",
       "  </thead>\n",
       "  <tbody>\n",
       "    <tr>\n",
       "      <th>868</th>\n",
       "      <td>ENCFF479QJK</td>\n",
       "      <td>bed bedMethyl</td>\n",
       "      <td>methylation state at CpG</td>\n",
       "      <td>ENCSR482VHG</td>\n",
       "      <td>EFO:0003042</td>\n",
       "      <td>NaN</td>\n",
       "      <td>1</td>\n",
       "      <td>NaN</td>\n",
       "      <td>NaN</td>\n",
       "      <td>NaN</td>\n",
       "      <td>https://www.encodeproject.org/files/ENCFF479QJ...</td>\n",
       "      <td>GRCh38</td>\n",
       "      <td>released</td>\n",
       "      <td>ENCODE Processing Pipeline</td>\n",
       "    </tr>\n",
       "    <tr>\n",
       "      <th>879</th>\n",
       "      <td>ENCFF092FNE</td>\n",
       "      <td>bed bedMethyl</td>\n",
       "      <td>methylation state at CpG</td>\n",
       "      <td>ENCSR482VHG</td>\n",
       "      <td>EFO:0003042</td>\n",
       "      <td>NaN</td>\n",
       "      <td>2</td>\n",
       "      <td>NaN</td>\n",
       "      <td>NaN</td>\n",
       "      <td>NaN</td>\n",
       "      <td>https://www.encodeproject.org/files/ENCFF092FN...</td>\n",
       "      <td>GRCh38</td>\n",
       "      <td>released</td>\n",
       "      <td>ENCODE Processing Pipeline</td>\n",
       "    </tr>\n",
       "    <tr>\n",
       "      <th>1509</th>\n",
       "      <td>ENCFF601NBW</td>\n",
       "      <td>bed bedMethyl</td>\n",
       "      <td>methylation state at CpG</td>\n",
       "      <td>ENCSR617FKV</td>\n",
       "      <td>EFO:0003042</td>\n",
       "      <td>NaN</td>\n",
       "      <td>1</td>\n",
       "      <td>NaN</td>\n",
       "      <td>NaN</td>\n",
       "      <td>NaN</td>\n",
       "      <td>https://www.encodeproject.org/files/ENCFF601NB...</td>\n",
       "      <td>GRCh38</td>\n",
       "      <td>released</td>\n",
       "      <td>ENCODE Processing Pipeline</td>\n",
       "    </tr>\n",
       "    <tr>\n",
       "      <th>1519</th>\n",
       "      <td>ENCFF918PML</td>\n",
       "      <td>bed bedMethyl</td>\n",
       "      <td>methylation state at CpG</td>\n",
       "      <td>ENCSR617FKV</td>\n",
       "      <td>EFO:0003042</td>\n",
       "      <td>NaN</td>\n",
       "      <td>2</td>\n",
       "      <td>NaN</td>\n",
       "      <td>NaN</td>\n",
       "      <td>NaN</td>\n",
       "      <td>https://www.encodeproject.org/files/ENCFF918PM...</td>\n",
       "      <td>GRCh38</td>\n",
       "      <td>released</td>\n",
       "      <td>ENCODE Processing Pipeline</td>\n",
       "    </tr>\n",
       "  </tbody>\n",
       "</table>\n",
       "</div>"
      ],
      "text/plain": [
       "     File accession    File format               Output type  \\\n",
       "868     ENCFF479QJK  bed bedMethyl  methylation state at CpG   \n",
       "879     ENCFF092FNE  bed bedMethyl  methylation state at CpG   \n",
       "1509    ENCFF601NBW  bed bedMethyl  methylation state at CpG   \n",
       "1519    ENCFF918PML  bed bedMethyl  methylation state at CpG   \n",
       "\n",
       "     Experiment accession Biosample term id  Experiment target  \\\n",
       "868           ENCSR482VHG       EFO:0003042                NaN   \n",
       "879           ENCSR482VHG       EFO:0003042                NaN   \n",
       "1509          ENCSR617FKV       EFO:0003042                NaN   \n",
       "1519          ENCSR617FKV       EFO:0003042                NaN   \n",
       "\n",
       "      Biological replicate(s)  Technical replicate  Read length  \\\n",
       "868                         1                  NaN          NaN   \n",
       "879                         2                  NaN          NaN   \n",
       "1509                        1                  NaN          NaN   \n",
       "1519                        2                  NaN          NaN   \n",
       "\n",
       "      Mapped read length                                  File download URL  \\\n",
       "868                  NaN  https://www.encodeproject.org/files/ENCFF479QJ...   \n",
       "879                  NaN  https://www.encodeproject.org/files/ENCFF092FN...   \n",
       "1509                 NaN  https://www.encodeproject.org/files/ENCFF601NB...   \n",
       "1519                 NaN  https://www.encodeproject.org/files/ENCFF918PM...   \n",
       "\n",
       "     Assembly File Status                         Lab  \n",
       "868    GRCh38    released  ENCODE Processing Pipeline  \n",
       "879    GRCh38    released  ENCODE Processing Pipeline  \n",
       "1509   GRCh38    released  ENCODE Processing Pipeline  \n",
       "1519   GRCh38    released  ENCODE Processing Pipeline  "
      ]
     },
     "execution_count": 37,
     "metadata": {},
     "output_type": "execute_result"
    }
   ],
   "source": [
    "methyl[methyl['Biosample term id'] == 'EFO:0003042']"
   ]
  },
  {
   "cell_type": "code",
   "execution_count": null,
   "metadata": {},
   "outputs": [],
   "source": []
  }
 ],
 "metadata": {
  "kernelspec": {
   "display_name": "Python 3",
   "language": "python",
   "name": "python3"
  },
  "language_info": {
   "codemirror_mode": {
    "name": "ipython",
    "version": 3
   },
   "file_extension": ".py",
   "mimetype": "text/x-python",
   "name": "python",
   "nbconvert_exporter": "python",
   "pygments_lexer": "ipython3",
   "version": "3.6.8"
  }
 },
 "nbformat": 4,
 "nbformat_minor": 2
}
