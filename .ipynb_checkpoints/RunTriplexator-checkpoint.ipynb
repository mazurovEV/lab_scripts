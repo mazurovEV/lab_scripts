{
 "cells": [
  {
   "cell_type": "code",
   "execution_count": 1,
   "metadata": {},
   "outputs": [],
   "source": [
    "import pandas as pd\n",
    "import subprocess\n",
    "import pickle"
   ]
  },
  {
   "cell_type": "code",
   "execution_count": 2,
   "metadata": {},
   "outputs": [],
   "source": [
    "with open(\"../H3K27me3/lncRNA_Peaks_Correlations_corrected.pickle\", 'rb') as f:\n",
    "    corr = pickle.load(f)"
   ]
  },
  {
   "cell_type": "code",
   "execution_count": 4,
   "metadata": {},
   "outputs": [],
   "source": [
    "corr_sorted = sorted(corr, key=lambda x: x[2][0])"
   ]
  },
  {
   "cell_type": "code",
   "execution_count": 18,
   "metadata": {},
   "outputs": [],
   "source": [
    "minus_corr_top_20_lncRNA = set([g for g, p, c in corr_sorted[0:20]])"
   ]
  },
  {
   "cell_type": "code",
   "execution_count": 19,
   "metadata": {},
   "outputs": [],
   "source": [
    "plus_corr_top_20_lncRNA = set([g for g, p, c in corr_sorted[-20:]])"
   ]
  },
  {
   "cell_type": "code",
   "execution_count": 36,
   "metadata": {},
   "outputs": [],
   "source": [
    "def run(lncRNA, output_folder, filename):\n",
    "    dataframes = []\n",
    "    noTriplexList = []\n",
    "    i = 0\n",
    "    for l in lncRNA:\n",
    "        print('start ' + str(i) + \" lncRNA = \" + l)\n",
    "        result = runTriplexator(l, output_folder)\n",
    "        if(len(result.index) != 0): \n",
    "            dataframes.append(result)\n",
    "        else:\n",
    "            noTriplexList.append(l)\n",
    "        i = i + 1\n",
    "\n",
    "    data = pd.concat(dataframes)\n",
    "    data = data.reset_index(drop=True)\n",
    "    \n",
    "    data.to_csv('../H3K27me3/' + filename)"
   ]
  },
  {
   "cell_type": "code",
   "execution_count": 34,
   "metadata": {},
   "outputs": [],
   "source": [
    "#Почему -m R ?\n",
    "def runTriplexator(l, output):\n",
    "    cmd = 'triplexator -l 15 -e 20 -c 2 -fr off -g 20 -fm 0 -of 1 -od ' + output + '  -o ' + l + '.tsv -po -rm 2 -p 3 -ss ../H3K27me3/lnc_gff/' + l + '_transcript_lncRNA.fa -ds ../H3K27me3/peaks_coords/seqs_for_lnc_' + l + '.fa'     \n",
    "    print(cmd)\n",
    "    p = subprocess.Popen(cmd, shell=True, stdout=subprocess.PIPE)\n",
    "    p.wait()\n",
    "    print(l + ' ' + str(p.returncode))\n",
    "    return parseTriplexatorResult(l, 'ENST')"
   ]
  },
  {
   "cell_type": "code",
   "execution_count": 63,
   "metadata": {},
   "outputs": [],
   "source": [
    "def parseTriplexatorResult(l, filterName):\n",
    "    data = pd.read_csv(\"../H3K27me3/triplexator_output/\" + l + '.tsv', sep='\\t')\n",
    "    data = data[data['# Sequence-ID'].str.startswith(filterName)]\n",
    "    if(len(data.index) == 0): return pd.DataFrame()\n",
    "    dataGroup = data.groupby(['# Sequence-ID', 'Duplex-ID'])[[\"Score\"]].sum()\n",
    "    \n",
    "    x = pd.DataFrame({'lncRNA':[l]*len(dataGroup.index.tolist()), \n",
    "                      'Transcript': [i for i, j in dataGroup.index.tolist()],\n",
    "                  'Bin' : [j for i, j in dataGroup.index.tolist()], \n",
    "                 'Score' : dataGroup['Score'].tolist()})\n",
    "    x = x.reindex_axis(['lncRNA','Transcript', 'Bin', 'Score'], axis=1)\n",
    "    x.to_csv(l + \".csv\")\n",
    "    \n",
    "    return x"
   ]
  },
  {
   "cell_type": "code",
   "execution_count": null,
   "metadata": {},
   "outputs": [],
   "source": [
    "run(minus_corr_top_20_lncRNA, \"../H3K27me3/triplexator_output_minus_top/\", \"minus_top_lncRNA_triplexes.csv\")"
   ]
  },
  {
   "cell_type": "code",
   "execution_count": null,
   "metadata": {},
   "outputs": [],
   "source": [
    "run(plus_corr_top_20_lncRNA, \"../H3K27me3/triplexator_output_plus_top/\", \"plus_top_lncRNA_triplexes.csv\")"
   ]
  }
 ],
 "metadata": {
  "kernelspec": {
   "display_name": "Python 3",
   "language": "python",
   "name": "python3"
  },
  "language_info": {
   "codemirror_mode": {
    "name": "ipython",
    "version": 3
   },
   "file_extension": ".py",
   "mimetype": "text/x-python",
   "name": "python",
   "nbconvert_exporter": "python",
   "pygments_lexer": "ipython3",
   "version": "3.6.5"
  }
 },
 "nbformat": 4,
 "nbformat_minor": 2
}
