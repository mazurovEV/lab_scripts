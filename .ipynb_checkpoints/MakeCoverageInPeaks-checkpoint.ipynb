{
 "cells": [
  {
   "cell_type": "code",
   "execution_count": 15,
   "metadata": {},
   "outputs": [],
   "source": [
    "#TODO: решить вопрос, должны ли экспериментаторские файлы быть \"нормализованы\"(нужно ли вычитать контроль?) - иначе\n",
    "#мы находим пики там, где они не были найдены(Типа MACS не нашел пиков)!\n",
    "#Вместо предыдущей свистопляски просто считаем кол-во ридов в какждом пике\n",
    "#(никаких вычитаний контроля и прочего, мы использовали контроль, когда считали пики в каждом образце)\n",
    "#bedtools coverage -a A.bed -b B.bed, где A это пики, а B это эксперимент\n",
    "import pandas as pd\n",
    "import os\n",
    "from pybedtools import BedTool\n",
    "%matplotlib inline\n",
    "import matplotlib.pyplot as plt\n",
    "import pickle\n",
    "from multiprocessing import Pool"
   ]
  },
  {
   "cell_type": "code",
   "execution_count": 23,
   "metadata": {},
   "outputs": [],
   "source": [
    "targets = [(\"H3K4me1\", \"_narrow\"), (\"H3K4me2\", \"_narrow\"), (\"H3K4me3\", \"_narrow\"), (\"H3K79me2\", \"\"), \n",
    "           (\"H3K9ac\", \"_narrow\"), (\"H3K9me3\", \"\"), (\"H4K20me1\", \"\")]"
   ]
  },
  {
   "cell_type": "code",
   "execution_count": 43,
   "metadata": {},
   "outputs": [],
   "source": [
    "#Список путей к первой реплкие каждого биосемпла\n",
    "def getFiles(target):\n",
    "    files = []\n",
    "    for dirpath, dirnames, filenames in os.walk(\"/data/mazurovev/\" + target[0] + \"/\"):\n",
    "        for filename in sorted([f for f in filenames if \"_\" not in f])[:1]:\n",
    "            #Делаем путем к файлу с пиками\n",
    "            files.append(dirpath + \"/\" + filename)\n",
    "    \n",
    "    return sorted(files)"
   ]
  },
  {
   "cell_type": "code",
   "execution_count": 44,
   "metadata": {},
   "outputs": [
    {
     "data": {
      "text/plain": [
       "['/data/mazurovev/H3K27me3/CL:0000062/ENCFF318IMH.bam',\n",
       " '/data/mazurovev/H3K27me3/CL:0000103/ENCFF122QYC.bed',\n",
       " '/data/mazurovev/H3K27me3/CL:0000127/ENCFF442ZRV.bed',\n",
       " '/data/mazurovev/H3K27me3/CL:0000182/ENCFF208KVX.bed',\n",
       " '/data/mazurovev/H3K27me3/CL:0000192/ENCFF327WQJ.bed',\n",
       " '/data/mazurovev/H3K27me3/CL:0000515/ENCFF232HUV.bed',\n",
       " '/data/mazurovev/H3K27me3/CL:0000746/ENCFF083APJ.bed',\n",
       " '/data/mazurovev/H3K27me3/CL:0000842/ENCFF193OFZ.bed',\n",
       " '/data/mazurovev/H3K27me3/CL:0002327/ENCFF015OVW.bed',\n",
       " '/data/mazurovev/H3K27me3/CL:0002328/ENCFF425HDW.bed',\n",
       " '/data/mazurovev/H3K27me3/CL:0002372/ENCFF287IGX.bed',\n",
       " '/data/mazurovev/H3K27me3/CL:0002518/ENCFF575FWP.bed',\n",
       " '/data/mazurovev/H3K27me3/CL:0002553/ENCFF535LEC.bed',\n",
       " '/data/mazurovev/H3K27me3/CL:1001606/ENCFF020YIZ.bed',\n",
       " '/data/mazurovev/H3K27me3/EFO:0001187/ENCFF030HAG.bed',\n",
       " '/data/mazurovev/H3K27me3/EFO:0001196/ENCFF825OWT.bed',\n",
       " '/data/mazurovev/H3K27me3/EFO:0002067/ENCFF190OWE.bed',\n",
       " '/data/mazurovev/H3K27me3/EFO:0002074/ENCFF127CPB.bed',\n",
       " '/data/mazurovev/H3K27me3/EFO:0002784/ENCFF175YYN.bed',\n",
       " '/data/mazurovev/H3K27me3/EFO:0003042/ENCFF083QQZ.bed',\n",
       " '/data/mazurovev/H3K27me3/EFO:0005719/ENCFF813CKH.bed',\n",
       " '/data/mazurovev/H3K27me3/EFO:0005723/ENCFF122SGX.bed',\n",
       " '/data/mazurovev/H3K27me3/EFO:0005904/ENCFF250WQM.bed',\n",
       " '/data/mazurovev/H3K27me3/EFO:0007950/ENCFF371CJE.bed',\n",
       " '/data/mazurovev/H3K27me3/NTR:0000711/ENCFF219YIY.bed',\n",
       " '/data/mazurovev/H3K27me3/UBERON:0000473/ENCFF533REZ.bed',\n",
       " '/data/mazurovev/H3K27me3/UBERON:0000945/ENCFF189FFP.bed',\n",
       " '/data/mazurovev/H3K27me3/UBERON:0000948/ENCFF237BOS.bed',\n",
       " '/data/mazurovev/H3K27me3/UBERON:0000992/ENCFF186TYR.bed',\n",
       " '/data/mazurovev/H3K27me3/UBERON:0000995/ENCFF538OSP.bed',\n",
       " '/data/mazurovev/H3K27me3/UBERON:0001150/ENCFF048HZR.bed',\n",
       " '/data/mazurovev/H3K27me3/UBERON:0001157/ENCFF066QNC.bed',\n",
       " '/data/mazurovev/H3K27me3/UBERON:0001159/ENCFF124DET.bed',\n",
       " '/data/mazurovev/H3K27me3/UBERON:0001211/ENCFF337ODD.bed',\n",
       " '/data/mazurovev/H3K27me3/UBERON:0001323/ENCFF201JXX.bed',\n",
       " '/data/mazurovev/H3K27me3/UBERON:0001496/ENCFF411QLO.bed',\n",
       " '/data/mazurovev/H3K27me3/UBERON:0001515/ENCFF156BTT.bed',\n",
       " '/data/mazurovev/H3K27me3/UBERON:0002046/ENCFF201WBT.bed',\n",
       " '/data/mazurovev/H3K27me3/UBERON:0002048/ENCFF048FDD.bed',\n",
       " '/data/mazurovev/H3K27me3/UBERON:0002084/ENCFF228ZGV.bed',\n",
       " '/data/mazurovev/H3K27me3/UBERON:0002106/ENCFF202EUA.bed',\n",
       " '/data/mazurovev/H3K27me3/UBERON:0002107/ENCFF457HGI.bed',\n",
       " '/data/mazurovev/H3K27me3/UBERON:0002240/ENCFF129QUW.bed',\n",
       " '/data/mazurovev/H3K27me3/UBERON:0002369/ENCFF546HYL.bed',\n",
       " '/data/mazurovev/H3K27me3/UBERON:0004648/ENCFF131KLD.bed',\n",
       " '/data/mazurovev/H3K27me3/UBERON:0006631/ENCFF123VMN.bed',\n",
       " '/data/mazurovev/H3K27me3/UBERON:0006920/ENCFF245SNK.bed',\n",
       " '/data/mazurovev/H3K27me3/UBERON:0008367/ENCFF114URN.bed',\n",
       " '/data/mazurovev/H3K27me3/UBERON:0008952/ENCFF316LIQ.bed',\n",
       " '/data/mazurovev/H3K27me3/UBERON:0011907/ENCFF144WWG.bed']"
      ]
     },
     "execution_count": 44,
     "metadata": {},
     "output_type": "execute_result"
    }
   ],
   "source": [
    "getFiles((\"H3K27me3\", \"\"))"
   ]
  },
  {
   "cell_type": "code",
   "execution_count": 45,
   "metadata": {},
   "outputs": [],
   "source": [
    "def makeCoverage(bed_path):\n",
    "    exp = BedTool(bed_path)\n",
    "    print(\"/\".join(bed_path.split(\"/\")[-2:]))\n",
    "    return (\"/\".join(bed_path.split(\"/\")[-2:]), peaks.coverage(a=peaks.fn, b=exp.fn).to_dataframe()[['score', 'name']])"
   ]
  },
  {
   "cell_type": "code",
   "execution_count": 47,
   "metadata": {},
   "outputs": [],
   "source": [
    "def makeSignalMatrix(target, output_file):\n",
    "    \n",
    "    pool = Pool(processes=3)\n",
    "    data = pool.map(makeCoverage, getFiles(target))\n",
    "\n",
    "    pool.close()\n",
    "    pool.join()\n",
    "    \n",
    "    for_data_frame = {}\n",
    "    for n, d in data:\n",
    "        for_data_frame[n] = d['score']\n",
    "        \n",
    "    matrix = pd.DataFrame(for_data_frame)\n",
    "    \n",
    "    matrix.index = [\"peak_\" + str(i) for i in matrix.index]\n",
    "    \n",
    "    matrix.to_csv(\"../all_marks/\" + target[0] + \"/\" + output_file, sep=\"\\t\")"
   ]
  },
  {
   "cell_type": "code",
   "execution_count": 7,
   "metadata": {},
   "outputs": [
    {
     "name": "stdout",
     "output_type": "stream",
     "text": [
      "CL:0000062/ENCFF318IMH_narrow_peaks.bed\n",
      "CL:0000515/ENCFF232HUV_narrow_peaks.bed\n",
      "CL:0002372/ENCFF287IGX_narrow_peaks.bed\n"
     ]
    },
    {
     "name": "stderr",
     "output_type": "stream",
     "text": [
      "/usr/local/lib/python3.6/dist-packages/pybedtools/bedtool.py:3292: FutureWarning: read_table is deprecated, use read_csv instead, passing sep='\\t'.\n",
      "  return pandas.read_table(self.fn, names=_names, header=None, *args, **kwargs)\n",
      "/usr/local/lib/python3.6/dist-packages/pybedtools/bedtool.py:3292: FutureWarning: read_table is deprecated, use read_csv instead, passing sep='\\t'.\n",
      "  return pandas.read_table(self.fn, names=_names, header=None, *args, **kwargs)\n"
     ]
    },
    {
     "name": "stdout",
     "output_type": "stream",
     "text": [
      "CL:0000103/ENCFF122QYC_narrow_peaks.bed\n",
      "CL:0000746/ENCFF083APJ_narrow_peaks.bed\n"
     ]
    },
    {
     "name": "stderr",
     "output_type": "stream",
     "text": [
      "/usr/local/lib/python3.6/dist-packages/pybedtools/bedtool.py:3292: FutureWarning: read_table is deprecated, use read_csv instead, passing sep='\\t'.\n",
      "  return pandas.read_table(self.fn, names=_names, header=None, *args, **kwargs)\n"
     ]
    },
    {
     "name": "stdout",
     "output_type": "stream",
     "text": [
      "CL:0002518/ENCFF575FWP_narrow_peaks.bed\n"
     ]
    },
    {
     "name": "stderr",
     "output_type": "stream",
     "text": [
      "/usr/local/lib/python3.6/dist-packages/pybedtools/bedtool.py:3292: FutureWarning: read_table is deprecated, use read_csv instead, passing sep='\\t'.\n",
      "  return pandas.read_table(self.fn, names=_names, header=None, *args, **kwargs)\n",
      "/usr/local/lib/python3.6/dist-packages/pybedtools/bedtool.py:3292: FutureWarning: read_table is deprecated, use read_csv instead, passing sep='\\t'.\n",
      "  return pandas.read_table(self.fn, names=_names, header=None, *args, **kwargs)\n"
     ]
    },
    {
     "name": "stdout",
     "output_type": "stream",
     "text": [
      "CL:0000842/ENCFF193OFZ_narrow_peaks.bed\n"
     ]
    },
    {
     "name": "stderr",
     "output_type": "stream",
     "text": [
      "/usr/local/lib/python3.6/dist-packages/pybedtools/bedtool.py:3292: FutureWarning: read_table is deprecated, use read_csv instead, passing sep='\\t'.\n",
      "  return pandas.read_table(self.fn, names=_names, header=None, *args, **kwargs)\n"
     ]
    },
    {
     "name": "stdout",
     "output_type": "stream",
     "text": [
      "CL:0000127/ENCFF442ZRV_narrow_peaks.bed\n",
      "CL:0002553/ENCFF535LEC_narrow_peaks.bed\n"
     ]
    },
    {
     "name": "stderr",
     "output_type": "stream",
     "text": [
      "/usr/local/lib/python3.6/dist-packages/pybedtools/bedtool.py:3292: FutureWarning: read_table is deprecated, use read_csv instead, passing sep='\\t'.\n",
      "  return pandas.read_table(self.fn, names=_names, header=None, *args, **kwargs)\n",
      "/usr/local/lib/python3.6/dist-packages/pybedtools/bedtool.py:3292: FutureWarning: read_table is deprecated, use read_csv instead, passing sep='\\t'.\n",
      "  return pandas.read_table(self.fn, names=_names, header=None, *args, **kwargs)\n"
     ]
    },
    {
     "name": "stdout",
     "output_type": "stream",
     "text": [
      "CL:0002327/ENCFF015OVW_narrow_peaks.bed\n"
     ]
    },
    {
     "name": "stderr",
     "output_type": "stream",
     "text": [
      "/usr/local/lib/python3.6/dist-packages/pybedtools/bedtool.py:3292: FutureWarning: read_table is deprecated, use read_csv instead, passing sep='\\t'.\n",
      "  return pandas.read_table(self.fn, names=_names, header=None, *args, **kwargs)\n"
     ]
    },
    {
     "name": "stdout",
     "output_type": "stream",
     "text": [
      "CL:0000182/ENCFF208KVX_narrow_peaks.bed\n",
      "CL:1001606/ENCFF020YIZ_narrow_peaks.bed\n"
     ]
    },
    {
     "name": "stderr",
     "output_type": "stream",
     "text": [
      "/usr/local/lib/python3.6/dist-packages/pybedtools/bedtool.py:3292: FutureWarning: read_table is deprecated, use read_csv instead, passing sep='\\t'.\n",
      "  return pandas.read_table(self.fn, names=_names, header=None, *args, **kwargs)\n",
      "/usr/local/lib/python3.6/dist-packages/pybedtools/bedtool.py:3292: FutureWarning: read_table is deprecated, use read_csv instead, passing sep='\\t'.\n",
      "  return pandas.read_table(self.fn, names=_names, header=None, *args, **kwargs)\n"
     ]
    },
    {
     "name": "stdout",
     "output_type": "stream",
     "text": [
      "CL:0002328/ENCFF425HDW_narrow_peaks.bed\n",
      "CL:0000192/ENCFF327WQJ_narrow_peaks.bed\n"
     ]
    },
    {
     "name": "stderr",
     "output_type": "stream",
     "text": [
      "/usr/local/lib/python3.6/dist-packages/pybedtools/bedtool.py:3292: FutureWarning: read_table is deprecated, use read_csv instead, passing sep='\\t'.\n",
      "  return pandas.read_table(self.fn, names=_names, header=None, *args, **kwargs)\n"
     ]
    },
    {
     "name": "stdout",
     "output_type": "stream",
     "text": [
      "EFO:0001187/ENCFF030HAG_narrow_peaks.bed\n"
     ]
    },
    {
     "name": "stderr",
     "output_type": "stream",
     "text": [
      "/usr/local/lib/python3.6/dist-packages/pybedtools/bedtool.py:3292: FutureWarning: read_table is deprecated, use read_csv instead, passing sep='\\t'.\n",
      "  return pandas.read_table(self.fn, names=_names, header=None, *args, **kwargs)\n",
      "/usr/local/lib/python3.6/dist-packages/pybedtools/bedtool.py:3292: FutureWarning: read_table is deprecated, use read_csv instead, passing sep='\\t'.\n",
      "  return pandas.read_table(self.fn, names=_names, header=None, *args, **kwargs)\n",
      "/usr/local/lib/python3.6/dist-packages/pybedtools/bedtool.py:3292: FutureWarning: read_table is deprecated, use read_csv instead, passing sep='\\t'.\n",
      "  return pandas.read_table(self.fn, names=_names, header=None, *args, **kwargs)\n"
     ]
    },
    {
     "name": "stdout",
     "output_type": "stream",
     "text": [
      "EFO:0001196/ENCFF825OWT_narrow_peaks.bed\n",
      "EFO:0005719/ENCFF813CKH_narrow_peaks.bed\n",
      "UBERON:0000473/ENCFF533REZ_narrow_peaks.bed\n"
     ]
    },
    {
     "name": "stderr",
     "output_type": "stream",
     "text": [
      "/usr/local/lib/python3.6/dist-packages/pybedtools/bedtool.py:3292: FutureWarning: read_table is deprecated, use read_csv instead, passing sep='\\t'.\n",
      "  return pandas.read_table(self.fn, names=_names, header=None, *args, **kwargs)\n",
      "/usr/local/lib/python3.6/dist-packages/pybedtools/bedtool.py:3292: FutureWarning: read_table is deprecated, use read_csv instead, passing sep='\\t'.\n",
      "  return pandas.read_table(self.fn, names=_names, header=None, *args, **kwargs)\n",
      "/usr/local/lib/python3.6/dist-packages/pybedtools/bedtool.py:3292: FutureWarning: read_table is deprecated, use read_csv instead, passing sep='\\t'.\n",
      "  return pandas.read_table(self.fn, names=_names, header=None, *args, **kwargs)\n"
     ]
    },
    {
     "name": "stdout",
     "output_type": "stream",
     "text": [
      "EFO:0002067/ENCFF190OWE_narrow_peaks.bed\n",
      "EFO:0005723/ENCFF122SGX_narrow_peaks.bed\n",
      "UBERON:0000945/ENCFF189FFP_narrow_peaks.bed\n"
     ]
    },
    {
     "name": "stderr",
     "output_type": "stream",
     "text": [
      "/usr/local/lib/python3.6/dist-packages/pybedtools/bedtool.py:3292: FutureWarning: read_table is deprecated, use read_csv instead, passing sep='\\t'.\n",
      "  return pandas.read_table(self.fn, names=_names, header=None, *args, **kwargs)\n",
      "/usr/local/lib/python3.6/dist-packages/pybedtools/bedtool.py:3292: FutureWarning: read_table is deprecated, use read_csv instead, passing sep='\\t'.\n",
      "  return pandas.read_table(self.fn, names=_names, header=None, *args, **kwargs)\n"
     ]
    },
    {
     "name": "stdout",
     "output_type": "stream",
     "text": [
      "EFO:0002074/ENCFF127CPB_narrow_peaks.bed\n"
     ]
    },
    {
     "name": "stderr",
     "output_type": "stream",
     "text": [
      "/usr/local/lib/python3.6/dist-packages/pybedtools/bedtool.py:3292: FutureWarning: read_table is deprecated, use read_csv instead, passing sep='\\t'.\n",
      "  return pandas.read_table(self.fn, names=_names, header=None, *args, **kwargs)\n"
     ]
    },
    {
     "name": "stdout",
     "output_type": "stream",
     "text": [
      "EFO:0005904/ENCFF250WQM_narrow_peaks.bed\n",
      "UBERON:0000948/ENCFF237BOS_narrow_peaks.bed\n"
     ]
    },
    {
     "name": "stderr",
     "output_type": "stream",
     "text": [
      "/usr/local/lib/python3.6/dist-packages/pybedtools/bedtool.py:3292: FutureWarning: read_table is deprecated, use read_csv instead, passing sep='\\t'.\n",
      "  return pandas.read_table(self.fn, names=_names, header=None, *args, **kwargs)\n",
      "/usr/local/lib/python3.6/dist-packages/pybedtools/bedtool.py:3292: FutureWarning: read_table is deprecated, use read_csv instead, passing sep='\\t'.\n",
      "  return pandas.read_table(self.fn, names=_names, header=None, *args, **kwargs)\n",
      "/usr/local/lib/python3.6/dist-packages/pybedtools/bedtool.py:3292: FutureWarning: read_table is deprecated, use read_csv instead, passing sep='\\t'.\n",
      "  return pandas.read_table(self.fn, names=_names, header=None, *args, **kwargs)\n"
     ]
    },
    {
     "name": "stdout",
     "output_type": "stream",
     "text": [
      "EFO:0002784/ENCFF175YYN_narrow_peaks.bed\n",
      "EFO:0007950/ENCFF371CJE_narrow_peaks.bed\n",
      "UBERON:0000992/ENCFF186TYR_narrow_peaks.bed\n"
     ]
    },
    {
     "name": "stderr",
     "output_type": "stream",
     "text": [
      "/usr/local/lib/python3.6/dist-packages/pybedtools/bedtool.py:3292: FutureWarning: read_table is deprecated, use read_csv instead, passing sep='\\t'.\n",
      "  return pandas.read_table(self.fn, names=_names, header=None, *args, **kwargs)\n",
      "/usr/local/lib/python3.6/dist-packages/pybedtools/bedtool.py:3292: FutureWarning: read_table is deprecated, use read_csv instead, passing sep='\\t'.\n",
      "  return pandas.read_table(self.fn, names=_names, header=None, *args, **kwargs)\n"
     ]
    },
    {
     "name": "stdout",
     "output_type": "stream",
     "text": [
      "EFO:0003042/ENCFF083QQZ_narrow_peaks.bed\n"
     ]
    },
    {
     "name": "stderr",
     "output_type": "stream",
     "text": [
      "/usr/local/lib/python3.6/dist-packages/pybedtools/bedtool.py:3292: FutureWarning: read_table is deprecated, use read_csv instead, passing sep='\\t'.\n",
      "  return pandas.read_table(self.fn, names=_names, header=None, *args, **kwargs)\n"
     ]
    },
    {
     "name": "stdout",
     "output_type": "stream",
     "text": [
      "NTR:0000711/ENCFF219YIY_narrow_peaks.bed\n",
      "UBERON:0000995/ENCFF538OSP_narrow_peaks.bed\n"
     ]
    },
    {
     "name": "stderr",
     "output_type": "stream",
     "text": [
      "/usr/local/lib/python3.6/dist-packages/pybedtools/bedtool.py:3292: FutureWarning: read_table is deprecated, use read_csv instead, passing sep='\\t'.\n",
      "  return pandas.read_table(self.fn, names=_names, header=None, *args, **kwargs)\n",
      "/usr/local/lib/python3.6/dist-packages/pybedtools/bedtool.py:3292: FutureWarning: read_table is deprecated, use read_csv instead, passing sep='\\t'.\n",
      "  return pandas.read_table(self.fn, names=_names, header=None, *args, **kwargs)\n",
      "/usr/local/lib/python3.6/dist-packages/pybedtools/bedtool.py:3292: FutureWarning: read_table is deprecated, use read_csv instead, passing sep='\\t'.\n",
      "  return pandas.read_table(self.fn, names=_names, header=None, *args, **kwargs)\n"
     ]
    },
    {
     "name": "stdout",
     "output_type": "stream",
     "text": [
      "UBERON:0001150/ENCFF048HZR_narrow_peaks.bed\n",
      "UBERON:0001496/ENCFF411QLO_narrow_peaks.bed\n",
      "UBERON:0002106/ENCFF202EUA_narrow_peaks.bed\n"
     ]
    },
    {
     "name": "stderr",
     "output_type": "stream",
     "text": [
      "/usr/local/lib/python3.6/dist-packages/pybedtools/bedtool.py:3292: FutureWarning: read_table is deprecated, use read_csv instead, passing sep='\\t'.\n",
      "  return pandas.read_table(self.fn, names=_names, header=None, *args, **kwargs)\n"
     ]
    },
    {
     "name": "stdout",
     "output_type": "stream",
     "text": [
      "UBERON:0001157/ENCFF066QNC_narrow_peaks.bed\n"
     ]
    },
    {
     "name": "stderr",
     "output_type": "stream",
     "text": [
      "/usr/local/lib/python3.6/dist-packages/pybedtools/bedtool.py:3292: FutureWarning: read_table is deprecated, use read_csv instead, passing sep='\\t'.\n",
      "  return pandas.read_table(self.fn, names=_names, header=None, *args, **kwargs)\n"
     ]
    },
    {
     "name": "stdout",
     "output_type": "stream",
     "text": [
      "UBERON:0001515/ENCFF156BTT_narrow_peaks.bed\n"
     ]
    },
    {
     "name": "stderr",
     "output_type": "stream",
     "text": [
      "/usr/local/lib/python3.6/dist-packages/pybedtools/bedtool.py:3292: FutureWarning: read_table is deprecated, use read_csv instead, passing sep='\\t'.\n",
      "  return pandas.read_table(self.fn, names=_names, header=None, *args, **kwargs)\n"
     ]
    },
    {
     "name": "stdout",
     "output_type": "stream",
     "text": [
      "UBERON:0002107/ENCFF457HGI_narrow_peaks.bed\n"
     ]
    },
    {
     "name": "stderr",
     "output_type": "stream",
     "text": [
      "/usr/local/lib/python3.6/dist-packages/pybedtools/bedtool.py:3292: FutureWarning: read_table is deprecated, use read_csv instead, passing sep='\\t'.\n",
      "  return pandas.read_table(self.fn, names=_names, header=None, *args, **kwargs)\n"
     ]
    },
    {
     "name": "stdout",
     "output_type": "stream",
     "text": [
      "UBERON:0001159/ENCFF124DET_narrow_peaks.bed\n"
     ]
    },
    {
     "name": "stderr",
     "output_type": "stream",
     "text": [
      "/usr/local/lib/python3.6/dist-packages/pybedtools/bedtool.py:3292: FutureWarning: read_table is deprecated, use read_csv instead, passing sep='\\t'.\n",
      "  return pandas.read_table(self.fn, names=_names, header=None, *args, **kwargs)\n"
     ]
    },
    {
     "name": "stdout",
     "output_type": "stream",
     "text": [
      "UBERON:0002046/ENCFF201WBT_narrow_peaks.bed\n"
     ]
    },
    {
     "name": "stderr",
     "output_type": "stream",
     "text": [
      "/usr/local/lib/python3.6/dist-packages/pybedtools/bedtool.py:3292: FutureWarning: read_table is deprecated, use read_csv instead, passing sep='\\t'.\n",
      "  return pandas.read_table(self.fn, names=_names, header=None, *args, **kwargs)\n"
     ]
    },
    {
     "name": "stdout",
     "output_type": "stream",
     "text": [
      "UBERON:0002240/ENCFF129QUW_narrow_peaks.bed\n"
     ]
    },
    {
     "name": "stderr",
     "output_type": "stream",
     "text": [
      "/usr/local/lib/python3.6/dist-packages/pybedtools/bedtool.py:3292: FutureWarning: read_table is deprecated, use read_csv instead, passing sep='\\t'.\n",
      "  return pandas.read_table(self.fn, names=_names, header=None, *args, **kwargs)\n"
     ]
    },
    {
     "name": "stdout",
     "output_type": "stream",
     "text": [
      "UBERON:0001211/ENCFF337ODD_narrow_peaks.bed\n"
     ]
    },
    {
     "name": "stderr",
     "output_type": "stream",
     "text": [
      "/usr/local/lib/python3.6/dist-packages/pybedtools/bedtool.py:3292: FutureWarning: read_table is deprecated, use read_csv instead, passing sep='\\t'.\n",
      "  return pandas.read_table(self.fn, names=_names, header=None, *args, **kwargs)\n"
     ]
    },
    {
     "name": "stdout",
     "output_type": "stream",
     "text": [
      "UBERON:0002048/ENCFF048FDD_narrow_peaks.bed\n"
     ]
    },
    {
     "name": "stderr",
     "output_type": "stream",
     "text": [
      "/usr/local/lib/python3.6/dist-packages/pybedtools/bedtool.py:3292: FutureWarning: read_table is deprecated, use read_csv instead, passing sep='\\t'.\n",
      "  return pandas.read_table(self.fn, names=_names, header=None, *args, **kwargs)\n"
     ]
    },
    {
     "name": "stdout",
     "output_type": "stream",
     "text": [
      "UBERON:0002369/ENCFF546HYL_narrow_peaks.bed\n"
     ]
    },
    {
     "name": "stderr",
     "output_type": "stream",
     "text": [
      "/usr/local/lib/python3.6/dist-packages/pybedtools/bedtool.py:3292: FutureWarning: read_table is deprecated, use read_csv instead, passing sep='\\t'.\n",
      "  return pandas.read_table(self.fn, names=_names, header=None, *args, **kwargs)\n"
     ]
    },
    {
     "name": "stdout",
     "output_type": "stream",
     "text": [
      "UBERON:0001323/ENCFF201JXX_narrow_peaks.bed\n"
     ]
    },
    {
     "name": "stderr",
     "output_type": "stream",
     "text": [
      "/usr/local/lib/python3.6/dist-packages/pybedtools/bedtool.py:3292: FutureWarning: read_table is deprecated, use read_csv instead, passing sep='\\t'.\n",
      "  return pandas.read_table(self.fn, names=_names, header=None, *args, **kwargs)\n"
     ]
    },
    {
     "name": "stdout",
     "output_type": "stream",
     "text": [
      "UBERON:0002084/ENCFF228ZGV_narrow_peaks.bed\n"
     ]
    },
    {
     "name": "stderr",
     "output_type": "stream",
     "text": [
      "/usr/local/lib/python3.6/dist-packages/pybedtools/bedtool.py:3292: FutureWarning: read_table is deprecated, use read_csv instead, passing sep='\\t'.\n",
      "  return pandas.read_table(self.fn, names=_names, header=None, *args, **kwargs)\n"
     ]
    },
    {
     "name": "stdout",
     "output_type": "stream",
     "text": [
      "UBERON:0004648/ENCFF131KLD_narrow_peaks.bed\n"
     ]
    },
    {
     "name": "stderr",
     "output_type": "stream",
     "text": [
      "/usr/local/lib/python3.6/dist-packages/pybedtools/bedtool.py:3292: FutureWarning: read_table is deprecated, use read_csv instead, passing sep='\\t'.\n",
      "  return pandas.read_table(self.fn, names=_names, header=None, *args, **kwargs)\n",
      "/usr/local/lib/python3.6/dist-packages/pybedtools/bedtool.py:3292: FutureWarning: read_table is deprecated, use read_csv instead, passing sep='\\t'.\n",
      "  return pandas.read_table(self.fn, names=_names, header=None, *args, **kwargs)\n",
      "/usr/local/lib/python3.6/dist-packages/pybedtools/bedtool.py:3292: FutureWarning: read_table is deprecated, use read_csv instead, passing sep='\\t'.\n",
      "  return pandas.read_table(self.fn, names=_names, header=None, *args, **kwargs)\n"
     ]
    },
    {
     "name": "stdout",
     "output_type": "stream",
     "text": [
      "UBERON:0006631/ENCFF123VMN_narrow_peaks.bed\n"
     ]
    },
    {
     "name": "stderr",
     "output_type": "stream",
     "text": [
      "/usr/local/lib/python3.6/dist-packages/pybedtools/bedtool.py:3292: FutureWarning: read_table is deprecated, use read_csv instead, passing sep='\\t'.\n",
      "  return pandas.read_table(self.fn, names=_names, header=None, *args, **kwargs)\n"
     ]
    },
    {
     "name": "stdout",
     "output_type": "stream",
     "text": [
      "UBERON:0006920/ENCFF245SNK_narrow_peaks.bed\n"
     ]
    },
    {
     "name": "stderr",
     "output_type": "stream",
     "text": [
      "/usr/local/lib/python3.6/dist-packages/pybedtools/bedtool.py:3292: FutureWarning: read_table is deprecated, use read_csv instead, passing sep='\\t'.\n",
      "  return pandas.read_table(self.fn, names=_names, header=None, *args, **kwargs)\n"
     ]
    },
    {
     "name": "stdout",
     "output_type": "stream",
     "text": [
      "UBERON:0008367/ENCFF114URN_narrow_peaks.bed\n"
     ]
    },
    {
     "name": "stderr",
     "output_type": "stream",
     "text": [
      "/usr/local/lib/python3.6/dist-packages/pybedtools/bedtool.py:3292: FutureWarning: read_table is deprecated, use read_csv instead, passing sep='\\t'.\n",
      "  return pandas.read_table(self.fn, names=_names, header=None, *args, **kwargs)\n"
     ]
    },
    {
     "name": "stdout",
     "output_type": "stream",
     "text": [
      "UBERON:0008952/ENCFF316LIQ_narrow_peaks.bed\n"
     ]
    },
    {
     "name": "stderr",
     "output_type": "stream",
     "text": [
      "/usr/local/lib/python3.6/dist-packages/pybedtools/bedtool.py:3292: FutureWarning: read_table is deprecated, use read_csv instead, passing sep='\\t'.\n",
      "  return pandas.read_table(self.fn, names=_names, header=None, *args, **kwargs)\n"
     ]
    },
    {
     "name": "stdout",
     "output_type": "stream",
     "text": [
      "UBERON:0011907/ENCFF144WWG_narrow_peaks.bed\n"
     ]
    },
    {
     "name": "stderr",
     "output_type": "stream",
     "text": [
      "/usr/local/lib/python3.6/dist-packages/pybedtools/bedtool.py:3292: FutureWarning: read_table is deprecated, use read_csv instead, passing sep='\\t'.\n",
      "  return pandas.read_table(self.fn, names=_names, header=None, *args, **kwargs)\n"
     ]
    }
   ],
   "source": [
    "peaks = BedTool(\"../all_marks/\" + \"H3K27me3\" + \"/merged_narrow_2_peaks_first_in_biosample.bed\")\n",
    "df = makeSignalMatrix((\"H3K27me3\", \"\"), \"narrow_peaks.bed\", \"narrow_2_peaks_signal_matrix.csv\")"
   ]
  },
  {
   "cell_type": "code",
   "execution_count": 26,
   "metadata": {},
   "outputs": [
    {
     "name": "stdout",
     "output_type": "stream",
     "text": [
      "CL:0002372/ENCFF287IGX_peaks.narrowPeak\n",
      "CL:0000062/ENCFF318IMH_peaks.narrowPeak\n",
      "CL:0000515/ENCFF232HUV_peaks.narrowPeak\n"
     ]
    },
    {
     "name": "stderr",
     "output_type": "stream",
     "text": [
      "/usr/local/lib/python3.6/dist-packages/pybedtools/bedtool.py:3292: FutureWarning: read_table is deprecated, use read_csv instead, passing sep='\\t'.\n",
      "  return pandas.read_table(self.fn, names=_names, header=None, *args, **kwargs)\n",
      "/usr/local/lib/python3.6/dist-packages/pybedtools/bedtool.py:3292: FutureWarning: read_table is deprecated, use read_csv instead, passing sep='\\t'.\n",
      "  return pandas.read_table(self.fn, names=_names, header=None, *args, **kwargs)\n"
     ]
    },
    {
     "name": "stdout",
     "output_type": "stream",
     "text": [
      "CL:0000746/ENCFF083APJ_peaks.narrowPeak\n",
      "CL:0000103/ENCFF122QYC_peaks.narrowPeak\n"
     ]
    },
    {
     "name": "stderr",
     "output_type": "stream",
     "text": [
      "/usr/local/lib/python3.6/dist-packages/pybedtools/bedtool.py:3292: FutureWarning: read_table is deprecated, use read_csv instead, passing sep='\\t'.\n",
      "  return pandas.read_table(self.fn, names=_names, header=None, *args, **kwargs)\n"
     ]
    },
    {
     "name": "stdout",
     "output_type": "stream",
     "text": [
      "CL:0002518/ENCFF575FWP_peaks.narrowPeak\n"
     ]
    },
    {
     "name": "stderr",
     "output_type": "stream",
     "text": [
      "/usr/local/lib/python3.6/dist-packages/pybedtools/bedtool.py:3292: FutureWarning: read_table is deprecated, use read_csv instead, passing sep='\\t'.\n",
      "  return pandas.read_table(self.fn, names=_names, header=None, *args, **kwargs)\n"
     ]
    },
    {
     "name": "stdout",
     "output_type": "stream",
     "text": [
      "CL:0000842/ENCFF193OFZ_peaks.narrowPeak\n"
     ]
    },
    {
     "name": "stderr",
     "output_type": "stream",
     "text": [
      "/usr/local/lib/python3.6/dist-packages/pybedtools/bedtool.py:3292: FutureWarning: read_table is deprecated, use read_csv instead, passing sep='\\t'.\n",
      "  return pandas.read_table(self.fn, names=_names, header=None, *args, **kwargs)\n",
      "/usr/local/lib/python3.6/dist-packages/pybedtools/bedtool.py:3292: FutureWarning: read_table is deprecated, use read_csv instead, passing sep='\\t'.\n",
      "  return pandas.read_table(self.fn, names=_names, header=None, *args, **kwargs)\n"
     ]
    },
    {
     "name": "stdout",
     "output_type": "stream",
     "text": [
      "CL:0002553/ENCFF535LEC_peaks.narrowPeak\n",
      "CL:0000127/ENCFF442ZRV_peaks.narrowPeak\n"
     ]
    },
    {
     "name": "stderr",
     "output_type": "stream",
     "text": [
      "/usr/local/lib/python3.6/dist-packages/pybedtools/bedtool.py:3292: FutureWarning: read_table is deprecated, use read_csv instead, passing sep='\\t'.\n",
      "  return pandas.read_table(self.fn, names=_names, header=None, *args, **kwargs)\n"
     ]
    },
    {
     "name": "stdout",
     "output_type": "stream",
     "text": [
      "CL:0002327/ENCFF015OVW_peaks.narrowPeak\n"
     ]
    },
    {
     "name": "stderr",
     "output_type": "stream",
     "text": [
      "/usr/local/lib/python3.6/dist-packages/pybedtools/bedtool.py:3292: FutureWarning: read_table is deprecated, use read_csv instead, passing sep='\\t'.\n",
      "  return pandas.read_table(self.fn, names=_names, header=None, *args, **kwargs)\n",
      "/usr/local/lib/python3.6/dist-packages/pybedtools/bedtool.py:3292: FutureWarning: read_table is deprecated, use read_csv instead, passing sep='\\t'.\n",
      "  return pandas.read_table(self.fn, names=_names, header=None, *args, **kwargs)\n"
     ]
    },
    {
     "name": "stdout",
     "output_type": "stream",
     "text": [
      "CL:1001606/ENCFF020YIZ_peaks.narrowPeak\n",
      "CL:0000182/ENCFF208KVX_peaks.narrowPeak\n"
     ]
    },
    {
     "name": "stderr",
     "output_type": "stream",
     "text": [
      "/usr/local/lib/python3.6/dist-packages/pybedtools/bedtool.py:3292: FutureWarning: read_table is deprecated, use read_csv instead, passing sep='\\t'.\n",
      "  return pandas.read_table(self.fn, names=_names, header=None, *args, **kwargs)\n"
     ]
    },
    {
     "name": "stdout",
     "output_type": "stream",
     "text": [
      "CL:0002328/ENCFF425HDW_peaks.narrowPeak\n"
     ]
    },
    {
     "name": "stderr",
     "output_type": "stream",
     "text": [
      "/usr/local/lib/python3.6/dist-packages/pybedtools/bedtool.py:3292: FutureWarning: read_table is deprecated, use read_csv instead, passing sep='\\t'.\n",
      "  return pandas.read_table(self.fn, names=_names, header=None, *args, **kwargs)\n",
      "/usr/local/lib/python3.6/dist-packages/pybedtools/bedtool.py:3292: FutureWarning: read_table is deprecated, use read_csv instead, passing sep='\\t'.\n",
      "  return pandas.read_table(self.fn, names=_names, header=None, *args, **kwargs)\n"
     ]
    },
    {
     "name": "stdout",
     "output_type": "stream",
     "text": [
      "EFO:0001187/ENCFF030HAG_peaks.narrowPeak\n",
      "CL:0000192/ENCFF327WQJ_peaks.narrowPeak\n"
     ]
    },
    {
     "name": "stderr",
     "output_type": "stream",
     "text": [
      "/usr/local/lib/python3.6/dist-packages/pybedtools/bedtool.py:3292: FutureWarning: read_table is deprecated, use read_csv instead, passing sep='\\t'.\n",
      "  return pandas.read_table(self.fn, names=_names, header=None, *args, **kwargs)\n",
      "/usr/local/lib/python3.6/dist-packages/pybedtools/bedtool.py:3292: FutureWarning: read_table is deprecated, use read_csv instead, passing sep='\\t'.\n",
      "  return pandas.read_table(self.fn, names=_names, header=None, *args, **kwargs)\n",
      "/usr/local/lib/python3.6/dist-packages/pybedtools/bedtool.py:3292: FutureWarning: read_table is deprecated, use read_csv instead, passing sep='\\t'.\n",
      "  return pandas.read_table(self.fn, names=_names, header=None, *args, **kwargs)\n"
     ]
    },
    {
     "name": "stdout",
     "output_type": "stream",
     "text": [
      "EFO:0001196/ENCFF825OWT_peaks.narrowPeak\n",
      "EFO:0005719/ENCFF813CKH_peaks.narrowPeak\n",
      "UBERON:0000473/ENCFF533REZ_peaks.narrowPeak\n"
     ]
    },
    {
     "name": "stderr",
     "output_type": "stream",
     "text": [
      "/usr/local/lib/python3.6/dist-packages/pybedtools/bedtool.py:3292: FutureWarning: read_table is deprecated, use read_csv instead, passing sep='\\t'.\n",
      "  return pandas.read_table(self.fn, names=_names, header=None, *args, **kwargs)\n",
      "/usr/local/lib/python3.6/dist-packages/pybedtools/bedtool.py:3292: FutureWarning: read_table is deprecated, use read_csv instead, passing sep='\\t'.\n",
      "  return pandas.read_table(self.fn, names=_names, header=None, *args, **kwargs)\n"
     ]
    },
    {
     "name": "stdout",
     "output_type": "stream",
     "text": [
      "EFO:0002067/ENCFF190OWE_peaks.narrowPeak\n"
     ]
    },
    {
     "name": "stderr",
     "output_type": "stream",
     "text": [
      "/usr/local/lib/python3.6/dist-packages/pybedtools/bedtool.py:3292: FutureWarning: read_table is deprecated, use read_csv instead, passing sep='\\t'.\n",
      "  return pandas.read_table(self.fn, names=_names, header=None, *args, **kwargs)\n"
     ]
    },
    {
     "name": "stdout",
     "output_type": "stream",
     "text": [
      "EFO:0005723/ENCFF122SGX_peaks.narrowPeak\n",
      "UBERON:0000945/ENCFF189FFP_peaks.narrowPeak\n"
     ]
    },
    {
     "name": "stderr",
     "output_type": "stream",
     "text": [
      "/usr/local/lib/python3.6/dist-packages/pybedtools/bedtool.py:3292: FutureWarning: read_table is deprecated, use read_csv instead, passing sep='\\t'.\n",
      "  return pandas.read_table(self.fn, names=_names, header=None, *args, **kwargs)\n"
     ]
    },
    {
     "name": "stdout",
     "output_type": "stream",
     "text": [
      "EFO:0002074/ENCFF127CPB_peaks.narrowPeak\n"
     ]
    },
    {
     "name": "stderr",
     "output_type": "stream",
     "text": [
      "/usr/local/lib/python3.6/dist-packages/pybedtools/bedtool.py:3292: FutureWarning: read_table is deprecated, use read_csv instead, passing sep='\\t'.\n",
      "  return pandas.read_table(self.fn, names=_names, header=None, *args, **kwargs)\n"
     ]
    },
    {
     "name": "stdout",
     "output_type": "stream",
     "text": [
      "EFO:0005904/ENCFF250WQM_peaks.narrowPeak\n"
     ]
    },
    {
     "name": "stderr",
     "output_type": "stream",
     "text": [
      "/usr/local/lib/python3.6/dist-packages/pybedtools/bedtool.py:3292: FutureWarning: read_table is deprecated, use read_csv instead, passing sep='\\t'.\n",
      "  return pandas.read_table(self.fn, names=_names, header=None, *args, **kwargs)\n"
     ]
    },
    {
     "name": "stdout",
     "output_type": "stream",
     "text": [
      "UBERON:0000948/ENCFF237BOS_peaks.narrowPeak\n"
     ]
    },
    {
     "name": "stderr",
     "output_type": "stream",
     "text": [
      "/usr/local/lib/python3.6/dist-packages/pybedtools/bedtool.py:3292: FutureWarning: read_table is deprecated, use read_csv instead, passing sep='\\t'.\n",
      "  return pandas.read_table(self.fn, names=_names, header=None, *args, **kwargs)\n",
      "/usr/local/lib/python3.6/dist-packages/pybedtools/bedtool.py:3292: FutureWarning: read_table is deprecated, use read_csv instead, passing sep='\\t'.\n",
      "  return pandas.read_table(self.fn, names=_names, header=None, *args, **kwargs)\n"
     ]
    },
    {
     "name": "stdout",
     "output_type": "stream",
     "text": [
      "EFO:0002784/ENCFF175YYN_peaks.narrowPeak\n"
     ]
    },
    {
     "name": "stderr",
     "output_type": "stream",
     "text": [
      "/usr/local/lib/python3.6/dist-packages/pybedtools/bedtool.py:3292: FutureWarning: read_table is deprecated, use read_csv instead, passing sep='\\t'.\n",
      "  return pandas.read_table(self.fn, names=_names, header=None, *args, **kwargs)\n"
     ]
    },
    {
     "name": "stdout",
     "output_type": "stream",
     "text": [
      "EFO:0007950/ENCFF371CJE_peaks.narrowPeak\n",
      "UBERON:0000992/ENCFF186TYR_peaks.narrowPeak\n"
     ]
    },
    {
     "name": "stderr",
     "output_type": "stream",
     "text": [
      "/usr/local/lib/python3.6/dist-packages/pybedtools/bedtool.py:3292: FutureWarning: read_table is deprecated, use read_csv instead, passing sep='\\t'.\n",
      "  return pandas.read_table(self.fn, names=_names, header=None, *args, **kwargs)\n",
      "/usr/local/lib/python3.6/dist-packages/pybedtools/bedtool.py:3292: FutureWarning: read_table is deprecated, use read_csv instead, passing sep='\\t'.\n",
      "  return pandas.read_table(self.fn, names=_names, header=None, *args, **kwargs)\n"
     ]
    },
    {
     "name": "stdout",
     "output_type": "stream",
     "text": [
      "EFO:0003042/ENCFF083QQZ_peaks.narrowPeak\n",
      "NTR:0000711/ENCFF219YIY_peaks.narrowPeak\n"
     ]
    },
    {
     "name": "stderr",
     "output_type": "stream",
     "text": [
      "/usr/local/lib/python3.6/dist-packages/pybedtools/bedtool.py:3292: FutureWarning: read_table is deprecated, use read_csv instead, passing sep='\\t'.\n",
      "  return pandas.read_table(self.fn, names=_names, header=None, *args, **kwargs)\n"
     ]
    },
    {
     "name": "stdout",
     "output_type": "stream",
     "text": [
      "UBERON:0000995/ENCFF538OSP_peaks.narrowPeak\n"
     ]
    },
    {
     "name": "stderr",
     "output_type": "stream",
     "text": [
      "/usr/local/lib/python3.6/dist-packages/pybedtools/bedtool.py:3292: FutureWarning: read_table is deprecated, use read_csv instead, passing sep='\\t'.\n",
      "  return pandas.read_table(self.fn, names=_names, header=None, *args, **kwargs)\n",
      "/usr/local/lib/python3.6/dist-packages/pybedtools/bedtool.py:3292: FutureWarning: read_table is deprecated, use read_csv instead, passing sep='\\t'.\n",
      "  return pandas.read_table(self.fn, names=_names, header=None, *args, **kwargs)\n",
      "/usr/local/lib/python3.6/dist-packages/pybedtools/bedtool.py:3292: FutureWarning: read_table is deprecated, use read_csv instead, passing sep='\\t'.\n",
      "  return pandas.read_table(self.fn, names=_names, header=None, *args, **kwargs)\n"
     ]
    },
    {
     "name": "stdout",
     "output_type": "stream",
     "text": [
      "UBERON:0001150/ENCFF048HZR_peaks.narrowPeak\n",
      "UBERON:0001496/ENCFF411QLO_peaks.narrowPeak\n",
      "UBERON:0002106/ENCFF202EUA_peaks.narrowPeak\n"
     ]
    },
    {
     "name": "stderr",
     "output_type": "stream",
     "text": [
      "/usr/local/lib/python3.6/dist-packages/pybedtools/bedtool.py:3292: FutureWarning: read_table is deprecated, use read_csv instead, passing sep='\\t'.\n",
      "  return pandas.read_table(self.fn, names=_names, header=None, *args, **kwargs)\n"
     ]
    },
    {
     "name": "stdout",
     "output_type": "stream",
     "text": [
      "UBERON:0001157/ENCFF066QNC_peaks.narrowPeak\n"
     ]
    },
    {
     "name": "stderr",
     "output_type": "stream",
     "text": [
      "/usr/local/lib/python3.6/dist-packages/pybedtools/bedtool.py:3292: FutureWarning: read_table is deprecated, use read_csv instead, passing sep='\\t'.\n",
      "  return pandas.read_table(self.fn, names=_names, header=None, *args, **kwargs)\n",
      "/usr/local/lib/python3.6/dist-packages/pybedtools/bedtool.py:3292: FutureWarning: read_table is deprecated, use read_csv instead, passing sep='\\t'.\n",
      "  return pandas.read_table(self.fn, names=_names, header=None, *args, **kwargs)\n"
     ]
    },
    {
     "name": "stdout",
     "output_type": "stream",
     "text": [
      "UBERON:0001515/ENCFF156BTT_peaks.narrowPeak\n",
      "UBERON:0002107/ENCFF457HGI_peaks.narrowPeak\n"
     ]
    },
    {
     "name": "stderr",
     "output_type": "stream",
     "text": [
      "/usr/local/lib/python3.6/dist-packages/pybedtools/bedtool.py:3292: FutureWarning: read_table is deprecated, use read_csv instead, passing sep='\\t'.\n",
      "  return pandas.read_table(self.fn, names=_names, header=None, *args, **kwargs)\n",
      "/usr/local/lib/python3.6/dist-packages/pybedtools/bedtool.py:3292: FutureWarning: read_table is deprecated, use read_csv instead, passing sep='\\t'.\n",
      "  return pandas.read_table(self.fn, names=_names, header=None, *args, **kwargs)\n"
     ]
    },
    {
     "name": "stdout",
     "output_type": "stream",
     "text": [
      "UBERON:0001159/ENCFF124DET_peaks.narrowPeak\n",
      "UBERON:0002046/ENCFF201WBT_peaks.narrowPeak\n"
     ]
    },
    {
     "name": "stderr",
     "output_type": "stream",
     "text": [
      "/usr/local/lib/python3.6/dist-packages/pybedtools/bedtool.py:3292: FutureWarning: read_table is deprecated, use read_csv instead, passing sep='\\t'.\n",
      "  return pandas.read_table(self.fn, names=_names, header=None, *args, **kwargs)\n"
     ]
    },
    {
     "name": "stdout",
     "output_type": "stream",
     "text": [
      "UBERON:0002240/ENCFF129QUW_peaks.narrowPeak\n"
     ]
    },
    {
     "name": "stderr",
     "output_type": "stream",
     "text": [
      "/usr/local/lib/python3.6/dist-packages/pybedtools/bedtool.py:3292: FutureWarning: read_table is deprecated, use read_csv instead, passing sep='\\t'.\n",
      "  return pandas.read_table(self.fn, names=_names, header=None, *args, **kwargs)\n",
      "/usr/local/lib/python3.6/dist-packages/pybedtools/bedtool.py:3292: FutureWarning: read_table is deprecated, use read_csv instead, passing sep='\\t'.\n",
      "  return pandas.read_table(self.fn, names=_names, header=None, *args, **kwargs)\n"
     ]
    },
    {
     "name": "stdout",
     "output_type": "stream",
     "text": [
      "UBERON:0001211/ENCFF337ODD_peaks.narrowPeak\n",
      "UBERON:0002048/ENCFF048FDD_peaks.narrowPeak\n"
     ]
    },
    {
     "name": "stderr",
     "output_type": "stream",
     "text": [
      "/usr/local/lib/python3.6/dist-packages/pybedtools/bedtool.py:3292: FutureWarning: read_table is deprecated, use read_csv instead, passing sep='\\t'.\n",
      "  return pandas.read_table(self.fn, names=_names, header=None, *args, **kwargs)\n"
     ]
    },
    {
     "name": "stdout",
     "output_type": "stream",
     "text": [
      "UBERON:0002369/ENCFF546HYL_peaks.narrowPeak\n"
     ]
    },
    {
     "name": "stderr",
     "output_type": "stream",
     "text": [
      "/usr/local/lib/python3.6/dist-packages/pybedtools/bedtool.py:3292: FutureWarning: read_table is deprecated, use read_csv instead, passing sep='\\t'.\n",
      "  return pandas.read_table(self.fn, names=_names, header=None, *args, **kwargs)\n",
      "/usr/local/lib/python3.6/dist-packages/pybedtools/bedtool.py:3292: FutureWarning: read_table is deprecated, use read_csv instead, passing sep='\\t'.\n",
      "  return pandas.read_table(self.fn, names=_names, header=None, *args, **kwargs)\n"
     ]
    },
    {
     "name": "stdout",
     "output_type": "stream",
     "text": [
      "UBERON:0001323/ENCFF201JXX_peaks.narrowPeak\n",
      "UBERON:0002084/ENCFF228ZGV_peaks.narrowPeak\n"
     ]
    },
    {
     "name": "stderr",
     "output_type": "stream",
     "text": [
      "/usr/local/lib/python3.6/dist-packages/pybedtools/bedtool.py:3292: FutureWarning: read_table is deprecated, use read_csv instead, passing sep='\\t'.\n",
      "  return pandas.read_table(self.fn, names=_names, header=None, *args, **kwargs)\n"
     ]
    },
    {
     "name": "stdout",
     "output_type": "stream",
     "text": [
      "UBERON:0004648/ENCFF131KLD_peaks.narrowPeak\n"
     ]
    },
    {
     "name": "stderr",
     "output_type": "stream",
     "text": [
      "/usr/local/lib/python3.6/dist-packages/pybedtools/bedtool.py:3292: FutureWarning: read_table is deprecated, use read_csv instead, passing sep='\\t'.\n",
      "  return pandas.read_table(self.fn, names=_names, header=None, *args, **kwargs)\n",
      "/usr/local/lib/python3.6/dist-packages/pybedtools/bedtool.py:3292: FutureWarning: read_table is deprecated, use read_csv instead, passing sep='\\t'.\n",
      "  return pandas.read_table(self.fn, names=_names, header=None, *args, **kwargs)\n",
      "/usr/local/lib/python3.6/dist-packages/pybedtools/bedtool.py:3292: FutureWarning: read_table is deprecated, use read_csv instead, passing sep='\\t'.\n",
      "  return pandas.read_table(self.fn, names=_names, header=None, *args, **kwargs)\n"
     ]
    },
    {
     "name": "stdout",
     "output_type": "stream",
     "text": [
      "UBERON:0006631/ENCFF123VMN_peaks.narrowPeak\n"
     ]
    },
    {
     "name": "stderr",
     "output_type": "stream",
     "text": [
      "/usr/local/lib/python3.6/dist-packages/pybedtools/bedtool.py:3292: FutureWarning: read_table is deprecated, use read_csv instead, passing sep='\\t'.\n",
      "  return pandas.read_table(self.fn, names=_names, header=None, *args, **kwargs)\n"
     ]
    },
    {
     "name": "stdout",
     "output_type": "stream",
     "text": [
      "UBERON:0006920/ENCFF245SNK_peaks.narrowPeak\n"
     ]
    },
    {
     "name": "stderr",
     "output_type": "stream",
     "text": [
      "/usr/local/lib/python3.6/dist-packages/pybedtools/bedtool.py:3292: FutureWarning: read_table is deprecated, use read_csv instead, passing sep='\\t'.\n",
      "  return pandas.read_table(self.fn, names=_names, header=None, *args, **kwargs)\n"
     ]
    },
    {
     "name": "stdout",
     "output_type": "stream",
     "text": [
      "UBERON:0008367/ENCFF114URN_peaks.narrowPeak\n"
     ]
    },
    {
     "name": "stderr",
     "output_type": "stream",
     "text": [
      "/usr/local/lib/python3.6/dist-packages/pybedtools/bedtool.py:3292: FutureWarning: read_table is deprecated, use read_csv instead, passing sep='\\t'.\n",
      "  return pandas.read_table(self.fn, names=_names, header=None, *args, **kwargs)\n"
     ]
    },
    {
     "name": "stdout",
     "output_type": "stream",
     "text": [
      "UBERON:0008952/ENCFF316LIQ_peaks.narrowPeak\n"
     ]
    },
    {
     "name": "stderr",
     "output_type": "stream",
     "text": [
      "/usr/local/lib/python3.6/dist-packages/pybedtools/bedtool.py:3292: FutureWarning: read_table is deprecated, use read_csv instead, passing sep='\\t'.\n",
      "  return pandas.read_table(self.fn, names=_names, header=None, *args, **kwargs)\n"
     ]
    },
    {
     "name": "stdout",
     "output_type": "stream",
     "text": [
      "UBERON:0011907/ENCFF144WWG_peaks.narrowPeak\n"
     ]
    },
    {
     "name": "stderr",
     "output_type": "stream",
     "text": [
      "/usr/local/lib/python3.6/dist-packages/pybedtools/bedtool.py:3292: FutureWarning: read_table is deprecated, use read_csv instead, passing sep='\\t'.\n",
      "  return pandas.read_table(self.fn, names=_names, header=None, *args, **kwargs)\n"
     ]
    }
   ],
   "source": [
    "peaks = BedTool(\"../all_marks/\" + \"H3K27me3\" + \"/merged_narrow_peaks_first_in_biosample.bed\")\n",
    "df = makeSignalMatrix((\"H3K27me3\", \"\"), \"peaks.narrowPeak\", \"narrow_peaks_signal_matrix.csv\")"
   ]
  },
  {
   "cell_type": "code",
   "execution_count": 48,
   "metadata": {},
   "outputs": [
    {
     "name": "stdout",
     "output_type": "stream",
     "text": [
      "CL:0002372/ENCFF287IGX.bed\n",
      "CL:0000515/ENCFF232HUV.bed\n",
      "CL:0000062/ENCFF318IMH.bam\n"
     ]
    },
    {
     "name": "stderr",
     "output_type": "stream",
     "text": [
      "/usr/local/lib/python3.6/dist-packages/pybedtools/bedtool.py:3292: FutureWarning: read_table is deprecated, use read_csv instead, passing sep='\\t'.\n",
      "  return pandas.read_table(self.fn, names=_names, header=None, *args, **kwargs)\n"
     ]
    },
    {
     "name": "stdout",
     "output_type": "stream",
     "text": [
      "CL:0000746/ENCFF083APJ.bed\n"
     ]
    },
    {
     "name": "stderr",
     "output_type": "stream",
     "text": [
      "/usr/local/lib/python3.6/dist-packages/pybedtools/bedtool.py:3292: FutureWarning: read_table is deprecated, use read_csv instead, passing sep='\\t'.\n",
      "  return pandas.read_table(self.fn, names=_names, header=None, *args, **kwargs)\n"
     ]
    },
    {
     "name": "stdout",
     "output_type": "stream",
     "text": [
      "CL:0000103/ENCFF122QYC.bed\n"
     ]
    },
    {
     "name": "stderr",
     "output_type": "stream",
     "text": [
      "/usr/local/lib/python3.6/dist-packages/pybedtools/bedtool.py:3292: FutureWarning: read_table is deprecated, use read_csv instead, passing sep='\\t'.\n",
      "  return pandas.read_table(self.fn, names=_names, header=None, *args, **kwargs)\n"
     ]
    },
    {
     "name": "stdout",
     "output_type": "stream",
     "text": [
      "CL:0002518/ENCFF575FWP.bed\n"
     ]
    },
    {
     "name": "stderr",
     "output_type": "stream",
     "text": [
      "/usr/local/lib/python3.6/dist-packages/pybedtools/bedtool.py:3292: FutureWarning: read_table is deprecated, use read_csv instead, passing sep='\\t'.\n",
      "  return pandas.read_table(self.fn, names=_names, header=None, *args, **kwargs)\n"
     ]
    },
    {
     "name": "stdout",
     "output_type": "stream",
     "text": [
      "CL:0002553/ENCFF535LEC.bed\n"
     ]
    },
    {
     "name": "stderr",
     "output_type": "stream",
     "text": [
      "/usr/local/lib/python3.6/dist-packages/pybedtools/bedtool.py:3292: FutureWarning: read_table is deprecated, use read_csv instead, passing sep='\\t'.\n",
      "  return pandas.read_table(self.fn, names=_names, header=None, *args, **kwargs)\n"
     ]
    },
    {
     "name": "stdout",
     "output_type": "stream",
     "text": [
      "CL:1001606/ENCFF020YIZ.bed\n"
     ]
    },
    {
     "name": "stderr",
     "output_type": "stream",
     "text": [
      "/usr/local/lib/python3.6/dist-packages/pybedtools/bedtool.py:3292: FutureWarning: read_table is deprecated, use read_csv instead, passing sep='\\t'.\n",
      "  return pandas.read_table(self.fn, names=_names, header=None, *args, **kwargs)\n"
     ]
    },
    {
     "name": "stdout",
     "output_type": "stream",
     "text": [
      "CL:0000842/ENCFF193OFZ.bed\n"
     ]
    },
    {
     "name": "stderr",
     "output_type": "stream",
     "text": [
      "/usr/local/lib/python3.6/dist-packages/pybedtools/bedtool.py:3292: FutureWarning: read_table is deprecated, use read_csv instead, passing sep='\\t'.\n",
      "  return pandas.read_table(self.fn, names=_names, header=None, *args, **kwargs)\n"
     ]
    },
    {
     "name": "stdout",
     "output_type": "stream",
     "text": [
      "CL:0000127/ENCFF442ZRV.bed\n"
     ]
    },
    {
     "name": "stderr",
     "output_type": "stream",
     "text": [
      "/usr/local/lib/python3.6/dist-packages/pybedtools/bedtool.py:3292: FutureWarning: read_table is deprecated, use read_csv instead, passing sep='\\t'.\n",
      "  return pandas.read_table(self.fn, names=_names, header=None, *args, **kwargs)\n"
     ]
    },
    {
     "name": "stdout",
     "output_type": "stream",
     "text": [
      "CL:0000182/ENCFF208KVX.bed\n"
     ]
    },
    {
     "name": "stderr",
     "output_type": "stream",
     "text": [
      "/usr/local/lib/python3.6/dist-packages/pybedtools/bedtool.py:3292: FutureWarning: read_table is deprecated, use read_csv instead, passing sep='\\t'.\n",
      "  return pandas.read_table(self.fn, names=_names, header=None, *args, **kwargs)\n"
     ]
    },
    {
     "name": "stdout",
     "output_type": "stream",
     "text": [
      "CL:0002327/ENCFF015OVW.bed\n"
     ]
    },
    {
     "name": "stderr",
     "output_type": "stream",
     "text": [
      "/usr/local/lib/python3.6/dist-packages/pybedtools/bedtool.py:3292: FutureWarning: read_table is deprecated, use read_csv instead, passing sep='\\t'.\n",
      "  return pandas.read_table(self.fn, names=_names, header=None, *args, **kwargs)\n"
     ]
    },
    {
     "name": "stdout",
     "output_type": "stream",
     "text": [
      "CL:0002328/ENCFF425HDW.bed\n"
     ]
    },
    {
     "name": "stderr",
     "output_type": "stream",
     "text": [
      "/usr/local/lib/python3.6/dist-packages/pybedtools/bedtool.py:3292: FutureWarning: read_table is deprecated, use read_csv instead, passing sep='\\t'.\n",
      "  return pandas.read_table(self.fn, names=_names, header=None, *args, **kwargs)\n"
     ]
    },
    {
     "name": "stdout",
     "output_type": "stream",
     "text": [
      "EFO:0001196/ENCFF825OWT.bed\n"
     ]
    },
    {
     "name": "stderr",
     "output_type": "stream",
     "text": [
      "/usr/local/lib/python3.6/dist-packages/pybedtools/bedtool.py:3292: FutureWarning: read_table is deprecated, use read_csv instead, passing sep='\\t'.\n",
      "  return pandas.read_table(self.fn, names=_names, header=None, *args, **kwargs)\n"
     ]
    },
    {
     "name": "stdout",
     "output_type": "stream",
     "text": [
      "CL:0000192/ENCFF327WQJ.bed\n"
     ]
    },
    {
     "name": "stderr",
     "output_type": "stream",
     "text": [
      "/usr/local/lib/python3.6/dist-packages/pybedtools/bedtool.py:3292: FutureWarning: read_table is deprecated, use read_csv instead, passing sep='\\t'.\n",
      "  return pandas.read_table(self.fn, names=_names, header=None, *args, **kwargs)\n"
     ]
    },
    {
     "name": "stdout",
     "output_type": "stream",
     "text": [
      "EFO:0002067/ENCFF190OWE.bed\n"
     ]
    },
    {
     "name": "stderr",
     "output_type": "stream",
     "text": [
      "/usr/local/lib/python3.6/dist-packages/pybedtools/bedtool.py:3292: FutureWarning: read_table is deprecated, use read_csv instead, passing sep='\\t'.\n",
      "  return pandas.read_table(self.fn, names=_names, header=None, *args, **kwargs)\n"
     ]
    },
    {
     "name": "stdout",
     "output_type": "stream",
     "text": [
      "EFO:0002074/ENCFF127CPB.bed\n"
     ]
    },
    {
     "name": "stderr",
     "output_type": "stream",
     "text": [
      "/usr/local/lib/python3.6/dist-packages/pybedtools/bedtool.py:3292: FutureWarning: read_table is deprecated, use read_csv instead, passing sep='\\t'.\n",
      "  return pandas.read_table(self.fn, names=_names, header=None, *args, **kwargs)\n"
     ]
    },
    {
     "name": "stdout",
     "output_type": "stream",
     "text": [
      "EFO:0005719/ENCFF813CKH.bed\n"
     ]
    },
    {
     "name": "stderr",
     "output_type": "stream",
     "text": [
      "/usr/local/lib/python3.6/dist-packages/pybedtools/bedtool.py:3292: FutureWarning: read_table is deprecated, use read_csv instead, passing sep='\\t'.\n",
      "  return pandas.read_table(self.fn, names=_names, header=None, *args, **kwargs)\n"
     ]
    },
    {
     "name": "stdout",
     "output_type": "stream",
     "text": [
      "EFO:0001187/ENCFF030HAG.bed\n"
     ]
    },
    {
     "name": "stderr",
     "output_type": "stream",
     "text": [
      "/usr/local/lib/python3.6/dist-packages/pybedtools/bedtool.py:3292: FutureWarning: read_table is deprecated, use read_csv instead, passing sep='\\t'.\n",
      "  return pandas.read_table(self.fn, names=_names, header=None, *args, **kwargs)\n"
     ]
    },
    {
     "name": "stdout",
     "output_type": "stream",
     "text": [
      "EFO:0002784/ENCFF175YYN.bed\n"
     ]
    },
    {
     "name": "stderr",
     "output_type": "stream",
     "text": [
      "/usr/local/lib/python3.6/dist-packages/pybedtools/bedtool.py:3292: FutureWarning: read_table is deprecated, use read_csv instead, passing sep='\\t'.\n",
      "  return pandas.read_table(self.fn, names=_names, header=None, *args, **kwargs)\n"
     ]
    },
    {
     "name": "stdout",
     "output_type": "stream",
     "text": [
      "UBERON:0000473/ENCFF533REZ.bed\n"
     ]
    },
    {
     "name": "stderr",
     "output_type": "stream",
     "text": [
      "/usr/local/lib/python3.6/dist-packages/pybedtools/bedtool.py:3292: FutureWarning: read_table is deprecated, use read_csv instead, passing sep='\\t'.\n",
      "  return pandas.read_table(self.fn, names=_names, header=None, *args, **kwargs)\n"
     ]
    },
    {
     "name": "stdout",
     "output_type": "stream",
     "text": [
      "EFO:0003042/ENCFF083QQZ.bed\n"
     ]
    },
    {
     "name": "stderr",
     "output_type": "stream",
     "text": [
      "/usr/local/lib/python3.6/dist-packages/pybedtools/bedtool.py:3292: FutureWarning: read_table is deprecated, use read_csv instead, passing sep='\\t'.\n",
      "  return pandas.read_table(self.fn, names=_names, header=None, *args, **kwargs)\n"
     ]
    },
    {
     "name": "stdout",
     "output_type": "stream",
     "text": [
      "UBERON:0001150/ENCFF048HZR.bed\n"
     ]
    },
    {
     "name": "stderr",
     "output_type": "stream",
     "text": [
      "/usr/local/lib/python3.6/dist-packages/pybedtools/bedtool.py:3292: FutureWarning: read_table is deprecated, use read_csv instead, passing sep='\\t'.\n",
      "  return pandas.read_table(self.fn, names=_names, header=None, *args, **kwargs)\n"
     ]
    },
    {
     "name": "stdout",
     "output_type": "stream",
     "text": [
      "EFO:0005723/ENCFF122SGX.bed\n"
     ]
    },
    {
     "name": "stderr",
     "output_type": "stream",
     "text": [
      "/usr/local/lib/python3.6/dist-packages/pybedtools/bedtool.py:3292: FutureWarning: read_table is deprecated, use read_csv instead, passing sep='\\t'.\n",
      "  return pandas.read_table(self.fn, names=_names, header=None, *args, **kwargs)\n"
     ]
    },
    {
     "name": "stdout",
     "output_type": "stream",
     "text": [
      "UBERON:0001157/ENCFF066QNC.bed\n"
     ]
    },
    {
     "name": "stderr",
     "output_type": "stream",
     "text": [
      "/usr/local/lib/python3.6/dist-packages/pybedtools/bedtool.py:3292: FutureWarning: read_table is deprecated, use read_csv instead, passing sep='\\t'.\n",
      "  return pandas.read_table(self.fn, names=_names, header=None, *args, **kwargs)\n"
     ]
    },
    {
     "name": "stdout",
     "output_type": "stream",
     "text": [
      "EFO:0005904/ENCFF250WQM.bed\n"
     ]
    },
    {
     "name": "stderr",
     "output_type": "stream",
     "text": [
      "/usr/local/lib/python3.6/dist-packages/pybedtools/bedtool.py:3292: FutureWarning: read_table is deprecated, use read_csv instead, passing sep='\\t'.\n",
      "  return pandas.read_table(self.fn, names=_names, header=None, *args, **kwargs)\n"
     ]
    },
    {
     "name": "stdout",
     "output_type": "stream",
     "text": [
      "EFO:0007950/ENCFF371CJE.bed\n"
     ]
    },
    {
     "name": "stderr",
     "output_type": "stream",
     "text": [
      "/usr/local/lib/python3.6/dist-packages/pybedtools/bedtool.py:3292: FutureWarning: read_table is deprecated, use read_csv instead, passing sep='\\t'.\n",
      "  return pandas.read_table(self.fn, names=_names, header=None, *args, **kwargs)\n"
     ]
    },
    {
     "name": "stdout",
     "output_type": "stream",
     "text": [
      "UBERON:0000945/ENCFF189FFP.bed\n"
     ]
    },
    {
     "name": "stderr",
     "output_type": "stream",
     "text": [
      "/usr/local/lib/python3.6/dist-packages/pybedtools/bedtool.py:3292: FutureWarning: read_table is deprecated, use read_csv instead, passing sep='\\t'.\n",
      "  return pandas.read_table(self.fn, names=_names, header=None, *args, **kwargs)\n"
     ]
    },
    {
     "name": "stdout",
     "output_type": "stream",
     "text": [
      "NTR:0000711/ENCFF219YIY.bed\n"
     ]
    },
    {
     "name": "stderr",
     "output_type": "stream",
     "text": [
      "/usr/local/lib/python3.6/dist-packages/pybedtools/bedtool.py:3292: FutureWarning: read_table is deprecated, use read_csv instead, passing sep='\\t'.\n",
      "  return pandas.read_table(self.fn, names=_names, header=None, *args, **kwargs)\n"
     ]
    },
    {
     "name": "stdout",
     "output_type": "stream",
     "text": [
      "UBERON:0001159/ENCFF124DET.bed\n"
     ]
    },
    {
     "name": "stderr",
     "output_type": "stream",
     "text": [
      "/usr/local/lib/python3.6/dist-packages/pybedtools/bedtool.py:3292: FutureWarning: read_table is deprecated, use read_csv instead, passing sep='\\t'.\n",
      "  return pandas.read_table(self.fn, names=_names, header=None, *args, **kwargs)\n"
     ]
    },
    {
     "name": "stdout",
     "output_type": "stream",
     "text": [
      "UBERON:0001211/ENCFF337ODD.bed\n"
     ]
    },
    {
     "name": "stderr",
     "output_type": "stream",
     "text": [
      "/usr/local/lib/python3.6/dist-packages/pybedtools/bedtool.py:3292: FutureWarning: read_table is deprecated, use read_csv instead, passing sep='\\t'.\n",
      "  return pandas.read_table(self.fn, names=_names, header=None, *args, **kwargs)\n"
     ]
    },
    {
     "name": "stdout",
     "output_type": "stream",
     "text": [
      "UBERON:0000948/ENCFF237BOS.bed\n"
     ]
    },
    {
     "name": "stderr",
     "output_type": "stream",
     "text": [
      "/usr/local/lib/python3.6/dist-packages/pybedtools/bedtool.py:3292: FutureWarning: read_table is deprecated, use read_csv instead, passing sep='\\t'.\n",
      "  return pandas.read_table(self.fn, names=_names, header=None, *args, **kwargs)\n"
     ]
    },
    {
     "name": "stdout",
     "output_type": "stream",
     "text": [
      "UBERON:0000992/ENCFF186TYR.bed\n"
     ]
    },
    {
     "name": "stderr",
     "output_type": "stream",
     "text": [
      "/usr/local/lib/python3.6/dist-packages/pybedtools/bedtool.py:3292: FutureWarning: read_table is deprecated, use read_csv instead, passing sep='\\t'.\n",
      "  return pandas.read_table(self.fn, names=_names, header=None, *args, **kwargs)\n"
     ]
    },
    {
     "name": "stdout",
     "output_type": "stream",
     "text": [
      "UBERON:0001496/ENCFF411QLO.bed\n"
     ]
    },
    {
     "name": "stderr",
     "output_type": "stream",
     "text": [
      "/usr/local/lib/python3.6/dist-packages/pybedtools/bedtool.py:3292: FutureWarning: read_table is deprecated, use read_csv instead, passing sep='\\t'.\n",
      "  return pandas.read_table(self.fn, names=_names, header=None, *args, **kwargs)\n"
     ]
    },
    {
     "name": "stdout",
     "output_type": "stream",
     "text": [
      "UBERON:0001323/ENCFF201JXX.bed\n"
     ]
    },
    {
     "name": "stderr",
     "output_type": "stream",
     "text": [
      "/usr/local/lib/python3.6/dist-packages/pybedtools/bedtool.py:3292: FutureWarning: read_table is deprecated, use read_csv instead, passing sep='\\t'.\n",
      "  return pandas.read_table(self.fn, names=_names, header=None, *args, **kwargs)\n"
     ]
    },
    {
     "name": "stdout",
     "output_type": "stream",
     "text": [
      "UBERON:0000995/ENCFF538OSP.bed\n"
     ]
    },
    {
     "name": "stderr",
     "output_type": "stream",
     "text": [
      "/usr/local/lib/python3.6/dist-packages/pybedtools/bedtool.py:3292: FutureWarning: read_table is deprecated, use read_csv instead, passing sep='\\t'.\n",
      "  return pandas.read_table(self.fn, names=_names, header=None, *args, **kwargs)\n"
     ]
    },
    {
     "name": "stdout",
     "output_type": "stream",
     "text": [
      "UBERON:0001515/ENCFF156BTT.bed\n"
     ]
    },
    {
     "name": "stderr",
     "output_type": "stream",
     "text": [
      "/usr/local/lib/python3.6/dist-packages/pybedtools/bedtool.py:3292: FutureWarning: read_table is deprecated, use read_csv instead, passing sep='\\t'.\n",
      "  return pandas.read_table(self.fn, names=_names, header=None, *args, **kwargs)\n"
     ]
    },
    {
     "name": "stdout",
     "output_type": "stream",
     "text": [
      "UBERON:0002106/ENCFF202EUA.bed\n"
     ]
    },
    {
     "name": "stderr",
     "output_type": "stream",
     "text": [
      "/usr/local/lib/python3.6/dist-packages/pybedtools/bedtool.py:3292: FutureWarning: read_table is deprecated, use read_csv instead, passing sep='\\t'.\n",
      "  return pandas.read_table(self.fn, names=_names, header=None, *args, **kwargs)\n"
     ]
    },
    {
     "name": "stdout",
     "output_type": "stream",
     "text": [
      "UBERON:0002046/ENCFF201WBT.bed\n"
     ]
    },
    {
     "name": "stderr",
     "output_type": "stream",
     "text": [
      "/usr/local/lib/python3.6/dist-packages/pybedtools/bedtool.py:3292: FutureWarning: read_table is deprecated, use read_csv instead, passing sep='\\t'.\n",
      "  return pandas.read_table(self.fn, names=_names, header=None, *args, **kwargs)\n"
     ]
    },
    {
     "name": "stdout",
     "output_type": "stream",
     "text": [
      "UBERON:0002048/ENCFF048FDD.bed\n"
     ]
    },
    {
     "name": "stderr",
     "output_type": "stream",
     "text": [
      "/usr/local/lib/python3.6/dist-packages/pybedtools/bedtool.py:3292: FutureWarning: read_table is deprecated, use read_csv instead, passing sep='\\t'.\n",
      "  return pandas.read_table(self.fn, names=_names, header=None, *args, **kwargs)\n"
     ]
    },
    {
     "name": "stdout",
     "output_type": "stream",
     "text": [
      "UBERON:0002107/ENCFF457HGI.bed\n"
     ]
    },
    {
     "name": "stderr",
     "output_type": "stream",
     "text": [
      "/usr/local/lib/python3.6/dist-packages/pybedtools/bedtool.py:3292: FutureWarning: read_table is deprecated, use read_csv instead, passing sep='\\t'.\n",
      "  return pandas.read_table(self.fn, names=_names, header=None, *args, **kwargs)\n"
     ]
    },
    {
     "name": "stdout",
     "output_type": "stream",
     "text": [
      "UBERON:0006631/ENCFF123VMN.bed\n"
     ]
    },
    {
     "name": "stderr",
     "output_type": "stream",
     "text": [
      "/usr/local/lib/python3.6/dist-packages/pybedtools/bedtool.py:3292: FutureWarning: read_table is deprecated, use read_csv instead, passing sep='\\t'.\n",
      "  return pandas.read_table(self.fn, names=_names, header=None, *args, **kwargs)\n"
     ]
    },
    {
     "name": "stdout",
     "output_type": "stream",
     "text": [
      "UBERON:0002084/ENCFF228ZGV.bed\n"
     ]
    },
    {
     "name": "stderr",
     "output_type": "stream",
     "text": [
      "/usr/local/lib/python3.6/dist-packages/pybedtools/bedtool.py:3292: FutureWarning: read_table is deprecated, use read_csv instead, passing sep='\\t'.\n",
      "  return pandas.read_table(self.fn, names=_names, header=None, *args, **kwargs)\n"
     ]
    },
    {
     "name": "stdout",
     "output_type": "stream",
     "text": [
      "UBERON:0002240/ENCFF129QUW.bed\n"
     ]
    },
    {
     "name": "stderr",
     "output_type": "stream",
     "text": [
      "/usr/local/lib/python3.6/dist-packages/pybedtools/bedtool.py:3292: FutureWarning: read_table is deprecated, use read_csv instead, passing sep='\\t'.\n",
      "  return pandas.read_table(self.fn, names=_names, header=None, *args, **kwargs)\n",
      "/usr/local/lib/python3.6/dist-packages/pybedtools/bedtool.py:3292: FutureWarning: read_table is deprecated, use read_csv instead, passing sep='\\t'.\n",
      "  return pandas.read_table(self.fn, names=_names, header=None, *args, **kwargs)\n"
     ]
    },
    {
     "name": "stdout",
     "output_type": "stream",
     "text": [
      "UBERON:0002369/ENCFF546HYL.bed\n"
     ]
    },
    {
     "name": "stderr",
     "output_type": "stream",
     "text": [
      "/usr/local/lib/python3.6/dist-packages/pybedtools/bedtool.py:3292: FutureWarning: read_table is deprecated, use read_csv instead, passing sep='\\t'.\n",
      "  return pandas.read_table(self.fn, names=_names, header=None, *args, **kwargs)\n"
     ]
    },
    {
     "name": "stdout",
     "output_type": "stream",
     "text": [
      "UBERON:0004648/ENCFF131KLD.bed\n"
     ]
    },
    {
     "name": "stderr",
     "output_type": "stream",
     "text": [
      "/usr/local/lib/python3.6/dist-packages/pybedtools/bedtool.py:3292: FutureWarning: read_table is deprecated, use read_csv instead, passing sep='\\t'.\n",
      "  return pandas.read_table(self.fn, names=_names, header=None, *args, **kwargs)\n"
     ]
    },
    {
     "name": "stdout",
     "output_type": "stream",
     "text": [
      "UBERON:0006920/ENCFF245SNK.bed\n"
     ]
    },
    {
     "name": "stderr",
     "output_type": "stream",
     "text": [
      "/usr/local/lib/python3.6/dist-packages/pybedtools/bedtool.py:3292: FutureWarning: read_table is deprecated, use read_csv instead, passing sep='\\t'.\n",
      "  return pandas.read_table(self.fn, names=_names, header=None, *args, **kwargs)\n",
      "/usr/local/lib/python3.6/dist-packages/pybedtools/bedtool.py:3292: FutureWarning: read_table is deprecated, use read_csv instead, passing sep='\\t'.\n",
      "  return pandas.read_table(self.fn, names=_names, header=None, *args, **kwargs)\n"
     ]
    },
    {
     "name": "stdout",
     "output_type": "stream",
     "text": [
      "UBERON:0008367/ENCFF114URN.bed\n"
     ]
    },
    {
     "name": "stderr",
     "output_type": "stream",
     "text": [
      "/usr/local/lib/python3.6/dist-packages/pybedtools/bedtool.py:3292: FutureWarning: read_table is deprecated, use read_csv instead, passing sep='\\t'.\n",
      "  return pandas.read_table(self.fn, names=_names, header=None, *args, **kwargs)\n"
     ]
    },
    {
     "name": "stdout",
     "output_type": "stream",
     "text": [
      "UBERON:0008952/ENCFF316LIQ.bed\n"
     ]
    },
    {
     "name": "stderr",
     "output_type": "stream",
     "text": [
      "/usr/local/lib/python3.6/dist-packages/pybedtools/bedtool.py:3292: FutureWarning: read_table is deprecated, use read_csv instead, passing sep='\\t'.\n",
      "  return pandas.read_table(self.fn, names=_names, header=None, *args, **kwargs)\n"
     ]
    },
    {
     "name": "stdout",
     "output_type": "stream",
     "text": [
      "UBERON:0011907/ENCFF144WWG.bed\n"
     ]
    },
    {
     "name": "stderr",
     "output_type": "stream",
     "text": [
      "/usr/local/lib/python3.6/dist-packages/pybedtools/bedtool.py:3292: FutureWarning: read_table is deprecated, use read_csv instead, passing sep='\\t'.\n",
      "  return pandas.read_table(self.fn, names=_names, header=None, *args, **kwargs)\n"
     ]
    }
   ],
   "source": [
    "peaks = BedTool(\"../all_marks/\" + \"H3K27me3\" + \"/merged_broad_2_peaks_first_in_biosample.bed\")\n",
    "df = makeSignalMatrix((\"H3K27me3\", \"\"), \"broad_2_peaks_signal_matrix.csv\")"
   ]
  },
  {
   "cell_type": "code",
   "execution_count": 10,
   "metadata": {},
   "outputs": [
    {
     "name": "stdout",
     "output_type": "stream",
     "text": [
      "CL:0000515/ENCFF190SSF.bed\n",
      "CL:0002518/ENCFF130UJA.bed\n",
      "CL:0000062/ENCFF141KCU.bed\n",
      "CL:0002551/ENCFF008XJN.bed\n",
      "CL:0002553/ENCFF606TSX.bed\n",
      "CL:0000746/ENCFF063WTW.bed\n",
      "EFO:0001187/ENCFF130PYS.bed\n",
      "CL:0000103/ENCFF258MNP.bed\n",
      "CL:0002327/ENCFF083BCW.bed\n",
      "EFO:0001196/ENCFF433YUN.bed\n",
      "CL:0002328/ENCFF743JIC.bed\n",
      "EFO:0002067/ENCFF639PLN.bed\n",
      "EFO:0002074/ENCFF524FTE.bed\n",
      "CL:0002372/ENCFF474VYS.bed\n",
      "EFO:0005723/ENCFF558RXY.bed\n",
      "CL:0000127/ENCFF264MJR.bed\n",
      "CL:0000182/ENCFF657BPE.bed\n",
      "EFO:0005904/ENCFF030NEU.bed\n",
      "EFO:0002784/ENCFF460TXJ.bed\n",
      "CL:0000192/ENCFF343TOI.bed\n",
      "EFO:0003042/ENCFF044YAN.bed\n",
      "EFO:0006711/ENCFF253MNA.bed\n",
      "EFO:0005719/ENCFF025UVM.bed\n",
      "EFO:0007950/ENCFF402PGG.bed\n",
      "UBERON:0000945/ENCFF516FFC.bed\n",
      "UBERON:0001114/ENCFF610QGM.bed\n",
      "NTR:0000711/ENCFF059ZLL.bed\n",
      "UBERON:0001150/ENCFF336SKY.bed\n",
      "UBERON:0001157/ENCFF080KPM.bed\n",
      "UBERON:0000948/ENCFF045PUG.bed\n",
      "UBERON:0001255/ENCFF436LXN.bed\n",
      "UBERON:0000992/ENCFF827HSO.bed\n",
      "UBERON:0001323/ENCFF340BKI.bed\n",
      "UBERON:0001159/ENCFF296GNA.bed\n",
      "UBERON:0001211/ENCFF439TOT.bed\n",
      "UBERON:0000995/ENCFF490IHM.bed\n",
      "UBERON:0001496/ENCFF415TVC.bed\n",
      "UBERON:0001515/ENCFF591XOF.bed\n",
      "UBERON:0002048/ENCFF572IUI.bed\n",
      "UBERON:0002084/ENCFF004EXM.bed\n",
      "UBERON:0002106/ENCFF011YZH.bed\n",
      "UBERON:0002046/ENCFF527VVQ.bed\n",
      "UBERON:0002107/ENCFF355LKV.bed\n",
      "UBERON:0002240/ENCFF207LVA.bed\n",
      "UBERON:0000996/ENCFF158QZY.bed\n",
      "UBERON:0002369/ENCFF029FOS.bed\n",
      "UBERON:0008367/ENCFF660ICV.bed\n",
      "UBERON:0004550/ENCFF843MXE.bed\n",
      "UBERON:0008952/ENCFF186EXB.bed\n",
      "UBERON:0004648/ENCFF361NPE.bed\n",
      "UBERON:0011907/ENCFF142KZT.bed\n",
      "UBERON:0006631/ENCFF282REJ.bed\n",
      "UBERON:0006920/ENCFF050BAX.bed\n"
     ]
    }
   ],
   "source": [
    "for target in targets:\n",
    "    print(\"Make Coverage in Peaks for \" + target[0] + \"...\")\n",
    "    peaks = BedTool(\"../all_marks/\" + target[0] + \"/merged_peaks_first_in_biosample.bed\")\n",
    "    df = makeSignalMatrix(target, \"peaks.bed\", \"peaks_signal_matrix.csv\")"
   ]
  },
  {
   "cell_type": "code",
   "execution_count": 35,
   "metadata": {},
   "outputs": [],
   "source": [
    "exp_count = pd.read_csv(\"../all_marks/\" + \"H3K27me3\" + \"/narrow_peaks_signal_matrix.csv\", sep=\"\\t\", index_col=0).shape[1]\n",
    "ctl = int(exp_count/2)\n",
    "exp = exp_count - ctl"
   ]
  },
  {
   "cell_type": "code",
   "execution_count": 53,
   "metadata": {},
   "outputs": [],
   "source": [
    "df = pd.read_csv(\"../all_marks/\" + \"H3K27me3\" + \"/broad_2_peaks_signal_matrix_norm.csv\", sep=\"\\t\", index_col=0)"
   ]
  },
  {
   "cell_type": "code",
   "execution_count": null,
   "metadata": {},
   "outputs": [],
   "source": []
  }
 ],
 "metadata": {
  "kernelspec": {
   "display_name": "Python 3",
   "language": "python",
   "name": "python3"
  },
  "language_info": {
   "codemirror_mode": {
    "name": "ipython",
    "version": 3
   },
   "file_extension": ".py",
   "mimetype": "text/x-python",
   "name": "python",
   "nbconvert_exporter": "python",
   "pygments_lexer": "ipython3",
   "version": "3.6.9"
  }
 },
 "nbformat": 4,
 "nbformat_minor": 2
}
