{
 "cells": [
  {
   "cell_type": "code",
   "execution_count": 2,
   "metadata": {},
   "outputs": [],
   "source": [
    "import subprocess\n",
    "from pybedtools import BedTool"
   ]
  },
  {
   "cell_type": "code",
   "execution_count": null,
   "metadata": {},
   "outputs": [],
   "source": []
  },
  {
   "cell_type": "code",
   "execution_count": null,
   "metadata": {},
   "outputs": [],
   "source": [
    "rna_for_region_test = [\"ENSG00000185044.10\", \"ENSG00000204055.4\", \"ENSG00000206195.6\", \"ENSG00000257176.1\"]"
   ]
  },
  {
   "cell_type": "code",
   "execution_count": 3,
   "metadata": {},
   "outputs": [],
   "source": [
    "def runTDFregionTest(rna):\n",
    "    cmd = \"rgt-TDF regiontest -rm 2 -r ../H3K27me3/tdf_lncRNA_gene_sequences/\" + rna + \"_gene_lncRNA.fa -rn \" + rna + \" -bed ../H3K27me3/peaks_for_tdf/plus_\" + rna + \"_peaks.bed -f ../H3K27me3/region_test/bg_\" + rna + \".bed -o ../H3K27me3/region_test/ -organism hg19 -l 12 -ccf 20 -n \" + str(1000)\n",
    "    print(cmd)\n",
    "    return subprocess.check_output(cmd, shell=True)"
   ]
  },
  {
   "cell_type": "code",
   "execution_count": null,
   "metadata": {},
   "outputs": [],
   "source": [
    "#bedtools subtract -a A.bed -b B.bed\n",
    "#A - B = substract\n",
    "def generateBackgroundForRegionTest(rna):\n",
    "    target = BedTool('../H3K27me3/peaks_for_tdf/plus_' + rna + '_peaks.bed')\n",
    "    hg19 = BedTool('../hg19/allChr.bed')\n",
    "    hg19.subtract(target, output='../H3K27me3/region_test/bg_' + rna + \".bed\")"
   ]
  },
  {
   "cell_type": "code",
   "execution_count": null,
   "metadata": {},
   "outputs": [],
   "source": [
    "for rna in rna_for_region_test:\n",
    "    runTDFregionTest(rna)"
   ]
  }
 ],
 "metadata": {
  "kernelspec": {
   "display_name": "Python 3",
   "language": "python",
   "name": "python3"
  },
  "language_info": {
   "codemirror_mode": {
    "name": "ipython",
    "version": 3
   },
   "file_extension": ".py",
   "mimetype": "text/x-python",
   "name": "python",
   "nbconvert_exporter": "python",
   "pygments_lexer": "ipython3",
   "version": "3.6.7"
  }
 },
 "nbformat": 4,
 "nbformat_minor": 2
}
