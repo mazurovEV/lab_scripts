{
 "cells": [
  {
   "cell_type": "code",
   "execution_count": 55,
   "metadata": {},
   "outputs": [],
   "source": [
    "import pyBigWig\n",
    "import pandas as p\n",
    "import glob\n",
    "import numpy as np\n",
    "from pybedtools import BedTool\n",
    "import os\n",
    "from functools import partial\n",
    "from multiprocessing import Pool\n",
    "import pickle\n",
    "import shutil"
   ]
  },
  {
   "cell_type": "code",
   "execution_count": 11,
   "metadata": {},
   "outputs": [],
   "source": [
    "def getChroms():\n",
    "    return {'chrY': 59373566, 'chr1': 249250621, 'chr10': 135534747, 'chr11': 135006516, 'chr12': 133851895, 'chr13': 115169878,\n",
    " 'chr14': 107349540, 'chr15': 102531392, 'chr16': 90354753, 'chr17': 81195210, 'chr18': 78077248, \n",
    " 'chr19': 59128983, 'chr2': 243199373, 'chr20': 63025520, 'chr21': 48129895, 'chr22': 51304566, \n",
    " 'chr3': 198022430, 'chr4': 191154276, 'chr5': 180915260, 'chr6': 171115067, 'chr7': 159138663,\n",
    " 'chr8': 146364022, 'chr9': 141213431,'chrX': 155270560, 'chrM': 16571}"
   ]
  },
  {
   "cell_type": "code",
   "execution_count": 7,
   "metadata": {},
   "outputs": [],
   "source": [
    "def getRNAseq(biosample):\n",
    "    return glob.glob(\"RNA-seq/\" + biosample + \"_*.tsv\")[0]"
   ]
  },
  {
   "cell_type": "code",
   "execution_count": 30,
   "metadata": {},
   "outputs": [],
   "source": [
    "def getSamplesSizes(path):\n",
    "    metaFile = p.read_csv(path, sep=';', index_col=False)\n",
    "    return metaFile['Reads count'].tolist()"
   ]
  },
  {
   "cell_type": "code",
   "execution_count": 31,
   "metadata": {},
   "outputs": [],
   "source": [
    "def getControlSamplesSizes(path):\n",
    "    metaFile = p.read_csv(path, sep=';', index_col=False)\n",
    "    return metaFile['Control reads count'].tolist()"
   ]
  },
  {
   "cell_type": "code",
   "execution_count": 21,
   "metadata": {},
   "outputs": [],
   "source": [
    "def getListOfBlackZones(chrom):\n",
    "    blackList = BedTool('../wgEncodeDacMapabilityConsensusExcludable.bed')\n",
    "    blackListChrom = blackList.filter(lambda b: b.chrom == chrom)\n",
    "    return [(i.start, i.end) for i in blackListChrom]"
   ]
  },
  {
   "cell_type": "code",
   "execution_count": 25,
   "metadata": {},
   "outputs": [],
   "source": [
    "def getBigWigFile(path):\n",
    "    return pyBigWig.open(path)"
   ]
  },
  {
   "cell_type": "code",
   "execution_count": 25,
   "metadata": {},
   "outputs": [],
   "source": [
    "def getBinsCoords(binLength, binStep, pathForSave):\n",
    "    WGBinsCoords = {}\n",
    "    for name, length in getChroms().items():\n",
    "        print(\"Count coors for  \" + name)\n",
    "        blackZones = getListOfBlackZones(name)\n",
    "        chromBinsCoords = []\n",
    "        i = 0\n",
    "        while i < length:\n",
    "            j = i + binLength\n",
    "            if(j > length):\n",
    "                j = length\n",
    "\n",
    "            #Если бин включен или пересекает blacklist, то не добавляем его\n",
    "            #Можем потерять модификации возле стоп зон? Если они и есть, то нужны ли они для нашей задачи?\n",
    "            inBlacklist = False\n",
    "            for start, end in blackZones:\n",
    "                if((j >= start) & (i <= end)):\n",
    "                    inBlacklist = True\n",
    "                    break\n",
    "\n",
    "            if not inBlacklist:\n",
    "                chromBinsCoords.append((i, j))\n",
    "                inBlacklist = False\n",
    "\n",
    "            i = i + binStep\n",
    "        WGBinsCoords[name] = chromBinsCoords\n",
    "        \n",
    "    with open(pathForSave, 'wb') as f:\n",
    "        pickle.dump(WGBinsCoords, f)"
   ]
  },
  {
   "cell_type": "code",
   "execution_count": 52,
   "metadata": {},
   "outputs": [],
   "source": [
    "def loadData(data, chrom, chrLen, binLength, binStep):\n",
    "    \n",
    "    blackZones = getListOfBlackZones(chrom)\n",
    "    f = partial(loadSample, chrom=chrom, chrLen=chrLen, binLength=binLength, binStep=binStep, blackZones=blackZones)\n",
    "    pool = Pool(processes=32)\n",
    "    chromData = pool.map(f, data)\n",
    "    \n",
    "    pool.close()\n",
    "    pool.join()\n",
    "    \n",
    "    tmp = []\n",
    "    samplesNames = []\n",
    "    for sampleName, bins in chromData:\n",
    "        samplesNames.append(sampleName)\n",
    "        tmp.append(bins)\n",
    "    \n",
    "    filename = \"./tmpChromBins/\" + chrom + \".pkl\"\n",
    "    os.makedirs(os.path.dirname(filename), exist_ok=True)\n",
    "    with open(filename, 'wb') as f:\n",
    "        pickle.dump({\"data\": np.array(tmp), \"samplesNames\": samplesNames}, f)"
   ]
  },
  {
   "cell_type": "code",
   "execution_count": null,
   "metadata": {},
   "outputs": [],
   "source": []
  },
  {
   "cell_type": "code",
   "execution_count": 45,
   "metadata": {},
   "outputs": [],
   "source": [
    "def loadSample(sample, chrom, chrLen, binLength, binStep, blackZones):\n",
    "    bins = []\n",
    "    \n",
    "    bw = getBigWigFile(sample)\n",
    "        \n",
    "    if(chrom not in bw.chroms()):#Речь про Y или M хромосому скорее всего\n",
    "        print(\"Sample \" + sample + \" not contain \" + chrom + \" chromosome\")\n",
    "    else:\n",
    "        i = 0\n",
    "        while i < chrLen:\n",
    "            j = i + binLength\n",
    "            if(j > chrLen):\n",
    "                j = chrLen\n",
    "\n",
    "            #Если бин включен или пересекает blacklist, то не добавляем его\n",
    "            #Можем потерять модификации возле стоп зон? Если они и есть, то нужны ли они для нашей задачи?\n",
    "            inBlacklist = False\n",
    "            for start, end in blackZones:\n",
    "                if((j >= start) & (i <= end)):\n",
    "                    inBlacklist = True\n",
    "                    break\n",
    "\n",
    "            if not inBlacklist:\n",
    "                stat = bw.stats(chrom, i, j, exact=True)[0]\n",
    "                bins.append(stat)\n",
    "                inBlacklist = False\n",
    "\n",
    "            i = i + binStep\n",
    "                \n",
    "    return (sample.split(os.sep)[-1], bins)"
   ]
  },
  {
   "cell_type": "code",
   "execution_count": 44,
   "metadata": {},
   "outputs": [],
   "source": [
    "def loadWholeGenome(path, binLength, binStep, pathForSave, isControlData):\n",
    "    WGBins = {}\n",
    "    metaFile = p.read_csv(path, sep=';', index_col=False)\n",
    "    paths = ['../H3K27me3/control/' + i + '.bw' for i in sorted(metaFile['Control accession'])] if isControlData else ['../H3K27me3/bw/' + i + '.bw' for i in sorted(metaFile['File accession'])]\n",
    "                        \n",
    "    for name, length in getChroms().items():\n",
    "        print(\"Chrom \" + name + \", length = \" + str(length))\n",
    "        loadData(paths, name, length, binLength, binStep)\n",
    "    \n",
    "    print(\"Build one file from chroms bins...\")\n",
    "    \n",
    "    for name, length in getChroms().items():\n",
    "        with open(\"./tmpChromBins/\" + name + \".pkl\", 'rb') as f:\n",
    "            data = pickle.load(f)\n",
    "        f.close()\n",
    "        print(\"Add data from \" + name)\n",
    "        WGBins[name] = data\n",
    "        data = None\n",
    "   \n",
    "    with open(pathForSave, 'wb') as f:\n",
    "        pickle.dump(WGBins, f)\n",
    "    \n",
    "    print(\"Finish!\")\n",
    "    shutil.rmtree(\"./tmpChromBins/\")"
   ]
  },
  {
   "cell_type": "code",
   "execution_count": null,
   "metadata": {},
   "outputs": [],
   "source": []
  }
 ],
 "metadata": {
  "kernelspec": {
   "display_name": "Python 3",
   "language": "python",
   "name": "python3"
  },
  "language_info": {
   "codemirror_mode": {
    "name": "ipython",
    "version": 3
   },
   "file_extension": ".py",
   "mimetype": "text/x-python",
   "name": "python",
   "nbconvert_exporter": "python",
   "pygments_lexer": "ipython3",
   "version": "3.6.5"
  }
 },
 "nbformat": 4,
 "nbformat_minor": 1
}
