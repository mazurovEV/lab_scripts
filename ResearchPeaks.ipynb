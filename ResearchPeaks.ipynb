{
 "cells": [
  {
   "cell_type": "code",
   "execution_count": null,
   "metadata": {},
   "outputs": [],
   "source": [
    "#Где находятся пики относительно геномной разметки?\n",
    "#Как связаны между собой пики, имеющие отношение к одному гену?\n",
    "#Как связаны между собой корреляции пиков, имеющих отношение к одному гену? Все ли пики в одном гене коррелируют с конкретной \n",
    "#РНК? Почему у корреляции с пиками в разных генах может быть разный знак?\n",
    "#Есть ли гены без пиков?\n",
    "#Попробовать все же бинарную корреляцию?\n",
    "#Как пики соотносятся с фантомовскими промоторами?"
   ]
  },
  {
   "cell_type": "code",
   "execution_count": 38,
   "metadata": {},
   "outputs": [],
   "source": [
    "import pandas as pd\n",
    "import re\n",
    "import mygene"
   ]
  },
  {
   "cell_type": "code",
   "execution_count": 2,
   "metadata": {},
   "outputs": [],
   "source": [
    "#Фантомовские старты транскрипции\n",
    "##ColumnVariables[00Annotation]=CAGE peak id\n",
    "##ColumnVariables[short_description]=short form of the description below. \n",
    "#Common descriptions in the long descriptions has been omited\n",
    "##ColumnVariables[description]=description of the CAGE peak\n",
    "##ColumnVariables[association_with_transcript]=transcript which 5end is the nearest to the the CAGE peak\n",
    "##ColumnVariables[entrezgene_id]=entrezgene (genes) id associated with the transcript\n",
    "##ColumnVariables[hgnc_id]=hgnc (gene symbol) id associated with the transcript\n",
    "##ColumnVariables[uniprot_id]=uniprot (protein) id associated with the transcript\n",
    "fantom_promoters = pd.read_csv(\"../fantom6/hg19.cage_peak_phase1and2combined_ann.txt\", sep=\"\\t\", skiprows=7)"
   ]
  },
  {
   "cell_type": "code",
   "execution_count": 3,
   "metadata": {},
   "outputs": [
    {
     "data": {
      "text/html": [
       "<div>\n",
       "<style scoped>\n",
       "    .dataframe tbody tr th:only-of-type {\n",
       "        vertical-align: middle;\n",
       "    }\n",
       "\n",
       "    .dataframe tbody tr th {\n",
       "        vertical-align: top;\n",
       "    }\n",
       "\n",
       "    .dataframe thead th {\n",
       "        text-align: right;\n",
       "    }\n",
       "</style>\n",
       "<table border=\"1\" class=\"dataframe\">\n",
       "  <thead>\n",
       "    <tr style=\"text-align: right;\">\n",
       "      <th></th>\n",
       "      <th>00Annotation</th>\n",
       "      <th>short_description</th>\n",
       "      <th>description</th>\n",
       "      <th>association_with_transcript</th>\n",
       "      <th>entrezgene_id</th>\n",
       "      <th>hgnc_id</th>\n",
       "      <th>uniprot_id</th>\n",
       "    </tr>\n",
       "  </thead>\n",
       "  <tbody>\n",
       "    <tr>\n",
       "      <th>0</th>\n",
       "      <td>chr10:100013403..100013414,-</td>\n",
       "      <td>p@chr10:100013403..100013414,-</td>\n",
       "      <td>CAGE_peak_at_chr10:100013403..100013414,-</td>\n",
       "      <td>NaN</td>\n",
       "      <td>NaN</td>\n",
       "      <td>NaN</td>\n",
       "      <td>NaN</td>\n",
       "    </tr>\n",
       "    <tr>\n",
       "      <th>1</th>\n",
       "      <td>chr10:100027943..100027958,-</td>\n",
       "      <td>p1@LOXL4</td>\n",
       "      <td>CAGE_peak_1_at_LOXL4_5end</td>\n",
       "      <td>48bp_to_ENST00000260702,NM_032211,uc001kpa.1_5end</td>\n",
       "      <td>entrezgene:84171</td>\n",
       "      <td>HGNC:17171</td>\n",
       "      <td>uniprot:Q96JB6</td>\n",
       "    </tr>\n",
       "    <tr>\n",
       "      <th>2</th>\n",
       "      <td>chr10:100076685..100076699,+</td>\n",
       "      <td>p@chr10:100076685..100076699,+</td>\n",
       "      <td>CAGE_peak_at_chr10:100076685..100076699,+</td>\n",
       "      <td>NaN</td>\n",
       "      <td>NaN</td>\n",
       "      <td>NaN</td>\n",
       "      <td>NaN</td>\n",
       "    </tr>\n",
       "    <tr>\n",
       "      <th>3</th>\n",
       "      <td>chr10:100150910..100150935,-</td>\n",
       "      <td>p@chr10:100150910..100150935,-</td>\n",
       "      <td>CAGE_peak_at_chr10:100150910..100150935,-</td>\n",
       "      <td>NaN</td>\n",
       "      <td>NaN</td>\n",
       "      <td>NaN</td>\n",
       "      <td>NaN</td>\n",
       "    </tr>\n",
       "    <tr>\n",
       "      <th>4</th>\n",
       "      <td>chr10:100150951..100150962,-</td>\n",
       "      <td>p@chr10:100150951..100150962,-</td>\n",
       "      <td>CAGE_peak_at_chr10:100150951..100150962,-</td>\n",
       "      <td>NaN</td>\n",
       "      <td>NaN</td>\n",
       "      <td>NaN</td>\n",
       "      <td>NaN</td>\n",
       "    </tr>\n",
       "  </tbody>\n",
       "</table>\n",
       "</div>"
      ],
      "text/plain": [
       "                   00Annotation               short_description  \\\n",
       "0  chr10:100013403..100013414,-  p@chr10:100013403..100013414,-   \n",
       "1  chr10:100027943..100027958,-                        p1@LOXL4   \n",
       "2  chr10:100076685..100076699,+  p@chr10:100076685..100076699,+   \n",
       "3  chr10:100150910..100150935,-  p@chr10:100150910..100150935,-   \n",
       "4  chr10:100150951..100150962,-  p@chr10:100150951..100150962,-   \n",
       "\n",
       "                                 description  \\\n",
       "0  CAGE_peak_at_chr10:100013403..100013414,-   \n",
       "1                  CAGE_peak_1_at_LOXL4_5end   \n",
       "2  CAGE_peak_at_chr10:100076685..100076699,+   \n",
       "3  CAGE_peak_at_chr10:100150910..100150935,-   \n",
       "4  CAGE_peak_at_chr10:100150951..100150962,-   \n",
       "\n",
       "                         association_with_transcript     entrezgene_id  \\\n",
       "0                                                NaN               NaN   \n",
       "1  48bp_to_ENST00000260702,NM_032211,uc001kpa.1_5end  entrezgene:84171   \n",
       "2                                                NaN               NaN   \n",
       "3                                                NaN               NaN   \n",
       "4                                                NaN               NaN   \n",
       "\n",
       "      hgnc_id      uniprot_id  \n",
       "0         NaN             NaN  \n",
       "1  HGNC:17171  uniprot:Q96JB6  \n",
       "2         NaN             NaN  \n",
       "3         NaN             NaN  \n",
       "4         NaN             NaN  "
      ]
     },
     "execution_count": 3,
     "metadata": {},
     "output_type": "execute_result"
    }
   ],
   "source": [
    "fantom_promoters.head()"
   ]
  },
  {
   "cell_type": "code",
   "execution_count": 4,
   "metadata": {},
   "outputs": [
    {
     "data": {
      "text/plain": [
       "(201802, 7)"
      ]
     },
     "execution_count": 4,
     "metadata": {},
     "output_type": "execute_result"
    }
   ],
   "source": [
    "fantom_promoters.shape"
   ]
  },
  {
   "cell_type": "code",
   "execution_count": 11,
   "metadata": {},
   "outputs": [],
   "source": [
    "with_gene = fantom_promoters[fantom_promoters.hgnc_id.notnull()]"
   ]
  },
  {
   "cell_type": "code",
   "execution_count": 27,
   "metadata": {},
   "outputs": [],
   "source": [
    "parse_ann = with_gene['00Annotation'].str.extract('(.+):(\\d+)..(\\d+).(-|\\+)', expand=True)"
   ]
  },
  {
   "cell_type": "code",
   "execution_count": 30,
   "metadata": {},
   "outputs": [],
   "source": [
    "parse_ann = parse_ann.rename(columns={0: \"chrom\", 1: \"start\", 2: \"end\", 3:\"strand\"})"
   ]
  },
  {
   "cell_type": "code",
   "execution_count": 33,
   "metadata": {},
   "outputs": [],
   "source": [
    "with_gene = pd.concat([parse_ann, with_gene], axis=1).drop(['00Annotation'], axis=1)"
   ]
  },
  {
   "cell_type": "code",
   "execution_count": 36,
   "metadata": {},
   "outputs": [],
   "source": [
    "with_gene[['chrom', 'start', 'end', 'strand', 'hgnc_id']].to_csv(\"../fantom6/tss_with_hgnc.tsv\", sep=\"\\t\", index=None)"
   ]
  },
  {
   "cell_type": "code",
   "execution_count": null,
   "metadata": {},
   "outputs": [],
   "source": [
    "#========================================================================="
   ]
  },
  {
   "cell_type": "code",
   "execution_count": 81,
   "metadata": {},
   "outputs": [],
   "source": [
    "promts = pd.read_csv(\"../fantom6/tss_with_hgnc.tsv\", sep=\"\\t\")"
   ]
  },
  {
   "cell_type": "code",
   "execution_count": 72,
   "metadata": {},
   "outputs": [],
   "source": [
    "promts = pd.concat([promts, promts.hgnc_id.str.split(',', expand=True)], axis=1).drop(['hgnc_id'], axis=1)"
   ]
  },
  {
   "cell_type": "code",
   "execution_count": 73,
   "metadata": {},
   "outputs": [],
   "source": [
    "promts = pd.melt(promts, id_vars =['chrom','start','end','strand'], value_vars =[0,1,2,3,4,5,6,7,8,9,10,11,12,13])"
   ]
  },
  {
   "cell_type": "code",
   "execution_count": 74,
   "metadata": {},
   "outputs": [],
   "source": [
    "promts = promts[promts.value.notnull()]"
   ]
  },
  {
   "cell_type": "code",
   "execution_count": 78,
   "metadata": {},
   "outputs": [],
   "source": [
    "promts = promts[['chrom','start','end','strand','value']].rename(columns={'value': 'hgnc_id'}).to_csv(\"../fantom6/tss_with_hgnc.tsv\", sep=\"\\t\", index=None)"
   ]
  },
  {
   "cell_type": "code",
   "execution_count": 140,
   "metadata": {},
   "outputs": [
    {
     "data": {
      "text/plain": [
       "(88521, 5)"
      ]
     },
     "execution_count": 140,
     "metadata": {},
     "output_type": "execute_result"
    }
   ],
   "source": [
    "promts.shape"
   ]
  },
  {
   "cell_type": "code",
   "execution_count": null,
   "metadata": {},
   "outputs": [],
   "source": [
    "#==========================================================================="
   ]
  },
  {
   "cell_type": "code",
   "execution_count": 125,
   "metadata": {},
   "outputs": [],
   "source": [
    "hgnc_ids = promts.hgnc_id.unique()"
   ]
  },
  {
   "cell_type": "code",
   "execution_count": 126,
   "metadata": {},
   "outputs": [
    {
     "data": {
      "text/plain": [
       "array(['HGNC:17171', 'HGNC:23517', 'HGNC:5163', ..., 'HGNC:4790',\n",
       "       'HGNC:4791', 'HGNC:4793'], dtype=object)"
      ]
     },
     "execution_count": 126,
     "metadata": {},
     "output_type": "execute_result"
    }
   ],
   "source": [
    "hgnc_ids"
   ]
  },
  {
   "cell_type": "code",
   "execution_count": 134,
   "metadata": {},
   "outputs": [],
   "source": [
    "hgnc2ensembl = pd.read_csv(\"../fantom6/hgnc_to_ensembl.tsv\", sep=\"\\t\")"
   ]
  },
  {
   "cell_type": "code",
   "execution_count": 133,
   "metadata": {},
   "outputs": [],
   "source": [
    "hgnc2ensembl[~hgnc2ensembl['Ensembl gene ID'].isna()].to_csv(\"../fantom6/hgnc_to_ensembl.tsv\", sep=\"\\t\", index=None)"
   ]
  },
  {
   "cell_type": "code",
   "execution_count": 138,
   "metadata": {},
   "outputs": [],
   "source": [
    "tmp = hgnc2ensembl[hgnc2ensembl['HGNC ID'].isin(hgnc_ids)].rename(columns={'HGNC ID': 'hgnc_id', 'Ensembl gene ID': 'ensembl_id'})"
   ]
  },
  {
   "cell_type": "code",
   "execution_count": 141,
   "metadata": {},
   "outputs": [],
   "source": [
    "t = pd.merge(promts, tmp, on='hgnc_id', how='left')"
   ]
  },
  {
   "cell_type": "code",
   "execution_count": 144,
   "metadata": {},
   "outputs": [],
   "source": [
    "t[~t['ensembl_id'].isna()].to_csv(\"../fantom6/tss_with_hgnc.tsv\", sep=\"\\t\", index=None)"
   ]
  },
  {
   "cell_type": "code",
   "execution_count": null,
   "metadata": {},
   "outputs": [],
   "source": [
    "#Если пики разного знака, то они в разных промоторах"
   ]
  }
 ],
 "metadata": {
  "kernelspec": {
   "display_name": "Python 3",
   "language": "python",
   "name": "python3"
  },
  "language_info": {
   "codemirror_mode": {
    "name": "ipython",
    "version": 3
   },
   "file_extension": ".py",
   "mimetype": "text/x-python",
   "name": "python",
   "nbconvert_exporter": "python",
   "pygments_lexer": "ipython3",
   "version": "3.6.8"
  }
 },
 "nbformat": 4,
 "nbformat_minor": 2
}
