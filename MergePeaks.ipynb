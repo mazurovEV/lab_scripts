{
 "cells": [
  {
   "cell_type": "code",
   "execution_count": 14,
   "metadata": {},
   "outputs": [],
   "source": [
    "import pandas as pd\n",
    "import os\n",
    "import numpy as np\n",
    "from pybedtools import BedTool\n",
    "import seaborn as sns\n",
    "import matplotlib.pyplot as plt\n",
    "from matplotlib import rcParams\n",
    "from multiprocessing import Pool\n",
    "import warnings\n",
    "import h5py\n",
    "warnings.filterwarnings('ignore')"
   ]
  },
  {
   "cell_type": "code",
   "execution_count": 14,
   "metadata": {},
   "outputs": [],
   "source": [
    "#Для H3K27ac были взяты broad пики!\n",
    "targets = [(\"H3K4me1\", \"_narrow\"), (\"H3K4me2\", \"_narrow\"), (\"H3K4me3\", \"_narrow\"), (\"H3K79me2\", \"\"), \n",
    "           (\"H3K9ac\", \"_narrow\"), (\"H3K9me3\", \"\"), (\"H4K20me1\", \"\")]"
   ]
  },
  {
   "cell_type": "code",
   "execution_count": null,
   "metadata": {},
   "outputs": [],
   "source": []
  },
  {
   "cell_type": "code",
   "execution_count": 15,
   "metadata": {},
   "outputs": [],
   "source": [
    "def getFiles(target, file_end_filter):\n",
    "    files = []\n",
    "    for dirpath, dirnames, filenames in os.walk(\"/data/mazurovev/\" + target[0] + \"/\"):\n",
    "        for filename in sorted([f for f in filenames if not f.endswith(file_end_filter)])[:1]:\n",
    "            files.append(dirpath + \"/\" + filename.split('.')[0] + target[1] + \"_\" + file_end_filter)\n",
    "    \n",
    "    return files"
   ]
  },
  {
   "cell_type": "code",
   "execution_count": 16,
   "metadata": {},
   "outputs": [],
   "source": [
    "def mergePeaks(files, target, output_name):\n",
    "    x = BedTool(files[0])\n",
    "    x.cat(*files[1:], force_truncate=True, output=\"../all_marks/\" + target + \"/\" + output_name + \".bed\")\n",
    "    \n",
    "    mp = pd.read_csv(\"../all_marks/\" + target + \"/\" + output_name + \".bed\", sep=\"\\t\", header=None)\n",
    "    peak_names = []\n",
    "    for i in range(0, mp.shape[0]):\n",
    "        peak_names.append(\"peak_\" + str(i))\n",
    "        \n",
    "    mp[3] = peak_names\n",
    "    \n",
    "    mp.to_csv(\"../all_marks/\" + target + \"/\" + output_name + \".bed\", sep=\"\\t\", header=None, index=None)"
   ]
  },
  {
   "cell_type": "code",
   "execution_count": 17,
   "metadata": {},
   "outputs": [],
   "source": [
    "mergePeaks(getFiles((\"H3K27me3\", \"\"), \"peaks.narrowPeak\"), \"H3K27me3\", \"merged_narrow_peaks_first_in_biosample\")"
   ]
  },
  {
   "cell_type": "code",
   "execution_count": 13,
   "metadata": {},
   "outputs": [],
   "source": [
    "mergePeaks(getFiles((\"H3K27me3\", \"\"), \"narrow_peaks.bed\"), \"H3K27me3\", \"merged_narrow_2_peaks_first_in_biosample\")"
   ]
  },
  {
   "cell_type": "code",
   "execution_count": 17,
   "metadata": {},
   "outputs": [],
   "source": [
    "mergePeaks(getFiles((\"H3K27me3\", \"\"), \"peaks.broadPeak\"), \"H3K27me3\", \"merged_broad_2_peaks_first_in_biosample\")"
   ]
  },
  {
   "cell_type": "code",
   "execution_count": 16,
   "metadata": {},
   "outputs": [
    {
     "name": "stdout",
     "output_type": "stream",
     "text": [
      "merge H3K4me1 peaks...\n",
      "merge H3K4me2 peaks...\n",
      "merge H3K4me3 peaks...\n",
      "merge H3K79me2 peaks...\n",
      "merge H3K9ac peaks...\n",
      "merge H3K9me3 peaks...\n",
      "merge H4K20me1 peaks...\n"
     ]
    }
   ],
   "source": [
    "for target in targets:\n",
    "    print(\"merge \" + target[0] + \" peaks...\")\n",
    "    \n",
    "    if not os.path.exists(\"../all_marks/\" + target[0] + \"/\"):\n",
    "        os.makedirs(\"../all_marks/\" + target[0] + \"/\")\n",
    "    \n",
    "    mergePeaks(getFiles(target, \"peaks.bed\"), target, \"merged_peaks_first_in_biosample\")"
   ]
  },
  {
   "cell_type": "code",
   "execution_count": 20,
   "metadata": {},
   "outputs": [
    {
     "data": {
      "text/plain": [
       "(981241, 4)"
      ]
     },
     "execution_count": 20,
     "metadata": {},
     "output_type": "execute_result"
    }
   ],
   "source": [
    "pd.read_csv(\"../all_marks/H3K27me3/merged_narrow_peaks_first_in_biosample.bed\", sep=\"\\t\", header=None).shape"
   ]
  },
  {
   "cell_type": "code",
   "execution_count": 21,
   "metadata": {},
   "outputs": [
    {
     "data": {
      "text/plain": [
       "(267955, 4)"
      ]
     },
     "execution_count": 21,
     "metadata": {},
     "output_type": "execute_result"
    }
   ],
   "source": [
    "pd.read_csv(\"../all_marks/H3K27me3/merged_peaks_first_in_biosample.bed\", sep=\"\\t\", header=None).shape"
   ]
  },
  {
   "cell_type": "code",
   "execution_count": null,
   "metadata": {},
   "outputs": [],
   "source": []
  },
  {
   "cell_type": "code",
   "execution_count": null,
   "metadata": {},
   "outputs": [],
   "source": [
    "#========================================== графики ===================================================================="
   ]
  },
  {
   "cell_type": "code",
   "execution_count": 19,
   "metadata": {},
   "outputs": [],
   "source": [
    "sns.set(color_codes=True)\n",
    "rcParams['figure.figsize'] = 11.7,8.27\n",
    "rcParams[\"patch.force_edgecolor\"] = True"
   ]
  },
  {
   "cell_type": "code",
   "execution_count": 346,
   "metadata": {},
   "outputs": [],
   "source": [
    "files = [\"../H3K27me3/peaks/\" + f for f in os.listdir(\"../H3K27me3/peaks\") if f.startswith(\"ENC\")]"
   ]
  },
  {
   "cell_type": "code",
   "execution_count": 5,
   "metadata": {},
   "outputs": [
    {
     "data": {
      "text/plain": [
       "77"
      ]
     },
     "execution_count": 5,
     "metadata": {},
     "output_type": "execute_result"
    }
   ],
   "source": [
    "len(files)"
   ]
  },
  {
   "cell_type": "code",
   "execution_count": 325,
   "metadata": {},
   "outputs": [],
   "source": [
    "d = pd.read_csv(\"../H3K27me3/H3K27me3_filtered_by_biosample.csv\", sep=';', index_col=False)"
   ]
  },
  {
   "cell_type": "code",
   "execution_count": 347,
   "metadata": {},
   "outputs": [],
   "source": [
    "peaks = []\n",
    "for index, row in d.iterrows():\n",
    "    peaks.append((row['File accession'], row['norm_factor'], pd.read_csv(\"../H3K27me3/peaks/\" + row['File accession'] + \"_peaks.bed\", sep=\"\\t\", header=None).shape[0]))"
   ]
  },
  {
   "cell_type": "code",
   "execution_count": 330,
   "metadata": {},
   "outputs": [
    {
     "data": {
      "text/html": [
       "<div>\n",
       "<style scoped>\n",
       "    .dataframe tbody tr th:only-of-type {\n",
       "        vertical-align: middle;\n",
       "    }\n",
       "\n",
       "    .dataframe tbody tr th {\n",
       "        vertical-align: top;\n",
       "    }\n",
       "\n",
       "    .dataframe thead th {\n",
       "        text-align: right;\n",
       "    }\n",
       "</style>\n",
       "<table border=\"1\" class=\"dataframe\">\n",
       "  <thead>\n",
       "    <tr style=\"text-align: right;\">\n",
       "      <th></th>\n",
       "      <th>0</th>\n",
       "    </tr>\n",
       "  </thead>\n",
       "  <tbody>\n",
       "    <tr>\n",
       "      <th>0</th>\n",
       "      <td>track name=\"peak\" description=\"peak\" type=gapp...</td>\n",
       "    </tr>\n",
       "  </tbody>\n",
       "</table>\n",
       "</div>"
      ],
      "text/plain": [
       "                                                   0\n",
       "0  track name=\"peak\" description=\"peak\" type=gapp..."
      ]
     },
     "execution_count": 330,
     "metadata": {},
     "output_type": "execute_result"
    }
   ],
   "source": [
    "#!!6 - нет пиков, у 9 меньше 1000 пиков - возможно влияет на корреляцию\n",
    "pd.read_csv(\"../H3K27me3/peaks/ENCFF488SNL_peaks.bed\", sep=\"\\t\", header=None)"
   ]
  },
  {
   "cell_type": "code",
   "execution_count": 348,
   "metadata": {
    "scrolled": true
   },
   "outputs": [
    {
     "data": {
      "image/png": "[encoded data removed]",
      "text/plain": [
       "<Figure size 842.4x595.44 with 1 Axes>"
      ]
     },
     "metadata": {},
     "output_type": "display_data"
    }
   ],
   "source": [
    "ax = sns.distplot([p[2] for p in peaks], bins=8, kde=False)\n",
    "ax.set_xticks(range(0, 320000, 40000))\n",
    "ax.set_yticks(range(0, 40, 2))\n",
    "#ax.set_xticklabels([\"{:.1e}\".format(x) for x in ax.get_xticks()])\n",
    "ax.set(xlabel='peaks count')\n",
    "plt.show()"
   ]
  },
  {
   "cell_type": "code",
   "execution_count": 349,
   "metadata": {},
   "outputs": [],
   "source": [
    "fig = ax.get_figure()\n",
    "fig.patch.set_alpha(0)\n",
    "fig.savefig(\"../H3K27me3/plots/MergePeaks_peaks_count_in_experiments_hist.png\", bbox_inches='tight', pad_inches = 0)"
   ]
  },
  {
   "cell_type": "code",
   "execution_count": null,
   "metadata": {},
   "outputs": [],
   "source": [
    "#Гистограмма длин пиков +\n",
    "#Гены с пиками/без пиков - barplot, так же пики в генах/пики не в генах +\n",
    "#Кол-во генов на пик, количество пиков на ген - barplot +\n",
    "#Где находятся пики относительно генов(перед, внутри, после) - barplot +\n",
    "#сколько генов с пиками с одинаковым знаком корреляции/с разными знаками - barplot"
   ]
  },
  {
   "cell_type": "code",
   "execution_count": 350,
   "metadata": {},
   "outputs": [],
   "source": [
    "peaks = pd.read_csv(\"../H3K27me3/peaks/merged_peaks.bed\", sep='\\t', header=None)"
   ]
  },
  {
   "cell_type": "code",
   "execution_count": 285,
   "metadata": {},
   "outputs": [
    {
     "data": {
      "text/plain": [
       "(277972, 4)"
      ]
     },
     "execution_count": 285,
     "metadata": {},
     "output_type": "execute_result"
    }
   ],
   "source": [
    "peaks.shape"
   ]
  },
  {
   "cell_type": "code",
   "execution_count": 351,
   "metadata": {},
   "outputs": [
    {
     "data": {
      "image/png": "[encoded data removed]",
      "text/plain": [
       "<Figure size 842.4x595.44 with 1 Axes>"
      ]
     },
     "metadata": {},
     "output_type": "display_data"
    }
   ],
   "source": [
    "ax = sns.distplot([np.log10(l) for l in peaks[2] - peaks[1]], bins=15, kde=False)\n",
    "ax.set_xticks(np.linspace(2.3, 6, 15))\n",
    "ax.set_yticks(range(0, 62500, 5000))\n",
    "ax.set_xticklabels(np.around(ax.get_xticks(), decimals=2), rotation=30)\n",
    "ax.set(xlabel='log10(peaks length)')\n",
    "plt.show()"
   ]
  },
  {
   "cell_type": "code",
   "execution_count": 352,
   "metadata": {},
   "outputs": [],
   "source": [
    "fig = ax.get_figure()\n",
    "fig.patch.set_alpha(0)\n",
    "fig.savefig(\"../H3K27me3/plots/MergePeaks_peaks_length_hist.png\", bbox_inches='tight', pad_inches = 0)"
   ]
  },
  {
   "cell_type": "code",
   "execution_count": 353,
   "metadata": {},
   "outputs": [],
   "source": [
    "#Всего 57736 генов\n",
    "anno = pd.read_csv(\"../H3K27me3/peaks/anno_merged_peaks.csv\", sep=\"\\t\", header=None)"
   ]
  },
  {
   "cell_type": "code",
   "execution_count": 113,
   "metadata": {},
   "outputs": [
    {
     "data": {
      "text/plain": [
       "53397"
      ]
     },
     "execution_count": 113,
     "metadata": {},
     "output_type": "execute_result"
    }
   ],
   "source": [
    "len(anno[6].unique())"
   ]
  },
  {
   "cell_type": "code",
   "execution_count": 117,
   "metadata": {},
   "outputs": [
    {
     "data": {
      "text/plain": [
       "176917"
      ]
     },
     "execution_count": 117,
     "metadata": {},
     "output_type": "execute_result"
    }
   ],
   "source": [
    "len(anno[5].unique())"
   ]
  },
  {
   "cell_type": "code",
   "execution_count": 373,
   "metadata": {},
   "outputs": [
    {
     "data": {
      "image/png": "[encoded data removed]",
      "text/plain": [
       "<Figure size 842.4x595.44 with 1 Axes>"
      ]
     },
     "metadata": {},
     "output_type": "display_data"
    }
   ],
   "source": [
    "ax = sns.barplot(x=['with', 'without'], y=[53397, 57736 - 53397])"
   ]
  },
  {
   "cell_type": "code",
   "execution_count": 374,
   "metadata": {},
   "outputs": [],
   "source": [
    "fig = ax.get_figure()\n",
    "fig.patch.set_alpha(0)\n",
    "fig.savefig(\"../H3K27me3/plots/MergePeaks_genes_with_peaks_barplot.png\", bbox_inches='tight', pad_inches = 0)"
   ]
  },
  {
   "cell_type": "code",
   "execution_count": 375,
   "metadata": {},
   "outputs": [
    {
     "data": {
      "image/png": "[encoded data removed]",
      "text/plain": [
       "<Figure size 842.4x595.44 with 1 Axes>"
      ]
     },
     "metadata": {},
     "output_type": "display_data"
    }
   ],
   "source": [
    "ax = sns.barplot(x=['with', 'without'], y=[176917, 277972 - 176917])"
   ]
  },
  {
   "cell_type": "code",
   "execution_count": 376,
   "metadata": {},
   "outputs": [],
   "source": [
    "fig = ax.get_figure()\n",
    "fig.patch.set_alpha(0)\n",
    "fig.savefig(\"../H3K27me3/plots/MergePeaks_peaks_with_genes_barplot.png\", bbox_inches='tight', pad_inches = 0)"
   ]
  },
  {
   "cell_type": "code",
   "execution_count": 336,
   "metadata": {},
   "outputs": [
    {
     "data": {
      "text/plain": [
       "20211"
      ]
     },
     "execution_count": 336,
     "metadata": {},
     "output_type": "execute_result"
    }
   ],
   "source": [
    "#кол-во пиков на ген\n",
    "15415+4256+540"
   ]
  },
  {
   "cell_type": "code",
   "execution_count": 381,
   "metadata": {},
   "outputs": [
    {
     "data": {
      "image/png": "[encoded data removed]",
      "text/plain": [
       "<Figure size 842.4x595.44 with 1 Axes>"
      ]
     },
     "metadata": {},
     "output_type": "display_data"
    }
   ],
   "source": [
    "ax = sns.barplot(x=['1', '> 1'], y=[33186, 20211])\n",
    "ax.set_yticks(range(0, 50001, 5000))\n",
    "plt.show()"
   ]
  },
  {
   "cell_type": "code",
   "execution_count": 382,
   "metadata": {},
   "outputs": [],
   "source": [
    "fig = ax.get_figure()\n",
    "fig.patch.set_alpha(0)\n",
    "fig.savefig(\"../H3K27me3/plots/MergePeaks_peaks_in_gene_count_barplot.png\", bbox_inches='tight', pad_inches = 0)"
   ]
  },
  {
   "cell_type": "code",
   "execution_count": null,
   "metadata": {},
   "outputs": [],
   "source": [
    "#кол-во генов на пик"
   ]
  },
  {
   "cell_type": "code",
   "execution_count": 320,
   "metadata": {},
   "outputs": [
    {
     "data": {
      "text/plain": [
       "34886"
      ]
     },
     "execution_count": 320,
     "metadata": {},
     "output_type": "execute_result"
    }
   ],
   "source": [
    "34578+ 275+ 33"
   ]
  },
  {
   "cell_type": "code",
   "execution_count": 383,
   "metadata": {},
   "outputs": [
    {
     "data": {
      "image/png": "[encoded data removed]",
      "text/plain": [
       "<Figure size 842.4x595.44 with 1 Axes>"
      ]
     },
     "metadata": {},
     "output_type": "display_data"
    }
   ],
   "source": [
    "ax = sns.barplot(x=['1', '> 1'], y=[142031, 34886])\n",
    "#ax.set_title('gene in peaks count')\n",
    "#ax.set_yticks(range(0, 50001, 5000))\n",
    "plt.show()"
   ]
  },
  {
   "cell_type": "code",
   "execution_count": 384,
   "metadata": {},
   "outputs": [],
   "source": [
    "fig = ax.get_figure()\n",
    "fig.patch.set_alpha(0)\n",
    "fig.savefig(\"../H3K27me3/plots/MergePeaks_genes_in_peak_count_barplot.png\", bbox_inches='tight', pad_inches = 0)"
   ]
  },
  {
   "cell_type": "code",
   "execution_count": null,
   "metadata": {},
   "outputs": [],
   "source": [
    "#где находится пик относительно тела гена(начало, середина, конец)"
   ]
  },
  {
   "cell_type": "code",
   "execution_count": 362,
   "metadata": {},
   "outputs": [],
   "source": [
    "pos = anno[10].value_counts()"
   ]
  },
  {
   "cell_type": "code",
   "execution_count": 363,
   "metadata": {},
   "outputs": [
    {
     "data": {
      "image/png": "[encoded data removed]",
      "text/plain": [
       "<Figure size 842.4x595.44 with 1 Axes>"
      ]
     },
     "metadata": {},
     "output_type": "display_data"
    }
   ],
   "source": [
    "#inside: - пик внури гена\n",
    "#includeFeature - ген внутри пика\n",
    "ax = sns.barplot(pos.index, pos.values)\n",
    "ax.set(xlabel='positions', ylabel='count')\n",
    "ax.set_yticks(range(0, 160001, 10000))\n",
    "plt.show()"
   ]
  },
  {
   "cell_type": "code",
   "execution_count": 364,
   "metadata": {},
   "outputs": [],
   "source": [
    "fig = ax.get_figure()\n",
    "fig.patch.set_alpha(0)\n",
    "fig.savefig(\"../H3K27me3/plots/MergePeaks_peaks_positions_barplot.png\", bbox_inches='tight', pad_inches = 0)"
   ]
  },
  {
   "cell_type": "code",
   "execution_count": 213,
   "metadata": {},
   "outputs": [],
   "source": [
    "#сколько генов с пиками с одинаковым знаком корреляции/с разными знаками + распределение знаков - barplot\n",
    "df = pd.read_csv(\"../H3K27me3/peaks/lncRNA_peaks_gene_association.tsv\", sep=\"\\t\")"
   ]
  },
  {
   "cell_type": "code",
   "execution_count": 262,
   "metadata": {},
   "outputs": [],
   "source": [
    "gb = df.groupby(['lncRNA', 'gene']).corr.agg({\"sign\": checkSigns, \"count\": 'count'})"
   ]
  },
  {
   "cell_type": "code",
   "execution_count": 264,
   "metadata": {},
   "outputs": [],
   "source": [
    "#Сколько есть пар РНК-Ген, связанных через больше одного пика и одинаковый знак?\n",
    "#Одинаковое распределения кол-ва пиков в генах в обоих случаях\n",
    "#TODO: Отличаются ли как нибудь пары РНК-ген с разными знаками от тех, у которых одинаковые знаки??\n",
    "gb = gb[gb['count'] != 1]"
   ]
  },
  {
   "cell_type": "code",
   "execution_count": 369,
   "metadata": {},
   "outputs": [
    {
     "data": {
      "image/png": "[encoded data removed]",
      "text/plain": [
       "<Figure size 842.4x595.44 with 1 Axes>"
      ]
     },
     "metadata": {},
     "output_type": "display_data"
    }
   ],
   "source": [
    "ax = sns.barplot(x=['identical signs', 'different signs'], y=[966987, 150462])\n",
    "ax.set_yticks(range(0, 1000001, 50000))\n",
    "ax.set(xlabel='peaks signs identity in genes')\n",
    "plt.show()"
   ]
  },
  {
   "cell_type": "code",
   "execution_count": 370,
   "metadata": {},
   "outputs": [],
   "source": [
    "fig = ax.get_figure()\n",
    "fig.patch.set_alpha(0)\n",
    "fig.savefig(\"../H3K27me3/plots/MergePeaks_peaks_in_genes_sign_identity_barplot.png\", bbox_inches='tight', pad_inches = 0)"
   ]
  },
  {
   "cell_type": "code",
   "execution_count": 242,
   "metadata": {},
   "outputs": [],
   "source": [
    "def checkSigns(x):\n",
    "    if len(x) > 1:\n",
    "        if((all(item >= 0 for item in x) or all(item < 0 for item in x))):\n",
    "            return 1\n",
    "        else:\n",
    "            return -1\n",
    "    else:\n",
    "        return 0"
   ]
  },
  {
   "cell_type": "code",
   "execution_count": null,
   "metadata": {},
   "outputs": [],
   "source": [
    "#===========================================methylation"
   ]
  },
  {
   "cell_type": "code",
   "execution_count": 15,
   "metadata": {},
   "outputs": [],
   "source": [
    "files = []\n",
    "for dirpath, dirnames, filenames in os.walk(\"/data/mazurovev/methylation/\"):\n",
    "    for filename in sorted(filenames)[:1]:\n",
    "        #Делаем путем к файлу с пиками\n",
    "        files.append(dirpath + \"/\" + filename)"
   ]
  },
  {
   "cell_type": "code",
   "execution_count": 16,
   "metadata": {},
   "outputs": [],
   "source": [
    "from subprocess import Popen, PIPE\n",
    "import sys\n",
    "def callWithNiceOutput(cmd):\n",
    "    proc = Popen(cmd, stdout=PIPE, stderr=PIPE, shell=True, bufsize=-1)\n",
    "    \n",
    "    for line in proc.stdout:\n",
    "        print(\"output: \")\n",
    "        print(line)\n",
    "        sys.stdout.flush()\n",
    "    \n",
    "    for line in proc.stderr:\n",
    "        print(\"error: \")\n",
    "        print(line)\n",
    "        sys.stdout.flush()"
   ]
  },
  {
   "cell_type": "code",
   "execution_count": 17,
   "metadata": {},
   "outputs": [],
   "source": [
    "def smallBed(f):\n",
    "    callWithNiceOutput(\"cut -f 1,2,3,10,11 \" + f + \" > \" + f + \"small\")"
   ]
  },
  {
   "cell_type": "code",
   "execution_count": 18,
   "metadata": {},
   "outputs": [],
   "source": [
    "pool = Pool(processes=27)\n",
    "data = pool.map(smallBed, files)\n",
    "\n",
    "pool.close()\n",
    "pool.join()"
   ]
  },
  {
   "cell_type": "code",
   "execution_count": null,
   "metadata": {},
   "outputs": [],
   "source": [
    "#Смерджим - получим позиции в которых хотя бы в одном эксперименте есть занчение [0, 1]\n",
    "#Потом делаем матрицу где строки - эксперименты, а стоблцы  - найденные выше пики, ставим NA не 0, если нет\n",
    "#значения\n",
    "#Удаляем столбцы где больше 8 NA (т.к. 27 экспериментов)"
   ]
  },
  {
   "cell_type": "code",
   "execution_count": 2,
   "metadata": {},
   "outputs": [],
   "source": [
    "files = []\n",
    "for dirpath, dirnames, filenames in os.walk(\"/data/mazurovev/methylation/\"):\n",
    "    for filename in sorted([f for f in filenames if f.endswith(\".bedsmall\")])[:1]:\n",
    "        #Делаем путем к файлу с пиками\n",
    "        files.append(dirpath + \"/\" + filename)"
   ]
  },
  {
   "cell_type": "code",
   "execution_count": 3,
   "metadata": {
    "scrolled": true
   },
   "outputs": [
    {
     "name": "stdout",
     "output_type": "stream",
     "text": [
      "/data/mazurovev/methylation/UBERON:0000945/ENCFF435SPL.bedsmall number 0 done!\n",
      "/data/mazurovev/methylation/UBERON:0002084/ENCFF536RSX.bedsmall number 1 done!\n",
      "/data/mazurovev/methylation/UBERON:0002106/ENCFF200MJQ.bedsmall number 2 done!\n",
      "/data/mazurovev/methylation/UBERON:0001159/ENCFF157POM.bedsmall number 3 done!\n",
      "/data/mazurovev/methylation/EFO:0001196/ENCFF254DBF.bedsmall number 4 done!\n",
      "/data/mazurovev/methylation/UBERON:0000992/ENCFF189WPY.bedsmall number 5 done!\n",
      "/data/mazurovev/methylation/UBERON:0002369/ENCFF210XTE.bedsmall number 6 done!\n",
      "/data/mazurovev/methylation/EFO:0003042/ENCFF092FNE.bedsmall number 7 done!\n",
      "/data/mazurovev/methylation/UBERON:0002048/ENCFF039JFT.bedsmall number 8 done!\n",
      "/data/mazurovev/methylation/UBERON:0008952/ENCFF733EFJ.bedsmall number 9 done!\n",
      "/data/mazurovev/methylation/UBERON:0000948/ENCFF560SMW.bedsmall number 10 done!\n",
      "/data/mazurovev/methylation/EFO:0001187/ENCFF064GJQ.bedsmall number 11 done!\n",
      "/data/mazurovev/methylation/CL:0000192/ENCFF297CJG.bedsmall number 12 done!\n",
      "/data/mazurovev/methylation/UBERON:0004264/ENCFF121VIX.bedsmall number 13 done!\n",
      "/data/mazurovev/methylation/EFO:0005723/ENCFF116DGM.bedsmall number 14 done!\n",
      "/data/mazurovev/methylation/UBERON:0000473/ENCFF638QVP.bedsmall number 15 done!\n",
      "/data/mazurovev/methylation/EFO:0002067/ENCFF721JMB.bedsmall number 16 done!\n",
      "/data/mazurovev/methylation/UBERON:0002046/ENCFF223LJW.bedsmall number 17 done!\n",
      "/data/mazurovev/methylation/UBERON:0002367/ENCFF027KTR.bedsmall number 18 done!\n",
      "/data/mazurovev/methylation/CL:0002327/ENCFF699GKH.bedsmall number 19 done!\n",
      "/data/mazurovev/methylation/CL:0000515/ENCFF774GXJ.bedsmall number 20 done!\n",
      "/data/mazurovev/methylation/UBERON:0002240/ENCFF164EAU.bedsmall number 21 done!\n",
      "/data/mazurovev/methylation/UBERON:0001150/ENCFF699RBP.bedsmall number 22 done!\n",
      "/data/mazurovev/methylation/EFO:0006711/ENCFF459EEM.bedsmall number 23 done!\n",
      "/data/mazurovev/methylation/EFO:0002784/ENCFF279HCL.bedsmall number 24 done!\n",
      "/data/mazurovev/methylation/CL:0000182/ENCFF366UWF.bedsmall number 25 done!\n",
      "/data/mazurovev/methylation/UBERON:0001323/ENCFF699KTW.bedsmall number 26 done!\n"
     ]
    }
   ],
   "source": [
    "beds = []\n",
    "for i, f in enumerate(files):\n",
    "    tmp = pd.read_csv(f, sep=\"\\t\", header=None)\n",
    "    tmp = tmp[tmp[3] != 0][[0,1,2,4]]\n",
    "    beds.append(tmp.sort_values(by=[0, 1]))\n",
    "    print(f + \" number \" + str(i) + \" done!\")"
   ]
  },
  {
   "cell_type": "code",
   "execution_count": 12,
   "metadata": {},
   "outputs": [
    {
     "name": "stdout",
     "output_type": "stream",
     "text": [
      "1 done!\n",
      "2 done!\n",
      "3 done!\n",
      "4 done!\n",
      "5 done!\n",
      "6 done!\n",
      "8 done!\n",
      "9 done!\n",
      "10 done!\n",
      "11 done!\n",
      "12 done!\n",
      "13 done!\n",
      "14 done!\n",
      "15 done!\n",
      "16 done!\n",
      "17 done!\n",
      "18 done!\n",
      "19 done!\n",
      "20 done!\n",
      "21 done!\n",
      "22 done!\n",
      "23 done!\n",
      "24 done!\n",
      "25 done!\n",
      "26 done!\n"
     ]
    }
   ],
   "source": [
    "first = beds[0]\n",
    "for i, n in enumerate(beds):\n",
    "    if i == 0:\n",
    "        continue\n",
    "    first = first.merge(beds[i], on=[0,1,2], how='outer')   \n",
    "    print(str(i) + \" done!\")"
   ]
  },
  {
   "cell_type": "code",
   "execution_count": 13,
   "metadata": {},
   "outputs": [],
   "source": [
    "first = first.set_index([0,1,2])"
   ]
  },
  {
   "cell_type": "code",
   "execution_count": 14,
   "metadata": {},
   "outputs": [],
   "source": [
    "t = first.index"
   ]
  },
  {
   "cell_type": "code",
   "execution_count": 15,
   "metadata": {},
   "outputs": [],
   "source": [
    "with h5py.File(\"../all_marks/\" + \"methylation\" + \"/signal_matrix_outer.hdf5\", 'w') as f:\n",
    "        f.create_dataset(\"signal_matrix\", data=first.values)\n",
    "        string_dt = h5py.special_dtype(vlen=str)\n",
    "        f.create_dataset(\"files_names\", data=np.array(files, dtype='object'), dtype=string_dt)\n",
    "        f.create_dataset(\"coords\", data=np.array(t, dtype='object'), dtype=string_dt)"
   ]
  },
  {
   "cell_type": "code",
   "execution_count": 2,
   "metadata": {},
   "outputs": [],
   "source": [
    "with h5py.File(\"../all_marks/\" + \"methylation\" + \"/signal_matrix_outer.hdf5\", 'r') as f:\n",
    "    data = f['signal_matrix'][:]\n",
    "    coords = f['coords'][:]\n",
    "    files = f['files_names'][:]"
   ]
  },
  {
   "cell_type": "code",
   "execution_count": 3,
   "metadata": {},
   "outputs": [
    {
     "data": {
      "text/plain": [
       "(57799927, 27)"
      ]
     },
     "execution_count": 3,
     "metadata": {},
     "output_type": "execute_result"
    }
   ],
   "source": [
    "data.shape"
   ]
  },
  {
   "cell_type": "code",
   "execution_count": 4,
   "metadata": {},
   "outputs": [],
   "source": [
    "#Для каждого места с метилированием может быть свой набор экспериментов, это норма? - да\n",
    "filtered = data[[True if i < 8 else False for i in np.isnan(data).sum(axis=1).tolist()]]"
   ]
  },
  {
   "cell_type": "code",
   "execution_count": 5,
   "metadata": {},
   "outputs": [
    {
     "data": {
      "text/plain": [
       "(53699858, 27)"
      ]
     },
     "execution_count": 5,
     "metadata": {},
     "output_type": "execute_result"
    }
   ],
   "source": [
    "filtered.shape"
   ]
  },
  {
   "cell_type": "code",
   "execution_count": 20,
   "metadata": {},
   "outputs": [],
   "source": [
    "c = coords[[True if i < 8 else False for i in np.isnan(data).sum(axis=1).tolist()]]"
   ]
  },
  {
   "cell_type": "code",
   "execution_count": 26,
   "metadata": {},
   "outputs": [],
   "source": [
    "with h5py.File(\"../all_marks/\" + \"methylation\" + \"/signal_matrix_outer_filtered.hdf5\", 'w') as f:\n",
    "        f.create_dataset(\"signal_matrix\", data=filtered)\n",
    "        string_dt = h5py.special_dtype(vlen=str)\n",
    "        f.create_dataset(\"files_names\", data=np.array(files, dtype='object'), dtype=string_dt)\n",
    "        f.create_dataset(\"coords\", data=np.array(c, dtype='object'), dtype=string_dt)"
   ]
  }
 ],
 "metadata": {
  "kernelspec": {
   "display_name": "Python 3",
   "language": "python",
   "name": "python3"
  },
  "language_info": {
   "codemirror_mode": {
    "name": "ipython",
    "version": 3
   },
   "file_extension": ".py",
   "mimetype": "text/x-python",
   "name": "python",
   "nbconvert_exporter": "python",
   "pygments_lexer": "ipython3",
   "version": "3.6.9"
  }
 },
 "nbformat": 4,
 "nbformat_minor": 2
}
