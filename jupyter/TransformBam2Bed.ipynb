{
 "cells": [
  {
   "cell_type": "code",
   "execution_count": 1,
   "metadata": {},
   "outputs": [],
   "source": [
    "import pandas as pd\n",
    "import requests\n",
    "import os\n",
    "from subprocess import Popen, PIPE\n",
    "from multiprocessing import Pool\n",
    "import sys"
   ]
  },
  {
   "cell_type": "code",
   "execution_count": 5,
   "metadata": {},
   "outputs": [],
   "source": [
    "chip = pd.read_csv(\"../all_marks/ChiP-Seq_for_all_marks_all_replicas.tsv\", sep = \"\\t\")"
   ]
  },
  {
   "cell_type": "code",
   "execution_count": 59,
   "metadata": {},
   "outputs": [],
   "source": [
    "def countDensity(data):\n",
    "    bam_file_path = data[0]\n",
    "    bam_file_name = data[1]\n",
    "    callWithNiceOutput('bedtools bamtobed -i ' + bam_file_path + \"/\" + bam_file_name + '.bam > ' +  bam_file_path + \"/\" + bam_file_name + '.bed')\n",
    "    #print('bedtools bamtobed -i ' + bam_file_path + \"/\" + bam_file_name + '.bam > ' +  bam_file_path + \"/\" + bam_file_name + '.bed')\n",
    "    callWithNiceOutput('sort-bed --max-mem 3G --tmpdir ' + bam_file_path + \" \" + bam_file_path + \"/\" + bam_file_name + '.bed > ' + bam_file_path + \"/\" + bam_file_name + '.sort.bed')\n",
    "    #print('sort-bed --max-mem 3G --tmpdir ' + bam_file_path + \" \" + bam_file_path + \"/\" + bam_file_name + '.bed > ' + bam_file_path + \"/\" + bam_file_name + '.sort.bed')\n",
    "    os.remove(bam_file_path + \"/\" + bam_file_name + \".bam\")\n",
    "    os.remove(bam_file_path + \"/\" + bam_file_name + \".bed\")\n",
    "    os.rename(bam_file_path + \"/\" + bam_file_name + \".sort.bed\", bam_file_path + \"/\" + bam_file_name + \".bed\")\n",
    "    print(\"create \" + bam_file_path + \"/\" + bam_file_name + '.bed sorted file and remove .bam')"
   ]
  },
  {
   "cell_type": "code",
   "execution_count": 17,
   "metadata": {},
   "outputs": [],
   "source": [
    "def bed2bam(data):\n",
    "    bed_file_path = data[0]\n",
    "    bed_file_name = data[1]\n",
    "    \n",
    "    callWithNiceOutput('bedtools bedtobam -i ' + bed_file_path + \"/\" + bed_file_name + '.bed -g ../hg38/chrom.sizes > ' +  bed_file_path + \"/\" + bed_file_name + '.bam')"
   ]
  },
  {
   "cell_type": "code",
   "execution_count": 3,
   "metadata": {},
   "outputs": [],
   "source": [
    "from subprocess import Popen, PIPE\n",
    "import sys\n",
    "def callWithNiceOutput(cmd):\n",
    "    proc = Popen(cmd, stdout=PIPE, stderr=PIPE, shell=True, bufsize=-1)\n",
    "    \n",
    "    for line in proc.stdout:\n",
    "        print(\"output: \")\n",
    "        print(line)\n",
    "        sys.stdout.flush()\n",
    "    \n",
    "    for line in proc.stderr:\n",
    "        print(\"error: \")\n",
    "        print(line)\n",
    "        sys.stdout.flush()"
   ]
  },
  {
   "cell_type": "code",
   "execution_count": 112,
   "metadata": {},
   "outputs": [],
   "source": [
    "#Если пришлось останавливать процесс и у нас есть уже bed(не полный или не отсортированный), но не удален bam — удаляем такой bed\n",
    "def cleanCorruptedBeds():\n",
    "    chip = pd.read_csv(\"../ChiP-Seq_for_all_marks_all_replicas.tsv\", sep = \"\\t\")\n",
    "    \n",
    "    for i, row in chip.iterrows():\n",
    "        target = row['Experiment target'].split('-')[0]\n",
    "        file_wo_type = '/data/mazurovev/' + target + \"/\" + row['Biosample term id'] + \"/\" + row['File accession']\n",
    "        if((os.path.exists(file_wo_type + '.bed') and os.path.exists(file_wo_type + '.bam')) or (os.path.exists(file_wo_type + '.bed') and os.path.getsize(file_wo_type + '.bed') < 100 * 1024)):\n",
    "            os.remove(file_wo_type + '.bed')\n",
    "            print(\"remove \" + file_wo_type + '.bed')\n",
    "            \n",
    "        if(os.path.exists(file_wo_type + 'sort.bed')):\n",
    "            os.remove(file_wo_type + 'sort.bed')\n",
    "            print(\"remove \" + file_wo_type + 'sort.bed')\n",
    "            \n",
    "        if(os.path.exists(file_wo_type + '.sort.bed')):\n",
    "            os.remove(file_wo_type + '.sort.bed')\n",
    "            print(\"remove \" + file_wo_type + '.sort.bed')\n",
    "            \n",
    "        if(os.path.exists('/data/mazurovev/controls/' + row['Control'] + 'sort.bed')):\n",
    "            os.remove('/data/mazurovev/controls/' + row['Control'] + 'sort.bed')\n",
    "            print(\"remove \" + '/data/mazurovev/controls/' + row['Control'] + 'sort.bed')"
   ]
  },
  {
   "cell_type": "code",
   "execution_count": null,
   "metadata": {},
   "outputs": [],
   "source": [
    "#cleanCorruptedBeds()"
   ]
  },
  {
   "cell_type": "code",
   "execution_count": 8,
   "metadata": {},
   "outputs": [],
   "source": [
    "data = []"
   ]
  },
  {
   "cell_type": "code",
   "execution_count": 130,
   "metadata": {},
   "outputs": [],
   "source": [
    "for i, row in chip.iterrows():\n",
    "    target = row['Experiment target'].split('-')[0]\n",
    "    dir_path = '/data/mazurovev/' + target + \"/\" + row['Biosample term id']\n",
    "    \n",
    "    if not os.path.exists(dir_path + \"/\" + row['File accession'] + '.bed'):\n",
    "        data.append((dir_path, row['File accession']))"
   ]
  },
  {
   "cell_type": "code",
   "execution_count": 9,
   "metadata": {},
   "outputs": [],
   "source": [
    "for control_name in chip['Control'].unique():\n",
    "    if not os.path.exists('/data/mazurovev/controls/' + control_name + '.bam'):\n",
    "        data.append(('/data/mazurovev/controls', control_name))"
   ]
  },
  {
   "cell_type": "code",
   "execution_count": 18,
   "metadata": {},
   "outputs": [],
   "source": [
    "pool = Pool(processes=28)\n",
    "pool.map(bed2bam, data)\n",
    "pool.close()\n",
    "pool.join()"
   ]
  },
  {
   "cell_type": "code",
   "execution_count": null,
   "metadata": {},
   "outputs": [],
   "source": []
  }
 ],
 "metadata": {
  "kernelspec": {
   "display_name": "Python 3",
   "language": "python",
   "name": "python3"
  },
  "language_info": {
   "codemirror_mode": {
    "name": "ipython",
    "version": 3
   },
   "file_extension": ".py",
   "mimetype": "text/x-python",
   "name": "python",
   "nbconvert_exporter": "python",
   "pygments_lexer": "ipython3",
   "version": "3.6.8"
  }
 },
 "nbformat": 4,
 "nbformat_minor": 2
}
