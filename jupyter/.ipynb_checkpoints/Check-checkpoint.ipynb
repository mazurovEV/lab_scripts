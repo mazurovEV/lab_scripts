{
 "cells": [
  {
   "cell_type": "code",
   "execution_count": null,
   "metadata": {
    "collapsed": true
   },
   "outputs": [],
   "source": [
    "#0.Нормально(только обычно не к среднему, а к большему нормализуют), что мы делаем нормализацию на длину? - Самый грубый способ, \n",
    "#теряем маленькие пики (linearly scale according to the sequencing depth ratio); FDR, пакеты для нормализации, другие способы?\n",
    "#Т.к. в инпуте впринципе больше ридов(секвенирование с разной глубиной), то если мы просто его вычтем, \n",
    "#то можем потерять значимые пики(которые на самом деле обогащение), а после нормализации инпут сохраняет свои \n",
    "#функции контроля и становится сравним с семплом\n",
    "\n",
    "#1.Нормализация на длину(Normalization by sequencing depth) - нормально что мы нормализуем бины? - да, до тех пор пока все\n",
    "#изменения представляют собой подсчет среднего. Т.е. одинаково сначала нормализовать, а потом бить на бины или наоборот.\n",
    "\n",
    "#2.Нормализация к инпуту - зачем и как это работает? - сравнение обогащенности, потому что в каждом месте генома и так будет\n",
    "#сколько то ридов, а нас интересуют только значимые пики, в данном случае имеется ввиду, что они не должны появиться из-за протокола\n",
    "\n",
    "#3.Нормализация на длину между образцами - тот же вопрос что и в 1 - нормально; А зачем мы вообще это делаем? Опять же из-за \n",
    "#разной глубины секвенирования. Нам может показаться что в этом образце пик больше чем в этом, а на самом деле это просто больше\n",
    "#глубина секвенирования, а на самом деле они равны и вариации здесь нет. \n",
    "\n",
    "#4.Процедура для сравнения дисперсий образцов - приведение к одному среднему(с сохранением вариации) - работает как нам надо? Нет ли\n",
    "#нормальных способов? - Есть: Coefficient of variation и Quartile coefficient of dispersion(устойчив к выбросам)\n",
    "#Чем они лучше: их используют, они не меняют данные, проще и логичнее, скорее всего в некоторых кейсах наш способ дает плохие\n",
    "#результаты(очень похожие дисперсии, почти равные), с нашим способом нельзя сравнивать на сколько одна из дисперсий больше другой\n",
    "#Надо сравнить эти методы и наш, насколько различается ранжирование\n",
    "\n",
    "#5.Нет половых хромосом, это нормально?\n",
    "\n",
    "#6.Нормальный отрицательный контроль корреляции бинов в промоторах с экспрессией этих генов\n",
    "\n",
    "#7.Проверить все предположения при сравнении айдишников генов, порядку следования и проч.\n",
    "\n"
   ]
  },
  {
   "cell_type": "code",
   "execution_count": 2,
   "metadata": {},
   "outputs": [],
   "source": [
    "%matplotlib inline\n",
    "import matplotlib.pyplot as plt\n",
    "import seaborn as sb\n",
    "import numpy as np\n",
    "import pandas as pd\n",
    "from BCBio import GFF\n",
    "from Bio.Seq import Seq\n",
    "from Bio.SeqUtils import GC\n",
    "from Bio.SeqRecord import SeqRecord\n",
    "from Bio.SeqFeature import SeqFeature, FeatureLocation\n",
    "import glob"
   ]
  },
  {
   "cell_type": "code",
   "execution_count": 2,
   "metadata": {},
   "outputs": [],
   "source": [
    "import load_data as ld"
   ]
  },
  {
   "cell_type": "code",
   "execution_count": 3,
   "metadata": {
    "collapsed": true
   },
   "outputs": [],
   "source": [
    "dataPath = \"H3K27ac_human_hg19.tsv\""
   ]
  },
  {
   "cell_type": "code",
   "execution_count": null,
   "metadata": {
    "collapsed": true
   },
   "outputs": [],
   "source": [
    "#Посмотреть на данные, для которых считали корреляции: бин<->экспрессия нкРНК(каждый бин с каждой нкРНК)"
   ]
  },
  {
   "cell_type": "code",
   "execution_count": 4,
   "metadata": {},
   "outputs": [
    {
     "name": "stdout",
     "output_type": "stream",
     "text": [
      "Loaded the following variables: ['WGgoodBinsBins', 'sortedOverBinStd', 'WGgoodBinsCoords']\n"
     ]
    }
   ],
   "source": [
    "load_all_variables(['WGgoodBinsBins', 'sortedOverBinStd', 'WGgoodBinsCoords'])"
   ]
  },
  {
   "cell_type": "code",
   "execution_count": 5,
   "metadata": {},
   "outputs": [
    {
     "data": {
      "text/plain": [
       "4513287"
      ]
     },
     "execution_count": 5,
     "metadata": {},
     "output_type": "execute_result"
    }
   ],
   "source": [
    "#Всего бинов\n",
    "sum([len(b) for k, b in WGgoodBinsCoords.iteritems()])"
   ]
  },
  {
   "cell_type": "code",
   "execution_count": 6,
   "metadata": {
    "collapsed": true
   },
   "outputs": [],
   "source": [
    "WGbinsWithBigStd = [[k, b[0], WGgoodBinsBins[k][:, b[0]]] for k, l in sortedOverBinStd.iteritems() for b in l if b[1]>=17]"
   ]
  },
  {
   "cell_type": "code",
   "execution_count": 7,
   "metadata": {},
   "outputs": [
    {
     "data": {
      "text/plain": [
       "185501"
      ]
     },
     "execution_count": 7,
     "metadata": {},
     "output_type": "execute_result"
    }
   ],
   "source": [
    "#Бины с дисперсией >= 17(в 24 раза меньше)\n",
    "len(WGbinsWithBigStd)"
   ]
  },
  {
   "cell_type": "code",
   "execution_count": 45,
   "metadata": {},
   "outputs": [],
   "source": [
    "#Какое количество не нулевых элементов в бинах?\n",
    "countNonZeros = [[bins[0], bins[1], len([v for v in bins[2] if v != 0])] for bins in WGbinsWithBigStd]"
   ]
  },
  {
   "cell_type": "code",
   "execution_count": 73,
   "metadata": {},
   "outputs": [
    {
     "data": {
      "text/plain": [
       "(array([  1.05640000e+05,   4.62170000e+04,   1.85360000e+04,\n",
       "          7.83300000e+03,   3.54000000e+03,   1.81600000e+03,\n",
       "          9.61000000e+02,   4.90000000e+02,   2.54000000e+02,\n",
       "          9.40000000e+01,   7.40000000e+01,   2.30000000e+01,\n",
       "          1.00000000e+01,   9.00000000e+00,   4.00000000e+00]),\n",
       " array([  1.,   2.,   3.,   4.,   5.,   6.,   7.,   8.,   9.,  10.,  11.,\n",
       "         12.,  13.,  14.,  15.,  16.]),\n",
       " <a list of 15 Patch objects>)"
      ]
     },
     "execution_count": 73,
     "metadata": {},
     "output_type": "execute_result"
    },
    {
     "data": {
      "image/png": "[encoded data removed]",
      "text/plain": [
       "<matplotlib.figure.Figure at 0x296b3ced0>"
      ]
     },
     "metadata": {},
     "output_type": "display_data"
    }
   ],
   "source": [
    "#105640 бинов с одной точкой, 74+23+10+9+4=120 бинов с количеством точек > 10\n",
    "plt.hist([c[2] for c in countNonZeros], bins=15)"
   ]
  },
  {
   "cell_type": "code",
   "execution_count": null,
   "metadata": {
    "collapsed": true
   },
   "outputs": [],
   "source": [
    "#Надо посмореть распределение в остальных бинах?"
   ]
  },
  {
   "cell_type": "code",
   "execution_count": null,
   "metadata": {
    "collapsed": true
   },
   "outputs": [],
   "source": []
  },
  {
   "cell_type": "code",
   "execution_count": null,
   "metadata": {
    "collapsed": true
   },
   "outputs": [],
   "source": [
    "#Теперь посмотрим на данные экспрессии нкРНК"
   ]
  },
  {
   "cell_type": "code",
   "execution_count": 8,
   "metadata": {
    "collapsed": true
   },
   "outputs": [],
   "source": [
    "in_file = \"gencode.v25lift37.long_noncoding_RNAs.gff3\"\n",
    "in_handle = open(in_file)\n",
    "\n",
    "limit_info = dict(\n",
    "    gff_id = ['chr1', 'chr10', 'chr11', 'chr12', 'chr13', 'chr14', 'chr15', 'chr16', 'chr17', 'chr18', \n",
    " 'chr19', 'chr2', 'chr20', 'chr21', 'chr22', 'chr3', 'chr4', 'chr5', 'chr6', 'chr7', 'chr8', 'chr9'],\n",
    "    gff_type = [\"gene\"])\n",
    "\n",
    "lncRNAgenes = []\n",
    "for rec in GFF.parse(in_handle, limit_info=limit_info):\n",
    "    lncRNAgenes.append((rec.id, rec.features)) \n",
    "    \n",
    "in_handle.close()"
   ]
  },
  {
   "cell_type": "code",
   "execution_count": 9,
   "metadata": {},
   "outputs": [],
   "source": [
    "lncRNAgenesStartPositions = {\n",
    "    g.id:[i, g.location.start.position, g.location.end.position, g.strand] for i, j in lncRNAgenes for g in j}"
   ]
  },
  {
   "cell_type": "code",
   "execution_count": 10,
   "metadata": {},
   "outputs": [
    {
     "data": {
      "text/plain": [
       "15488"
      ]
     },
     "execution_count": 10,
     "metadata": {},
     "output_type": "execute_result"
    }
   ],
   "source": [
    "#Количество нкРНК\n",
    "len(lncRNAgenesStartPositions.keys())"
   ]
  },
  {
   "cell_type": "code",
   "execution_count": 11,
   "metadata": {},
   "outputs": [
    {
     "name": "stdout",
     "output_type": "stream",
     "text": [
      "RNA-seq/H1-hESC_(H7-hESC)_ENCFF767WGV.tsv done\n",
      "RNA-seq/fibroblast of lung_ENCFF424ELR.tsv done\n",
      "RNA-seq/mammary epithelial cell_ENCFF374KZN.tsv done\n",
      "RNA-seq/skeletal muscle myoblast_ENCFF551YKI.tsv done\n",
      "RNA-seq/endothelial cell of umbilical vein_(vein endothelial)_ENCFF033CRC.tsv done\n",
      "RNA-seq/osteoblast_ENCFF633KUP.tsv done\n",
      "RNA-seq/fibroblast of dermis_ENCFF870JUS.tsv done\n",
      "RNA-seq/HCT116_(HT-29)_ENCFF220TCD.tsv done\n",
      "RNA-seq/GM12878_ENCFF955JLS.tsv done\n",
      "RNA-seq/K562_ENCFF286GLL.tsv done\n",
      "RNA-seq/A549_(NCI-H460)_ENCFF361TGG.tsv done\n",
      "RNA-seq/myotube_ENCFF693OTH.tsv done\n",
      "RNA-seq/keratinocyte_(hair follicular keratinocyte)_ENCFF798LDD.tsv done\n",
      "RNA-seq/HepG2_ENCFF533XPJ.tsv done\n",
      "RNA-seq/MCF-7_ENCFF151JZX.tsv done\n",
      "RNA-seq/astrocyte_ENCFF691GEO.tsv done\n"
     ]
    }
   ],
   "source": [
    "#Надо таким образом выбирать нкРНК из образцов экспрессии(так надежнее и правильнее)\n",
    "rnasGenes = []\n",
    "for rna in glob.glob(\"RNA-seq/*.tsv\"):\n",
    "    rna_table = pd.read_table(rna)\n",
    "    rnasGenes.append(set([x for x in rna_table[\"gene_id\"] if x in lncRNAgenesStartPositions.keys()]))\n",
    "    print rna + \" done\"\n",
    "\n",
    "rnaGeneSet = list(set.intersection(*rnasGenes))"
   ]
  },
  {
   "cell_type": "code",
   "execution_count": 12,
   "metadata": {},
   "outputs": [
    {
     "data": {
      "text/plain": [
       "10504"
      ]
     },
     "execution_count": 12,
     "metadata": {},
     "output_type": "execute_result"
    }
   ],
   "source": [
    "#Где остальные 5к нкРНК?\n",
    "len(rnaGeneSet)"
   ]
  },
  {
   "cell_type": "code",
   "execution_count": 27,
   "metadata": {},
   "outputs": [],
   "source": [
    "#Проверяем что одинаковые гены и в одинаковом порядке следуют\n",
    "for l in rnasGenes[1:]:\n",
    "    if(cmp(list(rnasGenes[0]), list(l)) != 0):\n",
    "        print \"Ooops!\""
   ]
  },
  {
   "cell_type": "code",
   "execution_count": null,
   "metadata": {
    "collapsed": true
   },
   "outputs": [],
   "source": []
  },
  {
   "cell_type": "code",
   "execution_count": 63,
   "metadata": {
    "collapsed": true
   },
   "outputs": [],
   "source": [
    "#Есть гены, для которых нет экспрессии ни в одном образце, как они попали в экспрессионные данные? как они выбирали гены?\n",
    "lncRNAData = []\n",
    "for bs in ld.getBioSamples(pd.read_table(dataPath)):\n",
    "    rna = pd.read_table(ld.getRNAseq(bs))\n",
    "    lncRNAData.append(rna[[True if x in rnaGeneSet else False for x in rna[\"gene_id\"]]]['TPM'].tolist())"
   ]
  },
  {
   "cell_type": "code",
   "execution_count": 64,
   "metadata": {},
   "outputs": [],
   "source": [
    "lncRNAData = np.array(lncRNAData).T"
   ]
  },
  {
   "cell_type": "code",
   "execution_count": 65,
   "metadata": {},
   "outputs": [
    {
     "data": {
      "text/plain": [
       "(10504, 17)"
      ]
     },
     "execution_count": 65,
     "metadata": {},
     "output_type": "execute_result"
    }
   ],
   "source": [
    "lncRNAData.shape"
   ]
  },
  {
   "cell_type": "code",
   "execution_count": 66,
   "metadata": {
    "collapsed": true
   },
   "outputs": [],
   "source": [
    "mask10 = map(lambda x: True if sorted(x, reverse=True)[0] >= 10 else False, [e for e in lncRNAData])"
   ]
  },
  {
   "cell_type": "code",
   "execution_count": 67,
   "metadata": {},
   "outputs": [
    {
     "data": {
      "text/plain": [
       "150"
      ]
     },
     "execution_count": 67,
     "metadata": {},
     "output_type": "execute_result"
    }
   ],
   "source": [
    "len([b for b in mask10 if b])"
   ]
  },
  {
   "cell_type": "code",
   "execution_count": 68,
   "metadata": {
    "collapsed": true
   },
   "outputs": [],
   "source": [
    "filteredLncRNAData = np.array([i for i, j in zip(lncRNAData, mask10) if j])"
   ]
  },
  {
   "cell_type": "code",
   "execution_count": 70,
   "metadata": {},
   "outputs": [],
   "source": [
    "filteredLncRnaGeneSet = [i for i, j in zip(rnaGeneSet, mask10) if j]"
   ]
  },
  {
   "cell_type": "code",
   "execution_count": 71,
   "metadata": {},
   "outputs": [
    {
     "data": {
      "text/plain": [
       "(150, 17)"
      ]
     },
     "execution_count": 71,
     "metadata": {},
     "output_type": "execute_result"
    }
   ],
   "source": [
    "filteredLncRNAData.shape"
   ]
  },
  {
   "cell_type": "code",
   "execution_count": 72,
   "metadata": {},
   "outputs": [
    {
     "data": {
      "text/plain": [
       "27825150"
      ]
     },
     "execution_count": 72,
     "metadata": {},
     "output_type": "execute_result"
    }
   ],
   "source": [
    "185501*150"
   ]
  },
  {
   "cell_type": "code",
   "execution_count": 73,
   "metadata": {
    "collapsed": true
   },
   "outputs": [],
   "source": [
    "countNonZerosRNA = [len([v for v in gene if v != 0]) for gene in filteredLncRNAData]"
   ]
  },
  {
   "cell_type": "code",
   "execution_count": 75,
   "metadata": {},
   "outputs": [
    {
     "data": {
      "text/plain": [
       "(array([ 21.,  18.,   9.,   8.,  11.,   6.,   3.,   3.,   2.,   2.,   8.,\n",
       "          2.,   6.,   5.,   5.,  41.]),\n",
       " array([  1.,   2.,   3.,   4.,   5.,   6.,   7.,   8.,   9.,  10.,  11.,\n",
       "         12.,  13.,  14.,  15.,  16.,  17.]),\n",
       " <a list of 16 Patch objects>)"
      ]
     },
     "execution_count": 75,
     "metadata": {},
     "output_type": "execute_result"
    },
    {
     "data": {
      "image/png": "[encoded data removed]",
      "text/plain": [
       "<matplotlib.figure.Figure at 0x120fe3690>"
      ]
     },
     "metadata": {},
     "output_type": "display_data"
    }
   ],
   "source": [
    "plt.hist(countNonZerosRNA, bins=16)"
   ]
  },
  {
   "cell_type": "code",
   "execution_count": null,
   "metadata": {
    "collapsed": true
   },
   "outputs": [],
   "source": [
    "#С какого количества точек имеет смысл считать корреляцию?\n",
    "#Точно не имеет смысла, когда в одном из наборе 1(2?) не нулевая точка"
   ]
  },
  {
   "cell_type": "code",
   "execution_count": 4,
   "metadata": {},
   "outputs": [],
   "source": [
    "rna = pd.read_csv(\"../H3K27me3/RNA-seq_filtered_by_biosample.csv\", index_col=False, sep=';')"
   ]
  },
  {
   "cell_type": "code",
   "execution_count": 5,
   "metadata": {},
   "outputs": [
    {
     "data": {
      "text/html": [
       "<div>\n",
       "<style scoped>\n",
       "    .dataframe tbody tr th:only-of-type {\n",
       "        vertical-align: middle;\n",
       "    }\n",
       "\n",
       "    .dataframe tbody tr th {\n",
       "        vertical-align: top;\n",
       "    }\n",
       "\n",
       "    .dataframe thead th {\n",
       "        text-align: right;\n",
       "    }\n",
       "</style>\n",
       "<table border=\"1\" class=\"dataframe\">\n",
       "  <thead>\n",
       "    <tr style=\"text-align: right;\">\n",
       "      <th></th>\n",
       "      <th>File accession</th>\n",
       "      <th>File format</th>\n",
       "      <th>Output type</th>\n",
       "      <th>Experiment accession</th>\n",
       "      <th>Assay</th>\n",
       "      <th>Biosample term id</th>\n",
       "      <th>Biosample term name</th>\n",
       "      <th>Biosample type</th>\n",
       "      <th>Biosample organism</th>\n",
       "      <th>Biosample treatments</th>\n",
       "      <th>...</th>\n",
       "      <th>dbxrefs</th>\n",
       "      <th>File download URL</th>\n",
       "      <th>Assembly</th>\n",
       "      <th>Platform</th>\n",
       "      <th>Controlled by</th>\n",
       "      <th>File Status</th>\n",
       "      <th>Audit WARNING</th>\n",
       "      <th>Audit INTERNAL_ACTION</th>\n",
       "      <th>Audit NOT_COMPLIANT</th>\n",
       "      <th>Audit ERROR</th>\n",
       "    </tr>\n",
       "  </thead>\n",
       "  <tbody>\n",
       "    <tr>\n",
       "      <th>0</th>\n",
       "      <td>ENCFF406YAV</td>\n",
       "      <td>tsv</td>\n",
       "      <td>gene quantifications</td>\n",
       "      <td>ENCSR457ENP</td>\n",
       "      <td>RNA-seq</td>\n",
       "      <td>UBERON:0006631</td>\n",
       "      <td>right atrium auricular region</td>\n",
       "      <td>tissue</td>\n",
       "      <td>Homo sapiens</td>\n",
       "      <td>NaN</td>\n",
       "      <td>...</td>\n",
       "      <td>NaN</td>\n",
       "      <td>https://www.encodeproject.org/files/ENCFF406YA...</td>\n",
       "      <td>hg19</td>\n",
       "      <td>NaN</td>\n",
       "      <td>NaN</td>\n",
       "      <td>released</td>\n",
       "      <td>NaN</td>\n",
       "      <td>NaN</td>\n",
       "      <td>NaN</td>\n",
       "      <td>NaN</td>\n",
       "    </tr>\n",
       "    <tr>\n",
       "      <th>1</th>\n",
       "      <td>ENCFF340QKB</td>\n",
       "      <td>tsv</td>\n",
       "      <td>gene quantifications</td>\n",
       "      <td>ENCSR373BDG</td>\n",
       "      <td>RNA-seq</td>\n",
       "      <td>CL:0002518</td>\n",
       "      <td>kidney epithelial cell</td>\n",
       "      <td>primary cell</td>\n",
       "      <td>Homo sapiens</td>\n",
       "      <td>NaN</td>\n",
       "      <td>...</td>\n",
       "      <td>NaN</td>\n",
       "      <td>https://www.encodeproject.org/files/ENCFF340QK...</td>\n",
       "      <td>hg19</td>\n",
       "      <td>NaN</td>\n",
       "      <td>NaN</td>\n",
       "      <td>released</td>\n",
       "      <td>NaN</td>\n",
       "      <td>NaN</td>\n",
       "      <td>NaN</td>\n",
       "      <td>NaN</td>\n",
       "    </tr>\n",
       "    <tr>\n",
       "      <th>2</th>\n",
       "      <td>ENCFF912TDO</td>\n",
       "      <td>tsv</td>\n",
       "      <td>gene quantifications</td>\n",
       "      <td>ENCSR434TEU</td>\n",
       "      <td>RNA-seq</td>\n",
       "      <td>UBERON:0008367</td>\n",
       "      <td>breast epithelium</td>\n",
       "      <td>tissue</td>\n",
       "      <td>Homo sapiens</td>\n",
       "      <td>NaN</td>\n",
       "      <td>...</td>\n",
       "      <td>NaN</td>\n",
       "      <td>https://www.encodeproject.org/files/ENCFF912TD...</td>\n",
       "      <td>hg19</td>\n",
       "      <td>NaN</td>\n",
       "      <td>NaN</td>\n",
       "      <td>released</td>\n",
       "      <td>NaN</td>\n",
       "      <td>NaN</td>\n",
       "      <td>NaN</td>\n",
       "      <td>NaN</td>\n",
       "    </tr>\n",
       "    <tr>\n",
       "      <th>3</th>\n",
       "      <td>ENCFF268ADF</td>\n",
       "      <td>tsv</td>\n",
       "      <td>gene quantifications</td>\n",
       "      <td>ENCSR000AFC</td>\n",
       "      <td>RNA-seq</td>\n",
       "      <td>UBERON:0002048</td>\n",
       "      <td>lung</td>\n",
       "      <td>tissue</td>\n",
       "      <td>Homo sapiens</td>\n",
       "      <td>NaN</td>\n",
       "      <td>...</td>\n",
       "      <td>NaN</td>\n",
       "      <td>https://www.encodeproject.org/files/ENCFF268AD...</td>\n",
       "      <td>hg19</td>\n",
       "      <td>NaN</td>\n",
       "      <td>NaN</td>\n",
       "      <td>released</td>\n",
       "      <td>NaN</td>\n",
       "      <td>NaN</td>\n",
       "      <td>NaN</td>\n",
       "      <td>NaN</td>\n",
       "    </tr>\n",
       "    <tr>\n",
       "      <th>4</th>\n",
       "      <td>ENCFF621GTC</td>\n",
       "      <td>tsv</td>\n",
       "      <td>gene quantifications</td>\n",
       "      <td>ENCSR000AFI</td>\n",
       "      <td>RNA-seq</td>\n",
       "      <td>UBERON:0000945</td>\n",
       "      <td>stomach</td>\n",
       "      <td>tissue</td>\n",
       "      <td>Homo sapiens</td>\n",
       "      <td>NaN</td>\n",
       "      <td>...</td>\n",
       "      <td>NaN</td>\n",
       "      <td>https://www.encodeproject.org/files/ENCFF621GT...</td>\n",
       "      <td>hg19</td>\n",
       "      <td>NaN</td>\n",
       "      <td>NaN</td>\n",
       "      <td>released</td>\n",
       "      <td>NaN</td>\n",
       "      <td>NaN</td>\n",
       "      <td>NaN</td>\n",
       "      <td>NaN</td>\n",
       "    </tr>\n",
       "  </tbody>\n",
       "</table>\n",
       "<p>5 rows × 46 columns</p>\n",
       "</div>"
      ],
      "text/plain": [
       "  File accession File format           Output type Experiment accession  \\\n",
       "0    ENCFF406YAV         tsv  gene quantifications          ENCSR457ENP   \n",
       "1    ENCFF340QKB         tsv  gene quantifications          ENCSR373BDG   \n",
       "2    ENCFF912TDO         tsv  gene quantifications          ENCSR434TEU   \n",
       "3    ENCFF268ADF         tsv  gene quantifications          ENCSR000AFC   \n",
       "4    ENCFF621GTC         tsv  gene quantifications          ENCSR000AFI   \n",
       "\n",
       "     Assay Biosample term id            Biosample term name Biosample type  \\\n",
       "0  RNA-seq    UBERON:0006631  right atrium auricular region         tissue   \n",
       "1  RNA-seq        CL:0002518         kidney epithelial cell   primary cell   \n",
       "2  RNA-seq    UBERON:0008367              breast epithelium         tissue   \n",
       "3  RNA-seq    UBERON:0002048                           lung         tissue   \n",
       "4  RNA-seq    UBERON:0000945                        stomach         tissue   \n",
       "\n",
       "  Biosample organism Biosample treatments     ...      dbxrefs  \\\n",
       "0       Homo sapiens                  NaN     ...          NaN   \n",
       "1       Homo sapiens                  NaN     ...          NaN   \n",
       "2       Homo sapiens                  NaN     ...          NaN   \n",
       "3       Homo sapiens                  NaN     ...          NaN   \n",
       "4       Homo sapiens                  NaN     ...          NaN   \n",
       "\n",
       "                                   File download URL  Assembly  Platform  \\\n",
       "0  https://www.encodeproject.org/files/ENCFF406YA...      hg19       NaN   \n",
       "1  https://www.encodeproject.org/files/ENCFF340QK...      hg19       NaN   \n",
       "2  https://www.encodeproject.org/files/ENCFF912TD...      hg19       NaN   \n",
       "3  https://www.encodeproject.org/files/ENCFF268AD...      hg19       NaN   \n",
       "4  https://www.encodeproject.org/files/ENCFF621GT...      hg19       NaN   \n",
       "\n",
       "  Controlled by File Status Audit WARNING Audit INTERNAL_ACTION  \\\n",
       "0           NaN    released           NaN                   NaN   \n",
       "1           NaN    released           NaN                   NaN   \n",
       "2           NaN    released           NaN                   NaN   \n",
       "3           NaN    released           NaN                   NaN   \n",
       "4           NaN    released           NaN                   NaN   \n",
       "\n",
       "   Audit NOT_COMPLIANT  Audit ERROR  \n",
       "0                  NaN          NaN  \n",
       "1                  NaN          NaN  \n",
       "2                  NaN          NaN  \n",
       "3                  NaN          NaN  \n",
       "4                  NaN          NaN  \n",
       "\n",
       "[5 rows x 46 columns]"
      ]
     },
     "execution_count": 5,
     "metadata": {},
     "output_type": "execute_result"
    }
   ],
   "source": [
    "rna.head()"
   ]
  },
  {
   "cell_type": "code",
   "execution_count": null,
   "metadata": {},
   "outputs": [],
   "source": []
  }
 ],
 "metadata": {
  "kernelspec": {
   "display_name": "Python 3",
   "language": "python",
   "name": "python3"
  },
  "language_info": {
   "codemirror_mode": {
    "name": "ipython",
    "version": 3
   },
   "file_extension": ".py",
   "mimetype": "text/x-python",
   "name": "python",
   "nbconvert_exporter": "python",
   "pygments_lexer": "ipython3",
   "version": "3.6.5"
  }
 },
 "nbformat": 4,
 "nbformat_minor": 2
}
