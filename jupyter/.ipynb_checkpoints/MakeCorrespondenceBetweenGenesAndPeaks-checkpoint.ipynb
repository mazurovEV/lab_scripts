{
 "cells": [
  {
   "cell_type": "code",
   "execution_count": 1,
   "metadata": {},
   "outputs": [],
   "source": [
    "import pandas as pd\n",
    "from scipy import stats\n",
    "import pickle\n",
    "#%matplotlib inline\n",
    "import matplotlib.pyplot as plt\n",
    "import seaborn as sb\n",
    "import numpy as np\n",
    "from matplotlib import rcParams\n",
    "from statsmodels.stats.multitest import multipletests\n",
    "from multiprocessing import Pool\n",
    "import datetime\n",
    "from scipy.stats import t as t_dist"
   ]
  },
  {
   "cell_type": "code",
   "execution_count": 2,
   "metadata": {},
   "outputs": [],
   "source": [
    "def testSignificance(data, dof):\n",
    "    t = data * np.sqrt((dof/((data+1.0)*(1.0-data))).clip(0))\n",
    "    print(\"count t\")\n",
    "    prob = 2 * t_dist.sf(np.abs(t), dof)\n",
    "    t = None\n",
    "    print(\"count p-values\")\n",
    "    return multipletests(prob, alpha=0.05, method='fdr_bh')[0]#Boolean mask"
   ]
  },
  {
   "cell_type": "code",
   "execution_count": 3,
   "metadata": {},
   "outputs": [],
   "source": [
    "def makeCorrespCorrs(target, anno_file_name, signal_file_name):\n",
    "    \n",
    "    anno = pd.read_csv(\"../all_marks/\" + target + \"/\" + anno_file_name, sep=\"\\t\")\n",
    "    anno['feature'] = [i.split('.')[0] for i in anno['feature']]\n",
    "    chip = pd.read_csv(\"../all_marks/\" + target + \"/\" + signal_file_name, sep=\"\\t\", index_col=0)\n",
    "    rna = pd.read_csv(\"../all_marks/\" + target + \"/rna_matrix_norm.csv\", sep=\"\\t\", index_col=0)\n",
    "    rna.index = [i.split(\".\")[0] for i in rna.index]\n",
    "    \n",
    "    #откуда такая разница?(между encode списком и gencode аннотацией)\n",
    "    common_genes = set(rna.index).intersection(set([i.split('.')[0] for i in anno['feature']]))\n",
    "    rna = rna.loc[common_genes]\n",
    "    anno = anno[anno['feature'].isin(common_genes)]\n",
    "    \n",
    "    print(\"Make matrices...\")\n",
    "    X = stats.mstats.rankdata(chip.loc[anno['peak']].values, axis=1)\n",
    "    X = X.astype('float32')\n",
    "   \n",
    "    Y = stats.mstats.rankdata(rna.loc[anno['feature']].values, axis=1)\n",
    "    Y = Y.astype('float32')\n",
    "    \n",
    "    print(\"Make corrs...\")\n",
    "    #Векторизованная корреляция\n",
    "    Xm = np.reshape(np.mean(X,axis=1),(X.shape[0],1))\n",
    "    Ym = np.reshape(np.mean(Y,axis=1),(Y.shape[0],1))\n",
    "    r_num = np.sum((X-Xm)*(Y-Ym), axis=1)\n",
    "    r_den = np.sqrt(np.sum((X-Xm)**2, axis=1))*np.sqrt(np.sum((Y-Ym)**2,axis=1))\n",
    "    corr = r_num/r_den\n",
    "    \n",
    "    print(\"Make significance...\")\n",
    "    signif_mask = testSignificance(corr, chip.shape[1] - 2)\n",
    "    corr[~signif_mask] = 0\n",
    "    \n",
    "    print(\"Return nonzero corrs...\")\n",
    "    return corr[corr.nonzero()]"
   ]
  },
  {
   "cell_type": "code",
   "execution_count": 4,
   "metadata": {},
   "outputs": [
    {
     "name": "stdout",
     "output_type": "stream",
     "text": [
      "Make matrices...\n",
      "Make corrs...\n"
     ]
    },
    {
     "name": "stderr",
     "output_type": "stream",
     "text": [
      "/home/mazurovev/.local/lib/python3.6/site-packages/ipykernel_launcher.py:27: RuntimeWarning: invalid value encountered in true_divide\n",
      "/home/mazurovev/.local/lib/python3.6/site-packages/scipy/stats/_distn_infrastructure.py:901: RuntimeWarning: invalid value encountered in greater\n",
      "  return (a < x) & (x < b)\n",
      "/home/mazurovev/.local/lib/python3.6/site-packages/scipy/stats/_distn_infrastructure.py:901: RuntimeWarning: invalid value encountered in less\n",
      "  return (a < x) & (x < b)\n",
      "/home/mazurovev/.local/lib/python3.6/site-packages/scipy/stats/_distn_infrastructure.py:1892: RuntimeWarning: invalid value encountered in less_equal\n",
      "  cond2 = cond0 & (x <= _a)\n"
     ]
    },
    {
     "name": "stdout",
     "output_type": "stream",
     "text": [
      "Make significance...\n",
      "count t\n",
      "count p-values\n",
      "Return nonzero corrs...\n"
     ]
    },
    {
     "name": "stderr",
     "output_type": "stream",
     "text": [
      "/home/mazurovev/.local/lib/python3.6/site-packages/statsmodels/stats/multitest.py:320: RuntimeWarning: invalid value encountered in less_equal\n",
      "  reject = pvals_sorted <= ecdffactor*alpha\n"
     ]
    }
   ],
   "source": [
    "corrs = makeCorrespCorrs(\"H3K27me3\", \"broad_2_peaks_fantom_anno.csv\", \"broad_2_peaks_signal_matrix_norm.csv\")"
   ]
  },
  {
   "cell_type": "code",
   "execution_count": 5,
   "metadata": {},
   "outputs": [
    {
     "data": {
      "text/plain": [
       "8279"
      ]
     },
     "execution_count": 5,
     "metadata": {},
     "output_type": "execute_result"
    }
   ],
   "source": [
    "len(corrs)"
   ]
  },
  {
   "cell_type": "code",
   "execution_count": 4,
   "metadata": {},
   "outputs": [
    {
     "name": "stdout",
     "output_type": "stream",
     "text": [
      "Make matrices...\n",
      "Make corrs...\n"
     ]
    },
    {
     "name": "stderr",
     "output_type": "stream",
     "text": [
      "/home/mazurovev/.local/lib/python3.6/site-packages/ipykernel_launcher.py:27: RuntimeWarning: invalid value encountered in true_divide\n",
      "/home/mazurovev/.local/lib/python3.6/site-packages/scipy/stats/_distn_infrastructure.py:879: RuntimeWarning: invalid value encountered in greater\n",
      "  return (self.a < x) & (x < self.b)\n",
      "/home/mazurovev/.local/lib/python3.6/site-packages/scipy/stats/_distn_infrastructure.py:879: RuntimeWarning: invalid value encountered in less\n",
      "  return (self.a < x) & (x < self.b)\n",
      "/home/mazurovev/.local/lib/python3.6/site-packages/scipy/stats/_distn_infrastructure.py:1821: RuntimeWarning: invalid value encountered in less_equal\n",
      "  cond2 = cond0 & (x <= self.a)\n"
     ]
    },
    {
     "name": "stdout",
     "output_type": "stream",
     "text": [
      "Make significance...\n",
      "count t\n",
      "count p-values\n",
      "Return nonzero corrs...\n"
     ]
    },
    {
     "name": "stderr",
     "output_type": "stream",
     "text": [
      "/home/mazurovev/.local/lib/python3.6/site-packages/statsmodels/stats/multitest.py:320: RuntimeWarning: invalid value encountered in less_equal\n",
      "  reject = pvals_sorted <= ecdffactor*alpha\n"
     ]
    }
   ],
   "source": [
    "corrs = makeCorrespCorrs(\"H3K27ac\", \"peaks_anno.csv\", \"peaks_signal_matrix_norm.csv\")"
   ]
  },
  {
   "cell_type": "code",
   "execution_count": 5,
   "metadata": {},
   "outputs": [
    {
     "data": {
      "text/plain": [
       "70491"
      ]
     },
     "execution_count": 5,
     "metadata": {},
     "output_type": "execute_result"
    }
   ],
   "source": [
    "len(corrs)"
   ]
  },
  {
   "cell_type": "code",
   "execution_count": 6,
   "metadata": {},
   "outputs": [],
   "source": [
    "rcParams['figure.figsize'] = 11.7,8.27\n",
    "rcParams[\"patch.force_edgecolor\"] = True\n",
    "sb.set(color_codes=True)"
   ]
  },
  {
   "cell_type": "code",
   "execution_count": 7,
   "metadata": {},
   "outputs": [
    {
     "data": {
      "image/png": "[encoded data removed]",
      "text/plain": [
       "<Figure size 842.4x595.44 with 1 Axes>"
      ]
     },
     "metadata": {},
     "output_type": "display_data"
    }
   ],
   "source": [
    "ax = sb.distplot(corrs, bins=5, kde=False)\n",
    "ax.set_title(\"H3K27me3 correspondance between genes and peaks - 1088 pairs\")\n",
    "#ax.set_xticks([np.arange(-1, 1, 0.16)])\n",
    "#ax.set_yticks(range(0, 70001, 10000))\n",
    "ax.set_xticklabels(np.around(ax.get_xticks(), decimals=2), rotation=35)\n",
    "ax.set(xlabel='correlation')\n",
    "plt.show()"
   ]
  },
  {
   "cell_type": "code",
   "execution_count": 13,
   "metadata": {},
   "outputs": [],
   "source": [
    "fig = ax.get_figure()\n",
    "fig.patch.set_alpha(0)\n",
    "fig.savefig(\"../all_marks/H3K27ac/plots/MakeCorrespondenceBetweenGenesAndPeaks_correlation_hist.png\", bbox_inches='tight', pad_inches = 0)"
   ]
  },
  {
   "cell_type": "code",
   "execution_count": null,
   "metadata": {},
   "outputs": [],
   "source": []
  }
 ],
 "metadata": {
  "kernelspec": {
   "display_name": "Python 3",
   "language": "python",
   "name": "python3"
  },
  "language_info": {
   "codemirror_mode": {
    "name": "ipython",
    "version": 3
   },
   "file_extension": ".py",
   "mimetype": "text/x-python",
   "name": "python",
   "nbconvert_exporter": "python",
   "pygments_lexer": "ipython3",
   "version": "3.6.9"
  }
 },
 "nbformat": 4,
 "nbformat_minor": 2
}
