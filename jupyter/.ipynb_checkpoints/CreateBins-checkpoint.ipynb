{
 "cells": [
  {
   "cell_type": "code",
   "execution_count": 38,
   "metadata": {},
   "outputs": [],
   "source": [
    "import nbimporter\n",
    "import load_data as ld"
   ]
  },
  {
   "cell_type": "code",
   "execution_count": 39,
   "metadata": {},
   "outputs": [
    {
     "name": "stdout",
     "output_type": "stream",
     "text": [
      "Importing Jupyter notebook from load_data.ipynb\n"
     ]
    },
    {
     "data": {
      "text/plain": [
       "<module 'load_data' from 'load_data.ipynb'>"
      ]
     },
     "execution_count": 39,
     "metadata": {},
     "output_type": "execute_result"
    }
   ],
   "source": [
    "from importlib import reload\n",
    "reload(ld)"
   ]
  },
  {
   "cell_type": "code",
   "execution_count": 27,
   "metadata": {},
   "outputs": [],
   "source": [
    "binLength = 450\n",
    "binStep = 150\n",
    "dataPath = \"../H3K27me3/H3K27me3_filtered_by_biosample.csv\"\n",
    "blackListPath = \"../wgEncodeDacMapabilityConsensusExcludable.bed\"\n",
    "binValueBoundary = 5#если значение бина меньше этого - обнуляем(считаем, что это шум)"
   ]
  },
  {
   "cell_type": "code",
   "execution_count": null,
   "metadata": {},
   "outputs": [
    {
     "name": "stdout",
     "output_type": "stream",
     "text": [
      "Chrom chr1, length = 249250621\n",
      "Download chr1 from ../H3K27me3/bw/ENCFF017GGC.bw, length = 249250621\n",
      "Download chr1 from ../H3K27me3/bw/ENCFF043MFS.bw, length = 249250621\n"
     ]
    }
   ],
   "source": [
    "#ld.loadWholeGenome(dataPath, binLength, binStep, \"../H3K27me3/WGBins.pickle\", False)\n",
    "ld.getBinsCoords(binLength, binStep, \"../H3K27me3/WGCoordsBins.pickle\")\n",
    "ld.loadWholeGenome(dataPath, binLength, binStep, \"../H3K27me3/WGControlBins.pickle\", True)"
   ]
  },
  {
   "cell_type": "code",
   "execution_count": null,
   "metadata": {},
   "outputs": [],
   "source": []
  }
 ],
 "metadata": {
  "kernelspec": {
   "display_name": "Python 3",
   "language": "python",
   "name": "python3"
  },
  "language_info": {
   "codemirror_mode": {
    "name": "ipython",
    "version": 3
   },
   "file_extension": ".py",
   "mimetype": "text/x-python",
   "name": "python",
   "nbconvert_exporter": "python",
   "pygments_lexer": "ipython3",
   "version": "3.6.5"
  }
 },
 "nbformat": 4,
 "nbformat_minor": 2
}
