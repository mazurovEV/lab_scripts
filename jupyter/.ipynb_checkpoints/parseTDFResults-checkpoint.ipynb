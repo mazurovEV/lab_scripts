{
 "cells": [
  {
   "cell_type": "code",
   "execution_count": 17,
   "metadata": {},
   "outputs": [],
   "source": [
    "from bs4 import BeautifulSoup\n",
    "from collections import defaultdict\n",
    "import pandas as pd\n",
    "import sys\n",
    "import os\n",
    "import argparse"
   ]
  },
  {
   "cell_type": "code",
   "execution_count": 48,
   "metadata": {},
   "outputs": [],
   "source": [
    "parser = argparse.ArgumentParser(description='Process TDF results')"
   ]
  },
  {
   "cell_type": "code",
   "execution_count": 49,
   "metadata": {},
   "outputs": [
    {
     "data": {
      "text/plain": [
       "_StoreAction(option_strings=['--path'], dest='path', nargs='+', const=None, default=None, type=<class 'str'>, choices=None, help='path to the tdf folder(without last slash); script will use index.html from this folder and create data.tsv file in this folder', metavar=None)"
      ]
     },
     "execution_count": 49,
     "metadata": {},
     "output_type": "execute_result"
    }
   ],
   "source": [
    "parser.add_argument('--path', type=str, nargs='+', help='path to the tdf folder(without last slash); script will use index.html from this folder and create data.tsv file in this folder')"
   ]
  },
  {
   "cell_type": "code",
   "execution_count": 50,
   "metadata": {},
   "outputs": [
    {
     "data": {
      "text/plain": [
       "_StoreAction(option_strings=['--folder'], dest='folder', nargs=None, const=None, default=None, type=<class 'str'>, choices=None, help='path to the folder with tdf folders(without last slash)', metavar=None)"
      ]
     },
     "execution_count": 50,
     "metadata": {},
     "output_type": "execute_result"
    }
   ],
   "source": [
    "parser.add_argument('--folder', type=str, help='path to the folder with tdf folders(without last slash)')"
   ]
  },
  {
   "cell_type": "code",
   "execution_count": 51,
   "metadata": {},
   "outputs": [
    {
     "name": "stderr",
     "output_type": "stream",
     "text": [
      "usage: ipykernel_launcher.py [-h] [--path PATH [PATH ...]] [--folder FOLDER]\n",
      "ipykernel_launcher.py: error: unrecognized arguments: -f /run/user/1001/jupyter/kernel-3fa2951a-bf43-43ab-9c96-5d77b107bb89.json\n"
     ]
    },
    {
     "ename": "SystemExit",
     "evalue": "2",
     "output_type": "error",
     "traceback": [
      "An exception has occurred, use %tb to see the full traceback.\n",
      "\u001b[0;31mSystemExit\u001b[0m\u001b[0;31m:\u001b[0m 2\n"
     ]
    },
    {
     "name": "stderr",
     "output_type": "stream",
     "text": [
      "/home/mazurovev/.local/lib/python3.6/site-packages/IPython/core/interactiveshell.py:2971: UserWarning: To exit: use 'exit', 'quit', or Ctrl-D.\n",
      "  warn(\"To exit: use 'exit', 'quit', or Ctrl-D.\", stacklevel=1)\n"
     ]
    }
   ],
   "source": [
    "args = parser.parse_args()"
   ]
  },
  {
   "cell_type": "code",
   "execution_count": 29,
   "metadata": {},
   "outputs": [],
   "source": [
    "def custom():\n",
    "    from pathlib import Path\n",
    "    dir = Path(\"/home/mek/FANTOM/promoters/TDF/l10e20g70n1000\")\n",
    "    lncRNAs = [f for f in dir.iterdir() if f.is_dir()]\n",
    "    res = []\n",
    "    for rna in lncRNAs:\n",
    "        path = rna / rna.name / \"index.html\"\n",
    "        print(path)\n",
    "        if not path.exists(): \n",
    "            print(\"Significant rows: 0\")\n",
    "            res.append(0)\n",
    "        else:\n",
    "            with open(path) as fp:\n",
    "                sp = BeautifulSoup(fp, \"lxml\")\n",
    "\n",
    "            data = html2frame(sp)\n",
    "            print(\"Significant rows: \" + str(data[data['p-value'] < 0.05].shape[0]))\n",
    "            res.append(data[data['p-value'] < 0.05].shape[0])\n",
    "    return res\n",
    "        #data.to_csv(\"../H3K27me3/fantom_tdf/gencode_ann/\" + rna + \".tsv\", sep=\"\\t\", index=None)"
   ]
  },
  {
   "cell_type": "code",
   "execution_count": 31,
   "metadata": {},
   "outputs": [],
   "source": [
    "def html2frame(sp):\n",
    "    table = sp.find_all('tbody')[0]\n",
    "    d = defaultdict(list)\n",
    "    for row in table.find_all('tr'):\n",
    "        columns = row.find_all('td')\n",
    "        d['DBD'].append(str(columns[1].string))\n",
    "        d['tr_with DBS'].append(str(columns[2].string))\n",
    "        d['tr_without DBS'].append(str(columns[3].string))\n",
    "        d['ntr_with DBS(average)'].append(str(columns[4].string))\n",
    "        d['ntr_with DBS(std)'].append(str(columns[5].string))\n",
    "        d['p-value'].append(float(columns[6].string))\n",
    "        d['z-score'].append(float(columns[7].string))\n",
    "    \n",
    "    return pd.DataFrame(d)"
   ]
  },
  {
   "cell_type": "code",
   "execution_count": 64,
   "metadata": {},
   "outputs": [],
   "source": [
    "def parseResults(path):\n",
    "    try:\n",
    "        with open(path + \"/index.html\") as fp:\n",
    "            sp = BeautifulSoup(fp, \"lxml\")\n",
    "\n",
    "        data = html2frame(sp)\n",
    "        print(\"Significant rows count for \" + path + \": \" + str(data[data['p-value'] < 0.05].shape[0]))\n",
    "\n",
    "        data.to_csv(path + \"/data.tsv\", sep=\"\\t\", index=None)\n",
    "    except EnvironmentError: # parent of IOError, OSError *and* WindowsError where available\n",
    "        print('Oops, ' + path + '/index.html not found')"
   ]
  },
  {
   "cell_type": "code",
   "execution_count": null,
   "metadata": {},
   "outputs": [],
   "source": [
    "if(args.path is not None):\n",
    "    \n",
    "    for path in args.path:\n",
    "        parseResults(path)\n",
    "        \n",
    "elif(args.folder is not None):\n",
    "    folders = os.listdir(args.folder)\n",
    "    \n",
    "    for path in folders:\n",
    "        parseResults(args.folder + \"/\" + path)"
   ]
  }
 ],
 "metadata": {
  "kernelspec": {
   "display_name": "Python 3",
   "language": "python",
   "name": "python3"
  },
  "language_info": {
   "codemirror_mode": {
    "name": "ipython",
    "version": 3
   },
   "file_extension": ".py",
   "mimetype": "text/x-python",
   "name": "python",
   "nbconvert_exporter": "python",
   "pygments_lexer": "ipython3",
   "version": "3.6.8"
  }
 },
 "nbformat": 4,
 "nbformat_minor": 2
}
