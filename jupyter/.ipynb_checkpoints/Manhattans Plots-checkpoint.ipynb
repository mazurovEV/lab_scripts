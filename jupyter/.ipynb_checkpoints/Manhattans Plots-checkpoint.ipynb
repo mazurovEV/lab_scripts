{
 "cells": [
  {
   "cell_type": "code",
   "execution_count": null,
   "metadata": {},
   "outputs": [],
   "source": [
    "import pandas as pd\n",
    "import h5py"
   ]
  },
  {
   "cell_type": "code",
   "execution_count": null,
   "metadata": {},
   "outputs": [],
   "source": [
    "targets = [(\"H3K27ac\", \"_narrow\"), (\"H3K36me3\", \"\"), \n",
    "           (\"H3K4me1\", \"_narrow\"), (\"H3K4me2\", \"_narrow\"), (\"H3K4me3\", \"_narrow\"), (\"H3K79me2\", \"\"), \n",
    "           (\"H3K9ac\", \"_narrow\"), (\"H3K9me3\", \"\"), (\"H4K20me1\", \"\"), (\"H3K27me3\", \"\")]"
   ]
  },
  {
   "cell_type": "code",
   "execution_count": null,
   "metadata": {},
   "outputs": [],
   "source": [
    "for t in targets:\n",
    "    with h5py.File(\"../all_marks/\" + t[0] + \"/lncRNA_Peaks_corrs/lncRNA_Peaks_Correlations_corrected_non_zero.hdf5\", 'r') as f:\n",
    "        corr = f['corrs_matrix'][:]\n",
    "        lncRNAsNames = f['lncRNAs_names'][:]\n",
    "        peaks = pd.read_csv(\"../all_marks/\" + t[0] + \"/merged_peaks_first_in_biosample.bed\", sep=\"\\t\", header=None)\n",
    "        \n",
    "        for i in range(0, corr.shape[0]):\n",
    "            row = corr[i, :]\n",
    "            lncRNA = lncRNAsNames[i]\n",
    "            nonzero_corrs = row[np.nonzero(row)[0]]\n",
    "            nonzero_peaks = [\"peak_\" + str(i) for i in np.nonzero(row)[0]]"
   ]
  }
 ],
 "metadata": {
  "kernelspec": {
   "display_name": "Python 3",
   "language": "python",
   "name": "python3"
  },
  "language_info": {
   "codemirror_mode": {
    "name": "ipython",
    "version": 3
   },
   "file_extension": ".py",
   "mimetype": "text/x-python",
   "name": "python",
   "nbconvert_exporter": "python",
   "pygments_lexer": "ipython3",
   "version": "3.6.9"
  }
 },
 "nbformat": 4,
 "nbformat_minor": 2
}
