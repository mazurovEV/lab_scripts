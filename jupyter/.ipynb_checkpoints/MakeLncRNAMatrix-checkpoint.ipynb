{
 "cells": [
  {
   "cell_type": "code",
   "execution_count": 1,
   "metadata": {},
   "outputs": [],
   "source": [
    "from BCBio import GFF\n",
    "from Bio.Seq import Seq\n",
    "from Bio.SeqUtils import GC\n",
    "from Bio.SeqRecord import SeqRecord\n",
    "from Bio.SeqFeature import SeqFeature, FeatureLocation\n",
    "import glob\n",
    "import pandas as pd\n",
    "%matplotlib inline\n",
    "import matplotlib\n",
    "import matplotlib.pyplot as plt\n",
    "import seaborn as sb\n",
    "from matplotlib import rcParams\n",
    "from scipy import stats\n",
    "from multiprocessing import Pool\n",
    "import os"
   ]
  },
  {
   "cell_type": "code",
   "execution_count": 4,
   "metadata": {},
   "outputs": [],
   "source": [
    "targets = [(\"H3K27ac\", \"_narrow\"), (\"H3K27me3\", \"_narrow\"), (\"H3K36me3\", \"_narrow\"), (\"H3K4me1\", \"_narrow\"), (\"H3K4me2\", \"_narrow\"), (\"H3K4me3\", \"_narrow\"), (\"H3K79me2\", \"\"), \n",
    "           (\"H3K9ac\", \"_narrow\"), (\"H3K9me3\", \"\"), (\"H4K20me1\", \"\"), ('methylation', '')]"
   ]
  },
  {
   "cell_type": "code",
   "execution_count": 3,
   "metadata": {},
   "outputs": [],
   "source": [
    "def getLncRNAGeneSet():\n",
    "    \n",
    "    in_file = \"../all_marks/gencode.v31.long_noncoding_RNAs.gff3\"\n",
    "    in_handle = open(in_file)\n",
    "\n",
    "    limit_info = dict(\n",
    "        gff_id = ['chr1', 'chr10', 'chr11', 'chr12', 'chr13', 'chr14', 'chr15', 'chr16', 'chr17', 'chr18', \n",
    "     'chr19', 'chr2', 'chr20', 'chr21', 'chr22', 'chr3', 'chr4', 'chr5', 'chr6', 'chr7', 'chr8', 'chr9', 'chrX', 'chrY'],\n",
    "        gff_type = [\"gene\"])\n",
    "\n",
    "    lncRNAgenes = []\n",
    "    for rec in GFF.parse(in_handle, limit_info=limit_info):\n",
    "        lncRNAgenes.append((rec.id, rec.features)) \n",
    "\n",
    "    in_handle.close()\n",
    "    \n",
    "    lncRNAgenesStartPositions = {\n",
    "    g.id.split(\".\")[0]:[i, g.location.start.position, g.location.end.position, g.strand] for i, j in lncRNAgenes for g in j}\n",
    "    \n",
    "    return [i for i in lncRNAgenesStartPositions.keys() if i.startswith(\"ENSG\")]"
   ]
  },
  {
   "cell_type": "code",
   "execution_count": 3,
   "metadata": {},
   "outputs": [],
   "source": [
    "def makeLncRNAMatrix(target, threshold):\n",
    "    rna = pd.read_csv(\"../all_marks/\" + target + \"/rna_matrix.csv\", sep=\"\\t\", index_col=0)\n",
    "    rna.index = [i.split('.')[0] for i in rna.index]\n",
    "    lncRNA = rna[rna.index.isin(getLncRNAGeneSet())]\n",
    "    lncRNA.to_csv(\"../all_marks/\" + target + \"/lncRNA_matrix.csv\")\n",
    "    \n",
    "    mask = []\n",
    "    for index, row in lncRNA.iterrows():\n",
    "        if(len([i for i in row if i != 0]) >= threshold): \n",
    "            mask.append(True)\n",
    "        else:\n",
    "            mask.append(False)\n",
    "            \n",
    "    filterLncRNA = lncRNA[mask]\n",
    "    print(str(filterLncRNA.shape[0]) + \" lncRNAs\")\n",
    "    filterLncRNA.to_csv(\"../all_marks/\" + target + \"/lncRNA_matrix_filtered.csv\", sep=\"\\t\")"
   ]
  },
  {
   "cell_type": "code",
   "execution_count": 4,
   "metadata": {},
   "outputs": [
    {
     "name": "stdout",
     "output_type": "stream",
     "text": [
      "4618 lncRNAs\n"
     ]
    }
   ],
   "source": [
    "#methylation\n",
    "makeLncRNAMatrix(\"methylation\", 10)"
   ]
  },
  {
   "cell_type": "code",
   "execution_count": 7,
   "metadata": {},
   "outputs": [
    {
     "name": "stdout",
     "output_type": "stream",
     "text": [
      "make lncRNA matrix for H3K4me1...\n",
      "6156 lncRNAs\n",
      "make lncRNA matrix for H3K4me2...\n",
      "3027 lncRNAs\n",
      "make lncRNA matrix for H3K4me3...\n",
      "6434 lncRNAs\n",
      "make lncRNA matrix for H3K79me2...\n",
      "3268 lncRNAs\n",
      "make lncRNA matrix for H3K9ac...\n",
      "3200 lncRNAs\n",
      "make lncRNA matrix for H3K9me3...\n",
      "5983 lncRNAs\n",
      "make lncRNA matrix for H4K20me1...\n",
      "3027 lncRNAs\n"
     ]
    }
   ],
   "source": [
    "for target in targets:\n",
    "    print(\"make lncRNA matrix for \" + target[0] + \"...\")\n",
    "    makeLncRNAMatrix(target[0], 10)"
   ]
  },
  {
   "cell_type": "code",
   "execution_count": 6,
   "metadata": {},
   "outputs": [
    {
     "name": "stdout",
     "output_type": "stream",
     "text": [
      "find in H3K27ac\n",
      "find in H3K27me3\n",
      "find in H3K36me3\n",
      "find in H3K4me1\n",
      "find in H3K4me2\n",
      "find in H3K4me3\n",
      "find in H3K79me2\n",
      "find in H3K9ac\n",
      "find in H3K9me3\n",
      "find in H4K20me1\n",
      "find in methylation\n"
     ]
    }
   ],
   "source": [
    "for target in targets:\n",
    "    lncRNAs = pd.read_csv(\"../all_marks/\" + target[0] + \"/lncRNA_matrix_filtered.csv\", sep=\"\\t\", index_col=0).index\n",
    "    #TUG1\n",
    "    if 'ENSG00000253352' in lncRNAs:\n",
    "        print(\"find in \" + target[0])\n",
    "    else:\n",
    "        print(\"Not find in \" + target[0])"
   ]
  },
  {
   "cell_type": "code",
   "execution_count": 15,
   "metadata": {},
   "outputs": [
    {
     "name": "stdout",
     "output_type": "stream",
     "text": [
      "H3K27ac\n"
     ]
    },
    {
     "data": {
      "text/plain": [
       "CL:0000062/ENCFF636OVU.tsv        30961\n",
       "CL:0000103/ENCFF249CKU.tsv            0\n",
       "CL:0000127/ENCFF561IAZ.tsv         4328\n",
       "CL:0000182/ENCFF072XSA.tsv            0\n",
       "CL:0000192/ENCFF401KXP.tsv            0\n",
       "CL:0000515/ENCFF803CZZ.tsv            0\n",
       "CL:0000746/ENCFF309DAN.tsv            0\n",
       "CL:0002327/ENCFF805ZGF.tsv        18739\n",
       "CL:0002372/ENCFF320IDT.tsv            0\n",
       "CL:0002551/ENCFF081NBY.tsv        28790\n",
       "CL:0002553/ENCFF500UYD.tsv            0\n",
       "CL:1001606/ENCFF162ORU.tsv            0\n",
       "EFO:0001196/ENCFF353SBP.tsv       18808\n",
       "EFO:0002074/ENCFF200VPR.tsv           0\n",
       "EFO:0002784/ENCFF306TLL.tsv       20629\n",
       "EFO:0003042/ENCFF093NEQ.tsv           2\n",
       "EFO:0005719/ENCFF657WZA.tsv       22669\n",
       "EFO:0005723/ENCFF092TYT.tsv           0\n",
       "EFO:0006711/ENCFF212NBG.tsv           0\n",
       "EFO:0007950/ENCFF302MVN.tsv          62\n",
       "NTR:0000711/ENCFF663ARH.tsv           1\n",
       "UBERON:0000473/ENCFF857HXK.tsv     1141\n",
       "UBERON:0000945/ENCFF008WDP.tsv       80\n",
       "UBERON:0000992/ENCFF132XQU.tsv    28722\n",
       "UBERON:0000995/ENCFF036RQO.tsv    36654\n",
       "UBERON:0000996/ENCFF916ODF.tsv    13343\n",
       "UBERON:0001114/ENCFF086GFD.tsv    12336\n",
       "UBERON:0001150/ENCFF839NBX.tsv    22881\n",
       "UBERON:0001157/ENCFF630RAI.tsv    35288\n",
       "UBERON:0001159/ENCFF268RWA.tsv      250\n",
       "UBERON:0001211/ENCFF099VXK.tsv     4623\n",
       "UBERON:0001255/ENCFF602QFS.tsv    59999\n",
       "UBERON:0001323/ENCFF046AFQ.tsv    22026\n",
       "UBERON:0001496/ENCFF512FHU.tsv    16252\n",
       "UBERON:0001515/ENCFF199BWJ.tsv       22\n",
       "UBERON:0002046/ENCFF083NSQ.tsv        1\n",
       "UBERON:0002048/ENCFF573QQU.tsv    86925\n",
       "UBERON:0002084/ENCFF862LZL.tsv     4674\n",
       "UBERON:0002106/ENCFF474KYX.tsv    23249\n",
       "UBERON:0002107/ENCFF166NPX.tsv      226\n",
       "UBERON:0002240/ENCFF126UNL.tsv    40903\n",
       "UBERON:0002369/ENCFF212SUD.tsv        1\n",
       "UBERON:0004550/ENCFF440IKM.tsv     6119\n",
       "UBERON:0004648/ENCFF288ZVS.tsv      122\n",
       "UBERON:0006631/ENCFF132SDD.tsv     9128\n",
       "UBERON:0006920/ENCFF519MGF.tsv        1\n",
       "UBERON:0008367/ENCFF082SUT.tsv    51951\n",
       "UBERON:0008952/ENCFF042JPR.tsv       27\n",
       "UBERON:0011907/ENCFF090CMK.tsv        4\n",
       "Name: ENSG00000229807, dtype: int64"
      ]
     },
     "metadata": {},
     "output_type": "display_data"
    },
    {
     "name": "stdout",
     "output_type": "stream",
     "text": [
      "H3K27me3\n"
     ]
    },
    {
     "data": {
      "text/plain": [
       "CL:0000062/ENCFF636OVU.tsv        30961\n",
       "CL:0000103/ENCFF249CKU.tsv            0\n",
       "CL:0000127/ENCFF561IAZ.tsv         4328\n",
       "CL:0000182/ENCFF072XSA.tsv            0\n",
       "CL:0000192/ENCFF401KXP.tsv            0\n",
       "CL:0000515/ENCFF803CZZ.tsv            0\n",
       "CL:0000746/ENCFF309DAN.tsv            0\n",
       "CL:0000842/ENCFF333OOM.tsv        68767\n",
       "CL:0002327/ENCFF805ZGF.tsv        18739\n",
       "CL:0002328/ENCFF207VFL.tsv        19171\n",
       "CL:0002372/ENCFF320IDT.tsv            0\n",
       "CL:0002518/ENCFF177SUW.tsv            0\n",
       "CL:0002553/ENCFF500UYD.tsv            0\n",
       "CL:1001606/ENCFF162ORU.tsv            0\n",
       "EFO:0001187/ENCFF041HHL.tsv           1\n",
       "EFO:0001196/ENCFF353SBP.tsv       18808\n",
       "EFO:0002067/ENCFF104VTJ.tsv        5284\n",
       "EFO:0002074/ENCFF200VPR.tsv           0\n",
       "EFO:0002784/ENCFF306TLL.tsv       20629\n",
       "EFO:0003042/ENCFF093NEQ.tsv           2\n",
       "EFO:0005719/ENCFF657WZA.tsv       22669\n",
       "EFO:0005723/ENCFF092TYT.tsv           0\n",
       "EFO:0005904/ENCFF199UNP.tsv           0\n",
       "EFO:0007950/ENCFF302MVN.tsv          62\n",
       "NTR:0000711/ENCFF663ARH.tsv           1\n",
       "UBERON:0000473/ENCFF857HXK.tsv     1141\n",
       "UBERON:0000945/ENCFF008WDP.tsv       80\n",
       "UBERON:0000948/ENCFF455HQT.tsv    44027\n",
       "UBERON:0000992/ENCFF132XQU.tsv    28722\n",
       "UBERON:0000995/ENCFF036RQO.tsv    36654\n",
       "UBERON:0001150/ENCFF839NBX.tsv    22881\n",
       "UBERON:0001157/ENCFF630RAI.tsv    35288\n",
       "UBERON:0001159/ENCFF268RWA.tsv      250\n",
       "UBERON:0001211/ENCFF099VXK.tsv     4623\n",
       "UBERON:0001323/ENCFF046AFQ.tsv    22026\n",
       "UBERON:0001496/ENCFF512FHU.tsv    16252\n",
       "UBERON:0001515/ENCFF199BWJ.tsv       22\n",
       "UBERON:0002046/ENCFF083NSQ.tsv        1\n",
       "UBERON:0002048/ENCFF573QQU.tsv    86925\n",
       "UBERON:0002084/ENCFF862LZL.tsv     4674\n",
       "UBERON:0002106/ENCFF474KYX.tsv    23249\n",
       "UBERON:0002107/ENCFF166NPX.tsv      226\n",
       "UBERON:0002240/ENCFF126UNL.tsv    40903\n",
       "UBERON:0002369/ENCFF212SUD.tsv        1\n",
       "UBERON:0004648/ENCFF288ZVS.tsv      122\n",
       "UBERON:0006631/ENCFF132SDD.tsv     9128\n",
       "UBERON:0006920/ENCFF519MGF.tsv        1\n",
       "UBERON:0008367/ENCFF082SUT.tsv    51951\n",
       "UBERON:0008952/ENCFF042JPR.tsv       27\n",
       "UBERON:0011907/ENCFF090CMK.tsv        4\n",
       "Name: ENSG00000229807, dtype: int64"
      ]
     },
     "metadata": {},
     "output_type": "display_data"
    },
    {
     "name": "stdout",
     "output_type": "stream",
     "text": [
      "H3K36me3\n"
     ]
    },
    {
     "data": {
      "text/plain": [
       "CL:0000062/ENCFF636OVU.tsv        30961\n",
       "CL:0000103/ENCFF249CKU.tsv            0\n",
       "CL:0000127/ENCFF561IAZ.tsv         4328\n",
       "CL:0000182/ENCFF072XSA.tsv            0\n",
       "CL:0000192/ENCFF401KXP.tsv            0\n",
       "CL:0000515/ENCFF803CZZ.tsv            0\n",
       "CL:0000746/ENCFF309DAN.tsv            0\n",
       "CL:0002327/ENCFF805ZGF.tsv        18739\n",
       "CL:0002328/ENCFF207VFL.tsv        19171\n",
       "CL:0002372/ENCFF320IDT.tsv            0\n",
       "CL:0002518/ENCFF177SUW.tsv            0\n",
       "CL:0002551/ENCFF081NBY.tsv        28790\n",
       "CL:0002553/ENCFF500UYD.tsv            0\n",
       "EFO:0001187/ENCFF041HHL.tsv           1\n",
       "EFO:0001196/ENCFF353SBP.tsv       18808\n",
       "EFO:0002067/ENCFF104VTJ.tsv        5284\n",
       "EFO:0002074/ENCFF200VPR.tsv           0\n",
       "EFO:0002784/ENCFF306TLL.tsv       20629\n",
       "EFO:0003042/ENCFF093NEQ.tsv           2\n",
       "EFO:0005719/ENCFF657WZA.tsv       22669\n",
       "EFO:0005723/ENCFF092TYT.tsv           0\n",
       "EFO:0005904/ENCFF199UNP.tsv           0\n",
       "EFO:0006711/ENCFF212NBG.tsv           0\n",
       "EFO:0007950/ENCFF302MVN.tsv          62\n",
       "NTR:0000711/ENCFF663ARH.tsv           1\n",
       "UBERON:0000945/ENCFF008WDP.tsv       80\n",
       "UBERON:0000948/ENCFF455HQT.tsv    44027\n",
       "UBERON:0000992/ENCFF132XQU.tsv    28722\n",
       "UBERON:0000995/ENCFF036RQO.tsv    36654\n",
       "UBERON:0000996/ENCFF916ODF.tsv    13343\n",
       "UBERON:0001114/ENCFF086GFD.tsv    12336\n",
       "UBERON:0001150/ENCFF839NBX.tsv    22881\n",
       "UBERON:0001157/ENCFF630RAI.tsv    35288\n",
       "UBERON:0001159/ENCFF268RWA.tsv      250\n",
       "UBERON:0001211/ENCFF099VXK.tsv     4623\n",
       "UBERON:0001255/ENCFF602QFS.tsv    59999\n",
       "UBERON:0001323/ENCFF046AFQ.tsv    22026\n",
       "UBERON:0001496/ENCFF512FHU.tsv    16252\n",
       "UBERON:0001515/ENCFF199BWJ.tsv       22\n",
       "UBERON:0002046/ENCFF083NSQ.tsv        1\n",
       "UBERON:0002048/ENCFF573QQU.tsv    86925\n",
       "UBERON:0002084/ENCFF862LZL.tsv     4674\n",
       "UBERON:0002106/ENCFF474KYX.tsv    23249\n",
       "UBERON:0002107/ENCFF166NPX.tsv      226\n",
       "UBERON:0002240/ENCFF126UNL.tsv    40903\n",
       "UBERON:0002369/ENCFF212SUD.tsv        1\n",
       "UBERON:0004550/ENCFF440IKM.tsv     6119\n",
       "UBERON:0004648/ENCFF288ZVS.tsv      122\n",
       "UBERON:0006631/ENCFF132SDD.tsv     9128\n",
       "UBERON:0006920/ENCFF519MGF.tsv        1\n",
       "UBERON:0008367/ENCFF082SUT.tsv    51951\n",
       "UBERON:0008952/ENCFF042JPR.tsv       27\n",
       "UBERON:0011907/ENCFF090CMK.tsv        4\n",
       "Name: ENSG00000229807, dtype: int64"
      ]
     },
     "metadata": {},
     "output_type": "display_data"
    },
    {
     "name": "stdout",
     "output_type": "stream",
     "text": [
      "H3K4me1\n"
     ]
    },
    {
     "data": {
      "text/plain": [
       "CL:0000062/ENCFF636OVU.tsv        30961\n",
       "CL:0000103/ENCFF249CKU.tsv            0\n",
       "CL:0000127/ENCFF561IAZ.tsv         4328\n",
       "CL:0000182/ENCFF072XSA.tsv            0\n",
       "CL:0000192/ENCFF401KXP.tsv            0\n",
       "CL:0000515/ENCFF803CZZ.tsv            0\n",
       "CL:0000746/ENCFF309DAN.tsv            0\n",
       "CL:0000842/ENCFF333OOM.tsv        68767\n",
       "CL:0002327/ENCFF805ZGF.tsv        18739\n",
       "CL:0002372/ENCFF320IDT.tsv            0\n",
       "CL:1001606/ENCFF162ORU.tsv            0\n",
       "EFO:0001187/ENCFF041HHL.tsv           1\n",
       "EFO:0001196/ENCFF353SBP.tsv       18808\n",
       "EFO:0002067/ENCFF104VTJ.tsv        5284\n",
       "EFO:0002074/ENCFF200VPR.tsv           0\n",
       "EFO:0002784/ENCFF306TLL.tsv       20629\n",
       "EFO:0003042/ENCFF093NEQ.tsv           2\n",
       "EFO:0005719/ENCFF657WZA.tsv       22669\n",
       "EFO:0005723/ENCFF092TYT.tsv           0\n",
       "EFO:0005904/ENCFF199UNP.tsv           0\n",
       "EFO:0006711/ENCFF212NBG.tsv           0\n",
       "EFO:0007950/ENCFF302MVN.tsv          62\n",
       "NTR:0000711/ENCFF663ARH.tsv           1\n",
       "UBERON:0000473/ENCFF857HXK.tsv     1141\n",
       "UBERON:0000945/ENCFF008WDP.tsv       80\n",
       "UBERON:0000948/ENCFF455HQT.tsv    44027\n",
       "UBERON:0000992/ENCFF132XQU.tsv    28722\n",
       "UBERON:0000995/ENCFF036RQO.tsv    36654\n",
       "UBERON:0001114/ENCFF086GFD.tsv    12336\n",
       "UBERON:0001150/ENCFF839NBX.tsv    22881\n",
       "UBERON:0001157/ENCFF630RAI.tsv    35288\n",
       "UBERON:0001159/ENCFF268RWA.tsv      250\n",
       "UBERON:0001211/ENCFF099VXK.tsv     4623\n",
       "UBERON:0001255/ENCFF602QFS.tsv    59999\n",
       "UBERON:0001323/ENCFF046AFQ.tsv    22026\n",
       "UBERON:0001496/ENCFF512FHU.tsv    16252\n",
       "UBERON:0001515/ENCFF199BWJ.tsv       22\n",
       "UBERON:0002046/ENCFF083NSQ.tsv        1\n",
       "UBERON:0002048/ENCFF573QQU.tsv    86925\n",
       "UBERON:0002084/ENCFF862LZL.tsv     4674\n",
       "UBERON:0002106/ENCFF474KYX.tsv    23249\n",
       "UBERON:0002107/ENCFF166NPX.tsv      226\n",
       "UBERON:0002240/ENCFF126UNL.tsv    40903\n",
       "UBERON:0002369/ENCFF212SUD.tsv        1\n",
       "UBERON:0004550/ENCFF440IKM.tsv     6119\n",
       "UBERON:0004648/ENCFF288ZVS.tsv      122\n",
       "UBERON:0006631/ENCFF132SDD.tsv     9128\n",
       "UBERON:0006920/ENCFF519MGF.tsv        1\n",
       "UBERON:0008367/ENCFF082SUT.tsv    51951\n",
       "UBERON:0008952/ENCFF042JPR.tsv       27\n",
       "UBERON:0011907/ENCFF090CMK.tsv        4\n",
       "Name: ENSG00000229807, dtype: int64"
      ]
     },
     "metadata": {},
     "output_type": "display_data"
    },
    {
     "name": "stdout",
     "output_type": "stream",
     "text": [
      "H3K4me2\n"
     ]
    },
    {
     "data": {
      "text/plain": [
       "CL:0000062/ENCFF636OVU.tsv     30961\n",
       "CL:0000103/ENCFF249CKU.tsv         0\n",
       "CL:0000127/ENCFF561IAZ.tsv      4328\n",
       "CL:0000182/ENCFF072XSA.tsv         0\n",
       "CL:0000192/ENCFF401KXP.tsv         0\n",
       "CL:0000515/ENCFF803CZZ.tsv         0\n",
       "CL:0002327/ENCFF805ZGF.tsv     18739\n",
       "CL:0002372/ENCFF320IDT.tsv         0\n",
       "EFO:0001187/ENCFF041HHL.tsv        1\n",
       "EFO:0001196/ENCFF353SBP.tsv    18808\n",
       "EFO:0002067/ENCFF104VTJ.tsv     5284\n",
       "EFO:0002074/ENCFF200VPR.tsv        0\n",
       "EFO:0002784/ENCFF306TLL.tsv    20629\n",
       "EFO:0003042/ENCFF093NEQ.tsv        2\n",
       "EFO:0005719/ENCFF657WZA.tsv    22669\n",
       "EFO:0005723/ENCFF092TYT.tsv        0\n",
       "EFO:0006711/ENCFF212NBG.tsv        0\n",
       "EFO:0007950/ENCFF302MVN.tsv       62\n",
       "NTR:0000711/ENCFF663ARH.tsv        1\n",
       "Name: ENSG00000229807, dtype: int64"
      ]
     },
     "metadata": {},
     "output_type": "display_data"
    },
    {
     "name": "stdout",
     "output_type": "stream",
     "text": [
      "H3K4me3\n"
     ]
    },
    {
     "data": {
      "text/plain": [
       "CL:0000062/ENCFF636OVU.tsv        30961\n",
       "CL:0000103/ENCFF249CKU.tsv            0\n",
       "CL:0000127/ENCFF561IAZ.tsv         4328\n",
       "CL:0000182/ENCFF072XSA.tsv            0\n",
       "CL:0000192/ENCFF401KXP.tsv            0\n",
       "CL:0000515/ENCFF803CZZ.tsv            0\n",
       "CL:0000746/ENCFF309DAN.tsv            0\n",
       "CL:0000842/ENCFF333OOM.tsv        68767\n",
       "CL:0002306/ENCFF037WEH.tsv            1\n",
       "CL:0002327/ENCFF805ZGF.tsv        18739\n",
       "CL:0002328/ENCFF207VFL.tsv        19171\n",
       "CL:0002372/ENCFF320IDT.tsv            0\n",
       "CL:0002518/ENCFF177SUW.tsv            0\n",
       "CL:0002547/ENCFF121AOF.tsv        43575\n",
       "CL:0002551/ENCFF081NBY.tsv        28790\n",
       "CL:0002553/ENCFF500UYD.tsv            0\n",
       "CL:0002558/ENCFF289HGQ.tsv        24463\n",
       "EFO:0001187/ENCFF041HHL.tsv           1\n",
       "EFO:0001196/ENCFF353SBP.tsv       18808\n",
       "EFO:0002067/ENCFF104VTJ.tsv        5284\n",
       "EFO:0002074/ENCFF200VPR.tsv           0\n",
       "EFO:0002784/ENCFF306TLL.tsv       20629\n",
       "EFO:0003042/ENCFF093NEQ.tsv           2\n",
       "EFO:0005719/ENCFF657WZA.tsv       22669\n",
       "EFO:0005723/ENCFF092TYT.tsv           0\n",
       "EFO:0005904/ENCFF199UNP.tsv           0\n",
       "EFO:0006711/ENCFF212NBG.tsv           0\n",
       "EFO:0007950/ENCFF302MVN.tsv          62\n",
       "NTR:0000711/ENCFF663ARH.tsv           1\n",
       "UBERON:0000473/ENCFF857HXK.tsv     1141\n",
       "UBERON:0000945/ENCFF008WDP.tsv       80\n",
       "UBERON:0000948/ENCFF455HQT.tsv    44027\n",
       "UBERON:0000992/ENCFF132XQU.tsv    28722\n",
       "UBERON:0000995/ENCFF036RQO.tsv    36654\n",
       "UBERON:0000996/ENCFF916ODF.tsv    13343\n",
       "UBERON:0001114/ENCFF086GFD.tsv    12336\n",
       "UBERON:0001150/ENCFF839NBX.tsv    22881\n",
       "UBERON:0001157/ENCFF630RAI.tsv    35288\n",
       "UBERON:0001159/ENCFF268RWA.tsv      250\n",
       "UBERON:0001211/ENCFF099VXK.tsv     4623\n",
       "UBERON:0001255/ENCFF602QFS.tsv    59999\n",
       "UBERON:0001323/ENCFF046AFQ.tsv    22026\n",
       "UBERON:0001496/ENCFF512FHU.tsv    16252\n",
       "UBERON:0001515/ENCFF199BWJ.tsv       22\n",
       "UBERON:0002046/ENCFF083NSQ.tsv        1\n",
       "UBERON:0002048/ENCFF573QQU.tsv    86925\n",
       "UBERON:0002084/ENCFF862LZL.tsv     4674\n",
       "UBERON:0002106/ENCFF474KYX.tsv    23249\n",
       "UBERON:0002107/ENCFF166NPX.tsv      226\n",
       "UBERON:0002240/ENCFF126UNL.tsv    40903\n",
       "UBERON:0002369/ENCFF212SUD.tsv        1\n",
       "UBERON:0004264/ENCFF187DQQ.tsv       21\n",
       "UBERON:0004550/ENCFF440IKM.tsv     6119\n",
       "UBERON:0004648/ENCFF288ZVS.tsv      122\n",
       "UBERON:0006631/ENCFF132SDD.tsv     9128\n",
       "UBERON:0006920/ENCFF519MGF.tsv        1\n",
       "UBERON:0008367/ENCFF082SUT.tsv    51951\n",
       "UBERON:0008952/ENCFF042JPR.tsv       27\n",
       "UBERON:0011907/ENCFF090CMK.tsv        4\n",
       "Name: ENSG00000229807, dtype: int64"
      ]
     },
     "metadata": {},
     "output_type": "display_data"
    },
    {
     "name": "stdout",
     "output_type": "stream",
     "text": [
      "H3K79me2\n"
     ]
    },
    {
     "data": {
      "text/plain": [
       "CL:0000062/ENCFF636OVU.tsv     30961\n",
       "CL:0000103/ENCFF249CKU.tsv         0\n",
       "CL:0000127/ENCFF561IAZ.tsv      4328\n",
       "CL:0000182/ENCFF072XSA.tsv         0\n",
       "CL:0000192/ENCFF401KXP.tsv         0\n",
       "CL:0000515/ENCFF803CZZ.tsv         0\n",
       "CL:0002327/ENCFF805ZGF.tsv     18739\n",
       "CL:0002372/ENCFF320IDT.tsv         0\n",
       "CL:0002553/ENCFF500UYD.tsv         0\n",
       "EFO:0001187/ENCFF041HHL.tsv        1\n",
       "EFO:0001196/ENCFF353SBP.tsv    18808\n",
       "EFO:0002067/ENCFF104VTJ.tsv     5284\n",
       "EFO:0002074/ENCFF200VPR.tsv        0\n",
       "EFO:0002784/ENCFF306TLL.tsv    20629\n",
       "EFO:0003042/ENCFF093NEQ.tsv        2\n",
       "EFO:0005719/ENCFF657WZA.tsv    22669\n",
       "EFO:0005723/ENCFF092TYT.tsv        0\n",
       "EFO:0006711/ENCFF212NBG.tsv        0\n",
       "EFO:0007950/ENCFF302MVN.tsv       62\n",
       "NTR:0000711/ENCFF663ARH.tsv        1\n",
       "Name: ENSG00000229807, dtype: int64"
      ]
     },
     "metadata": {},
     "output_type": "display_data"
    },
    {
     "name": "stdout",
     "output_type": "stream",
     "text": [
      "H3K9ac\n"
     ]
    },
    {
     "data": {
      "text/plain": [
       "CL:0000103/ENCFF249CKU.tsv            0\n",
       "CL:0000127/ENCFF561IAZ.tsv         4328\n",
       "CL:0000182/ENCFF072XSA.tsv            0\n",
       "CL:0000192/ENCFF401KXP.tsv            0\n",
       "CL:0000515/ENCFF803CZZ.tsv            0\n",
       "CL:0002372/ENCFF320IDT.tsv            0\n",
       "CL:0002553/ENCFF500UYD.tsv            0\n",
       "EFO:0001187/ENCFF041HHL.tsv           1\n",
       "EFO:0001196/ENCFF353SBP.tsv       18808\n",
       "EFO:0002067/ENCFF104VTJ.tsv        5284\n",
       "EFO:0002074/ENCFF200VPR.tsv           0\n",
       "EFO:0002784/ENCFF306TLL.tsv       20629\n",
       "EFO:0003042/ENCFF093NEQ.tsv           2\n",
       "EFO:0005719/ENCFF657WZA.tsv       22669\n",
       "EFO:0005723/ENCFF092TYT.tsv           0\n",
       "EFO:0005904/ENCFF199UNP.tsv           0\n",
       "NTR:0000711/ENCFF663ARH.tsv           1\n",
       "UBERON:0000948/ENCFF455HQT.tsv    44027\n",
       "UBERON:0002048/ENCFF573QQU.tsv    86925\n",
       "Name: ENSG00000229807, dtype: int64"
      ]
     },
     "metadata": {},
     "output_type": "display_data"
    },
    {
     "name": "stdout",
     "output_type": "stream",
     "text": [
      "H3K9me3\n"
     ]
    },
    {
     "data": {
      "text/plain": [
       "CL:0000062/ENCFF636OVU.tsv        30961\n",
       "CL:0000103/ENCFF249CKU.tsv            0\n",
       "CL:0000127/ENCFF561IAZ.tsv         4328\n",
       "CL:0000182/ENCFF072XSA.tsv            0\n",
       "CL:0000192/ENCFF401KXP.tsv            0\n",
       "CL:0000515/ENCFF803CZZ.tsv            0\n",
       "CL:0000746/ENCFF309DAN.tsv            0\n",
       "CL:0000842/ENCFF333OOM.tsv        68767\n",
       "CL:0002327/ENCFF805ZGF.tsv        18739\n",
       "CL:0002372/ENCFF320IDT.tsv            0\n",
       "CL:0002553/ENCFF500UYD.tsv            0\n",
       "EFO:0001187/ENCFF041HHL.tsv           1\n",
       "EFO:0001196/ENCFF353SBP.tsv       18808\n",
       "EFO:0002067/ENCFF104VTJ.tsv        5284\n",
       "EFO:0002074/ENCFF200VPR.tsv           0\n",
       "EFO:0002784/ENCFF306TLL.tsv       20629\n",
       "EFO:0003042/ENCFF093NEQ.tsv           2\n",
       "EFO:0005719/ENCFF657WZA.tsv       22669\n",
       "EFO:0005723/ENCFF092TYT.tsv           0\n",
       "EFO:0005904/ENCFF199UNP.tsv           0\n",
       "EFO:0006711/ENCFF212NBG.tsv           0\n",
       "NTR:0000711/ENCFF663ARH.tsv           1\n",
       "UBERON:0000473/ENCFF857HXK.tsv     1141\n",
       "UBERON:0000945/ENCFF008WDP.tsv       80\n",
       "UBERON:0000948/ENCFF455HQT.tsv    44027\n",
       "UBERON:0000992/ENCFF132XQU.tsv    28722\n",
       "UBERON:0000995/ENCFF036RQO.tsv    36654\n",
       "UBERON:0001114/ENCFF086GFD.tsv    12336\n",
       "UBERON:0001150/ENCFF839NBX.tsv    22881\n",
       "UBERON:0001157/ENCFF630RAI.tsv    35288\n",
       "UBERON:0001159/ENCFF268RWA.tsv      250\n",
       "UBERON:0001211/ENCFF099VXK.tsv     4623\n",
       "UBERON:0001323/ENCFF046AFQ.tsv    22026\n",
       "UBERON:0001496/ENCFF512FHU.tsv    16252\n",
       "UBERON:0001515/ENCFF199BWJ.tsv       22\n",
       "UBERON:0002046/ENCFF083NSQ.tsv        1\n",
       "UBERON:0002048/ENCFF573QQU.tsv    86925\n",
       "UBERON:0002084/ENCFF862LZL.tsv     4674\n",
       "UBERON:0002106/ENCFF474KYX.tsv    23249\n",
       "UBERON:0002107/ENCFF166NPX.tsv      226\n",
       "UBERON:0002240/ENCFF126UNL.tsv    40903\n",
       "UBERON:0002367/ENCFF499KKR.tsv       12\n",
       "UBERON:0002369/ENCFF212SUD.tsv        1\n",
       "UBERON:0004550/ENCFF440IKM.tsv     6119\n",
       "UBERON:0004648/ENCFF288ZVS.tsv      122\n",
       "UBERON:0006631/ENCFF132SDD.tsv     9128\n",
       "UBERON:0006920/ENCFF519MGF.tsv        1\n",
       "UBERON:0008367/ENCFF082SUT.tsv    51951\n",
       "UBERON:0008952/ENCFF042JPR.tsv       27\n",
       "UBERON:0011907/ENCFF090CMK.tsv        4\n",
       "Name: ENSG00000229807, dtype: int64"
      ]
     },
     "metadata": {},
     "output_type": "display_data"
    },
    {
     "name": "stdout",
     "output_type": "stream",
     "text": [
      "H4K20me1\n"
     ]
    },
    {
     "data": {
      "text/plain": [
       "CL:0000062/ENCFF636OVU.tsv     30961\n",
       "CL:0000103/ENCFF249CKU.tsv         0\n",
       "CL:0000127/ENCFF561IAZ.tsv      4328\n",
       "CL:0000182/ENCFF072XSA.tsv         0\n",
       "CL:0000192/ENCFF401KXP.tsv         0\n",
       "CL:0000515/ENCFF803CZZ.tsv         0\n",
       "CL:0002327/ENCFF805ZGF.tsv     18739\n",
       "CL:0002372/ENCFF320IDT.tsv         0\n",
       "EFO:0001187/ENCFF041HHL.tsv        1\n",
       "EFO:0001196/ENCFF353SBP.tsv    18808\n",
       "EFO:0002067/ENCFF104VTJ.tsv     5284\n",
       "EFO:0002074/ENCFF200VPR.tsv        0\n",
       "EFO:0002784/ENCFF306TLL.tsv    20629\n",
       "EFO:0003042/ENCFF093NEQ.tsv        2\n",
       "EFO:0005719/ENCFF657WZA.tsv    22669\n",
       "EFO:0005723/ENCFF092TYT.tsv        0\n",
       "EFO:0006711/ENCFF212NBG.tsv        0\n",
       "EFO:0007950/ENCFF302MVN.tsv       62\n",
       "NTR:0000711/ENCFF663ARH.tsv        1\n",
       "Name: ENSG00000229807, dtype: int64"
      ]
     },
     "metadata": {},
     "output_type": "display_data"
    }
   ],
   "source": [
    "from IPython.display import display, HTML\n",
    "d = {}\n",
    "for t in targets:\n",
    "    matrix = pd.read_csv(\"../all_marks/\" + t[0] + \"/lncRNA_matrix_filtered.csv\", sep=\"\\t\", index_col=0)\n",
    "    index = matrix.index\n",
    "    if('ENSG00000229807' in index):\n",
    "        print(t[0])\n",
    "        display(matrix.loc['ENSG00000229807'])"
   ]
  },
  {
   "cell_type": "code",
   "execution_count": 10,
   "metadata": {},
   "outputs": [
    {
     "data": {
      "text/plain": [
       "{'H3K27ac': 5974,\n",
       " 'H3K27me3': 6110,\n",
       " 'H3K36me3': 6071,\n",
       " 'H3K4me1': 6156,\n",
       " 'H3K4me2': 3027,\n",
       " 'H3K4me3': 6434,\n",
       " 'H3K79me2': 3268,\n",
       " 'H3K9ac': 3200,\n",
       " 'H3K9me3': 5983,\n",
       " 'H4K20me1': 3027}"
      ]
     },
     "execution_count": 10,
     "metadata": {},
     "output_type": "execute_result"
    }
   ],
   "source": [
    "d"
   ]
  },
  {
   "cell_type": "code",
   "execution_count": null,
   "metadata": {},
   "outputs": [],
   "source": [
    "#====================================================================================================================="
   ]
  },
  {
   "cell_type": "code",
   "execution_count": 16,
   "metadata": {},
   "outputs": [],
   "source": [
    "lncRNA = pd.read_csv(\"../all_marks/H3K27me3/lncRNA_matrix.csv\", index_col=0)"
   ]
  },
  {
   "cell_type": "code",
   "execution_count": 14,
   "metadata": {},
   "outputs": [],
   "source": [
    "count = lncRNA.apply(lambda row : len([i for i in row if i != 0]), axis=1)"
   ]
  },
  {
   "cell_type": "code",
   "execution_count": 15,
   "metadata": {},
   "outputs": [
    {
     "data": {
      "text/plain": [
       "2493"
      ]
     },
     "execution_count": 15,
     "metadata": {},
     "output_type": "execute_result"
    }
   ],
   "source": [
    "len([c for c in count.values if c == 0])"
   ]
  },
  {
   "cell_type": "code",
   "execution_count": 16,
   "metadata": {},
   "outputs": [],
   "source": [
    "sb.set(color_codes=True)\n",
    "rcParams['figure.figsize'] = 11.7,8.27\n",
    "rcParams[\"patch.force_edgecolor\"] = True"
   ]
  },
  {
   "cell_type": "code",
   "execution_count": 17,
   "metadata": {},
   "outputs": [
    {
     "name": "stderr",
     "output_type": "stream",
     "text": [
      "/home/mazurovev/.local/lib/python3.6/site-packages/matplotlib/axes/_axes.py:6462: UserWarning: The 'normed' kwarg is deprecated, and has been replaced by the 'density' kwarg.\n",
      "  warnings.warn(\"The 'normed' kwarg is deprecated, and has been \"\n"
     ]
    },
    {
     "data": {
      "image/png": "[encoded data removed]",
      "text/plain": [
       "<Figure size 842.4x595.44 with 1 Axes>"
      ]
     },
     "metadata": {},
     "output_type": "display_data"
    }
   ],
   "source": [
    "ax = sb.distplot(count, bins=25, kde=False)\n",
    "ax.set_xticks(range(0, 51, 2))\n",
    "ax.set_yticks(range(0, 5100, 500))\n",
    "ax.set(xlabel='number of experiments with expression > 0(out of 49)', ylabel='lncRNAs count')\n",
    "ax.axvline(linewidth=1, color='r', x=10)\n",
    "plt.show()"
   ]
  },
  {
   "cell_type": "code",
   "execution_count": 12,
   "metadata": {},
   "outputs": [],
   "source": [
    "fig = ax.get_figure()\n",
    "fig.patch.set_alpha(0)\n",
    "fig.savefig(\"../H3K27me3/plots/MakeLncRNAMatrix_experiments_with_filter_with_line_hist.png\", bbox_inches='tight', pad_inches = 0)"
   ]
  },
  {
   "cell_type": "code",
   "execution_count": 13,
   "metadata": {},
   "outputs": [
    {
     "data": {
      "image/png": "[encoded data removed]",
      "text/plain": [
       "<Figure size 842.4x595.44 with 1 Axes>"
      ]
     },
     "metadata": {},
     "output_type": "display_data"
    }
   ],
   "source": [
    "ax = sb.barplot(x=['used RNAs', 'unused RNAs'], y=[1929, 12961 - 1929])\n",
    "ax.set(xlabel='RNAs count', ylabel='count')\n",
    "#ax.set_xticklabels(ax.get_xticklabels(), rotation=15)\n",
    "ax.set_yticks(range(0, 13000, 2000))\n",
    "plt.show()"
   ]
  },
  {
   "cell_type": "code",
   "execution_count": 14,
   "metadata": {},
   "outputs": [],
   "source": [
    "fig = ax.get_figure()\n",
    "fig.patch.set_alpha(0)\n",
    "fig.savefig(\"../H3K27me3/plots/MakeLncRNAMatrix_filter_barplot.png\", bbox_inches='tight', pad_inches = 0)"
   ]
  },
  {
   "cell_type": "code",
   "execution_count": null,
   "metadata": {},
   "outputs": [],
   "source": []
  }
 ],
 "metadata": {
  "kernelspec": {
   "display_name": "Python 3",
   "language": "python",
   "name": "python3"
  },
  "language_info": {
   "codemirror_mode": {
    "name": "ipython",
    "version": 3
   },
   "file_extension": ".py",
   "mimetype": "text/x-python",
   "name": "python",
   "nbconvert_exporter": "python",
   "pygments_lexer": "ipython3",
   "version": "3.6.9"
  }
 },
 "nbformat": 4,
 "nbformat_minor": 2
}
