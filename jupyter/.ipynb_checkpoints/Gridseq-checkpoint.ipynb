{
 "cells": [
  {
   "cell_type": "code",
   "execution_count": 30,
   "metadata": {},
   "outputs": [],
   "source": [
    "import pandas as pd\n",
    "import pickle\n",
    "import subprocess\n",
    "import os"
   ]
  },
  {
   "cell_type": "code",
   "execution_count": null,
   "metadata": {},
   "outputs": [],
   "source": []
  },
  {
   "cell_type": "code",
   "execution_count": 2,
   "metadata": {},
   "outputs": [],
   "source": [
    "data = pd.read_csv(\"../H3K27me3/GSM2188866_MDA231_merged.ghits.pkbin.net.txt\", sep=\"\\t\", header=None)"
   ]
  },
  {
   "cell_type": "code",
   "execution_count": 3,
   "metadata": {},
   "outputs": [
    {
     "data": {
      "text/html": [
       "<div>\n",
       "<style scoped>\n",
       "    .dataframe tbody tr th:only-of-type {\n",
       "        vertical-align: middle;\n",
       "    }\n",
       "\n",
       "    .dataframe tbody tr th {\n",
       "        vertical-align: top;\n",
       "    }\n",
       "\n",
       "    .dataframe thead th {\n",
       "        text-align: right;\n",
       "    }\n",
       "</style>\n",
       "<table border=\"1\" class=\"dataframe\">\n",
       "  <thead>\n",
       "    <tr style=\"text-align: right;\">\n",
       "      <th></th>\n",
       "      <th>0</th>\n",
       "      <th>1</th>\n",
       "      <th>2</th>\n",
       "      <th>3</th>\n",
       "      <th>4</th>\n",
       "      <th>5</th>\n",
       "      <th>6</th>\n",
       "      <th>7</th>\n",
       "      <th>8</th>\n",
       "    </tr>\n",
       "  </thead>\n",
       "  <tbody>\n",
       "    <tr>\n",
       "      <th>0</th>\n",
       "      <td>chr1</td>\n",
       "      <td>1785285</td>\n",
       "      <td>1891117</td>\n",
       "      <td>ENSG00000078369</td>\n",
       "      <td>22490</td>\n",
       "      <td>-</td>\n",
       "      <td>chr1</td>\n",
       "      <td>908000</td>\n",
       "      <td>55.2273</td>\n",
       "    </tr>\n",
       "    <tr>\n",
       "      <th>1</th>\n",
       "      <td>chr1</td>\n",
       "      <td>1785285</td>\n",
       "      <td>1891117</td>\n",
       "      <td>ENSG00000078369</td>\n",
       "      <td>22490</td>\n",
       "      <td>-</td>\n",
       "      <td>chr1</td>\n",
       "      <td>909000</td>\n",
       "      <td>55.2273</td>\n",
       "    </tr>\n",
       "    <tr>\n",
       "      <th>2</th>\n",
       "      <td>chr1</td>\n",
       "      <td>1785285</td>\n",
       "      <td>1891117</td>\n",
       "      <td>ENSG00000078369</td>\n",
       "      <td>22490</td>\n",
       "      <td>-</td>\n",
       "      <td>chr1</td>\n",
       "      <td>910000</td>\n",
       "      <td>41.3955</td>\n",
       "    </tr>\n",
       "    <tr>\n",
       "      <th>3</th>\n",
       "      <td>chr1</td>\n",
       "      <td>1785285</td>\n",
       "      <td>1891117</td>\n",
       "      <td>ENSG00000078369</td>\n",
       "      <td>22490</td>\n",
       "      <td>-</td>\n",
       "      <td>chr1</td>\n",
       "      <td>911000</td>\n",
       "      <td>55.2273</td>\n",
       "    </tr>\n",
       "    <tr>\n",
       "      <th>4</th>\n",
       "      <td>chr1</td>\n",
       "      <td>1785285</td>\n",
       "      <td>1891117</td>\n",
       "      <td>ENSG00000078369</td>\n",
       "      <td>22490</td>\n",
       "      <td>-</td>\n",
       "      <td>chr1</td>\n",
       "      <td>912000</td>\n",
       "      <td>55.2273</td>\n",
       "    </tr>\n",
       "  </tbody>\n",
       "</table>\n",
       "</div>"
      ],
      "text/plain": [
       "      0        1        2                3      4  5     6       7        8\n",
       "0  chr1  1785285  1891117  ENSG00000078369  22490  -  chr1  908000  55.2273\n",
       "1  chr1  1785285  1891117  ENSG00000078369  22490  -  chr1  909000  55.2273\n",
       "2  chr1  1785285  1891117  ENSG00000078369  22490  -  chr1  910000  41.3955\n",
       "3  chr1  1785285  1891117  ENSG00000078369  22490  -  chr1  911000  55.2273\n",
       "4  chr1  1785285  1891117  ENSG00000078369  22490  -  chr1  912000  55.2273"
      ]
     },
     "execution_count": 3,
     "metadata": {},
     "output_type": "execute_result"
    }
   ],
   "source": [
    "data.head()"
   ]
  },
  {
   "cell_type": "code",
   "execution_count": 3,
   "metadata": {},
   "outputs": [],
   "source": [
    "#Наши РНК\n",
    "with open(\"../H3K27me3/lncRNA_All_Peaks_Correlations_corrected.pickle\", 'rb') as f:\n",
    "    corr = pickle.load(f)\n",
    "corr = [i for i in corr if len(i) != 0]"
   ]
  },
  {
   "cell_type": "code",
   "execution_count": 4,
   "metadata": {},
   "outputs": [
    {
     "data": {
      "text/plain": [
       "1337"
      ]
     },
     "execution_count": 4,
     "metadata": {},
     "output_type": "execute_result"
    }
   ],
   "source": [
    "len(corr)"
   ]
  },
  {
   "cell_type": "code",
   "execution_count": 5,
   "metadata": {},
   "outputs": [],
   "source": [
    "peaks = pd.read_csv(\"../H3K27me3/peaks/merged_peaks.bed\", sep=\"\\t\", header=None)"
   ]
  },
  {
   "cell_type": "code",
   "execution_count": 6,
   "metadata": {},
   "outputs": [],
   "source": [
    "lncRNAs = [c[0][0].split('.')[0] for c in corr]"
   ]
  },
  {
   "cell_type": "code",
   "execution_count": 7,
   "metadata": {},
   "outputs": [],
   "source": [
    "commonRNAs = set(lncRNAs).intersection(set(data[3].tolist()))"
   ]
  },
  {
   "cell_type": "code",
   "execution_count": 8,
   "metadata": {},
   "outputs": [
    {
     "data": {
      "text/plain": [
       "35"
      ]
     },
     "execution_count": 8,
     "metadata": {},
     "output_type": "execute_result"
    }
   ],
   "source": [
    "len(commonRNAs)"
   ]
  },
  {
   "cell_type": "code",
   "execution_count": 4,
   "metadata": {},
   "outputs": [],
   "source": [
    "#Сделать bed файлы с участками ДНК по РНК"
   ]
  },
  {
   "cell_type": "code",
   "execution_count": 9,
   "metadata": {},
   "outputs": [],
   "source": [
    "for rna in commonRNAs:\n",
    "    df = data[data[3] == rna][[6, 7]]\n",
    "    df[8] = data[7] + 1000\n",
    "    df.to_csv(\"../H3K27me3/grid_seq/\" + rna + \".bed\", sep=\"\\t\", header=None, index=None)"
   ]
  },
  {
   "cell_type": "code",
   "execution_count": null,
   "metadata": {},
   "outputs": [],
   "source": []
  },
  {
   "cell_type": "code",
   "execution_count": 10,
   "metadata": {},
   "outputs": [
    {
     "data": {
      "text/html": [
       "<div>\n",
       "<style scoped>\n",
       "    .dataframe tbody tr th:only-of-type {\n",
       "        vertical-align: middle;\n",
       "    }\n",
       "\n",
       "    .dataframe tbody tr th {\n",
       "        vertical-align: top;\n",
       "    }\n",
       "\n",
       "    .dataframe thead th {\n",
       "        text-align: right;\n",
       "    }\n",
       "</style>\n",
       "<table border=\"1\" class=\"dataframe\">\n",
       "  <thead>\n",
       "    <tr style=\"text-align: right;\">\n",
       "      <th></th>\n",
       "      <th>0</th>\n",
       "      <th>1</th>\n",
       "      <th>2</th>\n",
       "      <th>3</th>\n",
       "    </tr>\n",
       "  </thead>\n",
       "  <tbody>\n",
       "    <tr>\n",
       "      <th>0</th>\n",
       "      <td>chr1</td>\n",
       "      <td>10341</td>\n",
       "      <td>10640</td>\n",
       "      <td>peak_0</td>\n",
       "    </tr>\n",
       "    <tr>\n",
       "      <th>1</th>\n",
       "      <td>chr1</td>\n",
       "      <td>54315</td>\n",
       "      <td>55724</td>\n",
       "      <td>peak_1</td>\n",
       "    </tr>\n",
       "    <tr>\n",
       "      <th>2</th>\n",
       "      <td>chr1</td>\n",
       "      <td>56893</td>\n",
       "      <td>57208</td>\n",
       "      <td>peak_2</td>\n",
       "    </tr>\n",
       "    <tr>\n",
       "      <th>3</th>\n",
       "      <td>chr1</td>\n",
       "      <td>60654</td>\n",
       "      <td>60893</td>\n",
       "      <td>peak_3</td>\n",
       "    </tr>\n",
       "    <tr>\n",
       "      <th>4</th>\n",
       "      <td>chr1</td>\n",
       "      <td>61834</td>\n",
       "      <td>62068</td>\n",
       "      <td>peak_4</td>\n",
       "    </tr>\n",
       "  </tbody>\n",
       "</table>\n",
       "</div>"
      ],
      "text/plain": [
       "      0      1      2       3\n",
       "0  chr1  10341  10640  peak_0\n",
       "1  chr1  54315  55724  peak_1\n",
       "2  chr1  56893  57208  peak_2\n",
       "3  chr1  60654  60893  peak_3\n",
       "4  chr1  61834  62068  peak_4"
      ]
     },
     "execution_count": 10,
     "metadata": {},
     "output_type": "execute_result"
    }
   ],
   "source": [
    "peaks.head()"
   ]
  },
  {
   "cell_type": "code",
   "execution_count": null,
   "metadata": {},
   "outputs": [],
   "source": [
    "#Сделать bed файлы с пиками по РНК"
   ]
  },
  {
   "cell_type": "code",
   "execution_count": 18,
   "metadata": {},
   "outputs": [],
   "source": [
    "from collections import defaultdict\n",
    "d = defaultdict(list)\n",
    "for i in [i for c in corr for i in c if i[0].split('.')[0] in commonRNAs]:\n",
    "    d[i[0].split('.')[0]].append(i[1])"
   ]
  },
  {
   "cell_type": "code",
   "execution_count": 19,
   "metadata": {},
   "outputs": [],
   "source": [
    "for l in commonRNAs:\n",
    "    peaks_names = d[l]\n",
    "    lnc_peaks = peaks[peaks[3].isin(peaks_names)]\n",
    "    lnc_peaks.to_csv(\"../H3K27me3/all_peaks_coords_by_lnc/\" + l + \".bed\", sep=\"\\t\", header=None, index=None)"
   ]
  },
  {
   "cell_type": "code",
   "execution_count": 21,
   "metadata": {},
   "outputs": [],
   "source": [
    "data = pd.read_csv(\"../H3K27me3/all_peaks_coords_by_lnc/liftToHg38_ENSG00000230551.bed\", sep=\"\\t\", header=None)"
   ]
  },
  {
   "cell_type": "code",
   "execution_count": 22,
   "metadata": {},
   "outputs": [
    {
     "data": {
      "text/plain": [
       "chr12    1\n",
       "Name: 0, dtype: int64"
      ]
     },
     "execution_count": 22,
     "metadata": {},
     "output_type": "execute_result"
    }
   ],
   "source": [
    "data[0].value_counts()"
   ]
  },
  {
   "cell_type": "code",
   "execution_count": null,
   "metadata": {},
   "outputs": [],
   "source": [
    "#liftOver все наши файлы, потому что данные grid_seq в hg38"
   ]
  },
  {
   "cell_type": "code",
   "execution_count": 11,
   "metadata": {},
   "outputs": [],
   "source": [
    "def liftOver(bed, liftover_bed, unlifted_bed):\n",
    "    try:\n",
    "        output = subprocess.check_output(\"liftOver \" + bed + \" ../hg19ToHg38.over.chain.gz \" + liftover_bed + \" \" + unlifted_bed, shell=True, stderr=subprocess.STDOUT).decode()\n",
    "    except subprocess.CalledProcessError as e:\n",
    "        output = e.output.decode()        \n",
    "\n",
    "    print(output)    "
   ]
  },
  {
   "cell_type": "code",
   "execution_count": 13,
   "metadata": {},
   "outputs": [
    {
     "name": "stdout",
     "output_type": "stream",
     "text": [
      "Reading liftover chains\n",
      "Mapping coordinates\n",
      "\n",
      "Reading liftover chains\n",
      "Mapping coordinates\n",
      "\n",
      "Reading liftover chains\n",
      "Mapping coordinates\n",
      "\n",
      "Reading liftover chains\n",
      "Mapping coordinates\n",
      "\n",
      "Reading liftover chains\n",
      "Mapping coordinates\n",
      "\n",
      "Reading liftover chains\n",
      "Mapping coordinates\n",
      "\n",
      "Reading liftover chains\n",
      "Mapping coordinates\n",
      "\n",
      "Reading liftover chains\n",
      "Mapping coordinates\n",
      "\n",
      "Reading liftover chains\n",
      "Mapping coordinates\n",
      "\n",
      "Reading liftover chains\n",
      "Mapping coordinates\n",
      "\n",
      "Reading liftover chains\n",
      "Mapping coordinates\n",
      "\n",
      "Reading liftover chains\n",
      "Mapping coordinates\n",
      "\n",
      "Reading liftover chains\n",
      "Mapping coordinates\n",
      "\n",
      "Reading liftover chains\n",
      "Mapping coordinates\n",
      "\n",
      "Reading liftover chains\n",
      "Mapping coordinates\n",
      "\n",
      "Reading liftover chains\n",
      "Mapping coordinates\n",
      "\n",
      "Reading liftover chains\n",
      "Mapping coordinates\n",
      "\n",
      "Reading liftover chains\n",
      "Mapping coordinates\n",
      "\n",
      "Reading liftover chains\n",
      "Mapping coordinates\n",
      "\n",
      "Reading liftover chains\n",
      "Mapping coordinates\n",
      "\n",
      "Reading liftover chains\n",
      "Mapping coordinates\n",
      "\n",
      "Reading liftover chains\n",
      "Mapping coordinates\n",
      "\n",
      "Reading liftover chains\n",
      "Mapping coordinates\n",
      "\n",
      "Reading liftover chains\n",
      "Mapping coordinates\n",
      "\n",
      "Reading liftover chains\n",
      "Mapping coordinates\n",
      "\n",
      "Reading liftover chains\n",
      "Mapping coordinates\n",
      "\n",
      "Reading liftover chains\n",
      "Mapping coordinates\n",
      "\n",
      "Reading liftover chains\n",
      "Mapping coordinates\n",
      "\n",
      "Reading liftover chains\n",
      "Mapping coordinates\n",
      "\n",
      "Reading liftover chains\n",
      "Mapping coordinates\n",
      "\n",
      "Reading liftover chains\n",
      "Mapping coordinates\n",
      "\n",
      "Reading liftover chains\n",
      "Mapping coordinates\n",
      "\n",
      "Reading liftover chains\n",
      "Mapping coordinates\n",
      "\n",
      "Reading liftover chains\n",
      "Mapping coordinates\n",
      "\n",
      "Reading liftover chains\n",
      "Mapping coordinates\n",
      "\n"
     ]
    }
   ],
   "source": [
    "files = os.listdir(\"../H3K27me3/all_peaks_coords_by_lnc\")\n",
    "for l in files:\n",
    "    liftOver(\"../H3K27me3/all_peaks_coords_by_lnc/\" + l, \"../H3K27me3/all_peaks_coords_by_lnc/liftToHg38_\" + l, \"../H3K27me3/all_peaks_coords_by_lnc/unliftToHg38_\" + l) "
   ]
  },
  {
   "cell_type": "code",
   "execution_count": null,
   "metadata": {},
   "outputs": [],
   "source": [
    "#Объединяем результаты genometricCirr в один файл"
   ]
  }
 ],
 "metadata": {
  "kernelspec": {
   "display_name": "Python 3",
   "language": "python",
   "name": "python3"
  },
  "language_info": {
   "codemirror_mode": {
    "name": "ipython",
    "version": 3
   },
   "file_extension": ".py",
   "mimetype": "text/x-python",
   "name": "python",
   "nbconvert_exporter": "python",
   "pygments_lexer": "ipython3",
   "version": "3.6.8"
  }
 },
 "nbformat": 4,
 "nbformat_minor": 2
}
