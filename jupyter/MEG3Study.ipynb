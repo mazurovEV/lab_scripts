{
 "cells": [
  {
   "cell_type": "code",
   "execution_count": 41,
   "metadata": {},
   "outputs": [],
   "source": [
    "import pickle\n",
    "import pandas as pd\n",
    "from pybedtools import BedTool\n",
    "%matplotlib inline\n",
    "import matplotlib.pyplot as plt\n",
    "import seaborn as sb\n",
    "import numpy as np\n",
    "from scipy import stats\n",
    "from statsmodels.stats.multitest import multipletests"
   ]
  },
  {
   "cell_type": "code",
   "execution_count": 2,
   "metadata": {},
   "outputs": [],
   "source": [
    "with open(\"../H3K27me3/lncRNA_All_Peaks_Correlations_corrected.pickle\", 'rb') as f:\n",
    "    corr = pickle.load(f)"
   ]
  },
  {
   "cell_type": "code",
   "execution_count": 2,
   "metadata": {},
   "outputs": [],
   "source": [
    "chip = pd.read_csv(\"../H3K27me3/peaks/peaks_signal_matrix_normalized.csv\", sep=\"\\t\", index_col=0)"
   ]
  },
  {
   "cell_type": "code",
   "execution_count": 6,
   "metadata": {},
   "outputs": [
    {
     "data": {
      "text/plain": [
       "(277972, 77)"
      ]
     },
     "execution_count": 6,
     "metadata": {},
     "output_type": "execute_result"
    }
   ],
   "source": [
    "chip.shape"
   ]
  },
  {
   "cell_type": "code",
   "execution_count": 43,
   "metadata": {},
   "outputs": [],
   "source": [
    "zeros = []\n",
    "for row in chip.iterrows():\n",
    "    zeros.append(len([i for i in row[1] if i == 0]))"
   ]
  },
  {
   "cell_type": "code",
   "execution_count": 3,
   "metadata": {},
   "outputs": [],
   "source": [
    "lncRNA = pd.read_csv(\"../H3K27me3/lncRNA_matrix_filtered_normalized.csv\", sep=\"\\t\", index_col=0)"
   ]
  },
  {
   "cell_type": "code",
   "execution_count": 3,
   "metadata": {},
   "outputs": [],
   "source": [
    "meg3 = [(g, p, sr[0]) for l in corr for g, p, sr in l if g == \"ENSG00000214548.10\"]"
   ]
  },
  {
   "cell_type": "code",
   "execution_count": 4,
   "metadata": {},
   "outputs": [
    {
     "data": {
      "text/plain": [
       "1631"
      ]
     },
     "execution_count": 4,
     "metadata": {},
     "output_type": "execute_result"
    }
   ],
   "source": [
    "len(meg3)"
   ]
  },
  {
   "cell_type": "code",
   "execution_count": 5,
   "metadata": {},
   "outputs": [
    {
     "data": {
      "text/plain": [
       "('ENSG00000214548.10', 'peak_232', -0.5352970417556576)"
      ]
     },
     "execution_count": 5,
     "metadata": {},
     "output_type": "execute_result"
    }
   ],
   "source": [
    "meg3[0]"
   ]
  },
  {
   "cell_type": "code",
   "execution_count": 8,
   "metadata": {},
   "outputs": [
    {
     "data": {
      "text/plain": [
       "(array([ 51., 773.,  26.,   0.,   0.,   0.,   0.,   0., 731.,  50.]),\n",
       " array([-0.67065437, -0.5367472 , -0.40284004, -0.26893288, -0.13502571,\n",
       "        -0.00111855,  0.13278862,  0.26669578,  0.40060295,  0.53451011,\n",
       "         0.66841728]),\n",
       " <a list of 10 Patch objects>)"
      ]
     },
     "execution_count": 8,
     "metadata": {},
     "output_type": "execute_result"
    },
    {
     "data": {
      "image/png": "[encoded data removed]",
      "text/plain": [
       "<Figure size 432x288 with 1 Axes>"
      ]
     },
     "metadata": {},
     "output_type": "display_data"
    }
   ],
   "source": [
    "plt.hist([c for g, p, c in meg3])"
   ]
  },
  {
   "cell_type": "code",
   "execution_count": 6,
   "metadata": {},
   "outputs": [],
   "source": [
    "peaks = pd.read_csv(\"../H3K27me3/peaks/merged_peaks.bed\", sep=\"\\t\", header=None)"
   ]
  },
  {
   "cell_type": "code",
   "execution_count": 7,
   "metadata": {},
   "outputs": [
    {
     "data": {
      "text/html": [
       "<div>\n",
       "<style scoped>\n",
       "    .dataframe tbody tr th:only-of-type {\n",
       "        vertical-align: middle;\n",
       "    }\n",
       "\n",
       "    .dataframe tbody tr th {\n",
       "        vertical-align: top;\n",
       "    }\n",
       "\n",
       "    .dataframe thead th {\n",
       "        text-align: right;\n",
       "    }\n",
       "</style>\n",
       "<table border=\"1\" class=\"dataframe\">\n",
       "  <thead>\n",
       "    <tr style=\"text-align: right;\">\n",
       "      <th></th>\n",
       "      <th>0</th>\n",
       "      <th>1</th>\n",
       "      <th>2</th>\n",
       "      <th>3</th>\n",
       "    </tr>\n",
       "  </thead>\n",
       "  <tbody>\n",
       "    <tr>\n",
       "      <th>0</th>\n",
       "      <td>chr1</td>\n",
       "      <td>10341</td>\n",
       "      <td>10640</td>\n",
       "      <td>peak_0</td>\n",
       "    </tr>\n",
       "    <tr>\n",
       "      <th>1</th>\n",
       "      <td>chr1</td>\n",
       "      <td>54315</td>\n",
       "      <td>55724</td>\n",
       "      <td>peak_1</td>\n",
       "    </tr>\n",
       "    <tr>\n",
       "      <th>2</th>\n",
       "      <td>chr1</td>\n",
       "      <td>56893</td>\n",
       "      <td>57208</td>\n",
       "      <td>peak_2</td>\n",
       "    </tr>\n",
       "    <tr>\n",
       "      <th>3</th>\n",
       "      <td>chr1</td>\n",
       "      <td>60654</td>\n",
       "      <td>60893</td>\n",
       "      <td>peak_3</td>\n",
       "    </tr>\n",
       "    <tr>\n",
       "      <th>4</th>\n",
       "      <td>chr1</td>\n",
       "      <td>61834</td>\n",
       "      <td>62068</td>\n",
       "      <td>peak_4</td>\n",
       "    </tr>\n",
       "  </tbody>\n",
       "</table>\n",
       "</div>"
      ],
      "text/plain": [
       "      0      1      2       3\n",
       "0  chr1  10341  10640  peak_0\n",
       "1  chr1  54315  55724  peak_1\n",
       "2  chr1  56893  57208  peak_2\n",
       "3  chr1  60654  60893  peak_3\n",
       "4  chr1  61834  62068  peak_4"
      ]
     },
     "execution_count": 7,
     "metadata": {},
     "output_type": "execute_result"
    }
   ],
   "source": [
    "peaks.head()"
   ]
  },
  {
   "cell_type": "code",
   "execution_count": 8,
   "metadata": {},
   "outputs": [],
   "source": [
    "meg3Peaks = peaks[peaks[3].isin([p for g, p, c in meg3])]"
   ]
  },
  {
   "cell_type": "code",
   "execution_count": 10,
   "metadata": {},
   "outputs": [],
   "source": [
    "meg3Peaks.to_csv(\"../H3K27me3/meg3Peaks.bed\", sep=\"\\t\", index=None, header=None)"
   ]
  },
  {
   "cell_type": "code",
   "execution_count": 20,
   "metadata": {},
   "outputs": [],
   "source": [
    "#посмотреть рядом(closest bed)\n",
    "meg3_bed = BedTool(\"../H3K27me3/MEG3-bound_peaks_hg19based_sorted.bed\")#6837\n",
    "bt = BedTool.from_dataframe(meg3Peaks)"
   ]
  },
  {
   "cell_type": "code",
   "execution_count": 21,
   "metadata": {},
   "outputs": [],
   "source": [
    "closest = meg3_bed.closest(bt, d=True).to_dataframe()"
   ]
  },
  {
   "cell_type": "code",
   "execution_count": 14,
   "metadata": {},
   "outputs": [
    {
     "data": {
      "text/plain": [
       "(65, 9)"
      ]
     },
     "execution_count": 14,
     "metadata": {},
     "output_type": "execute_result"
    }
   ],
   "source": [
    "closest[closest['itemRgb'] <= 1000].shape"
   ]
  },
  {
   "cell_type": "code",
   "execution_count": 15,
   "metadata": {},
   "outputs": [
    {
     "data": {
      "text/plain": [
       "(61, 9)"
      ]
     },
     "execution_count": 15,
     "metadata": {},
     "output_type": "execute_result"
    }
   ],
   "source": [
    "closest[closest['itemRgb'] == 0].shape"
   ]
  },
  {
   "cell_type": "code",
   "execution_count": 16,
   "metadata": {},
   "outputs": [
    {
     "data": {
      "text/plain": [
       "(array([   3.,    9.,   15.,   33.,   51.,  146.,  250.,  536.,  953.,\n",
       "        1458., 1479.,  837.,  406.,  277.,  323.]),\n",
       " array([2.56702637, 2.93326634, 3.29950632, 3.6657463 , 4.03198627,\n",
       "        4.39822625, 4.76446623, 5.13070621, 5.49694618, 5.86318616,\n",
       "        6.22942614, 6.59566611, 6.96190609, 7.32814607, 7.69438604,\n",
       "        8.06062602]),\n",
       " <a list of 15 Patch objects>)"
      ]
     },
     "execution_count": 16,
     "metadata": {},
     "output_type": "execute_result"
    },
    {
     "data": {
      "image/png": "[encoded data removed]",
      "text/plain": [
       "<Figure size 432x288 with 1 Axes>"
      ]
     },
     "metadata": {},
     "output_type": "display_data"
    }
   ],
   "source": [
    "plt.hist(np.log10(closest[closest['itemRgb'] != 0]['itemRgb']), bins=15)"
   ]
  },
  {
   "cell_type": "code",
   "execution_count": null,
   "metadata": {},
   "outputs": [],
   "source": [
    "#======================================================================================================================"
   ]
  },
  {
   "cell_type": "code",
   "execution_count": 47,
   "metadata": {},
   "outputs": [],
   "source": [
    "coresp = pd.read_csv(\"../H3K27me3/H3K27me3_filtered_by_biosample.csv\", sep=\";\")\n",
    "listRnaExpOrder = []\n",
    "for exp in list(chip.columns.values):\n",
    "    listRnaExpOrder.append(coresp[coresp['File accession'] == exp]['RNA file assesion'].values[0])"
   ]
  },
  {
   "cell_type": "code",
   "execution_count": 48,
   "metadata": {},
   "outputs": [],
   "source": [
    "lncRNA = lncRNA.reindex(columns=listRnaExpOrder)"
   ]
  },
  {
   "cell_type": "code",
   "execution_count": 49,
   "metadata": {},
   "outputs": [],
   "source": [
    "meg3_exp = lncRNA[lncRNA.index == 'ENSG00000214548.10']"
   ]
  },
  {
   "cell_type": "code",
   "execution_count": 23,
   "metadata": {},
   "outputs": [],
   "source": [
    "meg3_chip = chip[chip.index.isin([p for g, p, c in meg3])]"
   ]
  },
  {
   "cell_type": "code",
   "execution_count": 59,
   "metadata": {},
   "outputs": [],
   "source": [
    "#Посмотрим на значения экспериментов в пиках подробнее"
   ]
  },
  {
   "cell_type": "code",
   "execution_count": 31,
   "metadata": {},
   "outputs": [
    {
     "data": {
      "text/plain": [
       "(array([1.000e+00, 0.000e+00, 0.000e+00, 1.000e+00, 7.000e+00, 6.000e+00,\n",
       "        8.000e+00, 8.000e+00, 2.200e+01, 1.578e+03]),\n",
       " array([22. , 27.5, 33. , 38.5, 44. , 49.5, 55. , 60.5, 66. , 71.5, 77. ]),\n",
       " <a list of 10 Patch objects>)"
      ]
     },
     "execution_count": 31,
     "metadata": {},
     "output_type": "execute_result"
    },
    {
     "data": {
      "image/png": "[encoded data removed]",
      "text/plain": [
       "<Figure size 432x288 with 1 Axes>"
      ]
     },
     "metadata": {},
     "output_type": "display_data"
    }
   ],
   "source": [
    "#кол-во нулей в экспериментах\n",
    "plt.hist(meg3_chip.apply(lambda row: len([i for i in row if i > 0]), axis=1))"
   ]
  },
  {
   "cell_type": "code",
   "execution_count": 38,
   "metadata": {},
   "outputs": [
    {
     "data": {
      "text/plain": [
       "(6024, 9)"
      ]
     },
     "execution_count": 38,
     "metadata": {},
     "output_type": "execute_result"
    }
   ],
   "source": [
    "#Есть ли meg3 пики среди наших пиков?\n",
    "meg3_bed = BedTool(\"../H3K27me3/MEG3-bound_peaks_hg19based_sorted.bed\")#6837\n",
    "bt_all_peaks = BedTool.from_dataframe(peaks)\n",
    "closest_with_all = meg3_bed.closest(bt_all_peaks, d=True).to_dataframe()\n",
    "\n",
    "closest_with_all[closest_with_all['itemRgb'] == 0].shape"
   ]
  },
  {
   "cell_type": "code",
   "execution_count": 44,
   "metadata": {},
   "outputs": [],
   "source": [
    "peaks_intersect_with_meg3_exp = closest_with_all[closest_with_all['itemRgb'] == 0]['thickEnd'].tolist()\n",
    "peaks_intersect_with_meg3_exp_chip = chip[chip.index.isin(peaks_intersect_with_meg3_exp)]"
   ]
  },
  {
   "cell_type": "code",
   "execution_count": 45,
   "metadata": {},
   "outputs": [
    {
     "data": {
      "text/html": [
       "<div>\n",
       "<style scoped>\n",
       "    .dataframe tbody tr th:only-of-type {\n",
       "        vertical-align: middle;\n",
       "    }\n",
       "\n",
       "    .dataframe tbody tr th {\n",
       "        vertical-align: top;\n",
       "    }\n",
       "\n",
       "    .dataframe thead th {\n",
       "        text-align: right;\n",
       "    }\n",
       "</style>\n",
       "<table border=\"1\" class=\"dataframe\">\n",
       "  <thead>\n",
       "    <tr style=\"text-align: right;\">\n",
       "      <th></th>\n",
       "      <th>ENCFF591ZGI</th>\n",
       "      <th>ENCFF947QKE</th>\n",
       "      <th>ENCFF105XNT</th>\n",
       "      <th>ENCFF573NUY</th>\n",
       "      <th>ENCFF411ZSE</th>\n",
       "      <th>ENCFF944ISC</th>\n",
       "      <th>ENCFF317HDL</th>\n",
       "      <th>ENCFF808YRG</th>\n",
       "      <th>ENCFF153UOO</th>\n",
       "      <th>ENCFF442NTT</th>\n",
       "      <th>...</th>\n",
       "      <th>ENCFF149NHO</th>\n",
       "      <th>ENCFF379GQG</th>\n",
       "      <th>ENCFF730WFM</th>\n",
       "      <th>ENCFF100ZMU</th>\n",
       "      <th>ENCFF323ZZH</th>\n",
       "      <th>ENCFF803QNX</th>\n",
       "      <th>ENCFF876PEW</th>\n",
       "      <th>ENCFF956AVR</th>\n",
       "      <th>ENCFF133ZMV</th>\n",
       "      <th>ENCFF269WXR</th>\n",
       "    </tr>\n",
       "  </thead>\n",
       "  <tbody>\n",
       "    <tr>\n",
       "      <th>peak_0</th>\n",
       "      <td>8.36</td>\n",
       "      <td>0.00</td>\n",
       "      <td>0.00</td>\n",
       "      <td>0.00</td>\n",
       "      <td>0.00</td>\n",
       "      <td>0.91</td>\n",
       "      <td>0.00</td>\n",
       "      <td>0.77</td>\n",
       "      <td>0.00</td>\n",
       "      <td>5.22</td>\n",
       "      <td>...</td>\n",
       "      <td>0.00</td>\n",
       "      <td>0.65</td>\n",
       "      <td>0.00</td>\n",
       "      <td>2.11</td>\n",
       "      <td>0.00</td>\n",
       "      <td>0.00</td>\n",
       "      <td>4.48</td>\n",
       "      <td>7.40</td>\n",
       "      <td>0.00</td>\n",
       "      <td>0.00</td>\n",
       "    </tr>\n",
       "    <tr>\n",
       "      <th>peak_24</th>\n",
       "      <td>309.34</td>\n",
       "      <td>550.95</td>\n",
       "      <td>170.83</td>\n",
       "      <td>219.28</td>\n",
       "      <td>647.61</td>\n",
       "      <td>465.44</td>\n",
       "      <td>406.80</td>\n",
       "      <td>398.96</td>\n",
       "      <td>454.85</td>\n",
       "      <td>204.21</td>\n",
       "      <td>...</td>\n",
       "      <td>548.10</td>\n",
       "      <td>649.44</td>\n",
       "      <td>533.04</td>\n",
       "      <td>746.28</td>\n",
       "      <td>405.94</td>\n",
       "      <td>485.03</td>\n",
       "      <td>194.72</td>\n",
       "      <td>4310.02</td>\n",
       "      <td>185.79</td>\n",
       "      <td>528.90</td>\n",
       "    </tr>\n",
       "    <tr>\n",
       "      <th>peak_39</th>\n",
       "      <td>196.47</td>\n",
       "      <td>166.62</td>\n",
       "      <td>83.03</td>\n",
       "      <td>75.41</td>\n",
       "      <td>161.52</td>\n",
       "      <td>162.99</td>\n",
       "      <td>127.52</td>\n",
       "      <td>139.64</td>\n",
       "      <td>125.11</td>\n",
       "      <td>94.89</td>\n",
       "      <td>...</td>\n",
       "      <td>136.05</td>\n",
       "      <td>172.58</td>\n",
       "      <td>360.59</td>\n",
       "      <td>209.15</td>\n",
       "      <td>94.01</td>\n",
       "      <td>107.09</td>\n",
       "      <td>82.81</td>\n",
       "      <td>766.16</td>\n",
       "      <td>71.68</td>\n",
       "      <td>129.35</td>\n",
       "    </tr>\n",
       "    <tr>\n",
       "      <th>peak_115</th>\n",
       "      <td>3448.73</td>\n",
       "      <td>5008.78</td>\n",
       "      <td>1820.91</td>\n",
       "      <td>1883.19</td>\n",
       "      <td>4816.30</td>\n",
       "      <td>3642.01</td>\n",
       "      <td>4143.28</td>\n",
       "      <td>2719.82</td>\n",
       "      <td>3574.51</td>\n",
       "      <td>1370.48</td>\n",
       "      <td>...</td>\n",
       "      <td>5562.60</td>\n",
       "      <td>6867.44</td>\n",
       "      <td>5413.51</td>\n",
       "      <td>3700.76</td>\n",
       "      <td>3016.81</td>\n",
       "      <td>3278.71</td>\n",
       "      <td>1227.65</td>\n",
       "      <td>17204.59</td>\n",
       "      <td>1583.47</td>\n",
       "      <td>2854.32</td>\n",
       "    </tr>\n",
       "    <tr>\n",
       "      <th>peak_118</th>\n",
       "      <td>221.55</td>\n",
       "      <td>86.24</td>\n",
       "      <td>100.21</td>\n",
       "      <td>38.70</td>\n",
       "      <td>121.52</td>\n",
       "      <td>98.70</td>\n",
       "      <td>99.47</td>\n",
       "      <td>148.84</td>\n",
       "      <td>67.82</td>\n",
       "      <td>102.26</td>\n",
       "      <td>...</td>\n",
       "      <td>97.18</td>\n",
       "      <td>88.24</td>\n",
       "      <td>296.31</td>\n",
       "      <td>124.12</td>\n",
       "      <td>76.92</td>\n",
       "      <td>44.09</td>\n",
       "      <td>79.46</td>\n",
       "      <td>346.10</td>\n",
       "      <td>49.98</td>\n",
       "      <td>158.09</td>\n",
       "    </tr>\n",
       "  </tbody>\n",
       "</table>\n",
       "<p>5 rows × 77 columns</p>\n",
       "</div>"
      ],
      "text/plain": [
       "          ENCFF591ZGI  ENCFF947QKE  ENCFF105XNT  ENCFF573NUY  ENCFF411ZSE  \\\n",
       "peak_0           8.36         0.00         0.00         0.00         0.00   \n",
       "peak_24        309.34       550.95       170.83       219.28       647.61   \n",
       "peak_39        196.47       166.62        83.03        75.41       161.52   \n",
       "peak_115      3448.73      5008.78      1820.91      1883.19      4816.30   \n",
       "peak_118       221.55        86.24       100.21        38.70       121.52   \n",
       "\n",
       "          ENCFF944ISC  ENCFF317HDL  ENCFF808YRG  ENCFF153UOO  ENCFF442NTT  \\\n",
       "peak_0           0.91         0.00         0.77         0.00         5.22   \n",
       "peak_24        465.44       406.80       398.96       454.85       204.21   \n",
       "peak_39        162.99       127.52       139.64       125.11        94.89   \n",
       "peak_115      3642.01      4143.28      2719.82      3574.51      1370.48   \n",
       "peak_118        98.70        99.47       148.84        67.82       102.26   \n",
       "\n",
       "             ...       ENCFF149NHO  ENCFF379GQG  ENCFF730WFM  ENCFF100ZMU  \\\n",
       "peak_0       ...              0.00         0.65         0.00         2.11   \n",
       "peak_24      ...            548.10       649.44       533.04       746.28   \n",
       "peak_39      ...            136.05       172.58       360.59       209.15   \n",
       "peak_115     ...           5562.60      6867.44      5413.51      3700.76   \n",
       "peak_118     ...             97.18        88.24       296.31       124.12   \n",
       "\n",
       "          ENCFF323ZZH  ENCFF803QNX  ENCFF876PEW  ENCFF956AVR  ENCFF133ZMV  \\\n",
       "peak_0           0.00         0.00         4.48         7.40         0.00   \n",
       "peak_24        405.94       485.03       194.72      4310.02       185.79   \n",
       "peak_39         94.01       107.09        82.81       766.16        71.68   \n",
       "peak_115      3016.81      3278.71      1227.65     17204.59      1583.47   \n",
       "peak_118        76.92        44.09        79.46       346.10        49.98   \n",
       "\n",
       "          ENCFF269WXR  \n",
       "peak_0           0.00  \n",
       "peak_24        528.90  \n",
       "peak_39        129.35  \n",
       "peak_115      2854.32  \n",
       "peak_118       158.09  \n",
       "\n",
       "[5 rows x 77 columns]"
      ]
     },
     "execution_count": 45,
     "metadata": {},
     "output_type": "execute_result"
    }
   ],
   "source": [
    "peaks_intersect_with_meg3_exp_chip.head()"
   ]
  },
  {
   "cell_type": "code",
   "execution_count": 68,
   "metadata": {},
   "outputs": [],
   "source": [
    "meg3_exp = lncRNA.loc['ENSG00000214548.10', :].tolist()"
   ]
  },
  {
   "cell_type": "code",
   "execution_count": 70,
   "metadata": {},
   "outputs": [],
   "source": [
    "#посмотреть как коррелирует мег3 с этими(нашими) пиками\n",
    "corrs = []\n",
    "for index, row in peaks_intersect_with_meg3_exp_chip.iterrows():\n",
    "    corrs.append(stats.spearmanr(meg3_exp, row.tolist()))"
   ]
  },
  {
   "cell_type": "code",
   "execution_count": 71,
   "metadata": {},
   "outputs": [
    {
     "data": {
      "text/plain": [
       "(array([   9.,   70.,  267.,  791., 1505., 1449.,  753.,  247.,   61.,\n",
       "          13.]),\n",
       " array([-0.56956122, -0.45447224, -0.33938327, -0.22429429, -0.10920532,\n",
       "         0.00588366,  0.12097263,  0.23606161,  0.35115058,  0.46623956,\n",
       "         0.58132853]),\n",
       " <a list of 10 Patch objects>)"
      ]
     },
     "execution_count": 71,
     "metadata": {},
     "output_type": "execute_result"
    },
    {
     "data": {
      "image/png": "[encoded data removed]",
      "text/plain": [
       "<Figure size 432x288 with 1 Axes>"
      ]
     },
     "metadata": {},
     "output_type": "display_data"
    }
   ],
   "source": [
    "#Видим что хоть пики и есть, но корреляции тупо нет\n",
    "plt.hist([c for c, p in corrs])"
   ]
  },
  {
   "cell_type": "code",
   "execution_count": 75,
   "metadata": {},
   "outputs": [],
   "source": [
    "#пересчитать в их пиках наши риды и опять попробовать корреляцию\n",
    "#(с экспрессией ничего не можем сделать, а вот пошевелить чип можем, потому что пики сами делали, а так их пики берем\n",
    "#а данные наши)"
   ]
  },
  {
   "cell_type": "code",
   "execution_count": null,
   "metadata": {},
   "outputs": [],
   "source": [
    "#===================теперь возьмем матрицу сигнала, посчитанную для экспериментальных пиков с нашими данными"
   ]
  },
  {
   "cell_type": "code",
   "execution_count": 93,
   "metadata": {},
   "outputs": [],
   "source": [
    "chip_peaks_exp = pd.read_csv(\"../H3K27me3/MEG3_exp_peaks_signal_matrix_normalized.csv\", sep=\",\", index_col=0)"
   ]
  },
  {
   "cell_type": "code",
   "execution_count": 94,
   "metadata": {},
   "outputs": [
    {
     "data": {
      "text/html": [
       "<div>\n",
       "<style scoped>\n",
       "    .dataframe tbody tr th:only-of-type {\n",
       "        vertical-align: middle;\n",
       "    }\n",
       "\n",
       "    .dataframe tbody tr th {\n",
       "        vertical-align: top;\n",
       "    }\n",
       "\n",
       "    .dataframe thead th {\n",
       "        text-align: right;\n",
       "    }\n",
       "</style>\n",
       "<table border=\"1\" class=\"dataframe\">\n",
       "  <thead>\n",
       "    <tr style=\"text-align: right;\">\n",
       "      <th></th>\n",
       "      <th>ENCFF591ZGI</th>\n",
       "      <th>ENCFF947QKE</th>\n",
       "      <th>ENCFF105XNT</th>\n",
       "      <th>ENCFF573NUY</th>\n",
       "      <th>ENCFF411ZSE</th>\n",
       "      <th>ENCFF944ISC</th>\n",
       "      <th>ENCFF317HDL</th>\n",
       "      <th>ENCFF808YRG</th>\n",
       "      <th>ENCFF153UOO</th>\n",
       "      <th>ENCFF442NTT</th>\n",
       "      <th>...</th>\n",
       "      <th>ENCFF149NHO</th>\n",
       "      <th>ENCFF379GQG</th>\n",
       "      <th>ENCFF730WFM</th>\n",
       "      <th>ENCFF100ZMU</th>\n",
       "      <th>ENCFF323ZZH</th>\n",
       "      <th>ENCFF803QNX</th>\n",
       "      <th>ENCFF876PEW</th>\n",
       "      <th>ENCFF956AVR</th>\n",
       "      <th>ENCFF133ZMV</th>\n",
       "      <th>ENCFF269WXR</th>\n",
       "    </tr>\n",
       "  </thead>\n",
       "  <tbody>\n",
       "    <tr>\n",
       "      <th>MACS_pk6147</th>\n",
       "      <td>8.57</td>\n",
       "      <td>0.00</td>\n",
       "      <td>0.75</td>\n",
       "      <td>0.00</td>\n",
       "      <td>0.00</td>\n",
       "      <td>0.96</td>\n",
       "      <td>0.00</td>\n",
       "      <td>1.15</td>\n",
       "      <td>0.00</td>\n",
       "      <td>24.35</td>\n",
       "      <td>...</td>\n",
       "      <td>2.47</td>\n",
       "      <td>0.35</td>\n",
       "      <td>0.00</td>\n",
       "      <td>1.06</td>\n",
       "      <td>0.0</td>\n",
       "      <td>0.00</td>\n",
       "      <td>14.15</td>\n",
       "      <td>1.61</td>\n",
       "      <td>0.00</td>\n",
       "      <td>0.00</td>\n",
       "    </tr>\n",
       "    <tr>\n",
       "      <th>MACS_pk6155</th>\n",
       "      <td>0.00</td>\n",
       "      <td>0.00</td>\n",
       "      <td>0.00</td>\n",
       "      <td>2.12</td>\n",
       "      <td>0.00</td>\n",
       "      <td>0.00</td>\n",
       "      <td>0.00</td>\n",
       "      <td>0.00</td>\n",
       "      <td>0.00</td>\n",
       "      <td>3.25</td>\n",
       "      <td>...</td>\n",
       "      <td>0.00</td>\n",
       "      <td>0.00</td>\n",
       "      <td>0.00</td>\n",
       "      <td>1.32</td>\n",
       "      <td>0.0</td>\n",
       "      <td>0.00</td>\n",
       "      <td>0.00</td>\n",
       "      <td>0.00</td>\n",
       "      <td>0.00</td>\n",
       "      <td>0.00</td>\n",
       "    </tr>\n",
       "    <tr>\n",
       "      <th>MACS_pk6162</th>\n",
       "      <td>8.57</td>\n",
       "      <td>22.26</td>\n",
       "      <td>0.00</td>\n",
       "      <td>2.12</td>\n",
       "      <td>9.11</td>\n",
       "      <td>5.74</td>\n",
       "      <td>2.69</td>\n",
       "      <td>6.92</td>\n",
       "      <td>2.85</td>\n",
       "      <td>13.80</td>\n",
       "      <td>...</td>\n",
       "      <td>0.00</td>\n",
       "      <td>6.31</td>\n",
       "      <td>2.37</td>\n",
       "      <td>2.11</td>\n",
       "      <td>0.0</td>\n",
       "      <td>9.90</td>\n",
       "      <td>4.04</td>\n",
       "      <td>10.94</td>\n",
       "      <td>7.77</td>\n",
       "      <td>5.83</td>\n",
       "    </tr>\n",
       "    <tr>\n",
       "      <th>MACS_pk6173</th>\n",
       "      <td>34.29</td>\n",
       "      <td>3.71</td>\n",
       "      <td>2.26</td>\n",
       "      <td>2.12</td>\n",
       "      <td>5.06</td>\n",
       "      <td>11.48</td>\n",
       "      <td>8.07</td>\n",
       "      <td>14.99</td>\n",
       "      <td>0.95</td>\n",
       "      <td>12.17</td>\n",
       "      <td>...</td>\n",
       "      <td>9.89</td>\n",
       "      <td>11.57</td>\n",
       "      <td>13.42</td>\n",
       "      <td>15.59</td>\n",
       "      <td>10.0</td>\n",
       "      <td>8.66</td>\n",
       "      <td>6.06</td>\n",
       "      <td>6.12</td>\n",
       "      <td>8.63</td>\n",
       "      <td>1.46</td>\n",
       "    </tr>\n",
       "    <tr>\n",
       "      <th>MACS_pk6183</th>\n",
       "      <td>17.14</td>\n",
       "      <td>8.04</td>\n",
       "      <td>11.28</td>\n",
       "      <td>4.24</td>\n",
       "      <td>5.06</td>\n",
       "      <td>10.53</td>\n",
       "      <td>7.17</td>\n",
       "      <td>6.92</td>\n",
       "      <td>9.49</td>\n",
       "      <td>9.74</td>\n",
       "      <td>...</td>\n",
       "      <td>12.36</td>\n",
       "      <td>7.01</td>\n",
       "      <td>12.63</td>\n",
       "      <td>10.04</td>\n",
       "      <td>5.0</td>\n",
       "      <td>2.48</td>\n",
       "      <td>12.13</td>\n",
       "      <td>3.22</td>\n",
       "      <td>7.77</td>\n",
       "      <td>0.00</td>\n",
       "    </tr>\n",
       "  </tbody>\n",
       "</table>\n",
       "<p>5 rows × 77 columns</p>\n",
       "</div>"
      ],
      "text/plain": [
       "             ENCFF591ZGI  ENCFF947QKE  ENCFF105XNT  ENCFF573NUY  ENCFF411ZSE  \\\n",
       "MACS_pk6147         8.57         0.00         0.75         0.00         0.00   \n",
       "MACS_pk6155         0.00         0.00         0.00         2.12         0.00   \n",
       "MACS_pk6162         8.57        22.26         0.00         2.12         9.11   \n",
       "MACS_pk6173        34.29         3.71         2.26         2.12         5.06   \n",
       "MACS_pk6183        17.14         8.04        11.28         4.24         5.06   \n",
       "\n",
       "             ENCFF944ISC  ENCFF317HDL  ENCFF808YRG  ENCFF153UOO  ENCFF442NTT  \\\n",
       "MACS_pk6147         0.96         0.00         1.15         0.00        24.35   \n",
       "MACS_pk6155         0.00         0.00         0.00         0.00         3.25   \n",
       "MACS_pk6162         5.74         2.69         6.92         2.85        13.80   \n",
       "MACS_pk6173        11.48         8.07        14.99         0.95        12.17   \n",
       "MACS_pk6183        10.53         7.17         6.92         9.49         9.74   \n",
       "\n",
       "                ...       ENCFF149NHO  ENCFF379GQG  ENCFF730WFM  ENCFF100ZMU  \\\n",
       "MACS_pk6147     ...              2.47         0.35         0.00         1.06   \n",
       "MACS_pk6155     ...              0.00         0.00         0.00         1.32   \n",
       "MACS_pk6162     ...              0.00         6.31         2.37         2.11   \n",
       "MACS_pk6173     ...              9.89        11.57        13.42        15.59   \n",
       "MACS_pk6183     ...             12.36         7.01        12.63        10.04   \n",
       "\n",
       "             ENCFF323ZZH  ENCFF803QNX  ENCFF876PEW  ENCFF956AVR  ENCFF133ZMV  \\\n",
       "MACS_pk6147          0.0         0.00        14.15         1.61         0.00   \n",
       "MACS_pk6155          0.0         0.00         0.00         0.00         0.00   \n",
       "MACS_pk6162          0.0         9.90         4.04        10.94         7.77   \n",
       "MACS_pk6173         10.0         8.66         6.06         6.12         8.63   \n",
       "MACS_pk6183          5.0         2.48        12.13         3.22         7.77   \n",
       "\n",
       "             ENCFF269WXR  \n",
       "MACS_pk6147         0.00  \n",
       "MACS_pk6155         0.00  \n",
       "MACS_pk6162         5.83  \n",
       "MACS_pk6173         1.46  \n",
       "MACS_pk6183         0.00  \n",
       "\n",
       "[5 rows x 77 columns]"
      ]
     },
     "execution_count": 94,
     "metadata": {},
     "output_type": "execute_result"
    }
   ],
   "source": [
    "chip_peaks_exp.head()"
   ]
  },
  {
   "cell_type": "code",
   "execution_count": 95,
   "metadata": {},
   "outputs": [
    {
     "name": "stderr",
     "output_type": "stream",
     "text": [
      "/home/mazurovev/.local/lib/python3.6/site-packages/numpy/lib/function_base.py:2530: RuntimeWarning: invalid value encountered in true_divide\n",
      "  c /= stddev[:, None]\n",
      "/home/mazurovev/.local/lib/python3.6/site-packages/numpy/lib/function_base.py:2531: RuntimeWarning: invalid value encountered in true_divide\n",
      "  c /= stddev[None, :]\n",
      "/home/mazurovev/.local/lib/python3.6/site-packages/scipy/stats/_distn_infrastructure.py:879: RuntimeWarning: invalid value encountered in greater\n",
      "  return (self.a < x) & (x < self.b)\n",
      "/home/mazurovev/.local/lib/python3.6/site-packages/scipy/stats/_distn_infrastructure.py:879: RuntimeWarning: invalid value encountered in less\n",
      "  return (self.a < x) & (x < self.b)\n",
      "/home/mazurovev/.local/lib/python3.6/site-packages/scipy/stats/_distn_infrastructure.py:1821: RuntimeWarning: invalid value encountered in less_equal\n",
      "  cond2 = cond0 & (x <= self.a)\n"
     ]
    }
   ],
   "source": [
    "corrs_with_exp = []\n",
    "for index, row in chip_peaks_exp.iterrows():\n",
    "    corrs_with_exp.append(stats.spearmanr(meg3_exp, row.tolist()))"
   ]
  },
  {
   "cell_type": "code",
   "execution_count": 96,
   "metadata": {},
   "outputs": [],
   "source": [
    "corrs_with_exp = [x for x in [c for c, p in corrs_with_exp] if str(x) != 'nan']"
   ]
  },
  {
   "cell_type": "code",
   "execution_count": 97,
   "metadata": {},
   "outputs": [
    {
     "data": {
      "text/plain": [
       "6743"
      ]
     },
     "execution_count": 97,
     "metadata": {},
     "output_type": "execute_result"
    }
   ],
   "source": [
    "len(corrs_with_exp)"
   ]
  },
  {
   "cell_type": "code",
   "execution_count": 98,
   "metadata": {},
   "outputs": [
    {
     "data": {
      "text/plain": [
       "(array([  15.,   56.,  252.,  825., 1866., 2011., 1177.,  435.,   89.,\n",
       "          17.]),\n",
       " array([-0.47070617, -0.37426854, -0.2778309 , -0.18139327, -0.08495564,\n",
       "         0.01148199,  0.10791962,  0.20435726,  0.30079489,  0.39723252,\n",
       "         0.49367015]),\n",
       " <a list of 10 Patch objects>)"
      ]
     },
     "execution_count": 98,
     "metadata": {},
     "output_type": "execute_result"
    },
    {
     "data": {
      "image/png": "[encoded data removed]",
      "text/plain": [
       "<Figure size 432x288 with 1 Axes>"
      ]
     },
     "metadata": {},
     "output_type": "display_data"
    }
   ],
   "source": [
    "plt.hist(corrs_with_exp)"
   ]
  },
  {
   "cell_type": "code",
   "execution_count": null,
   "metadata": {},
   "outputs": [],
   "source": [
    "#=================================возьмем данные chop seq и найдем пики сами"
   ]
  },
  {
   "cell_type": "code",
   "execution_count": 2,
   "metadata": {},
   "outputs": [],
   "source": [
    "from subprocess import Popen, PIPE\n",
    "import sys\n",
    "def callWithNiceOutput(cmd):\n",
    "    proc = Popen(cmd, stdout=PIPE, stderr=PIPE, shell=True, bufsize=-1)\n",
    "    \n",
    "    for line in proc.stdout:\n",
    "        print(\"output: \")\n",
    "        print(line)\n",
    "        sys.stdout.flush()\n",
    "    \n",
    "    for line in proc.stderr:\n",
    "        print(\"error: \")\n",
    "        print(line)\n",
    "        sys.stdout.flush()"
   ]
  },
  {
   "cell_type": "code",
   "execution_count": 5,
   "metadata": {},
   "outputs": [
    {
     "name": "stdout",
     "output_type": "stream",
     "text": [
      "error: \n",
      "b'INFO  @ Fri, 25 Oct 2019 16:35:41: \\n'\n",
      "error: \n",
      "b'# Command line: callpeak -t /home/mazurovev/MEG3_CHOPSeq/MEG3_ChOP.bam -c /home/mazurovev/MEG3_CHOPSeq/Input_ChOP.bam --broad -g 2.7e9 -q 0.05 -n macs2_original --broad-cutoff 0.05\\n'\n",
      "error: \n",
      "b'# ARGUMENTS LIST:\\n'\n",
      "error: \n",
      "b'# name = macs2_original\\n'\n",
      "error: \n",
      "b'# format = AUTO\\n'\n",
      "error: \n",
      "b\"# ChIP-seq file = ['/home/mazurovev/MEG3_CHOPSeq/MEG3_ChOP.bam']\\n\"\n",
      "error: \n",
      "b\"# control file = ['/home/mazurovev/MEG3_CHOPSeq/Input_ChOP.bam']\\n\"\n",
      "error: \n",
      "b'# effective genome size = 2.70e+09\\n'\n",
      "error: \n",
      "b'# band width = 300\\n'\n",
      "error: \n",
      "b'# model fold = [5, 50]\\n'\n",
      "error: \n",
      "b'# qvalue cutoff for narrow/strong regions = 5.00e-02\\n'\n",
      "error: \n",
      "b'# qvalue cutoff for broad/weak regions = 5.00e-02\\n'\n",
      "error: \n",
      "b'# The maximum gap between significant sites is assigned as the read length/tag size.\\n'\n",
      "error: \n",
      "b'# The minimum length of peaks is assigned as the predicted fragment length \"d\".\\n'\n",
      "error: \n",
      "b'# Larger dataset will be scaled towards smaller dataset.\\n'\n",
      "error: \n",
      "b'# Range for calculating regional lambda is: 1000 bps and 10000 bps\\n'\n",
      "error: \n",
      "b'# Broad region calling is on\\n'\n",
      "error: \n",
      "b'# Paired-End mode is off\\n'\n",
      "error: \n",
      "b' \\n'\n",
      "error: \n",
      "b'INFO  @ Fri, 25 Oct 2019 16:35:41: #1 read tag files... \\n'\n",
      "error: \n",
      "b'INFO  @ Fri, 25 Oct 2019 16:35:41: #1 read treatment tags... \\n'\n",
      "error: \n",
      "b'INFO  @ Fri, 25 Oct 2019 16:35:41: Detected format is: BAM \\n'\n",
      "error: \n",
      "b'INFO  @ Fri, 25 Oct 2019 16:35:41: * Input file is gzipped. \\n'\n",
      "error: \n",
      "b'INFO  @ Fri, 25 Oct 2019 16:35:46:  1000000 \\n'\n",
      "error: \n",
      "b'INFO  @ Fri, 25 Oct 2019 16:35:51:  2000000 \\n'\n",
      "error: \n",
      "b'INFO  @ Fri, 25 Oct 2019 16:35:56:  3000000 \\n'\n",
      "error: \n",
      "b'INFO  @ Fri, 25 Oct 2019 16:36:01:  4000000 \\n'\n",
      "error: \n",
      "b'INFO  @ Fri, 25 Oct 2019 16:36:06:  5000000 \\n'\n",
      "error: \n",
      "b'INFO  @ Fri, 25 Oct 2019 16:36:10: #1.2 read input tags... \\n'\n",
      "error: \n",
      "b'INFO  @ Fri, 25 Oct 2019 16:36:10: Detected format is: BAM \\n'\n",
      "error: \n",
      "b'INFO  @ Fri, 25 Oct 2019 16:36:10: * Input file is gzipped. \\n'\n",
      "error: \n",
      "b'INFO  @ Fri, 25 Oct 2019 16:36:16:  1000000 \\n'\n",
      "error: \n",
      "b'INFO  @ Fri, 25 Oct 2019 16:36:22:  2000000 \\n'\n",
      "error: \n",
      "b'INFO  @ Fri, 25 Oct 2019 16:36:27:  3000000 \\n'\n",
      "error: \n",
      "b'INFO  @ Fri, 25 Oct 2019 16:36:33:  4000000 \\n'\n",
      "error: \n",
      "b'INFO  @ Fri, 25 Oct 2019 16:36:39:  5000000 \\n'\n",
      "error: \n",
      "b'INFO  @ Fri, 25 Oct 2019 16:36:45:  6000000 \\n'\n",
      "error: \n",
      "b'INFO  @ Fri, 25 Oct 2019 16:36:51:  7000000 \\n'\n",
      "error: \n",
      "b'INFO  @ Fri, 25 Oct 2019 16:36:57:  8000000 \\n'\n",
      "error: \n",
      "b'INFO  @ Fri, 25 Oct 2019 16:37:02:  9000000 \\n'\n",
      "error: \n",
      "b'INFO  @ Fri, 25 Oct 2019 16:37:08:  10000000 \\n'\n",
      "error: \n",
      "b'INFO  @ Fri, 25 Oct 2019 16:37:14:  11000000 \\n'\n",
      "error: \n",
      "b'INFO  @ Fri, 25 Oct 2019 16:37:20:  12000000 \\n'\n",
      "error: \n",
      "b'INFO  @ Fri, 25 Oct 2019 16:37:25:  13000000 \\n'\n",
      "error: \n",
      "b'INFO  @ Fri, 25 Oct 2019 16:37:31:  14000000 \\n'\n",
      "error: \n",
      "b'INFO  @ Fri, 25 Oct 2019 16:37:37:  15000000 \\n'\n",
      "error: \n",
      "b'INFO  @ Fri, 25 Oct 2019 16:37:42:  16000000 \\n'\n",
      "error: \n",
      "b'INFO  @ Fri, 25 Oct 2019 16:37:48:  17000000 \\n'\n",
      "error: \n",
      "b'INFO  @ Fri, 25 Oct 2019 16:37:54:  18000000 \\n'\n",
      "error: \n",
      "b'INFO  @ Fri, 25 Oct 2019 16:37:59:  19000000 \\n'\n",
      "error: \n",
      "b'INFO  @ Fri, 25 Oct 2019 16:38:04:  20000000 \\n'\n",
      "error: \n",
      "b'INFO  @ Fri, 25 Oct 2019 16:38:09:  21000000 \\n'\n",
      "error: \n",
      "b'INFO  @ Fri, 25 Oct 2019 16:38:13: #1 tag size is determined as 43 bps \\n'\n",
      "error: \n",
      "b'INFO  @ Fri, 25 Oct 2019 16:38:13: #1 tag size = 43.0 \\n'\n",
      "error: \n",
      "b'INFO  @ Fri, 25 Oct 2019 16:38:13: #1  total tags in treatment: 5759775 \\n'\n",
      "error: \n",
      "b'INFO  @ Fri, 25 Oct 2019 16:38:13: #1 user defined the maximum tags... \\n'\n",
      "error: \n",
      "b'INFO  @ Fri, 25 Oct 2019 16:38:13: #1 filter out redundant tags at the same location and the same strand by allowing at most 1 tag(s) \\n'\n",
      "error: \n",
      "b'INFO  @ Fri, 25 Oct 2019 16:38:13: #1  tags after filtering in treatment: 1715763 \\n'\n",
      "error: \n",
      "b'INFO  @ Fri, 25 Oct 2019 16:38:13: #1  Redundant rate of treatment: 0.70 \\n'\n",
      "error: \n",
      "b'INFO  @ Fri, 25 Oct 2019 16:38:13: #1  total tags in control: 21615528 \\n'\n",
      "error: \n",
      "b'INFO  @ Fri, 25 Oct 2019 16:38:13: #1 user defined the maximum tags... \\n'\n",
      "error: \n",
      "b'INFO  @ Fri, 25 Oct 2019 16:38:13: #1 filter out redundant tags at the same location and the same strand by allowing at most 1 tag(s) \\n'\n",
      "error: \n",
      "b'INFO  @ Fri, 25 Oct 2019 16:38:13: #1  tags after filtering in control: 17321476 \\n'\n",
      "error: \n",
      "b'INFO  @ Fri, 25 Oct 2019 16:38:13: #1  Redundant rate of control: 0.20 \\n'\n",
      "error: \n",
      "b'INFO  @ Fri, 25 Oct 2019 16:38:13: #1 finished! \\n'\n",
      "error: \n",
      "b'INFO  @ Fri, 25 Oct 2019 16:38:13: #2 Build Peak Model... \\n'\n",
      "error: \n",
      "b'INFO  @ Fri, 25 Oct 2019 16:38:13: #2 looking for paired plus/minus strand peaks... \\n'\n",
      "error: \n",
      "b'INFO  @ Fri, 25 Oct 2019 16:38:18: #2 number of paired peaks: 64786 \\n'\n",
      "error: \n",
      "b'INFO  @ Fri, 25 Oct 2019 16:38:18: start model_add_line... \\n'\n",
      "error: \n",
      "b'INFO  @ Fri, 25 Oct 2019 16:38:18: start X-correlation... \\n'\n",
      "error: \n",
      "b'INFO  @ Fri, 25 Oct 2019 16:38:18: end of X-cor \\n'\n",
      "error: \n",
      "b'INFO  @ Fri, 25 Oct 2019 16:38:18: #2 finished! \\n'\n",
      "error: \n",
      "b'INFO  @ Fri, 25 Oct 2019 16:38:18: #2 predicted fragment length is 27 bps \\n'\n",
      "error: \n",
      "b'INFO  @ Fri, 25 Oct 2019 16:38:18: #2 alternative fragment length(s) may be 27,105,261,289 bps \\n'\n",
      "error: \n",
      "b'INFO  @ Fri, 25 Oct 2019 16:38:18: #2.2 Generate R script for model : macs2_original_model.r \\n'\n",
      "error: \n",
      "b'WARNING @ Fri, 25 Oct 2019 16:38:18: #2 Since the d (27) calculated from paired-peaks are smaller than 2*tag length, it may be influenced by unknown sequencing problem! \\n'\n",
      "error: \n",
      "b'WARNING @ Fri, 25 Oct 2019 16:38:18: #2 You may need to consider one of the other alternative d(s): 27,105,261,289 \\n'\n",
      "error: \n",
      "b'WARNING @ Fri, 25 Oct 2019 16:38:18: #2 You can restart the process with --nomodel --extsize XXX with your choice or an arbitrary number. Nontheless, MACS will continute computing. \\n'\n",
      "error: \n",
      "b'INFO  @ Fri, 25 Oct 2019 16:38:18: #3 Call peaks... \\n'\n",
      "error: \n",
      "b'INFO  @ Fri, 25 Oct 2019 16:38:18: #3 Call broad peaks with given level1 -log10qvalue cutoff and level2: 1.301030, 1.301030... \\n'\n",
      "error: \n",
      "b'INFO  @ Fri, 25 Oct 2019 16:38:18: #3 Pre-compute pvalue-qvalue table... \\n'\n",
      "error: \n",
      "b'INFO  @ Fri, 25 Oct 2019 16:39:34: #3 Call peaks for each chromosome... \\n'\n",
      "error: \n",
      "b'INFO  @ Fri, 25 Oct 2019 16:40:23: #4 Write output xls file... macs2_original_peaks.xls \\n'\n",
      "error: \n",
      "b'INFO  @ Fri, 25 Oct 2019 16:40:24: #4 Write broad peak in broadPeak format file... macs2_original_peaks.broadPeak \\n'\n",
      "error: \n",
      "b'INFO  @ Fri, 25 Oct 2019 16:40:24: #4 Write broad peak in bed12/gappedPeak format file... macs2_original_peaks.gappedPeak \\n'\n",
      "error: \n",
      "b'INFO  @ Fri, 25 Oct 2019 16:40:24: Done! \\n'\n"
     ]
    }
   ],
   "source": [
    "cmd = \"macs2 callpeak -t /home/mazurovev/MEG3_CHOPSeq/MEG3_ChOP.bam -c /home/mazurovev/MEG3_CHOPSeq/Input_ChOP.bam --broad -g 2.7e9 -q 0.05 -n macs2_original --broad-cutoff 0.05\"\n",
    "\n",
    "\n",
    "callWithNiceOutput(cmd)"
   ]
  },
  {
   "cell_type": "code",
   "execution_count": 7,
   "metadata": {},
   "outputs": [],
   "source": [
    "meg3_peaks = pd.read_csv(\"../MEG3_CHOPSeq/macs2_original_peaks.broadPeak\", header=None, sep=\"\\t\")"
   ]
  },
  {
   "cell_type": "code",
   "execution_count": 8,
   "metadata": {},
   "outputs": [
    {
     "data": {
      "text/plain": [
       "(29020, 9)"
      ]
     },
     "execution_count": 8,
     "metadata": {},
     "output_type": "execute_result"
    }
   ],
   "source": [
    "meg3_peaks.shape"
   ]
  },
  {
   "cell_type": "code",
   "execution_count": 10,
   "metadata": {},
   "outputs": [
    {
     "name": "stderr",
     "output_type": "stream",
     "text": [
      "/home/mazurovev/.local/lib/python3.6/site-packages/scipy/stats/stats.py:1713: FutureWarning: Using a non-tuple sequence for multidimensional indexing is deprecated; use `arr[tuple(seq)]` instead of `arr[seq]`. In the future this will be interpreted as an array index, `arr[np.array(seq)]`, which will result either in an error or a different result.\n",
      "  return np.add.reduce(sorted[indexer] * weights, axis=axis) / sumval\n",
      "/home/mazurovev/.local/lib/python3.6/site-packages/matplotlib/axes/_axes.py:6462: UserWarning: The 'normed' kwarg is deprecated, and has been replaced by the 'density' kwarg.\n",
      "  warnings.warn(\"The 'normed' kwarg is deprecated, and has been \"\n"
     ]
    },
    {
     "data": {
      "text/plain": [
       "<matplotlib.axes._subplots.AxesSubplot at 0x7fe59e082160>"
      ]
     },
     "execution_count": 10,
     "metadata": {},
     "output_type": "execute_result"
    },
    {
     "data": {
      "image/png": "[encoded data removed]",
      "text/plain": [
       "<Figure size 432x288 with 1 Axes>"
      ]
     },
     "metadata": {},
     "output_type": "display_data"
    }
   ],
   "source": [
    "sb.distplot(meg3_peaks[4], kde=False)"
   ]
  },
  {
   "cell_type": "code",
   "execution_count": 42,
   "metadata": {},
   "outputs": [],
   "source": [
    "import h5py\n",
    "with h5py.File(\"../all_marks/\" + \"H3K27me3\" + \"/lncRNA_Peaks_corrs/lncRNA_Peaks_Correlations_corrected_non_zero.hdf5\", 'r') as f:\n",
    "    corrs = f['corrs_matrix'][:]\n",
    "    lncRNAs = f['lncRNAs_names'][:]"
   ]
  },
  {
   "cell_type": "code",
   "execution_count": 43,
   "metadata": {},
   "outputs": [
    {
     "data": {
      "text/plain": [
       "(1401, 267955)"
      ]
     },
     "execution_count": 43,
     "metadata": {},
     "output_type": "execute_result"
    }
   ],
   "source": [
    "corrs.shape"
   ]
  },
  {
   "cell_type": "code",
   "execution_count": 44,
   "metadata": {},
   "outputs": [
    {
     "data": {
      "text/plain": [
       "99"
      ]
     },
     "execution_count": 44,
     "metadata": {},
     "output_type": "execute_result"
    }
   ],
   "source": [
    "list(lncRNAs).index(\"ENSG00000214548\")"
   ]
  },
  {
   "cell_type": "code",
   "execution_count": 45,
   "metadata": {
    "scrolled": true
   },
   "outputs": [
    {
     "data": {
      "text/plain": [
       "64"
      ]
     },
     "execution_count": 45,
     "metadata": {},
     "output_type": "execute_result"
    }
   ],
   "source": [
    "len(corrs[99, :].nonzero()[0])"
   ]
  },
  {
   "cell_type": "code",
   "execution_count": 46,
   "metadata": {},
   "outputs": [],
   "source": [
    "h3k27me3_peaks = pd.read_csv(\"../all_marks/H3K27me3/merged_peaks_first_in_biosample.bed\", header=None, sep=\"\\t\")"
   ]
  },
  {
   "cell_type": "code",
   "execution_count": 47,
   "metadata": {
    "scrolled": true
   },
   "outputs": [
    {
     "data": {
      "text/html": [
       "<div>\n",
       "<style scoped>\n",
       "    .dataframe tbody tr th:only-of-type {\n",
       "        vertical-align: middle;\n",
       "    }\n",
       "\n",
       "    .dataframe tbody tr th {\n",
       "        vertical-align: top;\n",
       "    }\n",
       "\n",
       "    .dataframe thead th {\n",
       "        text-align: right;\n",
       "    }\n",
       "</style>\n",
       "<table border=\"1\" class=\"dataframe\">\n",
       "  <thead>\n",
       "    <tr style=\"text-align: right;\">\n",
       "      <th></th>\n",
       "      <th>0</th>\n",
       "      <th>1</th>\n",
       "      <th>2</th>\n",
       "      <th>3</th>\n",
       "    </tr>\n",
       "  </thead>\n",
       "  <tbody>\n",
       "    <tr>\n",
       "      <th>11661</th>\n",
       "      <td>chr1</td>\n",
       "      <td>162764958</td>\n",
       "      <td>162770470</td>\n",
       "      <td>peak_11661</td>\n",
       "    </tr>\n",
       "    <tr>\n",
       "      <th>17713</th>\n",
       "      <td>chr1</td>\n",
       "      <td>231601589</td>\n",
       "      <td>231602455</td>\n",
       "      <td>peak_17713</td>\n",
       "    </tr>\n",
       "    <tr>\n",
       "      <th>18712</th>\n",
       "      <td>chr1</td>\n",
       "      <td>239975661</td>\n",
       "      <td>239978555</td>\n",
       "      <td>peak_18712</td>\n",
       "    </tr>\n",
       "    <tr>\n",
       "      <th>19263</th>\n",
       "      <td>chr1</td>\n",
       "      <td>246721962</td>\n",
       "      <td>246727697</td>\n",
       "      <td>peak_19263</td>\n",
       "    </tr>\n",
       "    <tr>\n",
       "      <th>32226</th>\n",
       "      <td>chr11</td>\n",
       "      <td>436491</td>\n",
       "      <td>446866</td>\n",
       "      <td>peak_32226</td>\n",
       "    </tr>\n",
       "    <tr>\n",
       "      <th>34379</th>\n",
       "      <td>chr11</td>\n",
       "      <td>27530372</td>\n",
       "      <td>27536565</td>\n",
       "      <td>peak_34379</td>\n",
       "    </tr>\n",
       "    <tr>\n",
       "      <th>37275</th>\n",
       "      <td>chr11</td>\n",
       "      <td>66365254</td>\n",
       "      <td>66385342</td>\n",
       "      <td>peak_37275</td>\n",
       "    </tr>\n",
       "    <tr>\n",
       "      <th>42425</th>\n",
       "      <td>chr11</td>\n",
       "      <td>121509943</td>\n",
       "      <td>121569083</td>\n",
       "      <td>peak_42425</td>\n",
       "    </tr>\n",
       "    <tr>\n",
       "      <th>45005</th>\n",
       "      <td>chr12</td>\n",
       "      <td>20140726</td>\n",
       "      <td>20147461</td>\n",
       "      <td>peak_45005</td>\n",
       "    </tr>\n",
       "    <tr>\n",
       "      <th>51305</th>\n",
       "      <td>chr12</td>\n",
       "      <td>85467345</td>\n",
       "      <td>85468660</td>\n",
       "      <td>peak_51305</td>\n",
       "    </tr>\n",
       "    <tr>\n",
       "      <th>52287</th>\n",
       "      <td>chr12</td>\n",
       "      <td>93175438</td>\n",
       "      <td>93176525</td>\n",
       "      <td>peak_52287</td>\n",
       "    </tr>\n",
       "    <tr>\n",
       "      <th>53370</th>\n",
       "      <td>chr12</td>\n",
       "      <td>103993133</td>\n",
       "      <td>103998062</td>\n",
       "      <td>peak_53370</td>\n",
       "    </tr>\n",
       "    <tr>\n",
       "      <th>56727</th>\n",
       "      <td>chr13</td>\n",
       "      <td>33685178</td>\n",
       "      <td>33689671</td>\n",
       "      <td>peak_56727</td>\n",
       "    </tr>\n",
       "    <tr>\n",
       "      <th>56801</th>\n",
       "      <td>chr13</td>\n",
       "      <td>34239257</td>\n",
       "      <td>34256637</td>\n",
       "      <td>peak_56801</td>\n",
       "    </tr>\n",
       "    <tr>\n",
       "      <th>58431</th>\n",
       "      <td>chr13</td>\n",
       "      <td>48276886</td>\n",
       "      <td>48279357</td>\n",
       "      <td>peak_58431</td>\n",
       "    </tr>\n",
       "    <tr>\n",
       "      <th>67191</th>\n",
       "      <td>chr14</td>\n",
       "      <td>49723260</td>\n",
       "      <td>49730967</td>\n",
       "      <td>peak_67191</td>\n",
       "    </tr>\n",
       "    <tr>\n",
       "      <th>67193</th>\n",
       "      <td>chr14</td>\n",
       "      <td>49735783</td>\n",
       "      <td>49749501</td>\n",
       "      <td>peak_67193</td>\n",
       "    </tr>\n",
       "    <tr>\n",
       "      <th>68826</th>\n",
       "      <td>chr14</td>\n",
       "      <td>70448401</td>\n",
       "      <td>70458179</td>\n",
       "      <td>peak_68826</td>\n",
       "    </tr>\n",
       "    <tr>\n",
       "      <th>74531</th>\n",
       "      <td>chr15</td>\n",
       "      <td>47385247</td>\n",
       "      <td>47397238</td>\n",
       "      <td>peak_74531</td>\n",
       "    </tr>\n",
       "    <tr>\n",
       "      <th>74547</th>\n",
       "      <td>chr15</td>\n",
       "      <td>47506180</td>\n",
       "      <td>47552423</td>\n",
       "      <td>peak_74547</td>\n",
       "    </tr>\n",
       "    <tr>\n",
       "      <th>77697</th>\n",
       "      <td>chr15</td>\n",
       "      <td>87389595</td>\n",
       "      <td>87395533</td>\n",
       "      <td>peak_77697</td>\n",
       "    </tr>\n",
       "    <tr>\n",
       "      <th>80522</th>\n",
       "      <td>chr16</td>\n",
       "      <td>15431118</td>\n",
       "      <td>15438282</td>\n",
       "      <td>peak_80522</td>\n",
       "    </tr>\n",
       "    <tr>\n",
       "      <th>85028</th>\n",
       "      <td>chr16</td>\n",
       "      <td>80753951</td>\n",
       "      <td>80755936</td>\n",
       "      <td>peak_85028</td>\n",
       "    </tr>\n",
       "    <tr>\n",
       "      <th>87330</th>\n",
       "      <td>chr17</td>\n",
       "      <td>21840998</td>\n",
       "      <td>21845477</td>\n",
       "      <td>peak_87330</td>\n",
       "    </tr>\n",
       "    <tr>\n",
       "      <th>87717</th>\n",
       "      <td>chr17</td>\n",
       "      <td>31501619</td>\n",
       "      <td>31516428</td>\n",
       "      <td>peak_87717</td>\n",
       "    </tr>\n",
       "    <tr>\n",
       "      <th>88514</th>\n",
       "      <td>chr17</td>\n",
       "      <td>47305707</td>\n",
       "      <td>47328767</td>\n",
       "      <td>peak_88514</td>\n",
       "    </tr>\n",
       "    <tr>\n",
       "      <th>90005</th>\n",
       "      <td>chr17</td>\n",
       "      <td>66345344</td>\n",
       "      <td>66345914</td>\n",
       "      <td>peak_90005</td>\n",
       "    </tr>\n",
       "    <tr>\n",
       "      <th>90025</th>\n",
       "      <td>chr17</td>\n",
       "      <td>66528652</td>\n",
       "      <td>66530580</td>\n",
       "      <td>peak_90025</td>\n",
       "    </tr>\n",
       "    <tr>\n",
       "      <th>94860</th>\n",
       "      <td>chr18</td>\n",
       "      <td>39912186</td>\n",
       "      <td>39917887</td>\n",
       "      <td>peak_94860</td>\n",
       "    </tr>\n",
       "    <tr>\n",
       "      <th>101493</th>\n",
       "      <td>chr19</td>\n",
       "      <td>37851785</td>\n",
       "      <td>37859062</td>\n",
       "      <td>peak_101493</td>\n",
       "    </tr>\n",
       "    <tr>\n",
       "      <th>...</th>\n",
       "      <td>...</td>\n",
       "      <td>...</td>\n",
       "      <td>...</td>\n",
       "      <td>...</td>\n",
       "    </tr>\n",
       "    <tr>\n",
       "      <th>120048</th>\n",
       "      <td>chr2</td>\n",
       "      <td>180114487</td>\n",
       "      <td>180125148</td>\n",
       "      <td>peak_120048</td>\n",
       "    </tr>\n",
       "    <tr>\n",
       "      <th>121204</th>\n",
       "      <td>chr2</td>\n",
       "      <td>190446201</td>\n",
       "      <td>190446503</td>\n",
       "      <td>peak_121204</td>\n",
       "    </tr>\n",
       "    <tr>\n",
       "      <th>126173</th>\n",
       "      <td>chr2</td>\n",
       "      <td>236005845</td>\n",
       "      <td>236007386</td>\n",
       "      <td>peak_126173</td>\n",
       "    </tr>\n",
       "    <tr>\n",
       "      <th>136883</th>\n",
       "      <td>chr3</td>\n",
       "      <td>4213811</td>\n",
       "      <td>4252918</td>\n",
       "      <td>peak_136883</td>\n",
       "    </tr>\n",
       "    <tr>\n",
       "      <th>137234</th>\n",
       "      <td>chr3</td>\n",
       "      <td>6907526</td>\n",
       "      <td>6908473</td>\n",
       "      <td>peak_137234</td>\n",
       "    </tr>\n",
       "    <tr>\n",
       "      <th>137898</th>\n",
       "      <td>chr3</td>\n",
       "      <td>16014546</td>\n",
       "      <td>16041382</td>\n",
       "      <td>peak_137898</td>\n",
       "    </tr>\n",
       "    <tr>\n",
       "      <th>140288</th>\n",
       "      <td>chr3</td>\n",
       "      <td>37844597</td>\n",
       "      <td>37850190</td>\n",
       "      <td>peak_140288</td>\n",
       "    </tr>\n",
       "    <tr>\n",
       "      <th>146119</th>\n",
       "      <td>chr3</td>\n",
       "      <td>101540559</td>\n",
       "      <td>101550689</td>\n",
       "      <td>peak_146119</td>\n",
       "    </tr>\n",
       "    <tr>\n",
       "      <th>148959</th>\n",
       "      <td>chr3</td>\n",
       "      <td>127663621</td>\n",
       "      <td>127663907</td>\n",
       "      <td>peak_148959</td>\n",
       "    </tr>\n",
       "    <tr>\n",
       "      <th>157698</th>\n",
       "      <td>chr4</td>\n",
       "      <td>22180518</td>\n",
       "      <td>22188955</td>\n",
       "      <td>peak_157698</td>\n",
       "    </tr>\n",
       "    <tr>\n",
       "      <th>160073</th>\n",
       "      <td>chr4</td>\n",
       "      <td>47614261</td>\n",
       "      <td>47617993</td>\n",
       "      <td>peak_160073</td>\n",
       "    </tr>\n",
       "    <tr>\n",
       "      <th>172123</th>\n",
       "      <td>chr4</td>\n",
       "      <td>167930028</td>\n",
       "      <td>167946817</td>\n",
       "      <td>peak_172123</td>\n",
       "    </tr>\n",
       "    <tr>\n",
       "      <th>186468</th>\n",
       "      <td>chr5</td>\n",
       "      <td>119992186</td>\n",
       "      <td>119997657</td>\n",
       "      <td>peak_186468</td>\n",
       "    </tr>\n",
       "    <tr>\n",
       "      <th>187274</th>\n",
       "      <td>chr5</td>\n",
       "      <td>126677802</td>\n",
       "      <td>126690066</td>\n",
       "      <td>peak_187274</td>\n",
       "    </tr>\n",
       "    <tr>\n",
       "      <th>188488</th>\n",
       "      <td>chr5</td>\n",
       "      <td>141189583</td>\n",
       "      <td>141193602</td>\n",
       "      <td>peak_188488</td>\n",
       "    </tr>\n",
       "    <tr>\n",
       "      <th>190148</th>\n",
       "      <td>chr5</td>\n",
       "      <td>156004408</td>\n",
       "      <td>156009425</td>\n",
       "      <td>peak_190148</td>\n",
       "    </tr>\n",
       "    <tr>\n",
       "      <th>191571</th>\n",
       "      <td>chr5</td>\n",
       "      <td>171231331</td>\n",
       "      <td>171235401</td>\n",
       "      <td>peak_191571</td>\n",
       "    </tr>\n",
       "    <tr>\n",
       "      <th>191914</th>\n",
       "      <td>chr5</td>\n",
       "      <td>176440372</td>\n",
       "      <td>176443096</td>\n",
       "      <td>peak_191914</td>\n",
       "    </tr>\n",
       "    <tr>\n",
       "      <th>195227</th>\n",
       "      <td>chr6</td>\n",
       "      <td>29198834</td>\n",
       "      <td>29207496</td>\n",
       "      <td>peak_195227</td>\n",
       "    </tr>\n",
       "    <tr>\n",
       "      <th>195811</th>\n",
       "      <td>chr6</td>\n",
       "      <td>38330979</td>\n",
       "      <td>38331242</td>\n",
       "      <td>peak_195811</td>\n",
       "    </tr>\n",
       "    <tr>\n",
       "      <th>199560</th>\n",
       "      <td>chr6</td>\n",
       "      <td>82298853</td>\n",
       "      <td>82301186</td>\n",
       "      <td>peak_199560</td>\n",
       "    </tr>\n",
       "    <tr>\n",
       "      <th>201661</th>\n",
       "      <td>chr6</td>\n",
       "      <td>104975496</td>\n",
       "      <td>104979103</td>\n",
       "      <td>peak_201661</td>\n",
       "    </tr>\n",
       "    <tr>\n",
       "      <th>202378</th>\n",
       "      <td>chr6</td>\n",
       "      <td>112087790</td>\n",
       "      <td>112097402</td>\n",
       "      <td>peak_202378</td>\n",
       "    </tr>\n",
       "    <tr>\n",
       "      <th>220599</th>\n",
       "      <td>chr7</td>\n",
       "      <td>121144454</td>\n",
       "      <td>121151446</td>\n",
       "      <td>peak_220599</td>\n",
       "    </tr>\n",
       "    <tr>\n",
       "      <th>222123</th>\n",
       "      <td>chr7</td>\n",
       "      <td>137788307</td>\n",
       "      <td>137853602</td>\n",
       "      <td>peak_222123</td>\n",
       "    </tr>\n",
       "    <tr>\n",
       "      <th>233799</th>\n",
       "      <td>chr8</td>\n",
       "      <td>102239816</td>\n",
       "      <td>102240700</td>\n",
       "      <td>peak_233799</td>\n",
       "    </tr>\n",
       "    <tr>\n",
       "      <th>242548</th>\n",
       "      <td>chr9</td>\n",
       "      <td>69567888</td>\n",
       "      <td>69575136</td>\n",
       "      <td>peak_242548</td>\n",
       "    </tr>\n",
       "    <tr>\n",
       "      <th>242552</th>\n",
       "      <td>chr9</td>\n",
       "      <td>69633364</td>\n",
       "      <td>69637222</td>\n",
       "      <td>peak_242552</td>\n",
       "    </tr>\n",
       "    <tr>\n",
       "      <th>242555</th>\n",
       "      <td>chr9</td>\n",
       "      <td>69642252</td>\n",
       "      <td>69679382</td>\n",
       "      <td>peak_242555</td>\n",
       "    </tr>\n",
       "    <tr>\n",
       "      <th>243481</th>\n",
       "      <td>chr9</td>\n",
       "      <td>78443381</td>\n",
       "      <td>78455992</td>\n",
       "      <td>peak_243481</td>\n",
       "    </tr>\n",
       "  </tbody>\n",
       "</table>\n",
       "<p>64 rows × 4 columns</p>\n",
       "</div>"
      ],
      "text/plain": [
       "            0          1          2            3\n",
       "11661    chr1  162764958  162770470   peak_11661\n",
       "17713    chr1  231601589  231602455   peak_17713\n",
       "18712    chr1  239975661  239978555   peak_18712\n",
       "19263    chr1  246721962  246727697   peak_19263\n",
       "32226   chr11     436491     446866   peak_32226\n",
       "34379   chr11   27530372   27536565   peak_34379\n",
       "37275   chr11   66365254   66385342   peak_37275\n",
       "42425   chr11  121509943  121569083   peak_42425\n",
       "45005   chr12   20140726   20147461   peak_45005\n",
       "51305   chr12   85467345   85468660   peak_51305\n",
       "52287   chr12   93175438   93176525   peak_52287\n",
       "53370   chr12  103993133  103998062   peak_53370\n",
       "56727   chr13   33685178   33689671   peak_56727\n",
       "56801   chr13   34239257   34256637   peak_56801\n",
       "58431   chr13   48276886   48279357   peak_58431\n",
       "67191   chr14   49723260   49730967   peak_67191\n",
       "67193   chr14   49735783   49749501   peak_67193\n",
       "68826   chr14   70448401   70458179   peak_68826\n",
       "74531   chr15   47385247   47397238   peak_74531\n",
       "74547   chr15   47506180   47552423   peak_74547\n",
       "77697   chr15   87389595   87395533   peak_77697\n",
       "80522   chr16   15431118   15438282   peak_80522\n",
       "85028   chr16   80753951   80755936   peak_85028\n",
       "87330   chr17   21840998   21845477   peak_87330\n",
       "87717   chr17   31501619   31516428   peak_87717\n",
       "88514   chr17   47305707   47328767   peak_88514\n",
       "90005   chr17   66345344   66345914   peak_90005\n",
       "90025   chr17   66528652   66530580   peak_90025\n",
       "94860   chr18   39912186   39917887   peak_94860\n",
       "101493  chr19   37851785   37859062  peak_101493\n",
       "...       ...        ...        ...          ...\n",
       "120048   chr2  180114487  180125148  peak_120048\n",
       "121204   chr2  190446201  190446503  peak_121204\n",
       "126173   chr2  236005845  236007386  peak_126173\n",
       "136883   chr3    4213811    4252918  peak_136883\n",
       "137234   chr3    6907526    6908473  peak_137234\n",
       "137898   chr3   16014546   16041382  peak_137898\n",
       "140288   chr3   37844597   37850190  peak_140288\n",
       "146119   chr3  101540559  101550689  peak_146119\n",
       "148959   chr3  127663621  127663907  peak_148959\n",
       "157698   chr4   22180518   22188955  peak_157698\n",
       "160073   chr4   47614261   47617993  peak_160073\n",
       "172123   chr4  167930028  167946817  peak_172123\n",
       "186468   chr5  119992186  119997657  peak_186468\n",
       "187274   chr5  126677802  126690066  peak_187274\n",
       "188488   chr5  141189583  141193602  peak_188488\n",
       "190148   chr5  156004408  156009425  peak_190148\n",
       "191571   chr5  171231331  171235401  peak_191571\n",
       "191914   chr5  176440372  176443096  peak_191914\n",
       "195227   chr6   29198834   29207496  peak_195227\n",
       "195811   chr6   38330979   38331242  peak_195811\n",
       "199560   chr6   82298853   82301186  peak_199560\n",
       "201661   chr6  104975496  104979103  peak_201661\n",
       "202378   chr6  112087790  112097402  peak_202378\n",
       "220599   chr7  121144454  121151446  peak_220599\n",
       "222123   chr7  137788307  137853602  peak_222123\n",
       "233799   chr8  102239816  102240700  peak_233799\n",
       "242548   chr9   69567888   69575136  peak_242548\n",
       "242552   chr9   69633364   69637222  peak_242552\n",
       "242555   chr9   69642252   69679382  peak_242555\n",
       "243481   chr9   78443381   78455992  peak_243481\n",
       "\n",
       "[64 rows x 4 columns]"
      ]
     },
     "execution_count": 47,
     "metadata": {},
     "output_type": "execute_result"
    }
   ],
   "source": [
    "h3k27me3_peaks.iloc[corrs[99, :].nonzero()[0]]"
   ]
  },
  {
   "cell_type": "code",
   "execution_count": 58,
   "metadata": {},
   "outputs": [],
   "source": [
    "liftover_our_meg3_peaks = pd.read_csv(\"/home/mazurovev/MEG3_CHOPSeq/hglft_genome_4e3f1_366420.bed\", sep=\"\\t\", header=None)"
   ]
  },
  {
   "cell_type": "code",
   "execution_count": 60,
   "metadata": {},
   "outputs": [
    {
     "name": "stderr",
     "output_type": "stream",
     "text": [
      "/usr/local/lib/python3.6/dist-packages/pybedtools/bedtool.py:3287: UserWarning: Default names for filetype bed are:\n",
      "['chrom', 'start', 'end', 'name', 'score', 'strand', 'thickStart', 'thickEnd', 'itemRgb', 'blockCount', 'blockSizes', 'blockStarts']\n",
      "but file has 14 fields; you can supply custom names with the `names` kwarg\n",
      "  % (self.file_type, _names, self.field_count()))\n"
     ]
    }
   ],
   "source": [
    "meg3_bed = BedTool(\"../MEG3_CHOPSeq/macs2_original_peaks.broadPeak\")\n",
    "bt = BedTool.from_dataframe(liftover_our_meg3_peaks)\n",
    "closest = meg3_bed.closest(bt, d=True).to_dataframe()"
   ]
  },
  {
   "cell_type": "code",
   "execution_count": 68,
   "metadata": {},
   "outputs": [
    {
     "data": {
      "text/plain": [
       "56"
      ]
     },
     "execution_count": 68,
     "metadata": {},
     "output_type": "execute_result"
    }
   ],
   "source": [
    "len(closest[(closest[13] < 60000) & (closest[13] != -1)])"
   ]
  },
  {
   "cell_type": "code",
   "execution_count": null,
   "metadata": {},
   "outputs": [],
   "source": []
  }
 ],
 "metadata": {
  "kernelspec": {
   "display_name": "Python 3",
   "language": "python",
   "name": "python3"
  },
  "language_info": {
   "codemirror_mode": {
    "name": "ipython",
    "version": 3
   },
   "file_extension": ".py",
   "mimetype": "text/x-python",
   "name": "python",
   "nbconvert_exporter": "python",
   "pygments_lexer": "ipython3",
   "version": "3.6.9"
  }
 },
 "nbformat": 4,
 "nbformat_minor": 2
}
