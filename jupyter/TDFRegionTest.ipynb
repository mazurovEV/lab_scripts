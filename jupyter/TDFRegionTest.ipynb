{
 "cells": [
  {
   "cell_type": "code",
   "execution_count": 1,
   "metadata": {},
   "outputs": [],
   "source": [
    "import subprocess\n",
    "from pybedtools import BedTool"
   ]
  },
  {
   "cell_type": "code",
   "execution_count": null,
   "metadata": {},
   "outputs": [],
   "source": []
  },
  {
   "cell_type": "code",
   "execution_count": null,
   "metadata": {},
   "outputs": [],
   "source": [
    "rna_for_region_test = [\"ENSG00000185044.10\", \"ENSG00000204055.4\", \"ENSG00000206195.6\", \"ENSG00000257176.1\"]"
   ]
  },
  {
   "cell_type": "code",
   "execution_count": 3,
   "metadata": {},
   "outputs": [],
   "source": [
    "lncRNA_for_fantom = ['ENSG00000230074.1', 'ENSG00000268895.1', 'ENSG00000229852.2']"
   ]
  },
  {
   "cell_type": "code",
   "execution_count": 5,
   "metadata": {},
   "outputs": [],
   "source": [
    "def runTDFregionTest(rna):\n",
    "    cmd = \"rgt-TDF regiontest -rm 2 -r ../H3K27me3/tdf_lncRNA_gene_sequences/\" + rna + \"_gene_lncRNA.fa -rn \" + rna + \" -bed ../H3K27me3/peaks_for_tdf/plus_\" + rna + \"_peaks.bed -f ../H3K27me3/region_test/bg_\" + rna + \".bed -o ../H3K27me3/region_test/ -organism hg19 -l 12 -ccf 20 -n \" + str(1000)\n",
    "    print(cmd)\n",
    "    return subprocess.check_output(cmd, shell=True)"
   ]
  },
  {
   "cell_type": "code",
   "execution_count": 4,
   "metadata": {},
   "outputs": [],
   "source": [
    "#bedtools subtract -a A.bed -b B.bed\n",
    "#A - B = substract\n",
    "def generateBackgroundForRegionTest(rna):\n",
    "    target = BedTool('../H3K27me3/peaks_for_tdf/plus_' + rna + '_peaks.bed')\n",
    "    hg19 = BedTool('../hg19/allChr.bed')\n",
    "    hg19.subtract(target, output='../H3K27me3/region_test/bg_' + rna + \".bed\")"
   ]
  },
  {
   "cell_type": "code",
   "execution_count": 6,
   "metadata": {},
   "outputs": [],
   "source": [
    "for i in lncRNA_for_fantom:\n",
    "    generateBackgroundForRegionTest(i)"
   ]
  },
  {
   "cell_type": "code",
   "execution_count": 7,
   "metadata": {},
   "outputs": [
    {
     "name": "stdout",
     "output_type": "stream",
     "text": [
      "rgt-TDF regiontest -rm 2 -r ../H3K27me3/tdf_lncRNA_gene_sequences/ENSG00000230074.1_gene_lncRNA.fa -rn ENSG00000230074.1 -bed ../H3K27me3/peaks_for_tdf/plus_ENSG00000230074.1_peaks.bed -f ../H3K27me3/region_test/bg_ENSG00000230074.1.bed -o ../H3K27me3/region_test/ -organism hg19 -l 12 -ccf 20 -n 1000\n",
      "rgt-TDF regiontest -rm 2 -r ../H3K27me3/tdf_lncRNA_gene_sequences/ENSG00000268895.1_gene_lncRNA.fa -rn ENSG00000268895.1 -bed ../H3K27me3/peaks_for_tdf/plus_ENSG00000268895.1_peaks.bed -f ../H3K27me3/region_test/bg_ENSG00000268895.1.bed -o ../H3K27me3/region_test/ -organism hg19 -l 12 -ccf 20 -n 1000\n",
      "rgt-TDF regiontest -rm 2 -r ../H3K27me3/tdf_lncRNA_gene_sequences/ENSG00000229852.2_gene_lncRNA.fa -rn ENSG00000229852.2 -bed ../H3K27me3/peaks_for_tdf/plus_ENSG00000229852.2_peaks.bed -f ../H3K27me3/region_test/bg_ENSG00000229852.2.bed -o ../H3K27me3/region_test/ -organism hg19 -l 12 -ccf 20 -n 1000\n"
     ]
    },
    {
     "ename": "CalledProcessError",
     "evalue": "Command 'rgt-TDF regiontest -rm 2 -r ../H3K27me3/tdf_lncRNA_gene_sequences/ENSG00000229852.2_gene_lncRNA.fa -rn ENSG00000229852.2 -bed ../H3K27me3/peaks_for_tdf/plus_ENSG00000229852.2_peaks.bed -f ../H3K27me3/region_test/bg_ENSG00000229852.2.bed -o ../H3K27me3/region_test/ -organism hg19 -l 12 -ccf 20 -n 1000' returned non-zero exit status 1.",
     "output_type": "error",
     "traceback": [
      "\u001b[0;31m---------------------------------------------------------------------------\u001b[0m",
      "\u001b[0;31mCalledProcessError\u001b[0m                        Traceback (most recent call last)",
      "\u001b[0;32m<ipython-input-7-6975f4cb59e1>\u001b[0m in \u001b[0;36m<module>\u001b[0;34m()\u001b[0m\n\u001b[1;32m      1\u001b[0m \u001b[0;32mfor\u001b[0m \u001b[0mrna\u001b[0m \u001b[0;32min\u001b[0m \u001b[0mlncRNA_for_fantom\u001b[0m\u001b[0;34m:\u001b[0m\u001b[0;34m\u001b[0m\u001b[0;34m\u001b[0m\u001b[0m\n\u001b[0;32m----> 2\u001b[0;31m     \u001b[0mrunTDFregionTest\u001b[0m\u001b[0;34m(\u001b[0m\u001b[0mrna\u001b[0m\u001b[0;34m)\u001b[0m\u001b[0;34m\u001b[0m\u001b[0;34m\u001b[0m\u001b[0m\n\u001b[0m",
      "\u001b[0;32m<ipython-input-5-60d88b8a13c3>\u001b[0m in \u001b[0;36mrunTDFregionTest\u001b[0;34m(rna)\u001b[0m\n\u001b[1;32m      2\u001b[0m     \u001b[0mcmd\u001b[0m \u001b[0;34m=\u001b[0m \u001b[0;34m\"rgt-TDF regiontest -rm 2 -r ../H3K27me3/tdf_lncRNA_gene_sequences/\"\u001b[0m \u001b[0;34m+\u001b[0m \u001b[0mrna\u001b[0m \u001b[0;34m+\u001b[0m \u001b[0;34m\"_gene_lncRNA.fa -rn \"\u001b[0m \u001b[0;34m+\u001b[0m \u001b[0mrna\u001b[0m \u001b[0;34m+\u001b[0m \u001b[0;34m\" -bed ../H3K27me3/peaks_for_tdf/plus_\"\u001b[0m \u001b[0;34m+\u001b[0m \u001b[0mrna\u001b[0m \u001b[0;34m+\u001b[0m \u001b[0;34m\"_peaks.bed -f ../H3K27me3/region_test/bg_\"\u001b[0m \u001b[0;34m+\u001b[0m \u001b[0mrna\u001b[0m \u001b[0;34m+\u001b[0m \u001b[0;34m\".bed -o ../H3K27me3/region_test/ -organism hg19 -l 12 -ccf 20 -n \"\u001b[0m \u001b[0;34m+\u001b[0m \u001b[0mstr\u001b[0m\u001b[0;34m(\u001b[0m\u001b[0;36m1000\u001b[0m\u001b[0;34m)\u001b[0m\u001b[0;34m\u001b[0m\u001b[0;34m\u001b[0m\u001b[0m\n\u001b[1;32m      3\u001b[0m     \u001b[0mprint\u001b[0m\u001b[0;34m(\u001b[0m\u001b[0mcmd\u001b[0m\u001b[0;34m)\u001b[0m\u001b[0;34m\u001b[0m\u001b[0;34m\u001b[0m\u001b[0m\n\u001b[0;32m----> 4\u001b[0;31m     \u001b[0;32mreturn\u001b[0m \u001b[0msubprocess\u001b[0m\u001b[0;34m.\u001b[0m\u001b[0mcheck_output\u001b[0m\u001b[0;34m(\u001b[0m\u001b[0mcmd\u001b[0m\u001b[0;34m,\u001b[0m \u001b[0mshell\u001b[0m\u001b[0;34m=\u001b[0m\u001b[0;32mTrue\u001b[0m\u001b[0;34m)\u001b[0m\u001b[0;34m\u001b[0m\u001b[0;34m\u001b[0m\u001b[0m\n\u001b[0m",
      "\u001b[0;32m/usr/lib/python3.6/subprocess.py\u001b[0m in \u001b[0;36mcheck_output\u001b[0;34m(timeout, *popenargs, **kwargs)\u001b[0m\n\u001b[1;32m    334\u001b[0m \u001b[0;34m\u001b[0m\u001b[0m\n\u001b[1;32m    335\u001b[0m     return run(*popenargs, stdout=PIPE, timeout=timeout, check=True,\n\u001b[0;32m--> 336\u001b[0;31m                **kwargs).stdout\n\u001b[0m\u001b[1;32m    337\u001b[0m \u001b[0;34m\u001b[0m\u001b[0m\n\u001b[1;32m    338\u001b[0m \u001b[0;34m\u001b[0m\u001b[0m\n",
      "\u001b[0;32m/usr/lib/python3.6/subprocess.py\u001b[0m in \u001b[0;36mrun\u001b[0;34m(input, timeout, check, *popenargs, **kwargs)\u001b[0m\n\u001b[1;32m    416\u001b[0m         \u001b[0;32mif\u001b[0m \u001b[0mcheck\u001b[0m \u001b[0;32mand\u001b[0m \u001b[0mretcode\u001b[0m\u001b[0;34m:\u001b[0m\u001b[0;34m\u001b[0m\u001b[0;34m\u001b[0m\u001b[0m\n\u001b[1;32m    417\u001b[0m             raise CalledProcessError(retcode, process.args,\n\u001b[0;32m--> 418\u001b[0;31m                                      output=stdout, stderr=stderr)\n\u001b[0m\u001b[1;32m    419\u001b[0m     \u001b[0;32mreturn\u001b[0m \u001b[0mCompletedProcess\u001b[0m\u001b[0;34m(\u001b[0m\u001b[0mprocess\u001b[0m\u001b[0;34m.\u001b[0m\u001b[0margs\u001b[0m\u001b[0;34m,\u001b[0m \u001b[0mretcode\u001b[0m\u001b[0;34m,\u001b[0m \u001b[0mstdout\u001b[0m\u001b[0;34m,\u001b[0m \u001b[0mstderr\u001b[0m\u001b[0;34m)\u001b[0m\u001b[0;34m\u001b[0m\u001b[0;34m\u001b[0m\u001b[0m\n\u001b[1;32m    420\u001b[0m \u001b[0;34m\u001b[0m\u001b[0m\n",
      "\u001b[0;31mCalledProcessError\u001b[0m: Command 'rgt-TDF regiontest -rm 2 -r ../H3K27me3/tdf_lncRNA_gene_sequences/ENSG00000229852.2_gene_lncRNA.fa -rn ENSG00000229852.2 -bed ../H3K27me3/peaks_for_tdf/plus_ENSG00000229852.2_peaks.bed -f ../H3K27me3/region_test/bg_ENSG00000229852.2.bed -o ../H3K27me3/region_test/ -organism hg19 -l 12 -ccf 20 -n 1000' returned non-zero exit status 1."
     ]
    }
   ],
   "source": [
    "for rna in lncRNA_for_fantom:\n",
    "    runTDFregionTest(rna)"
   ]
  },
  {
   "cell_type": "code",
   "execution_count": null,
   "metadata": {},
   "outputs": [],
   "source": []
  }
 ],
 "metadata": {
  "kernelspec": {
   "display_name": "Python 3",
   "language": "python",
   "name": "python3"
  },
  "language_info": {
   "codemirror_mode": {
    "name": "ipython",
    "version": 3
   },
   "file_extension": ".py",
   "mimetype": "text/x-python",
   "name": "python",
   "nbconvert_exporter": "python",
   "pygments_lexer": "ipython3",
   "version": "3.6.8"
  }
 },
 "nbformat": 4,
 "nbformat_minor": 2
}
