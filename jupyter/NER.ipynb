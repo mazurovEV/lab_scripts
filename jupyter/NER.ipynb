{
 "cells": [
  {
   "cell_type": "code",
   "execution_count": 19,
   "metadata": {},
   "outputs": [],
   "source": [
    "from deeppavlov import configs, build_model, train_model\n",
    "import json"
   ]
  },
  {
   "cell_type": "code",
   "execution_count": 20,
   "metadata": {},
   "outputs": [],
   "source": [
    "with configs.ner.ner_ontonotes.open(encoding='utf8') as f:\n",
    "    ner_config = json.load(f)"
   ]
  },
  {
   "cell_type": "code",
   "execution_count": 21,
   "metadata": {
    "scrolled": true
   },
   "outputs": [],
   "source": [
    "ner_config['dataset_reader']['data_path'] = '~/jnlpba/'  # directory with train.txt, valid.txt and test.txt files\n",
    "ner_config['metadata']['variables']['NER_PATH'] = '~/jnlpba/'\n",
    "ner_config['metadata']['download'] = [ner_config['metadata']['download'][-1]]  # do not download the pretrained ontonotes model"
   ]
  },
  {
   "cell_type": "code",
   "execution_count": 22,
   "metadata": {
    "scrolled": true
   },
   "outputs": [
    {
     "name": "stderr",
     "output_type": "stream",
     "text": [
      "2019-12-03 18:12:18.450 INFO in 'deeppavlov.download'['download'] at line 117: Skipped http://files.deeppavlov.ai/embeddings/glove.6B.100d.txt download because of matching hashes\n"
     ]
    },
    {
     "name": "stdout",
     "output_type": "stream",
     "text": [
      "WARNING:tensorflow:From /home/mazurovev/.local/lib/python3.6/site-packages/deeppavlov/core/trainers/nn_trainer.py:149: The name tf.summary.FileWriter is deprecated. Please use tf.compat.v1.summary.FileWriter instead.\n",
      "\n"
     ]
    },
    {
     "name": "stderr",
     "output_type": "stream",
     "text": [
      "[nltk_data] Downloading package punkt to /home/mazurovev/nltk_data...\n",
      "[nltk_data]   Package punkt is already up-to-date!\n",
      "[nltk_data] Downloading package stopwords to\n",
      "[nltk_data]     /home/mazurovev/nltk_data...\n",
      "[nltk_data]   Package stopwords is already up-to-date!\n",
      "[nltk_data] Downloading package perluniprops to\n",
      "[nltk_data]     /home/mazurovev/nltk_data...\n",
      "[nltk_data]   Package perluniprops is already up-to-date!\n",
      "[nltk_data] Downloading package nonbreaking_prefixes to\n",
      "[nltk_data]     /home/mazurovev/nltk_data...\n",
      "[nltk_data]   Package nonbreaking_prefixes is already up-to-date!\n",
      "2019-12-03 18:12:30.681 INFO in 'deeppavlov.core.data.simple_vocab'['simple_vocab'] at line 115: [loading vocabulary from /home/mazurovev/.deeppavlov/models/ner_ontonotes/tag.dict]\n",
      "2019-12-03 18:12:31.734 INFO in 'deeppavlov.core.data.simple_vocab'['simple_vocab'] at line 101: [saving vocabulary to /home/mazurovev/.deeppavlov/models/ner_ontonotes/tag.dict]\n",
      "2019-12-03 18:12:31.789 INFO in 'deeppavlov.core.data.simple_vocab'['simple_vocab'] at line 115: [loading vocabulary from /home/mazurovev/.deeppavlov/models/ner_ontonotes/char.dict]\n",
      "2019-12-03 18:12:37.246 INFO in 'deeppavlov.core.data.simple_vocab'['simple_vocab'] at line 101: [saving vocabulary to /home/mazurovev/.deeppavlov/models/ner_ontonotes/char.dict]\n",
      "2019-12-03 18:12:37.656 INFO in 'deeppavlov.models.embedders.glove_embedder'['glove_embedder'] at line 52: [loading GloVe embeddings from `/home/mazurovev/.deeppavlov/downloads/embeddings/glove.6B.100d.txt`]\n",
      "/home/mazurovev/.local/lib/python3.6/site-packages/smart_open/smart_open_lib.py:402: UserWarning: This function is deprecated, use smart_open.open instead. See the migration notes for details: https://github.com/RaRe-Technologies/smart_open/blob/master/README.rst#migrating-to-the-new-open-function\n",
      "  'See the migration notes for details: %s' % _MIGRATION_NOTES_URL\n"
     ]
    },
    {
     "name": "stdout",
     "output_type": "stream",
     "text": [
      "WARNING:tensorflow:From /home/mazurovev/.local/lib/python3.6/site-packages/deeppavlov/core/models/tf_model.py:37: The name tf.Session is deprecated. Please use tf.compat.v1.Session instead.\n",
      "\n",
      "WARNING:tensorflow:From /home/mazurovev/.local/lib/python3.6/site-packages/deeppavlov/core/models/tf_model.py:222: The name tf.placeholder is deprecated. Please use tf.compat.v1.placeholder instead.\n",
      "\n",
      "WARNING:tensorflow:From /home/mazurovev/.local/lib/python3.6/site-packages/deeppavlov/core/models/tf_model.py:222: The name tf.train.Optimizer is deprecated. Please use tf.compat.v1.train.Optimizer instead.\n",
      "\n",
      "WARNING:tensorflow:From /home/mazurovev/.local/lib/python3.6/site-packages/deeppavlov/models/ner/network.py:96: The name tf.set_random_seed is deprecated. Please use tf.compat.v1.set_random_seed instead.\n",
      "\n",
      "WARNING:tensorflow:From /home/mazurovev/.local/lib/python3.6/site-packages/deeppavlov/core/models/tf_model.py:193: The name tf.train.AdamOptimizer is deprecated. Please use tf.compat.v1.train.AdamOptimizer instead.\n",
      "\n",
      "WARNING:tensorflow:From /home/mazurovev/.local/lib/python3.6/site-packages/deeppavlov/models/ner/network.py:170: The name tf.placeholder_with_default is deprecated. Please use tf.compat.v1.placeholder_with_default instead.\n",
      "\n",
      "WARNING:tensorflow:From /home/mazurovev/.local/lib/python3.6/site-packages/deeppavlov/core/layers/tf_layers.py:405: The name tf.variable_scope is deprecated. Please use tf.compat.v1.variable_scope instead.\n",
      "\n",
      "WARNING:tensorflow:From /home/mazurovev/.local/lib/python3.6/site-packages/deeppavlov/core/layers/tf_layers.py:416: conv2d (from tensorflow.python.layers.convolutional) is deprecated and will be removed in a future version.\n",
      "Instructions for updating:\n",
      "Use `tf.keras.layers.Conv2D` instead.\n"
     ]
    },
    {
     "name": "stderr",
     "output_type": "stream",
     "text": [
      "Using TensorFlow backend.\n"
     ]
    },
    {
     "name": "stdout",
     "output_type": "stream",
     "text": [
      "WARNING:tensorflow:Entity <bound method Conv.call of <tensorflow.python.layers.convolutional.Conv2D object at 0x7f45ae250048>> could not be transformed and will be executed as-is. Please report this to the AutgoGraph team. When filing the bug, set the verbosity to 10 (on Linux, `export AUTOGRAPH_VERBOSITY=10`) and attach the full output. Cause: converting <bound method Conv.call of <tensorflow.python.layers.convolutional.Conv2D object at 0x7f45ae250048>>: AssertionError: Bad argument number for Name: 3, expecting 4\n",
      "WARNING: Entity <bound method Conv.call of <tensorflow.python.layers.convolutional.Conv2D object at 0x7f45ae250048>> could not be transformed and will be executed as-is. Please report this to the AutgoGraph team. When filing the bug, set the verbosity to 10 (on Linux, `export AUTOGRAPH_VERBOSITY=10`) and attach the full output. Cause: converting <bound method Conv.call of <tensorflow.python.layers.convolutional.Conv2D object at 0x7f45ae250048>>: AssertionError: Bad argument number for Name: 3, expecting 4\n",
      "WARNING:tensorflow:Entity <bound method Conv.call of <tensorflow.python.layers.convolutional.Conv2D object at 0x7f45ae250048>> could not be transformed and will be executed as-is. Please report this to the AutgoGraph team. When filing the bug, set the verbosity to 10 (on Linux, `export AUTOGRAPH_VERBOSITY=10`) and attach the full output. Cause: converting <bound method Conv.call of <tensorflow.python.layers.convolutional.Conv2D object at 0x7f45ae250048>>: AssertionError: Bad argument number for Name: 3, expecting 4\n",
      "WARNING: Entity <bound method Conv.call of <tensorflow.python.layers.convolutional.Conv2D object at 0x7f45ae250048>> could not be transformed and will be executed as-is. Please report this to the AutgoGraph team. When filing the bug, set the verbosity to 10 (on Linux, `export AUTOGRAPH_VERBOSITY=10`) and attach the full output. Cause: converting <bound method Conv.call of <tensorflow.python.layers.convolutional.Conv2D object at 0x7f45ae250048>>: AssertionError: Bad argument number for Name: 3, expecting 4\n",
      "WARNING:tensorflow:Entity <bound method Conv.call of <tensorflow.python.layers.convolutional.Conv2D object at 0x7f45ae250048>> could not be transformed and will be executed as-is. Please report this to the AutgoGraph team. When filing the bug, set the verbosity to 10 (on Linux, `export AUTOGRAPH_VERBOSITY=10`) and attach the full output. Cause: converting <bound method Conv.call of <tensorflow.python.layers.convolutional.Conv2D object at 0x7f45ae250048>>: AssertionError: Bad argument number for Name: 3, expecting 4\n",
      "WARNING: Entity <bound method Conv.call of <tensorflow.python.layers.convolutional.Conv2D object at 0x7f45ae250048>> could not be transformed and will be executed as-is. Please report this to the AutgoGraph team. When filing the bug, set the verbosity to 10 (on Linux, `export AUTOGRAPH_VERBOSITY=10`) and attach the full output. Cause: converting <bound method Conv.call of <tensorflow.python.layers.convolutional.Conv2D object at 0x7f45ae250048>>: AssertionError: Bad argument number for Name: 3, expecting 4\n",
      "WARNING:tensorflow:Entity <bound method Conv.call of <tensorflow.python.layers.convolutional.Conv2D object at 0x7f45ae250048>> could not be transformed and will be executed as-is. Please report this to the AutgoGraph team. When filing the bug, set the verbosity to 10 (on Linux, `export AUTOGRAPH_VERBOSITY=10`) and attach the full output. Cause: converting <bound method Conv.call of <tensorflow.python.layers.convolutional.Conv2D object at 0x7f45ae250048>>: AssertionError: Bad argument number for Name: 3, expecting 4\n",
      "WARNING: Entity <bound method Conv.call of <tensorflow.python.layers.convolutional.Conv2D object at 0x7f45ae250048>> could not be transformed and will be executed as-is. Please report this to the AutgoGraph team. When filing the bug, set the verbosity to 10 (on Linux, `export AUTOGRAPH_VERBOSITY=10`) and attach the full output. Cause: converting <bound method Conv.call of <tensorflow.python.layers.convolutional.Conv2D object at 0x7f45ae250048>>: AssertionError: Bad argument number for Name: 3, expecting 4\n",
      "WARNING:tensorflow:From /home/mazurovev/.local/lib/python3.6/site-packages/deeppavlov/models/ner/network.py:211: to_int32 (from tensorflow.python.ops.math_ops) is deprecated and will be removed in a future version.\n",
      "Instructions for updating:\n",
      "Use `tf.cast` instead.\n",
      "WARNING:tensorflow:\n",
      "The TensorFlow contrib module will not be included in TensorFlow 2.0.\n",
      "For more information, please see:\n",
      "  * https://github.com/tensorflow/community/blob/master/rfcs/20180907-contrib-sunset.md\n",
      "  * https://github.com/tensorflow/addons\n",
      "  * https://github.com/tensorflow/io (for I/O related ops)\n",
      "If you depend on functionality not listed there, please file an issue.\n",
      "\n",
      "WARNING:tensorflow:From /home/mazurovev/.local/lib/python3.6/site-packages/tensorflow/contrib/cudnn_rnn/python/layers/cudnn_rnn.py:342: calling GlorotUniform.__init__ (from tensorflow.python.ops.init_ops) with dtype is deprecated and will be removed in a future version.\n",
      "Instructions for updating:\n",
      "Call initializer instance with the dtype argument instead of passing it to the constructor\n",
      "WARNING:tensorflow:From /home/mazurovev/.local/lib/python3.6/site-packages/tensorflow/python/ops/init_ops.py:1251: calling VarianceScaling.__init__ (from tensorflow.python.ops.init_ops) with dtype is deprecated and will be removed in a future version.\n",
      "Instructions for updating:\n",
      "Call initializer instance with the dtype argument instead of passing it to the constructor\n",
      "WARNING:tensorflow:From /home/mazurovev/.local/lib/python3.6/site-packages/tensorflow/contrib/cudnn_rnn/python/layers/cudnn_rnn.py:345: calling Constant.__init__ (from tensorflow.python.ops.init_ops) with dtype is deprecated and will be removed in a future version.\n",
      "Instructions for updating:\n",
      "Call initializer instance with the dtype argument instead of passing it to the constructor\n",
      "WARNING:tensorflow:Entity <bound method _CudnnRNN.call of <tensorflow.contrib.cudnn_rnn.python.layers.cudnn_rnn.CudnnLSTM object at 0x7f45ad3b74a8>> could not be transformed and will be executed as-is. Please report this to the AutgoGraph team. When filing the bug, set the verbosity to 10 (on Linux, `export AUTOGRAPH_VERBOSITY=10`) and attach the full output. Cause: converting <bound method _CudnnRNN.call of <tensorflow.contrib.cudnn_rnn.python.layers.cudnn_rnn.CudnnLSTM object at 0x7f45ad3b74a8>>: AttributeError: module 'gast' has no attribute 'Num'\n",
      "WARNING: Entity <bound method _CudnnRNN.call of <tensorflow.contrib.cudnn_rnn.python.layers.cudnn_rnn.CudnnLSTM object at 0x7f45ad3b74a8>> could not be transformed and will be executed as-is. Please report this to the AutgoGraph team. When filing the bug, set the verbosity to 10 (on Linux, `export AUTOGRAPH_VERBOSITY=10`) and attach the full output. Cause: converting <bound method _CudnnRNN.call of <tensorflow.contrib.cudnn_rnn.python.layers.cudnn_rnn.CudnnLSTM object at 0x7f45ad3b74a8>>: AttributeError: module 'gast' has no attribute 'Num'\n",
      "WARNING:tensorflow:From /home/mazurovev/.local/lib/python3.6/site-packages/deeppavlov/core/layers/tf_layers.py:861: calling reverse_sequence (from tensorflow.python.ops.array_ops) with seq_dim is deprecated and will be removed in a future version.\n",
      "Instructions for updating:\n",
      "seq_dim is deprecated, use seq_axis instead\n",
      "WARNING:tensorflow:From /home/mazurovev/.local/lib/python3.6/site-packages/tensorflow/python/util/deprecation.py:507: calling reverse_sequence (from tensorflow.python.ops.array_ops) with batch_dim is deprecated and will be removed in a future version.\n",
      "Instructions for updating:\n",
      "batch_dim is deprecated, use batch_axis instead\n",
      "WARNING:tensorflow:Entity <bound method _CudnnRNN.call of <tensorflow.contrib.cudnn_rnn.python.layers.cudnn_rnn.CudnnLSTM object at 0x7f45ae0c0748>> could not be transformed and will be executed as-is. Please report this to the AutgoGraph team. When filing the bug, set the verbosity to 10 (on Linux, `export AUTOGRAPH_VERBOSITY=10`) and attach the full output. Cause: converting <bound method _CudnnRNN.call of <tensorflow.contrib.cudnn_rnn.python.layers.cudnn_rnn.CudnnLSTM object at 0x7f45ae0c0748>>: AttributeError: module 'gast' has no attribute 'Num'\n"
     ]
    },
    {
     "name": "stdout",
     "output_type": "stream",
     "text": [
      "WARNING: Entity <bound method _CudnnRNN.call of <tensorflow.contrib.cudnn_rnn.python.layers.cudnn_rnn.CudnnLSTM object at 0x7f45ae0c0748>> could not be transformed and will be executed as-is. Please report this to the AutgoGraph team. When filing the bug, set the verbosity to 10 (on Linux, `export AUTOGRAPH_VERBOSITY=10`) and attach the full output. Cause: converting <bound method _CudnnRNN.call of <tensorflow.contrib.cudnn_rnn.python.layers.cudnn_rnn.CudnnLSTM object at 0x7f45ae0c0748>>: AttributeError: module 'gast' has no attribute 'Num'\n",
      "WARNING:tensorflow:From /home/mazurovev/.local/lib/python3.6/site-packages/deeppavlov/models/ner/network.py:245: dense (from tensorflow.python.layers.core) is deprecated and will be removed in a future version.\n",
      "Instructions for updating:\n",
      "Use keras.layers.dense instead.\n",
      "WARNING:tensorflow:Entity <bound method Dense.call of <tensorflow.python.layers.core.Dense object at 0x7f45ae0a40f0>> could not be transformed and will be executed as-is. Please report this to the AutgoGraph team. When filing the bug, set the verbosity to 10 (on Linux, `export AUTOGRAPH_VERBOSITY=10`) and attach the full output. Cause: converting <bound method Dense.call of <tensorflow.python.layers.core.Dense object at 0x7f45ae0a40f0>>: AssertionError: Bad argument number for Name: 3, expecting 4\n",
      "WARNING: Entity <bound method Dense.call of <tensorflow.python.layers.core.Dense object at 0x7f45ae0a40f0>> could not be transformed and will be executed as-is. Please report this to the AutgoGraph team. When filing the bug, set the verbosity to 10 (on Linux, `export AUTOGRAPH_VERBOSITY=10`) and attach the full output. Cause: converting <bound method Dense.call of <tensorflow.python.layers.core.Dense object at 0x7f45ae0a40f0>>: AssertionError: Bad argument number for Name: 3, expecting 4\n",
      "WARNING:tensorflow:Entity <bound method Dense.call of <tensorflow.python.layers.core.Dense object at 0x7f45900d4048>> could not be transformed and will be executed as-is. Please report this to the AutgoGraph team. When filing the bug, set the verbosity to 10 (on Linux, `export AUTOGRAPH_VERBOSITY=10`) and attach the full output. Cause: converting <bound method Dense.call of <tensorflow.python.layers.core.Dense object at 0x7f45900d4048>>: AssertionError: Bad argument number for Name: 3, expecting 4\n",
      "WARNING: Entity <bound method Dense.call of <tensorflow.python.layers.core.Dense object at 0x7f45900d4048>> could not be transformed and will be executed as-is. Please report this to the AutgoGraph team. When filing the bug, set the verbosity to 10 (on Linux, `export AUTOGRAPH_VERBOSITY=10`) and attach the full output. Cause: converting <bound method Dense.call of <tensorflow.python.layers.core.Dense object at 0x7f45900d4048>>: AssertionError: Bad argument number for Name: 3, expecting 4\n",
      "WARNING:tensorflow:From /home/mazurovev/.local/lib/python3.6/site-packages/tensorflow/contrib/crf/python/ops/crf.py:99: add_dispatch_support.<locals>.wrapper (from tensorflow.python.ops.array_ops) is deprecated and will be removed in a future version.\n",
      "Instructions for updating:\n",
      "Use tf.where in 2.0, which has the same broadcast rule as np.where\n",
      "WARNING:tensorflow:From /home/mazurovev/.local/lib/python3.6/site-packages/tensorflow/contrib/crf/python/ops/crf.py:213: dynamic_rnn (from tensorflow.python.ops.rnn) is deprecated and will be removed in a future version.\n",
      "Instructions for updating:\n",
      "Please use `keras.layers.RNN(cell)`, which is equivalent to this API\n",
      "WARNING:tensorflow:From /home/mazurovev/.local/lib/python3.6/site-packages/tensorflow/python/training/slot_creator.py:193: Variable.initialized_value (from tensorflow.python.ops.variables) is deprecated and will be removed in a future version.\n",
      "Instructions for updating:\n",
      "Use Variable.read_value. Variables in 2.X are initialized automatically both in eager and graph (inside tf.defun) contexts.\n",
      "WARNING:tensorflow:From /home/mazurovev/.local/lib/python3.6/site-packages/deeppavlov/core/models/tf_model.py:50: checkpoint_exists (from tensorflow.python.training.checkpoint_management) is deprecated and will be removed in a future version.\n",
      "Instructions for updating:\n",
      "Use standard file APIs to check for files with this prefix.\n"
     ]
    },
    {
     "name": "stderr",
     "output_type": "stream",
     "text": [
      "2019-12-03 18:13:35.423 DEBUG in 'deeppavlov.metrics.fmeasure'['fmeasure'] at line 394: processed 48799 tokens with 5328 phrases; found: 48498 phrases; correct: 0.\n",
      "\n",
      "precision:  0.50%; recall:  4.56%; FB1:  0.90\n",
      "\n",
      "\tDNA: precision:  1.18%; recall:  0.58%; F1:  0.78 593\n",
      "\n",
      "\tRNA: precision:  0.00%; recall:  0.00%; F1:  0.00 3\n",
      "\n",
      "\tcell_line: precision:  0.24%; recall:  0.21%; F1:  0.22 424\n",
      "\n",
      "\tcell_type: precision:  0.37%; recall:  27.99%; F1:  0.73 46498\n",
      "\n",
      "\tprotein: precision:  6.53%; recall:  2.21%; F1:  3.30 980\n",
      "\n",
      "\n",
      "2019-12-03 18:13:35.495 INFO in 'deeppavlov.core.trainers.nn_trainer'['nn_trainer'] at line 198: Initial best ner_f1 of 0.9029\n"
     ]
    },
    {
     "name": "stdout",
     "output_type": "stream",
     "text": [
      "{\"valid\": {\"eval_examples_count\": 1855, \"metrics\": {\"ner_f1\": 0.9029, \"ner_token_f1\": 4.9536}, \"time_spent\": \"0:00:07\", \"epochs_done\": 0, \"batches_seen\": 0, \"train_examples_seen\": 0, \"impatience\": 0, \"patience_limit\": 7}}\n"
     ]
    },
    {
     "name": "stderr",
     "output_type": "stream",
     "text": [
      "2019-12-03 18:14:29.27 DEBUG in 'deeppavlov.metrics.fmeasure'['fmeasure'] at line 394: processed 48799 tokens with 5328 phrases; found: 5332 phrases; correct: 0.\n",
      "\n",
      "precision:  73.11%; recall:  73.16%; FB1:  73.13\n",
      "\n",
      "\tDNA: precision:  72.31%; recall:  62.05%; F1:  66.79 1040\n",
      "\n",
      "\tRNA: precision:  74.26%; recall:  57.25%; F1:  64.66 101\n",
      "\n",
      "\tcell_line: precision:  68.99%; recall:  55.62%; F1:  61.59 387\n",
      "\n",
      "\tcell_type: precision:  66.27%; recall:  72.34%; F1:  69.17 667\n",
      "\n",
      "\tprotein: precision:  75.29%; recall:  81.62%; F1:  78.33 3137\n",
      "\n",
      "\n",
      "2019-12-03 18:14:29.97 INFO in 'deeppavlov.core.trainers.nn_trainer'['nn_trainer'] at line 206: Improved best ner_f1 of 73.1332\n",
      "2019-12-03 18:14:29.98 INFO in 'deeppavlov.core.trainers.nn_trainer'['nn_trainer'] at line 208: Saving model\n",
      "2019-12-03 18:14:29.99 INFO in 'deeppavlov.core.models.tf_model'['tf_model'] at line 75: [saving model to /home/mazurovev/.deeppavlov/models/ner_ontonotes/model]\n"
     ]
    },
    {
     "name": "stdout",
     "output_type": "stream",
     "text": [
      "WARNING:tensorflow:From /home/mazurovev/.local/lib/python3.6/site-packages/deeppavlov/core/models/tf_model.py:77: The name tf.train.Saver is deprecated. Please use tf.compat.v1.train.Saver instead.\n",
      "\n",
      "{\"valid\": {\"eval_examples_count\": 1855, \"metrics\": {\"ner_f1\": 73.1332, \"ner_token_f1\": 82.5711}, \"time_spent\": \"0:01:01\", \"epochs_done\": 1, \"batches_seen\": 261, \"train_examples_seen\": 16691, \"impatience\": 0, \"patience_limit\": 7}}\n"
     ]
    },
    {
     "name": "stderr",
     "output_type": "stream",
     "text": [
      "2019-12-03 18:15:17.981 DEBUG in 'deeppavlov.metrics.fmeasure'['fmeasure'] at line 394: processed 48799 tokens with 5328 phrases; found: 5495 phrases; correct: 0.\n",
      "\n",
      "precision:  76.83%; recall:  79.24%; FB1:  78.02\n",
      "\n",
      "\tDNA: precision:  72.84%; recall:  69.47%; F1:  71.11 1156\n",
      "\n",
      "\tRNA: precision:  82.20%; recall:  74.05%; F1:  77.91 118\n",
      "\n",
      "\tcell_line: precision:  79.90%; recall:  68.75%; F1:  73.91 413\n",
      "\n",
      "\tcell_type: precision:  72.05%; recall:  78.89%; F1:  75.31 669\n",
      "\n",
      "\tprotein: precision:  78.72%; recall:  85.38%; F1:  81.92 3139\n",
      "\n",
      "\n",
      "2019-12-03 18:15:18.49 INFO in 'deeppavlov.core.trainers.nn_trainer'['nn_trainer'] at line 206: Improved best ner_f1 of 78.019\n",
      "2019-12-03 18:15:18.50 INFO in 'deeppavlov.core.trainers.nn_trainer'['nn_trainer'] at line 208: Saving model\n",
      "2019-12-03 18:15:18.51 INFO in 'deeppavlov.core.models.tf_model'['tf_model'] at line 75: [saving model to /home/mazurovev/.deeppavlov/models/ner_ontonotes/model]\n"
     ]
    },
    {
     "name": "stdout",
     "output_type": "stream",
     "text": [
      "{\"valid\": {\"eval_examples_count\": 1855, \"metrics\": {\"ner_f1\": 78.019, \"ner_token_f1\": 85.8747}, \"time_spent\": \"0:01:50\", \"epochs_done\": 2, \"batches_seen\": 522, \"train_examples_seen\": 33382, \"impatience\": 0, \"patience_limit\": 7}}\n"
     ]
    },
    {
     "name": "stderr",
     "output_type": "stream",
     "text": [
      "2019-12-03 18:16:02.955 DEBUG in 'deeppavlov.metrics.fmeasure'['fmeasure'] at line 394: processed 48799 tokens with 5328 phrases; found: 5278 phrases; correct: 0.\n",
      "\n",
      "precision:  79.71%; recall:  78.96%; FB1:  79.33\n",
      "\n",
      "\tDNA: precision:  75.11%; recall:  71.20%; F1:  73.10 1149\n",
      "\n",
      "\tRNA: precision:  82.40%; recall:  78.63%; F1:  80.47 125\n",
      "\n",
      "\tcell_line: precision:  77.44%; recall:  64.38%; F1:  70.31 399\n",
      "\n",
      "\tcell_type: precision:  72.12%; recall:  77.91%; F1:  74.90 660\n",
      "\n",
      "\tprotein: precision:  83.40%; recall:  84.87%; F1:  84.12 2945\n",
      "\n",
      "\n",
      "2019-12-03 18:16:03.23 INFO in 'deeppavlov.core.trainers.nn_trainer'['nn_trainer'] at line 206: Improved best ner_f1 of 79.3325\n",
      "2019-12-03 18:16:03.24 INFO in 'deeppavlov.core.trainers.nn_trainer'['nn_trainer'] at line 208: Saving model\n",
      "2019-12-03 18:16:03.25 INFO in 'deeppavlov.core.models.tf_model'['tf_model'] at line 75: [saving model to /home/mazurovev/.deeppavlov/models/ner_ontonotes/model]\n"
     ]
    },
    {
     "name": "stdout",
     "output_type": "stream",
     "text": [
      "{\"valid\": {\"eval_examples_count\": 1855, \"metrics\": {\"ner_f1\": 79.3325, \"ner_token_f1\": 86.231}, \"time_spent\": \"0:02:35\", \"epochs_done\": 3, \"batches_seen\": 783, \"train_examples_seen\": 50073, \"impatience\": 0, \"patience_limit\": 7}}\n"
     ]
    },
    {
     "name": "stderr",
     "output_type": "stream",
     "text": [
      "2019-12-03 18:16:49.462 DEBUG in 'deeppavlov.metrics.fmeasure'['fmeasure'] at line 394: processed 48799 tokens with 5328 phrases; found: 5388 phrases; correct: 0.\n",
      "\n",
      "precision:  80.01%; recall:  80.91%; FB1:  80.46\n",
      "\n",
      "\tDNA: precision:  75.30%; recall:  72.69%; F1:  73.97 1170\n",
      "\n",
      "\tRNA: precision:  81.67%; recall:  74.81%; F1:  78.09 120\n",
      "\n",
      "\tcell_line: precision:  75.79%; recall:  79.58%; F1:  77.64 504\n",
      "\n",
      "\tcell_type: precision:  79.97%; recall:  78.40%; F1:  79.17 599\n",
      "\n",
      "\tprotein: precision:  82.50%; recall:  85.38%; F1:  83.92 2995\n",
      "\n",
      "\n",
      "2019-12-03 18:16:49.532 INFO in 'deeppavlov.core.trainers.nn_trainer'['nn_trainer'] at line 206: Improved best ner_f1 of 80.4591\n",
      "2019-12-03 18:16:49.532 INFO in 'deeppavlov.core.trainers.nn_trainer'['nn_trainer'] at line 208: Saving model\n",
      "2019-12-03 18:16:49.534 INFO in 'deeppavlov.core.models.tf_model'['tf_model'] at line 75: [saving model to /home/mazurovev/.deeppavlov/models/ner_ontonotes/model]\n"
     ]
    },
    {
     "name": "stdout",
     "output_type": "stream",
     "text": [
      "{\"valid\": {\"eval_examples_count\": 1855, \"metrics\": {\"ner_f1\": 80.4591, \"ner_token_f1\": 87.3431}, \"time_spent\": \"0:03:21\", \"epochs_done\": 4, \"batches_seen\": 1044, \"train_examples_seen\": 66764, \"impatience\": 0, \"patience_limit\": 7}}\n"
     ]
    },
    {
     "name": "stderr",
     "output_type": "stream",
     "text": [
      "2019-12-03 18:17:33.296 DEBUG in 'deeppavlov.metrics.fmeasure'['fmeasure'] at line 394: processed 48799 tokens with 5328 phrases; found: 5369 phrases; correct: 0.\n",
      "\n",
      "precision:  80.57%; recall:  81.19%; FB1:  80.88\n",
      "\n",
      "\tDNA: precision:  79.45%; recall:  71.45%; F1:  75.24 1090\n",
      "\n",
      "\tRNA: precision:  87.39%; recall:  79.39%; F1:  83.20 119\n",
      "\n",
      "\tcell_line: precision:  79.86%; recall:  71.04%; F1:  75.19 427\n",
      "\n",
      "\tcell_type: precision:  75.54%; recall:  80.85%; F1:  78.10 654\n",
      "\n",
      "\tprotein: precision:  81.88%; recall:  87.11%; F1:  84.41 3079\n",
      "\n",
      "\n",
      "2019-12-03 18:17:33.365 INFO in 'deeppavlov.core.trainers.nn_trainer'['nn_trainer'] at line 206: Improved best ner_f1 of 80.8825\n",
      "2019-12-03 18:17:33.366 INFO in 'deeppavlov.core.trainers.nn_trainer'['nn_trainer'] at line 208: Saving model\n",
      "2019-12-03 18:17:33.367 INFO in 'deeppavlov.core.models.tf_model'['tf_model'] at line 75: [saving model to /home/mazurovev/.deeppavlov/models/ner_ontonotes/model]\n"
     ]
    },
    {
     "name": "stdout",
     "output_type": "stream",
     "text": [
      "{\"valid\": {\"eval_examples_count\": 1855, \"metrics\": {\"ner_f1\": 80.8825, \"ner_token_f1\": 86.5093}, \"time_spent\": \"0:04:05\", \"epochs_done\": 5, \"batches_seen\": 1305, \"train_examples_seen\": 83455, \"impatience\": 0, \"patience_limit\": 7}}\n"
     ]
    },
    {
     "name": "stderr",
     "output_type": "stream",
     "text": [
      "2019-12-03 18:18:15.593 DEBUG in 'deeppavlov.metrics.fmeasure'['fmeasure'] at line 394: processed 48799 tokens with 5328 phrases; found: 5270 phrases; correct: 0.\n",
      "\n",
      "precision:  81.92%; recall:  81.02%; FB1:  81.47\n",
      "\n",
      "\tDNA: precision:  76.55%; recall:  75.41%; F1:  75.98 1194\n",
      "\n",
      "\tRNA: precision:  85.95%; recall:  79.39%; F1:  82.54 121\n",
      "\n",
      "\tcell_line: precision:  77.48%; recall:  79.58%; F1:  78.52 493\n",
      "\n",
      "\tcell_type: precision:  83.71%; recall:  78.23%; F1:  80.88 571\n",
      "\n",
      "\tprotein: precision:  84.37%; recall:  84.28%; F1:  84.32 2891\n",
      "\n",
      "\n",
      "2019-12-03 18:18:15.665 INFO in 'deeppavlov.core.trainers.nn_trainer'['nn_trainer'] at line 206: Improved best ner_f1 of 81.4682\n",
      "2019-12-03 18:18:15.666 INFO in 'deeppavlov.core.trainers.nn_trainer'['nn_trainer'] at line 208: Saving model\n",
      "2019-12-03 18:18:15.667 INFO in 'deeppavlov.core.models.tf_model'['tf_model'] at line 75: [saving model to /home/mazurovev/.deeppavlov/models/ner_ontonotes/model]\n"
     ]
    },
    {
     "name": "stdout",
     "output_type": "stream",
     "text": [
      "{\"valid\": {\"eval_examples_count\": 1855, \"metrics\": {\"ner_f1\": 81.4682, \"ner_token_f1\": 88.0588}, \"time_spent\": \"0:04:47\", \"epochs_done\": 6, \"batches_seen\": 1566, \"train_examples_seen\": 100146, \"impatience\": 0, \"patience_limit\": 7}}\n"
     ]
    },
    {
     "name": "stderr",
     "output_type": "stream",
     "text": [
      "2019-12-03 18:18:58.136 DEBUG in 'deeppavlov.metrics.fmeasure'['fmeasure'] at line 394: processed 48799 tokens with 5328 phrases; found: 5290 phrases; correct: 0.\n",
      "\n",
      "precision:  80.49%; recall:  79.92%; FB1:  80.20\n",
      "\n",
      "\tDNA: precision:  77.28%; recall:  75.50%; F1:  76.38 1184\n",
      "\n",
      "\tRNA: precision:  84.80%; recall:  80.92%; F1:  82.81 125\n",
      "\n",
      "\tcell_line: precision:  75.29%; recall:  67.92%; F1:  71.41 433\n",
      "\n",
      "\tcell_type: precision:  75.04%; recall:  80.20%; F1:  77.53 653\n",
      "\n",
      "\tprotein: precision:  83.63%; recall:  83.66%; F1:  83.64 2895\n",
      "\n",
      "\n",
      "2019-12-03 18:18:58.207 INFO in 'deeppavlov.core.trainers.nn_trainer'['nn_trainer'] at line 211: Did not improve on the ner_f1 of 81.4682\n"
     ]
    },
    {
     "name": "stdout",
     "output_type": "stream",
     "text": [
      "{\"valid\": {\"eval_examples_count\": 1855, \"metrics\": {\"ner_f1\": 80.2034, \"ner_token_f1\": 87.1626}, \"time_spent\": \"0:05:30\", \"epochs_done\": 7, \"batches_seen\": 1827, \"train_examples_seen\": 116837, \"impatience\": 1, \"patience_limit\": 7}}\n"
     ]
    },
    {
     "name": "stderr",
     "output_type": "stream",
     "text": [
      "2019-12-03 18:19:40.339 DEBUG in 'deeppavlov.metrics.fmeasure'['fmeasure'] at line 394: processed 48799 tokens with 5328 phrases; found: 5369 phrases; correct: 0.\n",
      "\n",
      "precision:  80.39%; recall:  81.01%; FB1:  80.70\n",
      "\n",
      "\tDNA: precision:  75.06%; recall:  74.75%; F1:  74.91 1207\n",
      "\n",
      "\tRNA: precision:  85.27%; recall:  83.97%; F1:  84.62 129\n",
      "\n",
      "\tcell_line: precision:  78.69%; recall:  70.00%; F1:  74.09 427\n",
      "\n",
      "\tcell_type: precision:  75.77%; recall:  80.36%; F1:  78.00 648\n",
      "\n",
      "\tprotein: precision:  83.60%; recall:  85.45%; F1:  84.52 2958\n",
      "\n",
      "\n",
      "2019-12-03 18:19:40.409 INFO in 'deeppavlov.core.trainers.nn_trainer'['nn_trainer'] at line 211: Did not improve on the ner_f1 of 81.4682\n"
     ]
    },
    {
     "name": "stdout",
     "output_type": "stream",
     "text": [
      "{\"valid\": {\"eval_examples_count\": 1855, \"metrics\": {\"ner_f1\": 80.6955, \"ner_token_f1\": 87.1309}, \"time_spent\": \"0:06:12\", \"epochs_done\": 8, \"batches_seen\": 2088, \"train_examples_seen\": 133528, \"impatience\": 2, \"patience_limit\": 7}}\n"
     ]
    },
    {
     "name": "stderr",
     "output_type": "stream",
     "text": [
      "2019-12-03 18:20:21.505 DEBUG in 'deeppavlov.metrics.fmeasure'['fmeasure'] at line 394: processed 48799 tokens with 5328 phrases; found: 5422 phrases; correct: 0.\n",
      "\n",
      "precision:  81.10%; recall:  82.53%; FB1:  81.80\n",
      "\n",
      "\tDNA: precision:  77.41%; recall:  77.48%; F1:  77.44 1213\n",
      "\n",
      "\tRNA: precision:  81.20%; recall:  82.44%; F1:  81.82 133\n",
      "\n",
      "\tcell_line: precision:  72.50%; recall:  78.54%; F1:  75.40 520\n",
      "\n",
      "\tcell_type: precision:  81.82%; recall:  76.60%; F1:  79.12 572\n",
      "\n",
      "\tprotein: precision:  83.95%; recall:  86.56%; F1:  85.23 2984\n",
      "\n",
      "\n",
      "2019-12-03 18:20:21.571 INFO in 'deeppavlov.core.trainers.nn_trainer'['nn_trainer'] at line 206: Improved best ner_f1 of 81.8047\n",
      "2019-12-03 18:20:21.571 INFO in 'deeppavlov.core.trainers.nn_trainer'['nn_trainer'] at line 208: Saving model\n",
      "2019-12-03 18:20:21.572 INFO in 'deeppavlov.core.models.tf_model'['tf_model'] at line 75: [saving model to /home/mazurovev/.deeppavlov/models/ner_ontonotes/model]\n"
     ]
    },
    {
     "name": "stdout",
     "output_type": "stream",
     "text": [
      "{\"valid\": {\"eval_examples_count\": 1855, \"metrics\": {\"ner_f1\": 81.8047, \"ner_token_f1\": 87.5414}, \"time_spent\": \"0:06:53\", \"epochs_done\": 9, \"batches_seen\": 2349, \"train_examples_seen\": 150219, \"impatience\": 0, \"patience_limit\": 7}}\n"
     ]
    },
    {
     "name": "stderr",
     "output_type": "stream",
     "text": [
      "2019-12-03 18:21:02.580 DEBUG in 'deeppavlov.metrics.fmeasure'['fmeasure'] at line 394: processed 48799 tokens with 5328 phrases; found: 5264 phrases; correct: 0.\n",
      "\n",
      "precision:  81.80%; recall:  80.82%; FB1:  81.31\n",
      "\n",
      "\tDNA: precision:  77.96%; recall:  75.00%; F1:  76.45 1166\n",
      "\n",
      "\tRNA: precision:  80.65%; recall:  76.34%; F1:  78.43 124\n",
      "\n",
      "\tcell_line: precision:  80.99%; recall:  68.33%; F1:  74.12 405\n",
      "\n",
      "\tcell_type: precision:  76.74%; recall:  79.38%; F1:  78.04 632\n",
      "\n",
      "\tprotein: precision:  84.58%; recall:  85.83%; F1:  85.20 2937\n",
      "\n",
      "\n",
      "2019-12-03 18:21:02.647 INFO in 'deeppavlov.core.trainers.nn_trainer'['nn_trainer'] at line 211: Did not improve on the ner_f1 of 81.8047\n"
     ]
    },
    {
     "name": "stdout",
     "output_type": "stream",
     "text": [
      "{\"valid\": {\"eval_examples_count\": 1855, \"metrics\": {\"ner_f1\": 81.3066, \"ner_token_f1\": 87.2354}, \"time_spent\": \"0:07:34\", \"epochs_done\": 10, \"batches_seen\": 2610, \"train_examples_seen\": 166910, \"impatience\": 1, \"patience_limit\": 7}}\n"
     ]
    },
    {
     "name": "stderr",
     "output_type": "stream",
     "text": [
      "2019-12-03 18:21:43.734 DEBUG in 'deeppavlov.metrics.fmeasure'['fmeasure'] at line 394: processed 48799 tokens with 5328 phrases; found: 5521 phrases; correct: 0.\n",
      "\n",
      "precision:  78.70%; recall:  81.55%; FB1:  80.10\n",
      "\n",
      "\tDNA: precision:  72.42%; recall:  76.49%; F1:  74.40 1280\n",
      "\n",
      "\tRNA: precision:  79.70%; recall:  80.92%; F1:  80.30 133\n",
      "\n",
      "\tcell_line: precision:  78.00%; recall:  71.67%; F1:  74.70 441\n",
      "\n",
      "\tcell_type: precision:  74.89%; recall:  80.03%; F1:  77.37 653\n",
      "\n",
      "\tprotein: precision:  82.25%; recall:  85.66%; F1:  83.92 3014\n",
      "\n",
      "\n",
      "2019-12-03 18:21:43.801 INFO in 'deeppavlov.core.trainers.nn_trainer'['nn_trainer'] at line 211: Did not improve on the ner_f1 of 81.8047\n"
     ]
    },
    {
     "name": "stdout",
     "output_type": "stream",
     "text": [
      "{\"valid\": {\"eval_examples_count\": 1855, \"metrics\": {\"ner_f1\": 80.0995, \"ner_token_f1\": 86.4762}, \"time_spent\": \"0:08:15\", \"epochs_done\": 11, \"batches_seen\": 2871, \"train_examples_seen\": 183601, \"impatience\": 2, \"patience_limit\": 7}}\n"
     ]
    },
    {
     "name": "stderr",
     "output_type": "stream",
     "text": [
      "2019-12-03 18:22:24.491 DEBUG in 'deeppavlov.metrics.fmeasure'['fmeasure'] at line 394: processed 48799 tokens with 5328 phrases; found: 5393 phrases; correct: 0.\n",
      "\n",
      "precision:  79.96%; recall:  80.93%; FB1:  80.44\n",
      "\n",
      "\tDNA: precision:  75.85%; recall:  75.66%; F1:  75.75 1209\n",
      "\n",
      "\tRNA: precision:  78.51%; recall:  72.52%; F1:  75.40 121\n",
      "\n",
      "\tcell_line: precision:  82.69%; recall:  71.67%; F1:  76.79 416\n",
      "\n",
      "\tcell_type: precision:  74.81%; recall:  78.72%; F1:  76.71 643\n",
      "\n",
      "\tprotein: precision:  82.39%; recall:  85.52%; F1:  83.93 3004\n",
      "\n",
      "\n",
      "2019-12-03 18:22:24.555 INFO in 'deeppavlov.core.trainers.nn_trainer'['nn_trainer'] at line 211: Did not improve on the ner_f1 of 81.8047\n",
      "2019-12-03 18:22:24.685 INFO in 'deeppavlov.core.models.lr_scheduled_model'['lr_scheduled_model'] at line 429: New learning rate dividor = 10.0\n"
     ]
    },
    {
     "name": "stdout",
     "output_type": "stream",
     "text": [
      "{\"valid\": {\"eval_examples_count\": 1855, \"metrics\": {\"ner_f1\": 80.4403, \"ner_token_f1\": 86.7685}, \"time_spent\": \"0:08:56\", \"epochs_done\": 12, \"batches_seen\": 3132, \"train_examples_seen\": 200292, \"impatience\": 3, \"patience_limit\": 7}}\n"
     ]
    },
    {
     "name": "stderr",
     "output_type": "stream",
     "text": [
      "2019-12-03 18:23:03.736 DEBUG in 'deeppavlov.metrics.fmeasure'['fmeasure'] at line 394: processed 48799 tokens with 5328 phrases; found: 5402 phrases; correct: 0.\n",
      "\n",
      "precision:  80.21%; recall:  81.33%; FB1:  80.76\n",
      "\n",
      "\tDNA: precision:  75.85%; recall:  75.91%; F1:  75.88 1213\n",
      "\n",
      "\tRNA: precision:  82.26%; recall:  77.86%; F1:  80.00 124\n",
      "\n",
      "\tcell_line: precision:  79.29%; recall:  74.17%; F1:  76.64 449\n",
      "\n",
      "\tcell_type: precision:  78.68%; recall:  79.71%; F1:  79.19 619\n",
      "\n",
      "\tprotein: precision:  82.35%; recall:  85.28%; F1:  83.79 2997\n",
      "\n",
      "\n",
      "2019-12-03 18:23:03.803 INFO in 'deeppavlov.core.trainers.nn_trainer'['nn_trainer'] at line 211: Did not improve on the ner_f1 of 81.8047\n"
     ]
    },
    {
     "name": "stdout",
     "output_type": "stream",
     "text": [
      "{\"valid\": {\"eval_examples_count\": 1855, \"metrics\": {\"ner_f1\": 80.7642, \"ner_token_f1\": 87.1797}, \"time_spent\": \"0:09:35\", \"epochs_done\": 13, \"batches_seen\": 3393, \"train_examples_seen\": 216983, \"impatience\": 4, \"patience_limit\": 7}}\n"
     ]
    },
    {
     "name": "stderr",
     "output_type": "stream",
     "text": [
      "2019-12-03 18:23:43.670 DEBUG in 'deeppavlov.metrics.fmeasure'['fmeasure'] at line 394: processed 48799 tokens with 5328 phrases; found: 5425 phrases; correct: 0.\n",
      "\n",
      "precision:  80.15%; recall:  81.61%; FB1:  80.87\n",
      "\n",
      "\tDNA: precision:  75.96%; recall:  76.40%; F1:  76.18 1219\n",
      "\n",
      "\tRNA: precision:  83.87%; recall:  79.39%; F1:  81.57 124\n",
      "\n",
      "\tcell_line: precision:  80.27%; recall:  73.75%; F1:  76.87 441\n",
      "\n",
      "\tcell_type: precision:  78.15%; recall:  80.20%; F1:  79.16 627\n",
      "\n",
      "\tprotein: precision:  82.08%; recall:  85.49%; F1:  83.75 3014\n",
      "\n",
      "\n",
      "2019-12-03 18:23:43.738 INFO in 'deeppavlov.core.trainers.nn_trainer'['nn_trainer'] at line 211: Did not improve on the ner_f1 of 81.8047\n"
     ]
    },
    {
     "name": "stdout",
     "output_type": "stream",
     "text": [
      "{\"valid\": {\"eval_examples_count\": 1855, \"metrics\": {\"ner_f1\": 80.8705, \"ner_token_f1\": 87.2287}, \"time_spent\": \"0:10:15\", \"epochs_done\": 14, \"batches_seen\": 3654, \"train_examples_seen\": 233674, \"impatience\": 5, \"patience_limit\": 7}}\n"
     ]
    },
    {
     "name": "stderr",
     "output_type": "stream",
     "text": [
      "2019-12-03 18:24:21.957 DEBUG in 'deeppavlov.metrics.fmeasure'['fmeasure'] at line 394: processed 48799 tokens with 5328 phrases; found: 5352 phrases; correct: 0.\n",
      "\n",
      "precision:  80.34%; recall:  80.71%; FB1:  80.52\n",
      "\n",
      "\tDNA: precision:  76.03%; recall:  75.91%; F1:  75.97 1210\n",
      "\n",
      "\tRNA: precision:  83.19%; recall:  75.57%; F1:  79.20 119\n",
      "\n",
      "\tcell_line: precision:  80.19%; recall:  71.67%; F1:  75.69 429\n",
      "\n",
      "\tcell_type: precision:  77.55%; recall:  79.71%; F1:  78.61 628\n",
      "\n",
      "\tprotein: precision:  82.60%; recall:  84.66%; F1:  83.62 2966\n",
      "\n",
      "\n",
      "2019-12-03 18:24:22.24 INFO in 'deeppavlov.core.trainers.nn_trainer'['nn_trainer'] at line 211: Did not improve on the ner_f1 of 81.8047\n",
      "2019-12-03 18:24:22.169 INFO in 'deeppavlov.core.models.lr_scheduled_model'['lr_scheduled_model'] at line 429: New learning rate dividor = 100.0\n"
     ]
    },
    {
     "name": "stdout",
     "output_type": "stream",
     "text": [
      "{\"valid\": {\"eval_examples_count\": 1855, \"metrics\": {\"ner_f1\": 80.5243, \"ner_token_f1\": 87.0225}, \"time_spent\": \"0:10:54\", \"epochs_done\": 15, \"batches_seen\": 3915, \"train_examples_seen\": 250365, \"impatience\": 6, \"patience_limit\": 7}}\n"
     ]
    },
    {
     "name": "stderr",
     "output_type": "stream",
     "text": [
      "2019-12-03 18:25:01.781 DEBUG in 'deeppavlov.metrics.fmeasure'['fmeasure'] at line 394: processed 48799 tokens with 5328 phrases; found: 5385 phrases; correct: 0.\n",
      "\n",
      "precision:  80.46%; recall:  81.33%; FB1:  80.89\n",
      "\n",
      "\tDNA: precision:  76.34%; recall:  76.40%; F1:  76.37 1213\n",
      "\n",
      "\tRNA: precision:  83.61%; recall:  77.86%; F1:  80.63 122\n",
      "\n",
      "\tcell_line: precision:  79.86%; recall:  73.54%; F1:  76.57 442\n",
      "\n",
      "\tcell_type: precision:  78.55%; recall:  79.71%; F1:  79.12 620\n",
      "\n",
      "\tprotein: precision:  82.50%; recall:  85.18%; F1:  83.82 2988\n",
      "\n",
      "\n",
      "2019-12-03 18:25:01.848 INFO in 'deeppavlov.core.trainers.nn_trainer'['nn_trainer'] at line 211: Did not improve on the ner_f1 of 81.8047\n",
      "2019-12-03 18:25:01.989 INFO in 'deeppavlov.core.trainers.nn_trainer'['nn_trainer'] at line 328: Ran out of patience\n"
     ]
    },
    {
     "name": "stdout",
     "output_type": "stream",
     "text": [
      "{\"valid\": {\"eval_examples_count\": 1855, \"metrics\": {\"ner_f1\": 80.8924, \"ner_token_f1\": 87.2726}, \"time_spent\": \"0:11:33\", \"epochs_done\": 16, \"batches_seen\": 4176, \"train_examples_seen\": 267056, \"impatience\": 7, \"patience_limit\": 7}}\n"
     ]
    },
    {
     "name": "stderr",
     "output_type": "stream",
     "text": [
      "2019-12-03 18:25:02.425 INFO in 'deeppavlov.core.data.simple_vocab'['simple_vocab'] at line 115: [loading vocabulary from /home/mazurovev/.deeppavlov/models/ner_ontonotes/tag.dict]\n",
      "2019-12-03 18:25:02.427 INFO in 'deeppavlov.core.data.simple_vocab'['simple_vocab'] at line 115: [loading vocabulary from /home/mazurovev/.deeppavlov/models/ner_ontonotes/char.dict]\n",
      "2019-12-03 18:25:02.429 INFO in 'deeppavlov.models.embedders.glove_embedder'['glove_embedder'] at line 52: [loading GloVe embeddings from `/home/mazurovev/.deeppavlov/downloads/embeddings/glove.6B.100d.txt`]\n",
      "/home/mazurovev/.local/lib/python3.6/site-packages/smart_open/smart_open_lib.py:402: UserWarning: This function is deprecated, use smart_open.open instead. See the migration notes for details: https://github.com/RaRe-Technologies/smart_open/blob/master/README.rst#migrating-to-the-new-open-function\n",
      "  'See the migration notes for details: %s' % _MIGRATION_NOTES_URL\n"
     ]
    },
    {
     "name": "stdout",
     "output_type": "stream",
     "text": [
      "WARNING:tensorflow:Entity <bound method Conv.call of <tensorflow.python.layers.convolutional.Conv2D object at 0x7f45b1d905f8>> could not be transformed and will be executed as-is. Please report this to the AutgoGraph team. When filing the bug, set the verbosity to 10 (on Linux, `export AUTOGRAPH_VERBOSITY=10`) and attach the full output. Cause: converting <bound method Conv.call of <tensorflow.python.layers.convolutional.Conv2D object at 0x7f45b1d905f8>>: AssertionError: Bad argument number for Name: 3, expecting 4\n",
      "WARNING: Entity <bound method Conv.call of <tensorflow.python.layers.convolutional.Conv2D object at 0x7f45b1d905f8>> could not be transformed and will be executed as-is. Please report this to the AutgoGraph team. When filing the bug, set the verbosity to 10 (on Linux, `export AUTOGRAPH_VERBOSITY=10`) and attach the full output. Cause: converting <bound method Conv.call of <tensorflow.python.layers.convolutional.Conv2D object at 0x7f45b1d905f8>>: AssertionError: Bad argument number for Name: 3, expecting 4\n",
      "WARNING:tensorflow:Entity <bound method Conv.call of <tensorflow.python.layers.convolutional.Conv2D object at 0x7f45b1d905f8>> could not be transformed and will be executed as-is. Please report this to the AutgoGraph team. When filing the bug, set the verbosity to 10 (on Linux, `export AUTOGRAPH_VERBOSITY=10`) and attach the full output. Cause: converting <bound method Conv.call of <tensorflow.python.layers.convolutional.Conv2D object at 0x7f45b1d905f8>>: AssertionError: Bad argument number for Name: 3, expecting 4\n",
      "WARNING: Entity <bound method Conv.call of <tensorflow.python.layers.convolutional.Conv2D object at 0x7f45b1d905f8>> could not be transformed and will be executed as-is. Please report this to the AutgoGraph team. When filing the bug, set the verbosity to 10 (on Linux, `export AUTOGRAPH_VERBOSITY=10`) and attach the full output. Cause: converting <bound method Conv.call of <tensorflow.python.layers.convolutional.Conv2D object at 0x7f45b1d905f8>>: AssertionError: Bad argument number for Name: 3, expecting 4\n",
      "WARNING:tensorflow:Entity <bound method Conv.call of <tensorflow.python.layers.convolutional.Conv2D object at 0x7f45b1d905f8>> could not be transformed and will be executed as-is. Please report this to the AutgoGraph team. When filing the bug, set the verbosity to 10 (on Linux, `export AUTOGRAPH_VERBOSITY=10`) and attach the full output. Cause: converting <bound method Conv.call of <tensorflow.python.layers.convolutional.Conv2D object at 0x7f45b1d905f8>>: AssertionError: Bad argument number for Name: 3, expecting 4\n",
      "WARNING: Entity <bound method Conv.call of <tensorflow.python.layers.convolutional.Conv2D object at 0x7f45b1d905f8>> could not be transformed and will be executed as-is. Please report this to the AutgoGraph team. When filing the bug, set the verbosity to 10 (on Linux, `export AUTOGRAPH_VERBOSITY=10`) and attach the full output. Cause: converting <bound method Conv.call of <tensorflow.python.layers.convolutional.Conv2D object at 0x7f45b1d905f8>>: AssertionError: Bad argument number for Name: 3, expecting 4\n",
      "WARNING:tensorflow:Entity <bound method Conv.call of <tensorflow.python.layers.convolutional.Conv2D object at 0x7f45b1d905f8>> could not be transformed and will be executed as-is. Please report this to the AutgoGraph team. When filing the bug, set the verbosity to 10 (on Linux, `export AUTOGRAPH_VERBOSITY=10`) and attach the full output. Cause: converting <bound method Conv.call of <tensorflow.python.layers.convolutional.Conv2D object at 0x7f45b1d905f8>>: AssertionError: Bad argument number for Name: 3, expecting 4\n",
      "WARNING: Entity <bound method Conv.call of <tensorflow.python.layers.convolutional.Conv2D object at 0x7f45b1d905f8>> could not be transformed and will be executed as-is. Please report this to the AutgoGraph team. When filing the bug, set the verbosity to 10 (on Linux, `export AUTOGRAPH_VERBOSITY=10`) and attach the full output. Cause: converting <bound method Conv.call of <tensorflow.python.layers.convolutional.Conv2D object at 0x7f45b1d905f8>>: AssertionError: Bad argument number for Name: 3, expecting 4\n",
      "WARNING:tensorflow:Entity <bound method _CudnnRNN.call of <tensorflow.contrib.cudnn_rnn.python.layers.cudnn_rnn.CudnnLSTM object at 0x7f45b1c48d68>> could not be transformed and will be executed as-is. Please report this to the AutgoGraph team. When filing the bug, set the verbosity to 10 (on Linux, `export AUTOGRAPH_VERBOSITY=10`) and attach the full output. Cause: converting <bound method _CudnnRNN.call of <tensorflow.contrib.cudnn_rnn.python.layers.cudnn_rnn.CudnnLSTM object at 0x7f45b1c48d68>>: AttributeError: module 'gast' has no attribute 'Num'\n",
      "WARNING: Entity <bound method _CudnnRNN.call of <tensorflow.contrib.cudnn_rnn.python.layers.cudnn_rnn.CudnnLSTM object at 0x7f45b1c48d68>> could not be transformed and will be executed as-is. Please report this to the AutgoGraph team. When filing the bug, set the verbosity to 10 (on Linux, `export AUTOGRAPH_VERBOSITY=10`) and attach the full output. Cause: converting <bound method _CudnnRNN.call of <tensorflow.contrib.cudnn_rnn.python.layers.cudnn_rnn.CudnnLSTM object at 0x7f45b1c48d68>>: AttributeError: module 'gast' has no attribute 'Num'\n",
      "WARNING:tensorflow:Entity <bound method _CudnnRNN.call of <tensorflow.contrib.cudnn_rnn.python.layers.cudnn_rnn.CudnnLSTM object at 0x7f45b1c48ef0>> could not be transformed and will be executed as-is. Please report this to the AutgoGraph team. When filing the bug, set the verbosity to 10 (on Linux, `export AUTOGRAPH_VERBOSITY=10`) and attach the full output. Cause: converting <bound method _CudnnRNN.call of <tensorflow.contrib.cudnn_rnn.python.layers.cudnn_rnn.CudnnLSTM object at 0x7f45b1c48ef0>>: AttributeError: module 'gast' has no attribute 'Num'\n",
      "WARNING: Entity <bound method _CudnnRNN.call of <tensorflow.contrib.cudnn_rnn.python.layers.cudnn_rnn.CudnnLSTM object at 0x7f45b1c48ef0>> could not be transformed and will be executed as-is. Please report this to the AutgoGraph team. When filing the bug, set the verbosity to 10 (on Linux, `export AUTOGRAPH_VERBOSITY=10`) and attach the full output. Cause: converting <bound method _CudnnRNN.call of <tensorflow.contrib.cudnn_rnn.python.layers.cudnn_rnn.CudnnLSTM object at 0x7f45b1c48ef0>>: AttributeError: module 'gast' has no attribute 'Num'\n",
      "WARNING:tensorflow:Entity <bound method Dense.call of <tensorflow.python.layers.core.Dense object at 0x7f45b1cb1cf8>> could not be transformed and will be executed as-is. Please report this to the AutgoGraph team. When filing the bug, set the verbosity to 10 (on Linux, `export AUTOGRAPH_VERBOSITY=10`) and attach the full output. Cause: converting <bound method Dense.call of <tensorflow.python.layers.core.Dense object at 0x7f45b1cb1cf8>>: AssertionError: Bad argument number for Name: 3, expecting 4\n",
      "WARNING: Entity <bound method Dense.call of <tensorflow.python.layers.core.Dense object at 0x7f45b1cb1cf8>> could not be transformed and will be executed as-is. Please report this to the AutgoGraph team. When filing the bug, set the verbosity to 10 (on Linux, `export AUTOGRAPH_VERBOSITY=10`) and attach the full output. Cause: converting <bound method Dense.call of <tensorflow.python.layers.core.Dense object at 0x7f45b1cb1cf8>>: AssertionError: Bad argument number for Name: 3, expecting 4\n",
      "WARNING:tensorflow:Entity <bound method Dense.call of <tensorflow.python.layers.core.Dense object at 0x7f45b1cb1cf8>> could not be transformed and will be executed as-is. Please report this to the AutgoGraph team. When filing the bug, set the verbosity to 10 (on Linux, `export AUTOGRAPH_VERBOSITY=10`) and attach the full output. Cause: converting <bound method Dense.call of <tensorflow.python.layers.core.Dense object at 0x7f45b1cb1cf8>>: AssertionError: Bad argument number for Name: 3, expecting 4\n",
      "WARNING: Entity <bound method Dense.call of <tensorflow.python.layers.core.Dense object at 0x7f45b1cb1cf8>> could not be transformed and will be executed as-is. Please report this to the AutgoGraph team. When filing the bug, set the verbosity to 10 (on Linux, `export AUTOGRAPH_VERBOSITY=10`) and attach the full output. Cause: converting <bound method Dense.call of <tensorflow.python.layers.core.Dense object at 0x7f45b1cb1cf8>>: AssertionError: Bad argument number for Name: 3, expecting 4\n"
     ]
    },
    {
     "name": "stderr",
     "output_type": "stream",
     "text": [
      "2019-12-03 18:26:04.833 INFO in 'deeppavlov.core.models.tf_model'['tf_model'] at line 51: [loading model from /home/mazurovev/.deeppavlov/models/ner_ontonotes/model]\n"
     ]
    },
    {
     "name": "stdout",
     "output_type": "stream",
     "text": [
      "INFO:tensorflow:Restoring parameters from /home/mazurovev/.deeppavlov/models/ner_ontonotes/model\n"
     ]
    },
    {
     "name": "stderr",
     "output_type": "stream",
     "text": [
      "2019-12-03 18:26:08.986 DEBUG in 'deeppavlov.metrics.fmeasure'['fmeasure'] at line 394: processed 48799 tokens with 5328 phrases; found: 5422 phrases; correct: 0.\n",
      "\n",
      "precision:  81.10%; recall:  82.53%; FB1:  81.80\n",
      "\n",
      "\tDNA: precision:  77.41%; recall:  77.48%; F1:  77.44 1213\n",
      "\n",
      "\tRNA: precision:  81.20%; recall:  82.44%; F1:  81.82 133\n",
      "\n",
      "\tcell_line: precision:  72.50%; recall:  78.54%; F1:  75.40 520\n",
      "\n",
      "\tcell_type: precision:  81.82%; recall:  76.60%; F1:  79.12 572\n",
      "\n",
      "\tprotein: precision:  83.95%; recall:  86.56%; F1:  85.23 2984\n",
      "\n",
      "\n"
     ]
    },
    {
     "name": "stdout",
     "output_type": "stream",
     "text": [
      "{\"valid\": {\"eval_examples_count\": 1855, \"metrics\": {\"ner_f1\": 81.8047, \"ner_token_f1\": 87.5414}, \"time_spent\": \"0:00:04\"}}\n"
     ]
    },
    {
     "name": "stderr",
     "output_type": "stream",
     "text": [
      "2019-12-03 18:26:17.349 DEBUG in 'deeppavlov.metrics.fmeasure'['fmeasure'] at line 394: processed 101039 tokens with 8662 phrases; found: 9634 phrases; correct: 0.\n",
      "\n",
      "precision:  68.33%; recall:  76.00%; FB1:  71.96\n",
      "\n",
      "\tDNA: precision:  68.14%; recall:  74.34%; F1:  71.11 1152\n",
      "\n",
      "\tRNA: precision:  66.92%; recall:  75.42%; F1:  70.92 133\n",
      "\n",
      "\tcell_line: precision:  43.52%; recall:  69.80%; F1:  53.61 802\n",
      "\n",
      "\tcell_type: precision:  79.47%; recall:  63.87%; F1:  70.82 1544\n",
      "\n",
      "\tprotein: precision:  68.85%; recall:  81.57%; F1:  74.67 6003\n",
      "\n",
      "\n"
     ]
    },
    {
     "name": "stdout",
     "output_type": "stream",
     "text": [
      "{\"test\": {\"eval_examples_count\": 3856, \"metrics\": {\"ner_f1\": 71.9611, \"ner_token_f1\": 79.4448}, \"time_spent\": \"0:00:09\"}}\n"
     ]
    },
    {
     "name": "stderr",
     "output_type": "stream",
     "text": [
      "2019-12-03 18:26:17.860 INFO in 'deeppavlov.core.data.simple_vocab'['simple_vocab'] at line 115: [loading vocabulary from /home/mazurovev/.deeppavlov/models/ner_ontonotes/tag.dict]\n",
      "2019-12-03 18:26:17.861 INFO in 'deeppavlov.core.data.simple_vocab'['simple_vocab'] at line 115: [loading vocabulary from /home/mazurovev/.deeppavlov/models/ner_ontonotes/char.dict]\n",
      "2019-12-03 18:26:17.863 INFO in 'deeppavlov.models.embedders.glove_embedder'['glove_embedder'] at line 52: [loading GloVe embeddings from `/home/mazurovev/.deeppavlov/downloads/embeddings/glove.6B.100d.txt`]\n",
      "/home/mazurovev/.local/lib/python3.6/site-packages/smart_open/smart_open_lib.py:402: UserWarning: This function is deprecated, use smart_open.open instead. See the migration notes for details: https://github.com/RaRe-Technologies/smart_open/blob/master/README.rst#migrating-to-the-new-open-function\n",
      "  'See the migration notes for details: %s' % _MIGRATION_NOTES_URL\n"
     ]
    },
    {
     "name": "stdout",
     "output_type": "stream",
     "text": [
      "WARNING:tensorflow:Entity <bound method Conv.call of <tensorflow.python.layers.convolutional.Conv2D object at 0x7f45b2b12358>> could not be transformed and will be executed as-is. Please report this to the AutgoGraph team. When filing the bug, set the verbosity to 10 (on Linux, `export AUTOGRAPH_VERBOSITY=10`) and attach the full output. Cause: converting <bound method Conv.call of <tensorflow.python.layers.convolutional.Conv2D object at 0x7f45b2b12358>>: AssertionError: Bad argument number for Name: 3, expecting 4\n",
      "WARNING: Entity <bound method Conv.call of <tensorflow.python.layers.convolutional.Conv2D object at 0x7f45b2b12358>> could not be transformed and will be executed as-is. Please report this to the AutgoGraph team. When filing the bug, set the verbosity to 10 (on Linux, `export AUTOGRAPH_VERBOSITY=10`) and attach the full output. Cause: converting <bound method Conv.call of <tensorflow.python.layers.convolutional.Conv2D object at 0x7f45b2b12358>>: AssertionError: Bad argument number for Name: 3, expecting 4\n",
      "WARNING:tensorflow:Entity <bound method Conv.call of <tensorflow.python.layers.convolutional.Conv2D object at 0x7f45b2b1f780>> could not be transformed and will be executed as-is. Please report this to the AutgoGraph team. When filing the bug, set the verbosity to 10 (on Linux, `export AUTOGRAPH_VERBOSITY=10`) and attach the full output. Cause: converting <bound method Conv.call of <tensorflow.python.layers.convolutional.Conv2D object at 0x7f45b2b1f780>>: AssertionError: Bad argument number for Name: 3, expecting 4\n",
      "WARNING: Entity <bound method Conv.call of <tensorflow.python.layers.convolutional.Conv2D object at 0x7f45b2b1f780>> could not be transformed and will be executed as-is. Please report this to the AutgoGraph team. When filing the bug, set the verbosity to 10 (on Linux, `export AUTOGRAPH_VERBOSITY=10`) and attach the full output. Cause: converting <bound method Conv.call of <tensorflow.python.layers.convolutional.Conv2D object at 0x7f45b2b1f780>>: AssertionError: Bad argument number for Name: 3, expecting 4\n",
      "WARNING:tensorflow:Entity <bound method Conv.call of <tensorflow.python.layers.convolutional.Conv2D object at 0x7f45b2adbf28>> could not be transformed and will be executed as-is. Please report this to the AutgoGraph team. When filing the bug, set the verbosity to 10 (on Linux, `export AUTOGRAPH_VERBOSITY=10`) and attach the full output. Cause: converting <bound method Conv.call of <tensorflow.python.layers.convolutional.Conv2D object at 0x7f45b2adbf28>>: AssertionError: Bad argument number for Name: 3, expecting 4\n",
      "WARNING: Entity <bound method Conv.call of <tensorflow.python.layers.convolutional.Conv2D object at 0x7f45b2adbf28>> could not be transformed and will be executed as-is. Please report this to the AutgoGraph team. When filing the bug, set the verbosity to 10 (on Linux, `export AUTOGRAPH_VERBOSITY=10`) and attach the full output. Cause: converting <bound method Conv.call of <tensorflow.python.layers.convolutional.Conv2D object at 0x7f45b2adbf28>>: AssertionError: Bad argument number for Name: 3, expecting 4\n",
      "WARNING:tensorflow:Entity <bound method Conv.call of <tensorflow.python.layers.convolutional.Conv2D object at 0x7f45b2adbf28>> could not be transformed and will be executed as-is. Please report this to the AutgoGraph team. When filing the bug, set the verbosity to 10 (on Linux, `export AUTOGRAPH_VERBOSITY=10`) and attach the full output. Cause: converting <bound method Conv.call of <tensorflow.python.layers.convolutional.Conv2D object at 0x7f45b2adbf28>>: AssertionError: Bad argument number for Name: 3, expecting 4\n",
      "WARNING: Entity <bound method Conv.call of <tensorflow.python.layers.convolutional.Conv2D object at 0x7f45b2adbf28>> could not be transformed and will be executed as-is. Please report this to the AutgoGraph team. When filing the bug, set the verbosity to 10 (on Linux, `export AUTOGRAPH_VERBOSITY=10`) and attach the full output. Cause: converting <bound method Conv.call of <tensorflow.python.layers.convolutional.Conv2D object at 0x7f45b2adbf28>>: AssertionError: Bad argument number for Name: 3, expecting 4\n",
      "WARNING:tensorflow:Entity <bound method _CudnnRNN.call of <tensorflow.contrib.cudnn_rnn.python.layers.cudnn_rnn.CudnnLSTM object at 0x7f45b29a4e10>> could not be transformed and will be executed as-is. Please report this to the AutgoGraph team. When filing the bug, set the verbosity to 10 (on Linux, `export AUTOGRAPH_VERBOSITY=10`) and attach the full output. Cause: converting <bound method _CudnnRNN.call of <tensorflow.contrib.cudnn_rnn.python.layers.cudnn_rnn.CudnnLSTM object at 0x7f45b29a4e10>>: AttributeError: module 'gast' has no attribute 'Num'\n",
      "WARNING: Entity <bound method _CudnnRNN.call of <tensorflow.contrib.cudnn_rnn.python.layers.cudnn_rnn.CudnnLSTM object at 0x7f45b29a4e10>> could not be transformed and will be executed as-is. Please report this to the AutgoGraph team. When filing the bug, set the verbosity to 10 (on Linux, `export AUTOGRAPH_VERBOSITY=10`) and attach the full output. Cause: converting <bound method _CudnnRNN.call of <tensorflow.contrib.cudnn_rnn.python.layers.cudnn_rnn.CudnnLSTM object at 0x7f45b29a4e10>>: AttributeError: module 'gast' has no attribute 'Num'\n",
      "WARNING:tensorflow:Entity <bound method _CudnnRNN.call of <tensorflow.contrib.cudnn_rnn.python.layers.cudnn_rnn.CudnnLSTM object at 0x7f45b29a4ef0>> could not be transformed and will be executed as-is. Please report this to the AutgoGraph team. When filing the bug, set the verbosity to 10 (on Linux, `export AUTOGRAPH_VERBOSITY=10`) and attach the full output. Cause: converting <bound method _CudnnRNN.call of <tensorflow.contrib.cudnn_rnn.python.layers.cudnn_rnn.CudnnLSTM object at 0x7f45b29a4ef0>>: AttributeError: module 'gast' has no attribute 'Num'\n",
      "WARNING: Entity <bound method _CudnnRNN.call of <tensorflow.contrib.cudnn_rnn.python.layers.cudnn_rnn.CudnnLSTM object at 0x7f45b29a4ef0>> could not be transformed and will be executed as-is. Please report this to the AutgoGraph team. When filing the bug, set the verbosity to 10 (on Linux, `export AUTOGRAPH_VERBOSITY=10`) and attach the full output. Cause: converting <bound method _CudnnRNN.call of <tensorflow.contrib.cudnn_rnn.python.layers.cudnn_rnn.CudnnLSTM object at 0x7f45b29a4ef0>>: AttributeError: module 'gast' has no attribute 'Num'\n",
      "WARNING:tensorflow:Entity <bound method Dense.call of <tensorflow.python.layers.core.Dense object at 0x7f45b28e1c50>> could not be transformed and will be executed as-is. Please report this to the AutgoGraph team. When filing the bug, set the verbosity to 10 (on Linux, `export AUTOGRAPH_VERBOSITY=10`) and attach the full output. Cause: converting <bound method Dense.call of <tensorflow.python.layers.core.Dense object at 0x7f45b28e1c50>>: AssertionError: Bad argument number for Name: 3, expecting 4\n",
      "WARNING: Entity <bound method Dense.call of <tensorflow.python.layers.core.Dense object at 0x7f45b28e1c50>> could not be transformed and will be executed as-is. Please report this to the AutgoGraph team. When filing the bug, set the verbosity to 10 (on Linux, `export AUTOGRAPH_VERBOSITY=10`) and attach the full output. Cause: converting <bound method Dense.call of <tensorflow.python.layers.core.Dense object at 0x7f45b28e1c50>>: AssertionError: Bad argument number for Name: 3, expecting 4\n",
      "WARNING:tensorflow:Entity <bound method Dense.call of <tensorflow.python.layers.core.Dense object at 0x7f45b28e1c50>> could not be transformed and will be executed as-is. Please report this to the AutgoGraph team. When filing the bug, set the verbosity to 10 (on Linux, `export AUTOGRAPH_VERBOSITY=10`) and attach the full output. Cause: converting <bound method Dense.call of <tensorflow.python.layers.core.Dense object at 0x7f45b28e1c50>>: AssertionError: Bad argument number for Name: 3, expecting 4\n",
      "WARNING: Entity <bound method Dense.call of <tensorflow.python.layers.core.Dense object at 0x7f45b28e1c50>> could not be transformed and will be executed as-is. Please report this to the AutgoGraph team. When filing the bug, set the verbosity to 10 (on Linux, `export AUTOGRAPH_VERBOSITY=10`) and attach the full output. Cause: converting <bound method Dense.call of <tensorflow.python.layers.core.Dense object at 0x7f45b28e1c50>>: AssertionError: Bad argument number for Name: 3, expecting 4\n"
     ]
    },
    {
     "name": "stderr",
     "output_type": "stream",
     "text": [
      "2019-12-03 18:27:20.263 INFO in 'deeppavlov.core.models.tf_model'['tf_model'] at line 51: [loading model from /home/mazurovev/.deeppavlov/models/ner_ontonotes/model]\n"
     ]
    },
    {
     "name": "stdout",
     "output_type": "stream",
     "text": [
      "INFO:tensorflow:Restoring parameters from /home/mazurovev/.deeppavlov/models/ner_ontonotes/model\n"
     ]
    }
   ],
   "source": [
    "ner_model = train_model(ner_config, download=True)"
   ]
  },
  {
   "cell_type": "code",
   "execution_count": null,
   "metadata": {},
   "outputs": [],
   "source": [
    "#{\"test\": {\"eval_examples_count\": 3856, \"metrics\": \n",
    "#{\"ner_f1\": 71.9611, \"ner_token_f1\": 79.4448}, \"time_spent\": \"0:00:09\"}}"
   ]
  },
  {
   "cell_type": "code",
   "execution_count": 23,
   "metadata": {},
   "outputs": [
    {
     "data": {
      "text/plain": [
       "[[['Number',\n",
       "   'of',\n",
       "   'glucocorticoid',\n",
       "   'receptors',\n",
       "   'in',\n",
       "   'lymphocytes',\n",
       "   'and',\n",
       "   'their',\n",
       "   'sensitivity',\n",
       "   'to',\n",
       "   'hormone',\n",
       "   'action',\n",
       "   '.']],\n",
       " [['O',\n",
       "   'O',\n",
       "   'B-protein',\n",
       "   'I-protein',\n",
       "   'O',\n",
       "   'B-cell_type',\n",
       "   'O',\n",
       "   'O',\n",
       "   'O',\n",
       "   'O',\n",
       "   'O',\n",
       "   'O',\n",
       "   'O']]]"
      ]
     },
     "execution_count": 23,
     "metadata": {},
     "output_type": "execute_result"
    }
   ],
   "source": [
    "ner_model([\"Number of glucocorticoid receptors in lymphocytes and their sensitivity\tto hormone action.\"])"
   ]
  },
  {
   "cell_type": "code",
   "execution_count": 2,
   "metadata": {
    "scrolled": true
   },
   "outputs": [],
   "source": [
    "def splitTrainValid():\n",
    "    empty_lines = []\n",
    "    i = 0\n",
    "    with open(\"../jnlpba/train.txt\", 'r') as reader:\n",
    "        content = reader.readlines()\n",
    "        for line in content:\n",
    "            if len(line.strip()) == 0:\n",
    "                empty_lines.append(i)\n",
    "            i = i + 1\n",
    "            \n",
    "    with open(\"/home/mazurovev/jnlpba/valid.txt\", \"w\") as f:\n",
    "    for line in content[:50653]:\n",
    "        f.write(line)\n",
    "        \n",
    "    with open(\"/home/mazurovev/jnlpba/train_2.txt\", \"w\") as f:\n",
    "    for line in content[50654:]:\n",
    "        f.write(line)"
   ]
  }
 ],
 "metadata": {
  "kernelspec": {
   "display_name": "Python 3",
   "language": "python",
   "name": "python3"
  },
  "language_info": {
   "codemirror_mode": {
    "name": "ipython",
    "version": 3
   },
   "file_extension": ".py",
   "mimetype": "text/x-python",
   "name": "python",
   "nbconvert_exporter": "python",
   "pygments_lexer": "ipython3",
   "version": "3.6.8"
  }
 },
 "nbformat": 4,
 "nbformat_minor": 2
}
