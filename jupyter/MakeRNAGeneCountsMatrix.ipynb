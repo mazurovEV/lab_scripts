{
 "cells": [
  {
   "cell_type": "code",
   "execution_count": 42,
   "metadata": {},
   "outputs": [],
   "source": [
    "import pandas as pd\n",
    "import os\n",
    "import h5py"
   ]
  },
  {
   "cell_type": "code",
   "execution_count": null,
   "metadata": {},
   "outputs": [],
   "source": [
    "#!!!Должны делать матрицу по чипам, чтобы совпадали колонки в матрицах(по биосемплам)!!!"
   ]
  },
  {
   "cell_type": "code",
   "execution_count": 37,
   "metadata": {},
   "outputs": [],
   "source": [
    "targets = [(\"H3K27ac\", \"\"), (\"H3K27me3\", \"\"), (\"H3K4me1\", \"_narrow\"), (\"H3K36me3\", \"\"), (\"H3K4me2\", \"_narrow\"), (\"H3K4me3\", \"_narrow\"), (\"H3K79me2\", \"\"), \n",
    "           (\"H3K9ac\", \"_narrow\"), (\"H3K9me3\", \"\"), (\"H4K20me1\", \"\")]"
   ]
  },
  {
   "cell_type": "code",
   "execution_count": null,
   "metadata": {},
   "outputs": [],
   "source": []
  },
  {
   "cell_type": "code",
   "execution_count": 1,
   "metadata": {},
   "outputs": [],
   "source": [
    "def getFiles(target):\n",
    "    biosamples = []\n",
    "    for dirpath, dirnames, filenames in os.walk(\"/data/mazurovev/\" + target[0] + \"/\"):\n",
    "        for filename in sorted([f for f in filenames if not f.endswith(\"peaks.bed\")])[:1]:\n",
    "            biosamples.append(dirpath + \"/\" + filename)\n",
    "    biosamples = [f.split(\"/\")[-2] for f in sorted(biosamples)]\n",
    "    \n",
    "    files = []\n",
    "    for dirpath, dirnames, filenames in os.walk(\"/data/mazurovev/RNA-Seq/\"):\n",
    "        if(dirpath.split(\"/\")[-1] in biosamples):\n",
    "            for filename in sorted([f for f in filenames])[:1]:\n",
    "                files.append(dirpath + \"/\" + filename)\n",
    "                \n",
    "    return sorted(files)"
   ]
  },
  {
   "cell_type": "code",
   "execution_count": 27,
   "metadata": {},
   "outputs": [],
   "source": [
    "def makeRNAMatrix(files, target):\n",
    "    rna_dict_for_df = {}\n",
    "    for f in files:\n",
    "        tsv = pd.read_csv(f, sep=\"\\t\")\n",
    "        counts = tsv[\"expected_count\"].astype(int)\n",
    "        counts.index = tsv['gene_id']\n",
    "        rna_dict_for_df[\"/\".join(f.split(\"/\")[-2:])] = counts\n",
    "        \n",
    "    matrix = pd.DataFrame(rna_dict_for_df)\n",
    "    ensg_matrix = matrix.filter(regex='ENSG*', axis=0)\n",
    "    del ensg_matrix.index.name\n",
    "    ensg_matrix = ensg_matrix.reindex(sorted(ensg_matrix.columns), axis=1)\n",
    "    \n",
    "    ensg_matrix.to_csv(\"../all_marks/\" + target[0] + \"/rna_matrix.csv\", sep=\"\\t\")"
   ]
  },
  {
   "cell_type": "code",
   "execution_count": 6,
   "metadata": {},
   "outputs": [
    {
     "name": "stdout",
     "output_type": "stream",
     "text": [
      "make RNA matrix for H3K4me1 ...\n",
      "make RNA matrix for H3K4me2 ...\n",
      "make RNA matrix for H3K4me3 ...\n",
      "make RNA matrix for H3K79me2 ...\n",
      "make RNA matrix for H3K9ac ...\n",
      "make RNA matrix for H3K9me3 ...\n",
      "make RNA matrix for H4K20me1 ...\n"
     ]
    }
   ],
   "source": [
    "for target in targets:\n",
    "    print(\"make RNA matrix for \" + target[0] + \"...\")\n",
    "    makeRNAMatrix(getFiles(target), target)"
   ]
  },
  {
   "cell_type": "code",
   "execution_count": 30,
   "metadata": {},
   "outputs": [],
   "source": [
    "def rnaMatrixForMethylation():\n",
    "    with h5py.File(\"../all_marks/\" + \"methylation\" + \"/signal_matrix_outer_filtered.hdf5\", 'r') as f:\n",
    "        m_files = f['files_names'][:]\n",
    "        \n",
    "    biosamples = [f.split(\"/\")[-2] for f in m_files]\n",
    "    files = []\n",
    "\n",
    "    for path in [\"/data/mazurovev/RNA-Seq/\" + b + \"/\" for b in biosamples]:\n",
    "        for filename in sorted([f for f in os.listdir(path)])[:1]:\n",
    "            files.append(path + filename)\n",
    "            \n",
    "    makeRNAMatrix(files, (\"methylation\", \"\"))"
   ]
  },
  {
   "cell_type": "code",
   "execution_count": 31,
   "metadata": {
    "scrolled": true
   },
   "outputs": [],
   "source": [
    "rnaMatrixForMethylation()"
   ]
  },
  {
   "cell_type": "code",
   "execution_count": 40,
   "metadata": {},
   "outputs": [],
   "source": [
    "d = {}\n",
    "for t in targets:\n",
    "    d[t[0]] = pd.read_csv(\"../all_marks/\" + t[0] + \"/rna_matrix.csv\", sep=\"\\t\", index_col=0).shape"
   ]
  },
  {
   "cell_type": "code",
   "execution_count": 41,
   "metadata": {},
   "outputs": [
    {
     "data": {
      "text/plain": [
       "{'H3K27ac': (60725, 49),\n",
       " 'H3K27me3': (60725, 50),\n",
       " 'H3K4me1': (60725, 51),\n",
       " 'H3K36me3': (60725, 53),\n",
       " 'H3K4me2': (60725, 19),\n",
       " 'H3K4me3': (60725, 59),\n",
       " 'H3K79me2': (60725, 20),\n",
       " 'H3K9ac': (60725, 19),\n",
       " 'H3K9me3': (60725, 50),\n",
       " 'H4K20me1': (60725, 19)}"
      ]
     },
     "execution_count": 41,
     "metadata": {},
     "output_type": "execute_result"
    }
   ],
   "source": [
    "d"
   ]
  },
  {
   "cell_type": "code",
   "execution_count": null,
   "metadata": {},
   "outputs": [],
   "source": []
  },
  {
   "cell_type": "code",
   "execution_count": 43,
   "metadata": {},
   "outputs": [],
   "source": [
    "test = pd.read_csv(\"../all_marks/\" + \"H3K27ac\" + \"/rna_matrix.csv\", sep=\"\\t\", index_col=0)"
   ]
  },
  {
   "cell_type": "code",
   "execution_count": 32,
   "metadata": {},
   "outputs": [],
   "source": [
    "matrix = pd.read_csv(\"../all_marks/\" + \"methylation\" + \"/rna_matrix.csv\", sep=\"\\t\", index_col=0)"
   ]
  },
  {
   "cell_type": "code",
   "execution_count": 35,
   "metadata": {},
   "outputs": [
    {
     "data": {
      "text/html": [
       "<div>\n",
       "<style scoped>\n",
       "    .dataframe tbody tr th:only-of-type {\n",
       "        vertical-align: middle;\n",
       "    }\n",
       "\n",
       "    .dataframe tbody tr th {\n",
       "        vertical-align: top;\n",
       "    }\n",
       "\n",
       "    .dataframe thead th {\n",
       "        text-align: right;\n",
       "    }\n",
       "</style>\n",
       "<table border=\"1\" class=\"dataframe\">\n",
       "  <thead>\n",
       "    <tr style=\"text-align: right;\">\n",
       "      <th></th>\n",
       "      <th>CL:0000182/ENCFF072XSA.tsv</th>\n",
       "      <th>CL:0000192/ENCFF401KXP.tsv</th>\n",
       "      <th>CL:0000515/ENCFF803CZZ.tsv</th>\n",
       "      <th>CL:0002327/ENCFF805ZGF.tsv</th>\n",
       "      <th>EFO:0001187/ENCFF041HHL.tsv</th>\n",
       "      <th>EFO:0001196/ENCFF353SBP.tsv</th>\n",
       "      <th>EFO:0002067/ENCFF104VTJ.tsv</th>\n",
       "      <th>EFO:0002784/ENCFF306TLL.tsv</th>\n",
       "      <th>EFO:0003042/ENCFF093NEQ.tsv</th>\n",
       "      <th>EFO:0005723/ENCFF092TYT.tsv</th>\n",
       "      <th>...</th>\n",
       "      <th>UBERON:0001323/ENCFF046AFQ.tsv</th>\n",
       "      <th>UBERON:0002046/ENCFF083NSQ.tsv</th>\n",
       "      <th>UBERON:0002048/ENCFF573QQU.tsv</th>\n",
       "      <th>UBERON:0002084/ENCFF862LZL.tsv</th>\n",
       "      <th>UBERON:0002106/ENCFF474KYX.tsv</th>\n",
       "      <th>UBERON:0002240/ENCFF126UNL.tsv</th>\n",
       "      <th>UBERON:0002367/ENCFF499KKR.tsv</th>\n",
       "      <th>UBERON:0002369/ENCFF212SUD.tsv</th>\n",
       "      <th>UBERON:0004264/ENCFF187DQQ.tsv</th>\n",
       "      <th>UBERON:0008952/ENCFF042JPR.tsv</th>\n",
       "    </tr>\n",
       "  </thead>\n",
       "  <tbody>\n",
       "    <tr>\n",
       "      <th>ENSG00000000003.14</th>\n",
       "      <td>7390</td>\n",
       "      <td>5119</td>\n",
       "      <td>1792</td>\n",
       "      <td>1589</td>\n",
       "      <td>1955</td>\n",
       "      <td>1677</td>\n",
       "      <td>0</td>\n",
       "      <td>1</td>\n",
       "      <td>397</td>\n",
       "      <td>1493</td>\n",
       "      <td>...</td>\n",
       "      <td>400</td>\n",
       "      <td>435</td>\n",
       "      <td>1572</td>\n",
       "      <td>71</td>\n",
       "      <td>206</td>\n",
       "      <td>1953</td>\n",
       "      <td>935</td>\n",
       "      <td>467</td>\n",
       "      <td>595</td>\n",
       "      <td>280</td>\n",
       "    </tr>\n",
       "    <tr>\n",
       "      <th>ENSG00000000005.5</th>\n",
       "      <td>50</td>\n",
       "      <td>0</td>\n",
       "      <td>0</td>\n",
       "      <td>0</td>\n",
       "      <td>0</td>\n",
       "      <td>0</td>\n",
       "      <td>0</td>\n",
       "      <td>0</td>\n",
       "      <td>22</td>\n",
       "      <td>0</td>\n",
       "      <td>...</td>\n",
       "      <td>1</td>\n",
       "      <td>0</td>\n",
       "      <td>2</td>\n",
       "      <td>2</td>\n",
       "      <td>0</td>\n",
       "      <td>43</td>\n",
       "      <td>0</td>\n",
       "      <td>0</td>\n",
       "      <td>17</td>\n",
       "      <td>0</td>\n",
       "    </tr>\n",
       "    <tr>\n",
       "      <th>ENSG00000000419.12</th>\n",
       "      <td>1718</td>\n",
       "      <td>3029</td>\n",
       "      <td>1882</td>\n",
       "      <td>1558</td>\n",
       "      <td>538</td>\n",
       "      <td>1591</td>\n",
       "      <td>1911</td>\n",
       "      <td>2059</td>\n",
       "      <td>484</td>\n",
       "      <td>1196</td>\n",
       "      <td>...</td>\n",
       "      <td>226</td>\n",
       "      <td>287</td>\n",
       "      <td>437</td>\n",
       "      <td>217</td>\n",
       "      <td>223</td>\n",
       "      <td>562</td>\n",
       "      <td>861</td>\n",
       "      <td>397</td>\n",
       "      <td>639</td>\n",
       "      <td>326</td>\n",
       "    </tr>\n",
       "    <tr>\n",
       "      <th>ENSG00000000457.13</th>\n",
       "      <td>639</td>\n",
       "      <td>888</td>\n",
       "      <td>690</td>\n",
       "      <td>929</td>\n",
       "      <td>126</td>\n",
       "      <td>1042</td>\n",
       "      <td>498</td>\n",
       "      <td>1053</td>\n",
       "      <td>137</td>\n",
       "      <td>606</td>\n",
       "      <td>...</td>\n",
       "      <td>312</td>\n",
       "      <td>472</td>\n",
       "      <td>1001</td>\n",
       "      <td>143</td>\n",
       "      <td>283</td>\n",
       "      <td>941</td>\n",
       "      <td>1394</td>\n",
       "      <td>425</td>\n",
       "      <td>968</td>\n",
       "      <td>341</td>\n",
       "    </tr>\n",
       "    <tr>\n",
       "      <th>ENSG00000000460.16</th>\n",
       "      <td>535</td>\n",
       "      <td>1075</td>\n",
       "      <td>277</td>\n",
       "      <td>295</td>\n",
       "      <td>580</td>\n",
       "      <td>1109</td>\n",
       "      <td>1332</td>\n",
       "      <td>1288</td>\n",
       "      <td>420</td>\n",
       "      <td>460</td>\n",
       "      <td>...</td>\n",
       "      <td>173</td>\n",
       "      <td>127</td>\n",
       "      <td>397</td>\n",
       "      <td>7</td>\n",
       "      <td>147</td>\n",
       "      <td>584</td>\n",
       "      <td>291</td>\n",
       "      <td>125</td>\n",
       "      <td>123</td>\n",
       "      <td>57</td>\n",
       "    </tr>\n",
       "  </tbody>\n",
       "</table>\n",
       "<p>5 rows × 27 columns</p>\n",
       "</div>"
      ],
      "text/plain": [
       "                    CL:0000182/ENCFF072XSA.tsv  CL:0000192/ENCFF401KXP.tsv  \\\n",
       "ENSG00000000003.14                        7390                        5119   \n",
       "ENSG00000000005.5                           50                           0   \n",
       "ENSG00000000419.12                        1718                        3029   \n",
       "ENSG00000000457.13                         639                         888   \n",
       "ENSG00000000460.16                         535                        1075   \n",
       "\n",
       "                    CL:0000515/ENCFF803CZZ.tsv  CL:0002327/ENCFF805ZGF.tsv  \\\n",
       "ENSG00000000003.14                        1792                        1589   \n",
       "ENSG00000000005.5                            0                           0   \n",
       "ENSG00000000419.12                        1882                        1558   \n",
       "ENSG00000000457.13                         690                         929   \n",
       "ENSG00000000460.16                         277                         295   \n",
       "\n",
       "                    EFO:0001187/ENCFF041HHL.tsv  EFO:0001196/ENCFF353SBP.tsv  \\\n",
       "ENSG00000000003.14                         1955                         1677   \n",
       "ENSG00000000005.5                             0                            0   \n",
       "ENSG00000000419.12                          538                         1591   \n",
       "ENSG00000000457.13                          126                         1042   \n",
       "ENSG00000000460.16                          580                         1109   \n",
       "\n",
       "                    EFO:0002067/ENCFF104VTJ.tsv  EFO:0002784/ENCFF306TLL.tsv  \\\n",
       "ENSG00000000003.14                            0                            1   \n",
       "ENSG00000000005.5                             0                            0   \n",
       "ENSG00000000419.12                         1911                         2059   \n",
       "ENSG00000000457.13                          498                         1053   \n",
       "ENSG00000000460.16                         1332                         1288   \n",
       "\n",
       "                    EFO:0003042/ENCFF093NEQ.tsv  EFO:0005723/ENCFF092TYT.tsv  \\\n",
       "ENSG00000000003.14                          397                         1493   \n",
       "ENSG00000000005.5                            22                            0   \n",
       "ENSG00000000419.12                          484                         1196   \n",
       "ENSG00000000457.13                          137                          606   \n",
       "ENSG00000000460.16                          420                          460   \n",
       "\n",
       "                                 ...                \\\n",
       "ENSG00000000003.14               ...                 \n",
       "ENSG00000000005.5                ...                 \n",
       "ENSG00000000419.12               ...                 \n",
       "ENSG00000000457.13               ...                 \n",
       "ENSG00000000460.16               ...                 \n",
       "\n",
       "                    UBERON:0001323/ENCFF046AFQ.tsv  \\\n",
       "ENSG00000000003.14                             400   \n",
       "ENSG00000000005.5                                1   \n",
       "ENSG00000000419.12                             226   \n",
       "ENSG00000000457.13                             312   \n",
       "ENSG00000000460.16                             173   \n",
       "\n",
       "                    UBERON:0002046/ENCFF083NSQ.tsv  \\\n",
       "ENSG00000000003.14                             435   \n",
       "ENSG00000000005.5                                0   \n",
       "ENSG00000000419.12                             287   \n",
       "ENSG00000000457.13                             472   \n",
       "ENSG00000000460.16                             127   \n",
       "\n",
       "                    UBERON:0002048/ENCFF573QQU.tsv  \\\n",
       "ENSG00000000003.14                            1572   \n",
       "ENSG00000000005.5                                2   \n",
       "ENSG00000000419.12                             437   \n",
       "ENSG00000000457.13                            1001   \n",
       "ENSG00000000460.16                             397   \n",
       "\n",
       "                    UBERON:0002084/ENCFF862LZL.tsv  \\\n",
       "ENSG00000000003.14                              71   \n",
       "ENSG00000000005.5                                2   \n",
       "ENSG00000000419.12                             217   \n",
       "ENSG00000000457.13                             143   \n",
       "ENSG00000000460.16                               7   \n",
       "\n",
       "                    UBERON:0002106/ENCFF474KYX.tsv  \\\n",
       "ENSG00000000003.14                             206   \n",
       "ENSG00000000005.5                                0   \n",
       "ENSG00000000419.12                             223   \n",
       "ENSG00000000457.13                             283   \n",
       "ENSG00000000460.16                             147   \n",
       "\n",
       "                    UBERON:0002240/ENCFF126UNL.tsv  \\\n",
       "ENSG00000000003.14                            1953   \n",
       "ENSG00000000005.5                               43   \n",
       "ENSG00000000419.12                             562   \n",
       "ENSG00000000457.13                             941   \n",
       "ENSG00000000460.16                             584   \n",
       "\n",
       "                    UBERON:0002367/ENCFF499KKR.tsv  \\\n",
       "ENSG00000000003.14                             935   \n",
       "ENSG00000000005.5                                0   \n",
       "ENSG00000000419.12                             861   \n",
       "ENSG00000000457.13                            1394   \n",
       "ENSG00000000460.16                             291   \n",
       "\n",
       "                    UBERON:0002369/ENCFF212SUD.tsv  \\\n",
       "ENSG00000000003.14                             467   \n",
       "ENSG00000000005.5                                0   \n",
       "ENSG00000000419.12                             397   \n",
       "ENSG00000000457.13                             425   \n",
       "ENSG00000000460.16                             125   \n",
       "\n",
       "                    UBERON:0004264/ENCFF187DQQ.tsv  \\\n",
       "ENSG00000000003.14                             595   \n",
       "ENSG00000000005.5                               17   \n",
       "ENSG00000000419.12                             639   \n",
       "ENSG00000000457.13                             968   \n",
       "ENSG00000000460.16                             123   \n",
       "\n",
       "                    UBERON:0008952/ENCFF042JPR.tsv  \n",
       "ENSG00000000003.14                             280  \n",
       "ENSG00000000005.5                                0  \n",
       "ENSG00000000419.12                             326  \n",
       "ENSG00000000457.13                             341  \n",
       "ENSG00000000460.16                              57  \n",
       "\n",
       "[5 rows x 27 columns]"
      ]
     },
     "execution_count": 35,
     "metadata": {},
     "output_type": "execute_result"
    }
   ],
   "source": [
    "matrix.head()"
   ]
  },
  {
   "cell_type": "code",
   "execution_count": 33,
   "metadata": {},
   "outputs": [
    {
     "data": {
      "text/plain": [
       "(60725, 27)"
      ]
     },
     "execution_count": 33,
     "metadata": {},
     "output_type": "execute_result"
    }
   ],
   "source": [
    "matrix.shape"
   ]
  },
  {
   "cell_type": "code",
   "execution_count": 11,
   "metadata": {},
   "outputs": [
    {
     "data": {
      "text/plain": [
       "array([[ 714.99,  863.3 ,   19.65, 1267.41,  614.06],\n",
       "       [2079.6 ,  148.88,    0.  , 2948.34, 1198.98],\n",
       "       [ 518.37,  139.44,  351.05,  966.21,  792.32],\n",
       "       [2138.4 ,  751.08,    0.  , 1579.34,  485.53],\n",
       "       [1270.25,  822.4 ,   41.55, 3680.31,  422.45]])"
      ]
     },
     "execution_count": 11,
     "metadata": {},
     "output_type": "execute_result"
    }
   ],
   "source": [
    "matrix.values[100:105, 13:18].T"
   ]
  },
  {
   "cell_type": "code",
   "execution_count": 12,
   "metadata": {},
   "outputs": [
    {
     "data": {
      "text/html": [
       "<div>\n",
       "<style scoped>\n",
       "    .dataframe tbody tr th:only-of-type {\n",
       "        vertical-align: middle;\n",
       "    }\n",
       "\n",
       "    .dataframe tbody tr th {\n",
       "        vertical-align: top;\n",
       "    }\n",
       "\n",
       "    .dataframe thead th {\n",
       "        text-align: right;\n",
       "    }\n",
       "</style>\n",
       "<table border=\"1\" class=\"dataframe\">\n",
       "  <thead>\n",
       "    <tr style=\"text-align: right;\">\n",
       "      <th></th>\n",
       "      <th>gene_1</th>\n",
       "      <th>gene_2</th>\n",
       "      <th>gene_3</th>\n",
       "      <th>gene_4</th>\n",
       "      <th>gene_5</th>\n",
       "    </tr>\n",
       "  </thead>\n",
       "  <tbody>\n",
       "    <tr>\n",
       "      <th>sample_1</th>\n",
       "      <td>714.99</td>\n",
       "      <td>863.30</td>\n",
       "      <td>19.65</td>\n",
       "      <td>1267.41</td>\n",
       "      <td>614.06</td>\n",
       "    </tr>\n",
       "    <tr>\n",
       "      <th>sample_2</th>\n",
       "      <td>2079.60</td>\n",
       "      <td>148.88</td>\n",
       "      <td>0.00</td>\n",
       "      <td>2948.34</td>\n",
       "      <td>1198.98</td>\n",
       "    </tr>\n",
       "    <tr>\n",
       "      <th>sample_3</th>\n",
       "      <td>518.37</td>\n",
       "      <td>139.44</td>\n",
       "      <td>351.05</td>\n",
       "      <td>966.21</td>\n",
       "      <td>792.32</td>\n",
       "    </tr>\n",
       "    <tr>\n",
       "      <th>sample_4</th>\n",
       "      <td>2138.40</td>\n",
       "      <td>751.08</td>\n",
       "      <td>0.00</td>\n",
       "      <td>1579.34</td>\n",
       "      <td>485.53</td>\n",
       "    </tr>\n",
       "    <tr>\n",
       "      <th>sample_5</th>\n",
       "      <td>1270.25</td>\n",
       "      <td>822.40</td>\n",
       "      <td>41.55</td>\n",
       "      <td>3680.31</td>\n",
       "      <td>422.45</td>\n",
       "    </tr>\n",
       "  </tbody>\n",
       "</table>\n",
       "</div>"
      ],
      "text/plain": [
       "           gene_1  gene_2  gene_3   gene_4   gene_5\n",
       "sample_1   714.99  863.30   19.65  1267.41   614.06\n",
       "sample_2  2079.60  148.88    0.00  2948.34  1198.98\n",
       "sample_3   518.37  139.44  351.05   966.21   792.32\n",
       "sample_4  2138.40  751.08    0.00  1579.34   485.53\n",
       "sample_5  1270.25  822.40   41.55  3680.31   422.45"
      ]
     },
     "execution_count": 12,
     "metadata": {},
     "output_type": "execute_result"
    }
   ],
   "source": [
    "pd.DataFrame(data=matrix.values[100:105, 13:18].T, index=['sample_1', \"sample_2\", \"sample_3\", \"sample_4\", \"sample_5\"], columns=['gene_1', \"gene_2\", \"gene_3\", \"gene_4\", \"gene_5\"])"
   ]
  },
  {
   "cell_type": "code",
   "execution_count": null,
   "metadata": {},
   "outputs": [],
   "source": []
  }
 ],
 "metadata": {
  "kernelspec": {
   "display_name": "Python 3",
   "language": "python",
   "name": "python3"
  },
  "language_info": {
   "codemirror_mode": {
    "name": "ipython",
    "version": 3
   },
   "file_extension": ".py",
   "mimetype": "text/x-python",
   "name": "python",
   "nbconvert_exporter": "python",
   "pygments_lexer": "ipython3",
   "version": "3.6.9"
  }
 },
 "nbformat": 4,
 "nbformat_minor": 2
}
