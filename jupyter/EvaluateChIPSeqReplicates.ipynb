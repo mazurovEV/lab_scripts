{
 "cells": [
  {
   "cell_type": "code",
   "execution_count": 21,
   "metadata": {},
   "outputs": [],
   "source": [
    "import pandas as pd\n",
    "import os\n",
    "import sys\n",
    "from subprocess import Popen, PIPE"
   ]
  },
  {
   "cell_type": "code",
   "execution_count": null,
   "metadata": {},
   "outputs": [],
   "source": []
  },
  {
   "cell_type": "code",
   "execution_count": 3,
   "metadata": {},
   "outputs": [],
   "source": [
    "d = pd.read_csv(\"../all_marks/ChiP-Seq_for_all_marks_all_replicas.tsv\", sep='\\t', index_col=False)"
   ]
  },
  {
   "cell_type": "code",
   "execution_count": 4,
   "metadata": {},
   "outputs": [],
   "source": [
    "biosamples = []\n",
    "for index, row in d.iterrows():\n",
    "    if(row['Experiment target'] == 'H3K27ac-human'):\n",
    "        biosamples.append(\"/data/mazurovev/\" + row['Experiment target'].split('-')[0] + \"/\" + row['Biosample term id'])"
   ]
  },
  {
   "cell_type": "code",
   "execution_count": 14,
   "metadata": {},
   "outputs": [],
   "source": [
    "commands = []\n",
    "for b in biosamples:\n",
    "    inputs = [\"-i \" + b + \"/\" + f for f in os.listdir(b) if f.endswith(\"narrow_peaks.bed\")]\n",
    "    cmd = \"dotnet ~/mspc/CLI.dll \" + \" \".join(inputs) + \" -r bio -s 1E-8 -w 1E-4\"\n",
    "    commands.append(cmd)"
   ]
  },
  {
   "cell_type": "code",
   "execution_count": 22,
   "metadata": {},
   "outputs": [
    {
     "name": "stdout",
     "output_type": "stream",
     "text": [
      "output: \n",
      "b'\\n'\n",
      "output: \n",
      "b'.::........Parsing Samples.........::.\\n'\n",
      "output: \n",
      "b'\\n'\n",
      "output: \n",
      "b'   #\\t            Filename\\tRead peaks#\\tMin p-value\\tMean p-value\\tMax p-value\\t\\n'\n",
      "output: \n",
      "b'----\\t--------------------\\t-----------\\t-----------\\t------------\\t-----------\\t\\n'\n",
      "output: \n",
      "b' 1/3\\t...6NGS_narrow_peaks\\t    163,841\\t 0.000E+000\\t  9.233E-019\\t 1.000E-013\\t\\n'\n",
      "output: \n",
      "b' 2/3\\t...6GNU_narrow_peaks\\t     53,101\\t 0.000E+000\\t  1.691E-022\\t 1.000E-018\\t\\n'\n",
      "output: \n",
      "b' 3/3\\t...9VQN_narrow_peaks\\t    179,649\\t 0.000E+000\\t  1.195E-018\\t 1.000E-013\\t\\n'\n",
      "output: \n",
      "b'\\n'\n",
      "output: \n",
      "b'.::.......Analyzing Samples........::.\\n'\n",
      "output: \n",
      "b'\\n'\n",
      "output: \n",
      "b'[1/4] Initializing\\n'\n",
      "output: \n",
      "b'[2/4] Processing samples\\n'\n",
      "output: \n",
      "b'\\r  \\xe2\\x94\\x94\\xe2\\x94\\x80\\xe2\\x94\\x80 0/396,591\\t(0.000%) peaks\\r  \\xe2\\x94\\x94\\xe2\\x94\\x80\\xe2\\x94\\x80 17/396,591\\t(0.004%) peaks processed\\r  \\xe2\\x94\\x94\\xe2\\x94\\x80\\xe2\\x94\\x80 19/396,591\\t(0.005%) peaks processed\\r  \\xe2\\x94\\x94\\xe2\\x94\\x80\\xe2\\x94\\x80 21/396,591\\t(0.005%) peaks processed\\r  \\xe2\\x94\\x94\\xe2\\x94\\x80\\xe2\\x94\\x80 32/396,591\\t(0.008%) peaks processed\\r  \\xe2\\x94\\x94\\xe2\\x94\\x80\\xe2\\x94\\x80 27/396,591\\t(0.007%) peaks processed\\r  \\xe2\\x94\\x94\\xe2\\x94\\x80\\xe2\\x94\\x80 47/396,591\\t(0.012%) peaks processed\\r  \\xe2\\x94\\x94\\xe2\\x94\\x80\\xe2\\x94\\x80 69/396,591\\t(0.017%) peaks processed\\r  \\xe2\\x94\\x94\\xe2\\x94\\x80\\xe2\\x94\\x80 75/396,591\\t(0.019%) peaks processed\\r  \\xe2\\x94\\x94\\xe2\\x94\\x80\\xe2\\x94\\x80 123/396,591\\t(0.031%) peaks processed\\r  \\xe2\\x94\\x94\\xe2\\x94\\x80\\xe2\\x94\\x80 143/396,591\\t(0.036%) peaks processed\\r  \\xe2\\x94\\x94\\xe2\\x94\\x80\\xe2\\x94\\x80 166/396,591\\t(0.042%) peaks processed\\r  \\xe2\\x94\\x94\\xe2\\x94\\x80\\xe2\\x94\\x80 199/396,591\\t(0.050%) peaks processed\\r  \\xe2\\x94\\x94\\xe2\\x94\\x80\\xe2\\x94\\x80 200/396,591\\t(0.050%) peaks processed\\r  \\xe2\\x94\\x94\\xe2\\x94\\x80\\xe2\\x94\\x80 4,856/396,591\\t(1.224%) peaks processed\\r  \\xe2\\x94\\x94\\xe2\\x94\\x80\\xe2\\x94\\x80 38,830/396,591\\t(9.791%) peaks processed\\r  \\xe2\\x94\\x94\\xe2\\x94\\x80\\xe2\\x94\\x80 60,111/396,591\\t(15.157%) peaks processed\\r  \\xe2\\x94\\x94\\xe2\\x94\\x80\\xe2\\x94\\x80 65,553/396,591\\t(16.529%) peaks processed\\r  \\xe2\\x94\\x94\\xe2\\x94\\x80\\xe2\\x94\\x80 80,175/396,591\\t(20.216%) peaks processed\\r  \\xe2\\x94\\x94\\xe2\\x94\\x80\\xe2\\x94\\x80 81,964/396,591\\t(20.667%) peaks processed\\r  \\xe2\\x94\\x94\\xe2\\x94\\x80\\xe2\\x94\\x80 87,237/396,591\\t(21.997%) peaks processed\\r  \\xe2\\x94\\x94\\xe2\\x94\\x80\\xe2\\x94\\x80 89,754/396,591\\t(22.631%) peaks processed\\r  \\xe2\\x94\\x94\\xe2\\x94\\x80\\xe2\\x94\\x80 101,741/396,591\\t(25.654%) peaks processed\\r  \\xe2\\x94\\x94\\xe2\\x94\\x80\\xe2\\x94\\x80 101,817/396,591\\t(25.673%) peaks processed\\r  \\xe2\\x94\\x94\\xe2\\x94\\x80\\xe2\\x94\\x80 118,195/396,591\\t(29.803%) peaks processed\\r  \\xe2\\x94\\x94\\xe2\\x94\\x80\\xe2\\x94\\x80 121,651/396,591\\t(30.674%) peaks processed\\r  \\xe2\\x94\\x94\\xe2\\x94\\x80\\xe2\\x94\\x80 130,296/396,591\\t(32.854%) peaks processed\\r  \\xe2\\x94\\x94\\xe2\\x94\\x80\\xe2\\x94\\x80 131,452/396,591\\t(33.145%) peaks processed\\r  \\xe2\\x94\\x94\\xe2\\x94\\x80\\xe2\\x94\\x80 139,169/396,591\\t(35.091%) peaks processed\\r  \\xe2\\x94\\x94\\xe2\\x94\\x80\\xe2\\x94\\x80 139,940/396,591\\t(35.286%) peaks processed\\r  \\xe2\\x94\\x94\\xe2\\x94\\x80\\xe2\\x94\\x80 143,155/396,591\\t(36.096%) peaks processed\\r  \\xe2\\x94\\x94\\xe2\\x94\\x80\\xe2\\x94\\x80 147,728/396,591\\t(37.249%) peaks processed\\r  \\xe2\\x94\\x94\\xe2\\x94\\x80\\xe2\\x94\\x80 148,574/396,591\\t(37.463%) peaks processed\\r  \\xe2\\x94\\x94\\xe2\\x94\\x80\\xe2\\x94\\x80 149,951/396,591\\t(37.810%) peaks processed\\r  \\xe2\\x94\\x94\\xe2\\x94\\x80\\xe2\\x94\\x80 153,246/396,591\\t(38.641%) peaks processed\\r  \\xe2\\x94\\x94\\xe2\\x94\\x80\\xe2\\x94\\x80 159,772/396,591\\t(40.286%) peaks processed\\r  \\xe2\\x94\\x94\\xe2\\x94\\x80\\xe2\\x94\\x80 162,313/396,591\\t(40.927%) peaks processed\\r  \\xe2\\x94\\x94\\xe2\\x94\\x80\\xe2\\x94\\x80 163,841/396,591\\t(41.312%) peaks processed\\r  \\xe2\\x94\\x94\\xe2\\x94\\x80\\xe2\\x94\\x80 163,891/396,591\\t(41.325%) peaks processed\\r  \\xe2\\x94\\x94\\xe2\\x94\\x80\\xe2\\x94\\x80 163,918/396,591\\t(41.332%) peaks processed\\r  \\xe2\\x94\\x94\\xe2\\x94\\x80\\xe2\\x94\\x80 164,164/396,591\\t(41.394%) peaks processed\\r  \\xe2\\x94\\x94\\xe2\\x94\\x80\\xe2\\x94\\x80 164,244/396,591\\t(41.414%) peaks processed\\r  \\xe2\\x94\\x94\\xe2\\x94\\x80\\xe2\\x94\\x80 164,311/396,591\\t(41.431%) peaks processed\\r  \\xe2\\x94\\x94\\xe2\\x94\\x80\\xe2\\x94\\x80 164,245/396,591\\t(41.414%) peaks processed\\r  \\xe2\\x94\\x94\\xe2\\x94\\x80\\xe2\\x94\\x80 164,343/396,591\\t(41.439%) peaks processed\\r  \\xe2\\x94\\x94\\xe2\\x94\\x80\\xe2\\x94\\x80 177,796/396,591\\t(44.831%) peaks processed\\r  \\xe2\\x94\\x94\\xe2\\x94\\x80\\xe2\\x94\\x80 180,375/396,591\\t(45.481%) peaks processed\\r  \\xe2\\x94\\x94\\xe2\\x94\\x80\\xe2\\x94\\x80 180,687/396,591\\t(45.560%) peaks processed\\r  \\xe2\\x94\\x94\\xe2\\x94\\x80\\xe2\\x94\\x80 182,573/396,591\\t(46.036%) peaks processed\\r  \\xe2\\x94\\x94\\xe2\\x94\\x80\\xe2\\x94\\x80 183,321/396,591\\t(46.224%) peaks processed\\r  \\xe2\\x94\\x94\\xe2\\x94\\x80\\xe2\\x94\\x80 191,233/396,591\\t(48.219%) peaks processed\\r  \\xe2\\x94\\x94\\xe2\\x94\\x80\\xe2\\x94\\x80 194,139/396,591\\t(48.952%) peaks processed\\r  \\xe2\\x94\\x94\\xe2\\x94\\x80\\xe2\\x94\\x80 194,993/396,591\\t(49.167%) peaks processed\\r  \\xe2\\x94\\x94\\xe2\\x94\\x80\\xe2\\x94\\x80 202,418/396,591\\t(51.039%) peaks processed\\r  \\xe2\\x94\\x94\\xe2\\x94\\x80\\xe2\\x94\\x80 203,145/396,591\\t(51.223%) peaks processed\\r  \\xe2\\x94\\x94\\xe2\\x94\\x80\\xe2\\x94\\x80 204,193/396,591\\t(51.487%) peaks processed\\r  \\xe2\\x94\\x94\\xe2\\x94\\x80\\xe2\\x94\\x80 204,662/396,591\\t(51.605%) peaks processed\\r  \\xe2\\x94\\x94\\xe2\\x94\\x80\\xe2\\x94\\x80 204,886/396,591\\t(51.662%) peaks processed\\r  \\xe2\\x94\\x94\\xe2\\x94\\x80\\xe2\\x94\\x80 206,150/396,591\\t(51.981%) peaks processed\\r  \\xe2\\x94\\x94\\xe2\\x94\\x80\\xe2\\x94\\x80 209,819/396,591\\t(52.906%) peaks processed\\r  \\xe2\\x94\\x94\\xe2\\x94\\x80\\xe2\\x94\\x80 209,864/396,591\\t(52.917%) peaks processed\\r  \\xe2\\x94\\x94\\xe2\\x94\\x80\\xe2\\x94\\x80 209,921/396,591\\t(52.931%) peaks processed\\r  \\xe2\\x94\\x94\\xe2\\x94\\x80\\xe2\\x94\\x80 210,110/396,591\\t(52.979%) peaks processed\\r  \\xe2\\x94\\x94\\xe2\\x94\\x80\\xe2\\x94\\x80 212,404/396,591\\t(53.557%) peaks processed\\r  \\xe2\\x94\\x94\\xe2\\x94\\x80\\xe2\\x94\\x80 212,701/396,591\\t(53.632%) peaks processed\\r  \\xe2\\x94\\x94\\xe2\\x94\\x80\\xe2\\x94\\x80 212,736/396,591\\t(53.641%) peaks processed\\r  \\xe2\\x94\\x94\\xe2\\x94\\x80\\xe2\\x94\\x80 213,898/396,591\\t(53.934%) peaks processed\\r  \\xe2\\x94\\x94\\xe2\\x94\\x80\\xe2\\x94\\x80 214,475/396,591\\t(54.080%) peaks processed\\r  \\xe2\\x94\\x94\\xe2\\x94\\x80\\xe2\\x94\\x80 216,942/396,591\\t(54.702%) peaks processed\\r  \\xe2\\x94\\x94\\xe2\\x94\\x80\\xe2\\x94\\x80 217,121/396,591\\t(54.747%) peaks processed\\r  \\xe2\\x94\\x94\\xe2\\x94\\x80\\xe2\\x94\\x80 217,127/396,591\\t(54.748%) peaks processed\\r  \\xe2\\x94\\x94\\xe2\\x94\\x80\\xe2\\x94\\x80 217,183/396,591\\t(54.762%) peaks processed\\r  \\xe2\\x94\\x94\\xe2\\x94\\x80\\xe2\\x94\\x80 223,137/396,591\\t(56.264%) peaks processed\\r  \\xe2\\x94\\x94\\xe2\\x94\\x80\\xe2\\x94\\x80 223,193/396,591\\t(56.278%) peaks processed\\r  \\xe2\\x94\\x94\\xe2\\x94\\x80\\xe2\\x94\\x80 223,323/396,591\\t(56.311%) peaks processed\\r  \\xe2\\x94\\x94\\xe2\\x94\\x80\\xe2\\x94\\x80 223,325/396,591\\t(56.311%) peaks processed\\r  \\xe2\\x94\\x94\\xe2\\x94\\x80\\xe2\\x94\\x80 223,328/396,591\\t(56.312%) peaks processed\\r  \\xe2\\x94\\x94\\xe2\\x94\\x80\\xe2\\x94\\x80 225,260/396,591\\t(56.799%) peaks processed\\r  \\xe2\\x94\\x94\\xe2\\x94\\x80\\xe2\\x94\\x80 259,086/396,591\\t(65.328%) peaks processed\\r  \\xe2\\x94\\x94\\xe2\\x94\\x80\\xe2\\x94\\x80 276,052/396,591\\t(69.606%) peaks processed\\r  \\xe2\\x94\\x94\\xe2\\x94\\x80\\xe2\\x94\\x80 297,113/396,591\\t(74.917%) peaks processed\\r  \\xe2\\x94\\x94\\xe2\\x94\\x80\\xe2\\x94\\x80 302,176/396,591\\t(76.193%) peaks processed\\r  \\xe2\\x94\\x94\\xe2\\x94\\x80\\xe2\\x94\\x80 303,742/396,591\\t(76.588%) peaks processed\\r  \\xe2\\x94\\x94\\xe2\\x94\\x80\\xe2\\x94\\x80 311,135/396,591\\t(78.452%) peaks processed\\r  \\xe2\\x94\\x94\\xe2\\x94\\x80\\xe2\\x94\\x80 311,535/396,591\\t(78.553%) peaks processed\\r  \\xe2\\x94\\x94\\xe2\\x94\\x80\\xe2\\x94\\x80 322,548/396,591\\t(81.330%) peaks processed\\r  \\xe2\\x94\\x94\\xe2\\x94\\x80\\xe2\\x94\\x80 323,553/396,591\\t(81.584%) peaks processed\\r  \\xe2\\x94\\x94\\xe2\\x94\\x80\\xe2\\x94\\x80 338,300/396,591\\t(85.302%) peaks processed\\r  \\xe2\\x94\\x94\\xe2\\x94\\x80\\xe2\\x94\\x80 355,294/396,591\\t(89.587%) peaks processed\\r  \\xe2\\x94\\x94\\xe2\\x94\\x80\\xe2\\x94\\x80 356,999/396,591\\t(90.017%) peaks processed\\r  \\xe2\\x94\\x94\\xe2\\x94\\x80\\xe2\\x94\\x80 357,870/396,591\\t(90.237%) peaks processed\\r  \\xe2\\x94\\x94\\xe2\\x94\\x80\\xe2\\x94\\x80 358,532/396,591\\t(90.403%) peaks processed\\r  \\xe2\\x94\\x94\\xe2\\x94\\x80\\xe2\\x94\\x80 359,378/396,591\\t(90.617%) peaks processed\\r  \\xe2\\x94\\x94\\xe2\\x94\\x80\\xe2\\x94\\x80 361,397/396,591\\t(91.126%) peaks processed\\r  \\xe2\\x94\\x94\\xe2\\x94\\x80\\xe2\\x94\\x80 375,854/396,591\\t(94.771%) peaks processed\\r  \\xe2\\x94\\x94\\xe2\\x94\\x80\\xe2\\x94\\x80 381,097/396,591\\t(96.093%) peaks processed\\r  \\xe2\\x94\\x94\\xe2\\x94\\x80\\xe2\\x94\\x80 383,620/396,591\\t(96.729%) peaks processed\\r  \\xe2\\x94\\x94\\xe2\\x94\\x80\\xe2\\x94\\x80 385,185/396,591\\t(97.124%) peaks processed\\r  \\xe2\\x94\\x94\\xe2\\x94\\x80\\xe2\\x94\\x80 386,918/396,591\\t(97.561%) peaks processed\\r  \\xe2\\x94\\x94\\xe2\\x94\\x80\\xe2\\x94\\x80 394,226/396,591\\t(99.404%) peaks processed\\r  \\xe2\\x94\\x94\\xe2\\x94\\x80\\xe2\\x94\\x80 396,591/396,591\\t(100.000%) peaks processed\\n'\n"
     ]
    },
    {
     "name": "stdout",
     "output_type": "stream",
     "text": [
      "output: \n",
      "b'[3/4] Performing Multiple testing correction\\n'\n",
      "output: \n",
      "b'[4/4] Creating consensus peaks set\\n'\n",
      "output: \n",
      "b'\\n'\n",
      "output: \n",
      "b'.::.........Saving Results.........::.\\n'\n",
      "output: \n",
      "b'\\n'\n",
      "output: \n",
      "b'\\n'\n",
      "output: \n",
      "b'.::.......Summary Statistics.......::.\\n'\n",
      "output: \n",
      "b'\\n'\n",
      "output: \n",
      "b'   #\\t            Filename\\tRead peaks#\\tBackground\\t    Weak\\tStringent\\tConfirmed\\tDiscarded\\tTruePositive\\tFalsePositive\\t\\n'\n",
      "output: \n",
      "b'----\\t--------------------\\t-----------\\t----------\\t--------\\t---------\\t---------\\t---------\\t------------\\t-------------\\t\\n'\n",
      "output: \n",
      "b' 1/3\\t...6NGS_narrow_peaks\\t    163,841\\t    0.000%\\t  0.000%\\t 100.000%\\t 100.000%\\t   0.000%\\t    100.000%\\t       0.000%\\t\\n'\n",
      "output: \n",
      "b' 2/3\\t...6GNU_narrow_peaks\\t     53,101\\t    0.000%\\t  0.000%\\t 100.000%\\t 100.000%\\t   0.000%\\t    100.000%\\t       0.000%\\t\\n'\n",
      "output: \n",
      "b' 3/3\\t...9VQN_narrow_peaks\\t    179,649\\t    0.000%\\t  0.000%\\t  99.999%\\t  99.999%\\t   0.000%\\t     99.999%\\t       0.000%\\t\\n'\n",
      "output: \n",
      "b'\\n'\n",
      "output: \n",
      "b'.::.....Consensus Peaks Count......::.\\n'\n",
      "output: \n",
      "b'\\n'\n",
      "output: \n",
      "b'198,835\\n'\n",
      "output: \n",
      "b'\\n'\n",
      "output: \n",
      "b'All processes successfully finished\\n'\n",
      "output: \n",
      "b'\\n'\n"
     ]
    }
   ],
   "source": [
    "callWithNiceOutput(commands[0])"
   ]
  },
  {
   "cell_type": "code",
   "execution_count": 19,
   "metadata": {},
   "outputs": [],
   "source": [
    "def callWithNiceOutput(cmd):\n",
    "    proc = Popen(cmd, stdout=PIPE, stderr=PIPE, shell=True, bufsize=-1)\n",
    "    \n",
    "    for line in proc.stdout:\n",
    "        print(\"output: \")\n",
    "        print(line)\n",
    "        sys.stdout.flush()\n",
    "    \n",
    "    for line in proc.stderr:\n",
    "        print(\"error: \")\n",
    "        print(line)\n",
    "        sys.stdout.flush()"
   ]
  },
  {
   "cell_type": "code",
   "execution_count": 23,
   "metadata": {},
   "outputs": [
    {
     "data": {
      "text/plain": [
       "'dotnet ~/mspc/CLI.dll -i /data/mazurovev/H3K27ac/UBERON:0001515/ENCFF946NGS_narrow_peaks.bed -i /data/mazurovev/H3K27ac/UBERON:0001515/ENCFF816GNU_narrow_peaks.bed -i /data/mazurovev/H3K27ac/UBERON:0001515/ENCFF499VQN_narrow_peaks.bed -r bio -s 1E-8 -w 1E-4'"
      ]
     },
     "execution_count": 23,
     "metadata": {},
     "output_type": "execute_result"
    }
   ],
   "source": [
    "commands[0]"
   ]
  },
  {
   "cell_type": "code",
   "execution_count": 25,
   "metadata": {},
   "outputs": [],
   "source": [
    "p = pd.read_csv(\"/data/mazurovev/H3K27ac/UBERON:0001515/ENCFF946NGS_narrow_peaks.bed\", sep=\"\\t\", header=None, skiprows=1)"
   ]
  },
  {
   "cell_type": "code",
   "execution_count": 29,
   "metadata": {},
   "outputs": [
    {
     "data": {
      "text/html": [
       "<div>\n",
       "<style scoped>\n",
       "    .dataframe tbody tr th:only-of-type {\n",
       "        vertical-align: middle;\n",
       "    }\n",
       "\n",
       "    .dataframe tbody tr th {\n",
       "        vertical-align: top;\n",
       "    }\n",
       "\n",
       "    .dataframe thead th {\n",
       "        text-align: right;\n",
       "    }\n",
       "</style>\n",
       "<table border=\"1\" class=\"dataframe\">\n",
       "  <thead>\n",
       "    <tr style=\"text-align: right;\">\n",
       "      <th></th>\n",
       "      <th>0</th>\n",
       "      <th>1</th>\n",
       "      <th>2</th>\n",
       "      <th>3</th>\n",
       "      <th>4</th>\n",
       "      <th>5</th>\n",
       "      <th>6</th>\n",
       "      <th>7</th>\n",
       "      <th>8</th>\n",
       "      <th>9</th>\n",
       "    </tr>\n",
       "  </thead>\n",
       "  <tbody>\n",
       "    <tr>\n",
       "      <th>0</th>\n",
       "      <td>chr1</td>\n",
       "      <td>778302</td>\n",
       "      <td>779417</td>\n",
       "      <td>/data/mazurovev/H3K27ac/UBERON:0001515/ENCFF94...</td>\n",
       "      <td>448</td>\n",
       "      <td>.</td>\n",
       "      <td>0.0</td>\n",
       "      <td>0.0</td>\n",
       "      <td>0.0</td>\n",
       "      <td>212</td>\n",
       "    </tr>\n",
       "    <tr>\n",
       "      <th>1</th>\n",
       "      <td>chr1</td>\n",
       "      <td>816119</td>\n",
       "      <td>816432</td>\n",
       "      <td>/data/mazurovev/H3K27ac/UBERON:0001515/ENCFF94...</td>\n",
       "      <td>57</td>\n",
       "      <td>.</td>\n",
       "      <td>0.0</td>\n",
       "      <td>0.0</td>\n",
       "      <td>0.0</td>\n",
       "      <td>204</td>\n",
       "    </tr>\n",
       "    <tr>\n",
       "      <th>2</th>\n",
       "      <td>chr1</td>\n",
       "      <td>816859</td>\n",
       "      <td>817582</td>\n",
       "      <td>/data/mazurovev/H3K27ac/UBERON:0001515/ENCFF94...</td>\n",
       "      <td>393</td>\n",
       "      <td>.</td>\n",
       "      <td>0.0</td>\n",
       "      <td>0.0</td>\n",
       "      <td>0.0</td>\n",
       "      <td>356</td>\n",
       "    </tr>\n",
       "    <tr>\n",
       "      <th>3</th>\n",
       "      <td>chr1</td>\n",
       "      <td>817752</td>\n",
       "      <td>819506</td>\n",
       "      <td>/data/mazurovev/H3K27ac/UBERON:0001515/ENCFF94...</td>\n",
       "      <td>434</td>\n",
       "      <td>.</td>\n",
       "      <td>0.0</td>\n",
       "      <td>0.0</td>\n",
       "      <td>0.0</td>\n",
       "      <td>419</td>\n",
       "    </tr>\n",
       "    <tr>\n",
       "      <th>4</th>\n",
       "      <td>chr1</td>\n",
       "      <td>819813</td>\n",
       "      <td>820340</td>\n",
       "      <td>/data/mazurovev/H3K27ac/UBERON:0001515/ENCFF94...</td>\n",
       "      <td>142</td>\n",
       "      <td>.</td>\n",
       "      <td>0.0</td>\n",
       "      <td>0.0</td>\n",
       "      <td>0.0</td>\n",
       "      <td>264</td>\n",
       "    </tr>\n",
       "  </tbody>\n",
       "</table>\n",
       "</div>"
      ],
      "text/plain": [
       "      0       1       2                                                  3  \\\n",
       "0  chr1  778302  779417  /data/mazurovev/H3K27ac/UBERON:0001515/ENCFF94...   \n",
       "1  chr1  816119  816432  /data/mazurovev/H3K27ac/UBERON:0001515/ENCFF94...   \n",
       "2  chr1  816859  817582  /data/mazurovev/H3K27ac/UBERON:0001515/ENCFF94...   \n",
       "3  chr1  817752  819506  /data/mazurovev/H3K27ac/UBERON:0001515/ENCFF94...   \n",
       "4  chr1  819813  820340  /data/mazurovev/H3K27ac/UBERON:0001515/ENCFF94...   \n",
       "\n",
       "     4  5    6    7    8    9  \n",
       "0  448  .  0.0  0.0  0.0  212  \n",
       "1   57  .  0.0  0.0  0.0  204  \n",
       "2  393  .  0.0  0.0  0.0  356  \n",
       "3  434  .  0.0  0.0  0.0  419  \n",
       "4  142  .  0.0  0.0  0.0  264  "
      ]
     },
     "execution_count": 29,
     "metadata": {},
     "output_type": "execute_result"
    }
   ],
   "source": [
    "p.head()"
   ]
  },
  {
   "cell_type": "code",
   "execution_count": 31,
   "metadata": {},
   "outputs": [
    {
     "data": {
      "text/plain": [
       "0.0    163841\n",
       "Name: 7, dtype: int64"
      ]
     },
     "execution_count": 31,
     "metadata": {},
     "output_type": "execute_result"
    }
   ],
   "source": [
    "p[7].value_counts()"
   ]
  },
  {
   "cell_type": "code",
   "execution_count": null,
   "metadata": {},
   "outputs": [],
   "source": []
  }
 ],
 "metadata": {
  "kernelspec": {
   "display_name": "Python 3",
   "language": "python",
   "name": "python3"
  },
  "language_info": {
   "codemirror_mode": {
    "name": "ipython",
    "version": 3
   },
   "file_extension": ".py",
   "mimetype": "text/x-python",
   "name": "python",
   "nbconvert_exporter": "python",
   "pygments_lexer": "ipython3",
   "version": "3.6.8"
  }
 },
 "nbformat": 4,
 "nbformat_minor": 2
}
