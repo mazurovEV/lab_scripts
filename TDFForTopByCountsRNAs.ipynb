{
 "cells": [
  {
   "cell_type": "code",
   "execution_count": 1,
   "metadata": {},
   "outputs": [],
   "source": [
    "import pickle\n",
    "import pandas as pd\n",
    "from pybedtools import BedTool\n",
    "import matplotlib.pyplot as plt\n",
    "import seaborn as sb\n",
    "from collections import defaultdict\n",
    "import gffutils\n",
    "from BCBio import GFF\n",
    "import subprocess\n",
    "import os\n",
    "from multiprocessing import Pool"
   ]
  },
  {
   "cell_type": "code",
   "execution_count": 6,
   "metadata": {},
   "outputs": [],
   "source": [
    "with open(\"../H3K27me3/lncRNA_New_Peaks_Correlations_norm.pickle\", 'rb') as f:\n",
    "    corr = pickle.load(f)"
   ]
  },
  {
   "cell_type": "code",
   "execution_count": 10,
   "metadata": {},
   "outputs": [],
   "source": [
    "corr_no_zero = [i for i in corr if len(i) != 0]\n",
    "corr_no_zero = [item for sublist in corr_no_zero for item in sublist]"
   ]
  },
  {
   "cell_type": "code",
   "execution_count": 2,
   "metadata": {},
   "outputs": [],
   "source": [
    "peaks = pd.read_csv(\"../H3K27me3/new_peaks/merged_peaks_around_genes.bed\", sep=\"\\t\", header=None)"
   ]
  },
  {
   "cell_type": "code",
   "execution_count": 4,
   "metadata": {},
   "outputs": [],
   "source": [
    "peaks_gene = pd.read_csv(\"../H3K27me3/new_peaks/lncRNA_peaks_gene_association.tsv\", sep=\"\\t\")"
   ]
  },
  {
   "cell_type": "code",
   "execution_count": 5,
   "metadata": {},
   "outputs": [
    {
     "data": {
      "text/html": [
       "<div>\n",
       "<style scoped>\n",
       "    .dataframe tbody tr th:only-of-type {\n",
       "        vertical-align: middle;\n",
       "    }\n",
       "\n",
       "    .dataframe tbody tr th {\n",
       "        vertical-align: top;\n",
       "    }\n",
       "\n",
       "    .dataframe thead th {\n",
       "        text-align: right;\n",
       "    }\n",
       "</style>\n",
       "<table border=\"1\" class=\"dataframe\">\n",
       "  <thead>\n",
       "    <tr style=\"text-align: right;\">\n",
       "      <th></th>\n",
       "      <th>lncRNA</th>\n",
       "      <th>peak</th>\n",
       "      <th>gene</th>\n",
       "    </tr>\n",
       "  </thead>\n",
       "  <tbody>\n",
       "    <tr>\n",
       "      <th>0</th>\n",
       "      <td>ENSG00000093100</td>\n",
       "      <td>X005284</td>\n",
       "      <td>ENSG00000117395</td>\n",
       "    </tr>\n",
       "    <tr>\n",
       "      <th>1</th>\n",
       "      <td>ENSG00000093100</td>\n",
       "      <td>X005284</td>\n",
       "      <td>ENSG00000243710</td>\n",
       "    </tr>\n",
       "    <tr>\n",
       "      <th>2</th>\n",
       "      <td>ENSG00000093100</td>\n",
       "      <td>X005408</td>\n",
       "      <td>ENSG00000230615</td>\n",
       "    </tr>\n",
       "    <tr>\n",
       "      <th>3</th>\n",
       "      <td>ENSG00000093100</td>\n",
       "      <td>X006402</td>\n",
       "      <td>ENSG00000203356</td>\n",
       "    </tr>\n",
       "    <tr>\n",
       "      <th>4</th>\n",
       "      <td>ENSG00000093100</td>\n",
       "      <td>X021525</td>\n",
       "      <td>ENSG00000273384</td>\n",
       "    </tr>\n",
       "  </tbody>\n",
       "</table>\n",
       "</div>"
      ],
      "text/plain": [
       "            lncRNA     peak             gene\n",
       "0  ENSG00000093100  X005284  ENSG00000117395\n",
       "1  ENSG00000093100  X005284  ENSG00000243710\n",
       "2  ENSG00000093100  X005408  ENSG00000230615\n",
       "3  ENSG00000093100  X006402  ENSG00000203356\n",
       "4  ENSG00000093100  X021525  ENSG00000273384"
      ]
     },
     "execution_count": 5,
     "metadata": {},
     "output_type": "execute_result"
    }
   ],
   "source": [
    "peaks_gene.head()"
   ]
  },
  {
   "cell_type": "code",
   "execution_count": 3,
   "metadata": {},
   "outputs": [
    {
     "data": {
      "text/html": [
       "<div>\n",
       "<style scoped>\n",
       "    .dataframe tbody tr th:only-of-type {\n",
       "        vertical-align: middle;\n",
       "    }\n",
       "\n",
       "    .dataframe tbody tr th {\n",
       "        vertical-align: top;\n",
       "    }\n",
       "\n",
       "    .dataframe thead th {\n",
       "        text-align: right;\n",
       "    }\n",
       "</style>\n",
       "<table border=\"1\" class=\"dataframe\">\n",
       "  <thead>\n",
       "    <tr style=\"text-align: right;\">\n",
       "      <th></th>\n",
       "      <th>0</th>\n",
       "      <th>1</th>\n",
       "      <th>2</th>\n",
       "      <th>3</th>\n",
       "    </tr>\n",
       "  </thead>\n",
       "  <tbody>\n",
       "    <tr>\n",
       "      <th>0</th>\n",
       "      <td>chr1</td>\n",
       "      <td>54316</td>\n",
       "      <td>55724</td>\n",
       "      <td>X000001</td>\n",
       "    </tr>\n",
       "    <tr>\n",
       "      <th>1</th>\n",
       "      <td>chr1</td>\n",
       "      <td>61835</td>\n",
       "      <td>62068</td>\n",
       "      <td>X000004</td>\n",
       "    </tr>\n",
       "    <tr>\n",
       "      <th>2</th>\n",
       "      <td>chr1</td>\n",
       "      <td>64456</td>\n",
       "      <td>64692</td>\n",
       "      <td>X000005</td>\n",
       "    </tr>\n",
       "    <tr>\n",
       "      <th>3</th>\n",
       "      <td>chr1</td>\n",
       "      <td>87039</td>\n",
       "      <td>88835</td>\n",
       "      <td>X000007</td>\n",
       "    </tr>\n",
       "    <tr>\n",
       "      <th>4</th>\n",
       "      <td>chr1</td>\n",
       "      <td>89695</td>\n",
       "      <td>90136</td>\n",
       "      <td>X000008</td>\n",
       "    </tr>\n",
       "  </tbody>\n",
       "</table>\n",
       "</div>"
      ],
      "text/plain": [
       "      0      1      2        3\n",
       "0  chr1  54316  55724  X000001\n",
       "1  chr1  61835  62068  X000004\n",
       "2  chr1  64456  64692  X000005\n",
       "3  chr1  87039  88835  X000007\n",
       "4  chr1  89695  90136  X000008"
      ]
     },
     "execution_count": 3,
     "metadata": {},
     "output_type": "execute_result"
    }
   ],
   "source": [
    "peaks.head()"
   ]
  },
  {
   "cell_type": "code",
   "execution_count": 21,
   "metadata": {},
   "outputs": [],
   "source": [
    "rnas = set([g for g, p, c in corr])"
   ]
  },
  {
   "cell_type": "code",
   "execution_count": 12,
   "metadata": {},
   "outputs": [],
   "source": [
    "gene_key_corrs = defaultdict(list)\n",
    "for g, p, c in corr_no_zero:\n",
    "    gene_key_corrs[g].append((p, c))"
   ]
  },
  {
   "cell_type": "code",
   "execution_count": 23,
   "metadata": {},
   "outputs": [],
   "source": [
    "corrs_with_sign = []\n",
    "for rna in rnas:\n",
    "    corrs = gene_key_corrs[rna]\n",
    "    plus_corrs = len([(p, c) for p, c in corrs if c[0] > 0])\n",
    "    minus_corrs = len([(p, c) for p, c in corrs if c[0] < 0])\n",
    "    corrs_with_sign.append((rna, plus_corrs, minus_corrs))"
   ]
  },
  {
   "cell_type": "code",
   "execution_count": 24,
   "metadata": {},
   "outputs": [],
   "source": [
    "corrs_with_sign_sorted_plus = sorted(corrs_with_sign, key=lambda x: x[1], reverse=True)\n",
    "corrs_with_sign_sorted_minus = sorted(corrs_with_sign, key=lambda x: x[2], reverse=True)"
   ]
  },
  {
   "cell_type": "code",
   "execution_count": null,
   "metadata": {},
   "outputs": [],
   "source": []
  },
  {
   "cell_type": "code",
   "execution_count": 25,
   "metadata": {},
   "outputs": [],
   "source": [
    "corrs = list(set(corrs_with_sign_sorted_plus[0:20]).union(set(corrs_with_sign_sorted_minus[0:20])))"
   ]
  },
  {
   "cell_type": "code",
   "execution_count": null,
   "metadata": {},
   "outputs": [],
   "source": [
    "def runTDF(corr):\n",
    "    g = corr[0]\n",
    "    cmd = \"rgt-TDF promotertest -rm 2 -r ../H3K27me3/tdf_lncRNA_gene_sequences/\" + g + \"_gene_lncRNA.fa -rn \" + g + \" -bed ../H3K27me3/peaks_for_tdf/plus_\" + g + \"_peaks.bed -bg ../H3K27me3/peaks_for_tdf/ne_\" + g + \"_peaks.bed -o ../H3K27me3/promoter_test/ -organism hg19 -l 12 -ccf 20\"\n",
    "    print(cmd)\n",
    "    return subprocess.check_output(cmd, shell=True) "
   ]
  },
  {
   "cell_type": "code",
   "execution_count": 16,
   "metadata": {},
   "outputs": [],
   "source": [
    "not_done = [\"ENSG00000197291.4\", \"ENSG00000251209.3\"]"
   ]
  },
  {
   "cell_type": "code",
   "execution_count": 3,
   "metadata": {},
   "outputs": [],
   "source": [
    "def getConvertIds():\n",
    "    lncRNAMatrix = pd.read_csv(\"../H3K27me3/lncRNA_matrix_filtered.csv\", sep=\"\\t\", index_col=0)\n",
    "\n",
    "    #hg19 айдишники\n",
    "    lncRNAGenes = list(lncRNAMatrix.index)\n",
    "\n",
    "    in_file = \"../H3K27me3/gencode.v29lift37.long_noncoding_RNAs.gff3\"\n",
    "    in_handle = open(in_file)\n",
    "\n",
    "    limit_info = dict(\n",
    "        gff_id = ['chr1', 'chr10', 'chr11', 'chr12', 'chr13', 'chr14', 'chr15', 'chr16', 'chr17', 'chr18', \n",
    "     'chr19', 'chr2', 'chr20', 'chr21', 'chr22', 'chr3', 'chr4', 'chr5', 'chr6', 'chr7', 'chr8', 'chr9'],\n",
    "        gff_type = [\"gene\"])\n",
    "\n",
    "    lncRNAgenes = []\n",
    "    for rec in GFF.parse(in_handle, limit_info=limit_info):\n",
    "        lncRNAgenes.append((rec.id, rec.features)) \n",
    "\n",
    "    in_handle.close()\n",
    "\n",
    "    tmp = [k.split('.')[0] for k in lncRNAGenes]\n",
    "\n",
    "    #38 айдишники\n",
    "    lncRNAgenesIds = [g.id for i, j in lncRNAgenes for g in j if g.id.split('.')[0] in tmp]\n",
    "\n",
    "    lncRNAgenesIds.sort(key = lambda x: x.split('.')[0])\n",
    "    lncRNAGenes.sort(key = lambda x: x.split('.')[0])\n",
    "\n",
    "    #в gff лежат названия айдишников для версии ghr38, а в данных hg19\n",
    "    convertIds = {i:j for i, j in zip(lncRNAGenes, lncRNAgenesIds)} \n",
    "    \n",
    "    return convertIds"
   ]
  },
  {
   "cell_type": "code",
   "execution_count": 79,
   "metadata": {},
   "outputs": [],
   "source": [
    "def generateFilesForTDF(corrs):\n",
    "    db = gffutils.FeatureDB('../H3K27me3/long_noncoding_RNAs.db', keep_order=True)\n",
    "    convertIds = getConvertIds()\n",
    "    \n",
    "    for g, p, m in corrs:\n",
    "        print(\"lncRNA: \" + g)\n",
    "        corrs = gene_key_corrs[g]\n",
    "        plus_corrs = [p for p, c in corrs if c[0] > 0]\n",
    "        minus_corrs = [p for p, c in corrs if c[0] < 0]\n",
    "\n",
    "        #Сделать TDF положительные против отрицательных\n",
    "        gene_plus_peaks = peaks[peaks[3].isin(plus_corrs)]\n",
    "        gene_plus_peaks.to_csv(\"../H3K27me3/peaks_for_tdf/plus_\" + g + \"_peaks.bed\", sep=\"\\t\", index=False, header=None)\n",
    "\n",
    "        gene_minus_peaks = peaks[peaks[3].isin(plus_corrs)]\n",
    "        gene_minus_peaks.to_csv(\"../H3K27me3/peaks_for_tdf/minus_\" + g + \"_peaks.bed\", sep=\"\\t\", index=False, header=None)\n",
    "\n",
    "        ne_gene_peaks = peaks[~peaks[3].isin([p for p, c in corrs])]\n",
    "        ne_gene_peaks.to_csv(\"../H3K27me3/peaks_for_tdf/ne_\" + g + \"_peaks.bed\", sep=\"\\t\", index=False, header=None)\n",
    "\n",
    "        #Делаем геномную(!) последовательность нужной lncRNA\n",
    "        gene = db[convertIds[g]]\n",
    "        with open(\"../H3K27me3/tdf_lncRNA_gene_sequences/\" + g + \".gff3\", \"a\") as myfile:\n",
    "            myfile.write(str(gene) + \"\\n\")\n",
    "            for i in db.children(gene, featuretype='exon', order_by='start'):\n",
    "                myfile.write(str(i) + \"\\n\")\n",
    "\n",
    "        cmd = 'gffread ../H3K27me3/tdf_lncRNA_gene_sequences/' + g + '.gff3 -g ../hg19/allChr.fa -w ../H3K27me3/tdf_lncRNA_gene_sequences/' + g + '_gene_lncRNA.fa' \n",
    "        print(cmd + \"\\n\")\n",
    "        p = subprocess.Popen(cmd, shell=True, stdout=subprocess.PIPE)\n",
    "        p.wait()\n",
    "        print(p.returncode)"
   ]
  },
  {
   "cell_type": "code",
   "execution_count": 5,
   "metadata": {},
   "outputs": [
    {
     "name": "stdout",
     "output_type": "stream",
     "text": [
      "old: ENSG00000230074.1, new: chr9\tHAVANA\tgene\t34665662\t34681295\t.\t+\t.\tID=ENSG00000230074.1;gene_id=ENSG00000230074.1_5;gene_type=antisense;gene_name=AL162231.2;level=2;havana_gene=OTTHUMG00000000451.1_5;remap_status=full_contig;remap_num_mappings=1;remap_target_status=overlap\n",
      "gffread ../H3K27me3/tdf_lncRNA_gene_sequences/ENSG00000230074.1.gff3 -g ../hg19/allChr.fa -w ../H3K27me3/tdf_lncRNA_gene_sequences/ENSG00000230074.1_gene_lncRNA.fa\n",
      "\n",
      "0\n",
      "old: ENSG00000268895.1, new: chr19\tHAVANA\tgene\t58859117\t58866549\t.\t+\t.\tID=ENSG00000268895.5;gene_id=ENSG00000268895.5_5;gene_type=antisense;gene_name=A1BG-AS1;level=2;tag=overlapping_locus;havana_gene=OTTHUMG00000183508.1_5;remap_status=full_contig;remap_num_mappings=1;remap_target_status=overlap\n",
      "gffread ../H3K27me3/tdf_lncRNA_gene_sequences/ENSG00000268895.1.gff3 -g ../hg19/allChr.fa -w ../H3K27me3/tdf_lncRNA_gene_sequences/ENSG00000268895.1_gene_lncRNA.fa\n",
      "\n",
      "0\n",
      "old: ENSG00000229852.2, new: chr6\tHAVANA\tgene\t73972938\t74011124\t.\t+\t.\tID=ENSG00000229852.2;gene_id=ENSG00000229852.2_6;gene_type=antisense;gene_name=AC019205.1;level=2;tag=overlapping_locus;havana_gene=OTTHUMG00000047278.4_6;remap_status=full_contig;remap_num_mappings=1;remap_target_status=overlap\n",
      "gffread ../H3K27me3/tdf_lncRNA_gene_sequences/ENSG00000229852.2.gff3 -g ../hg19/allChr.fa -w ../H3K27me3/tdf_lncRNA_gene_sequences/ENSG00000229852.2_gene_lncRNA.fa\n",
      "\n",
      "0\n"
     ]
    }
   ],
   "source": [
    "#ячейка для фантом\n",
    "lncRNA_for_fantom = ['ENSG00000230074.1', 'ENSG00000268895.1', 'ENSG00000229852.2']\n",
    "\n",
    "db = gffutils.FeatureDB('../H3K27me3/long_noncoding_RNAs.db', keep_order=True)\n",
    "convertIds = getConvertIds()\n",
    "\n",
    "for g in lncRNA_for_fantom:\n",
    "    gene = db[convertIds[g]]\n",
    "    print(\"old: \" + g + \", new: \" + str(gene))\n",
    "    with open(\"../H3K27me3/tdf_lncRNA_gene_sequences/\" + g + \".gff3\", \"a\") as myfile:\n",
    "        myfile.write(str(gene) + \"\\n\")\n",
    "        for i in db.children(gene, featuretype='exon', order_by='start'):\n",
    "            myfile.write(str(i) + \"\\n\")\n",
    "\n",
    "    cmd = 'gffread ../H3K27me3/tdf_lncRNA_gene_sequences/' + g + '.gff3 -g ../hg19/allChr.fa -w ../H3K27me3/tdf_lncRNA_gene_sequences/' + g + '_gene_lncRNA.fa' \n",
    "    print(cmd + \"\\n\")\n",
    "    p = subprocess.Popen(cmd, shell=True, stdout=subprocess.PIPE)\n",
    "    p.wait()\n",
    "    print(p.returncode)"
   ]
  },
  {
   "cell_type": "code",
   "execution_count": 6,
   "metadata": {},
   "outputs": [],
   "source": [
    "#ячейка для фантом\n",
    "lncRNA_for_fantom = ['ENSG00000230074.1', 'ENSG00000268895.1', 'ENSG00000229852.2']\n",
    "for l in lncRNA_for_fantom:\n",
    "    p = peaks_gene[peaks_gene['lncRNA'] == l.split('.')[0]]['peak'].tolist()\n",
    "    gene_peaks = peaks[peaks[3].isin(p)]\n",
    "    gene_peaks.to_csv(\"../H3K27me3/peaks_for_tdf/plus_\" + l + \"_peaks.bed\", sep=\"\\t\", index=False, header=None)\n",
    "\n",
    "    ne_gene_peaks = peaks[~peaks[3].isin(p)]\n",
    "    ne_gene_peaks.to_csv(\"../H3K27me3/peaks_for_tdf/ne_\" + l + \"_peaks.bed\", sep=\"\\t\", index=False, header=None)"
   ]
  },
  {
   "cell_type": "code",
   "execution_count": null,
   "metadata": {},
   "outputs": [],
   "source": [
    "def generate():\n",
    "    generateFilesForTDF(corrs_with_sign_sorted_plus[0:20])\n",
    "    generateFilesForTDF(list(set(corrs_with_sign_sorted_minus[0:20]) - set(corrs_with_sign_sorted_plus[0:20])))"
   ]
  },
  {
   "cell_type": "code",
   "execution_count": null,
   "metadata": {},
   "outputs": [],
   "source": [
    "pool = Pool(processes=1)\n",
    "r = pool.map(runTDF, not_done)\n",
    "\n",
    "pool.close()\n",
    "pool.join()"
   ]
  }
 ],
 "metadata": {
  "kernelspec": {
   "display_name": "Python 3",
   "language": "python",
   "name": "python3"
  },
  "language_info": {
   "codemirror_mode": {
    "name": "ipython",
    "version": 3
   },
   "file_extension": ".py",
   "mimetype": "text/x-python",
   "name": "python",
   "nbconvert_exporter": "python",
   "pygments_lexer": "ipython3",
   "version": "3.6.8"
  }
 },
 "nbformat": 4,
 "nbformat_minor": 2
}
