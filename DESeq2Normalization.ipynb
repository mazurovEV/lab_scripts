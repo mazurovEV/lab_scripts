{
 "cells": [
  {
   "cell_type": "code",
   "execution_count": 15,
   "metadata": {},
   "outputs": [],
   "source": [
    "import rpy2.robjects as robjects\n",
    "import pandas as pd"
   ]
  },
  {
   "cell_type": "code",
   "execution_count": 16,
   "metadata": {},
   "outputs": [
    {
     "data": {
      "text/html": [
       "\n",
       "    <span>ListVector with 2 elements.</span>\n",
       "    <table>\n",
       "      <tbody>\n",
       "      \n",
       "      <tr>\n",
       "      <th>\n",
       "        value\n",
       "      </th>\n",
       "      <td>\n",
       "        function(matrix_path, ctl, exp, norm_matrix_path) {\n",
       "    #countdata <- read.table(\"~/workspace/peaks_signal_matrix.csv\", header=TRUE, row.names=1)\n",
       "    countdata <- read.table(matrix_path, header=TRUE, row.names=1)\n",
       "\n",
       "    countdata <- as.matrix(countdata)\n",
       "\n",
       "    (condition <- factor(c(rep(\"ctl\", ctl), rep(\"exp\", exp))))\n",
       "\n",
       "    (coldata <- data.frame(row.names=colnames(countdata), condition))\n",
       "\n",
       "    dds <- DESeqDataSetFromMatrix(countData=countdata, colData=coldata, design=~condition)\n",
       "    dds <- estimateSizeFactors(dds)\n",
       "\n",
       "    nz <- counts(dds, normalized = TRUE)\n",
       "    nz <- round(nz, 2)\n",
       "    #write.csv(nz, file=\"peaks_signal_matrix_normalized.csv\", sep=\"\\t\") \n",
       "    write.table(nz, file=norm_matrix_path, quote=FALSE, sep=\"\\t\") \n",
       "}\n",
       "\n",
       "      </td>\n",
       "      </tr>\n",
       "      \n",
       "      <tr>\n",
       "      <th>\n",
       "        visible\n",
       "      </th>\n",
       "      <td>\n",
       "        \n",
       "    <span>BoolVector with 1 elements.</span>\n",
       "    <table>\n",
       "      <tbody>\n",
       "      <tr>\n",
       "      \n",
       "      <td>\n",
       "               0\n",
       "      </td>\n",
       "      \n",
       "      </tr>\n",
       "      </tbody>\n",
       "    </table>\n",
       "    \n",
       "      </td>\n",
       "      </tr>\n",
       "      \n",
       "      </tbody>\n",
       "    </table>\n",
       "    "
      ],
      "text/plain": [
       "R object with classes: ('list',) mapped to:\n",
       "<ListVector - Python:0x7f92c44da308 / R:0x1f690cd8>\n",
       "[SignatureTranslatedFunc..., BoolVector]\n",
       "  value: <class 'rpy2.robjects.functions.SignatureTranslatedFunction'>\n",
       "  R object with classes: ('function',) mapped to:\n",
       "<SignatureTranslatedFunction - Python:0x7f92c44cef88 / R:0x1c20c938>\n",
       "  visible: <class 'rpy2.robjects.vectors.BoolVector'>\n",
       "  R object with classes: ('logical',) mapped to:\n",
       "<BoolVector - Python:0x7f92c44da148 / R:0x17daf18>\n",
       "[       0]"
      ]
     },
     "execution_count": 16,
     "metadata": {},
     "output_type": "execute_result"
    }
   ],
   "source": [
    "r = robjects.r\n",
    "r.source(\"DESeq2Normalization_R.r\")"
   ]
  },
  {
   "cell_type": "code",
   "execution_count": 17,
   "metadata": {},
   "outputs": [],
   "source": [
    "#TODO: а не может ли Deseq выкидывать строчки?(гены/пики)\n",
    "def normalize(target, file, ctl, exp):\n",
    "    r.normalize(\"../all_marks/\" + target + \"/\" + file + \".csv\", ctl, exp, \"../all_marks/\" + target + \"/\" + file + \"_norm.csv\")"
   ]
  },
  {
   "cell_type": "code",
   "execution_count": 10,
   "metadata": {},
   "outputs": [],
   "source": [
    "normalize(\"H3K27me3\", \"narrow_peaks_signal_matrix\", 25, 25)"
   ]
  },
  {
   "cell_type": "code",
   "execution_count": 18,
   "metadata": {},
   "outputs": [],
   "source": [
    "normalize(\"H3K27me3\", \"narrow_2_peaks_signal_matrix\", 25, 25)"
   ]
  },
  {
   "cell_type": "code",
   "execution_count": 14,
   "metadata": {},
   "outputs": [],
   "source": [
    "normalize(\"H3K27me3\", \"broad_2_peaks_signal_matrix\", 25, 25)"
   ]
  },
  {
   "cell_type": "code",
   "execution_count": null,
   "metadata": {},
   "outputs": [],
   "source": []
  },
  {
   "cell_type": "code",
   "execution_count": 14,
   "metadata": {},
   "outputs": [],
   "source": [
    "targets = [(\"H3K4me1\", \"_narrow\"), (\"H3K4me2\", \"_narrow\"), (\"H3K4me3\", \"_narrow\"), (\"H3K79me2\", \"\"), \n",
    "           (\"H3K9ac\", \"_narrow\"), (\"H3K9me3\", \"\"), (\"H4K20me1\", \"\")]"
   ]
  },
  {
   "cell_type": "code",
   "execution_count": 28,
   "metadata": {},
   "outputs": [
    {
     "name": "stdout",
     "output_type": "stream",
     "text": [
      "Normaliation for H3K4me1...\n",
      "ctl = 25, exp = 26\n",
      "Normaliation for H3K4me2...\n",
      "ctl = 9, exp = 10\n",
      "Normaliation for H3K4me3...\n",
      "ctl = 29, exp = 30\n",
      "Normaliation for H3K79me2...\n",
      "ctl = 10, exp = 10\n",
      "Normaliation for H3K9ac...\n",
      "ctl = 9, exp = 10\n",
      "Normaliation for H3K9me3...\n",
      "ctl = 25, exp = 25\n",
      "Normaliation for H4K20me1...\n",
      "ctl = 9, exp = 10\n"
     ]
    }
   ],
   "source": [
    "for target in targets:\n",
    "    print(\"Normaliation for \" + target[0] + \"...\")\n",
    "    exp_count = pd.read_csv(\"../all_marks/\" + target[0] + \"/peaks_signal_matrix.csv\", sep=\"\\t\", index_col=0).shape[1]\n",
    "    ctl = int(exp_count/2)\n",
    "    exp = exp_count - ctl\n",
    "    print(\"ctl = \" + str(ctl) + \", exp = \" + str(exp))\n",
    "    normalize(target[0], \"lncRNA_matrix_filtered\", ctl, exp)\n",
    "    normalize(target[0], \"rna_matrix\", ctl, exp)\n",
    "    normalize(target[0], \"peaks_signal_matrix\", ctl, exp)"
   ]
  },
  {
   "cell_type": "code",
   "execution_count": 4,
   "metadata": {},
   "outputs": [],
   "source": [
    "#methylation\n",
    "normalize(\"methylation\", \"rna_matrix\", 14, 13)\n",
    "normalize(\"methylation\", \"lncRNA_matrix_filtered\", 14, 13)"
   ]
  },
  {
   "cell_type": "code",
   "execution_count": null,
   "metadata": {},
   "outputs": [],
   "source": []
  }
 ],
 "metadata": {
  "kernelspec": {
   "display_name": "Python 3",
   "language": "python",
   "name": "python3"
  },
  "language_info": {
   "codemirror_mode": {
    "name": "ipython",
    "version": 3
   },
   "file_extension": ".py",
   "mimetype": "text/x-python",
   "name": "python",
   "nbconvert_exporter": "python",
   "pygments_lexer": "ipython3",
   "version": "3.6.9"
  }
 },
 "nbformat": 4,
 "nbformat_minor": 2
}
