{
 "cells": [
  {
   "cell_type": "code",
   "execution_count": 33,
   "metadata": {},
   "outputs": [],
   "source": [
    "import pandas as pd\n",
    "import h5py\n",
    "from collections import defaultdict\n",
    "import numpy as np\n",
    "import seaborn as sb"
   ]
  },
  {
   "cell_type": "code",
   "execution_count": 90,
   "metadata": {},
   "outputs": [],
   "source": [
    "anno = pd.read_csv(\"../all_marks/\" + \"H3K9me3\" + \"/peaks_anno.csv\", sep=\"\\t\")"
   ]
  },
  {
   "cell_type": "code",
   "execution_count": 91,
   "metadata": {},
   "outputs": [
    {
     "data": {
      "text/html": [
       "<div>\n",
       "<style scoped>\n",
       "    .dataframe tbody tr th:only-of-type {\n",
       "        vertical-align: middle;\n",
       "    }\n",
       "\n",
       "    .dataframe tbody tr th {\n",
       "        vertical-align: top;\n",
       "    }\n",
       "\n",
       "    .dataframe thead th {\n",
       "        text-align: right;\n",
       "    }\n",
       "</style>\n",
       "<table border=\"1\" class=\"dataframe\">\n",
       "  <thead>\n",
       "    <tr style=\"text-align: right;\">\n",
       "      <th></th>\n",
       "      <th>seqnames</th>\n",
       "      <th>start</th>\n",
       "      <th>end</th>\n",
       "      <th>width</th>\n",
       "      <th>strand</th>\n",
       "      <th>peak</th>\n",
       "      <th>feature</th>\n",
       "      <th>start_position</th>\n",
       "      <th>end_position</th>\n",
       "      <th>feature_strand</th>\n",
       "      <th>insideFeature</th>\n",
       "      <th>distancetoFeature</th>\n",
       "      <th>shortestDistance</th>\n",
       "      <th>fromOverlappingOrNearest</th>\n",
       "    </tr>\n",
       "  </thead>\n",
       "  <tbody>\n",
       "    <tr>\n",
       "      <th>0</th>\n",
       "      <td>chr1</td>\n",
       "      <td>180808</td>\n",
       "      <td>181706</td>\n",
       "      <td>899</td>\n",
       "      <td>*</td>\n",
       "      <td>peak_1</td>\n",
       "      <td>ENSG00000279928.2</td>\n",
       "      <td>182696.0</td>\n",
       "      <td>184174.0</td>\n",
       "      <td>+</td>\n",
       "      <td>upstream</td>\n",
       "      <td>-1888.0</td>\n",
       "      <td>990.0</td>\n",
       "      <td>Overlapping</td>\n",
       "    </tr>\n",
       "    <tr>\n",
       "      <th>1</th>\n",
       "      <td>chr1</td>\n",
       "      <td>629717</td>\n",
       "      <td>630164</td>\n",
       "      <td>448</td>\n",
       "      <td>*</td>\n",
       "      <td>peak_2</td>\n",
       "      <td>ENSG00000225630.1</td>\n",
       "      <td>629640.0</td>\n",
       "      <td>630683.0</td>\n",
       "      <td>+</td>\n",
       "      <td>inside</td>\n",
       "      <td>77.0</td>\n",
       "      <td>77.0</td>\n",
       "      <td>Overlapping</td>\n",
       "    </tr>\n",
       "    <tr>\n",
       "      <th>2</th>\n",
       "      <td>chr1</td>\n",
       "      <td>629717</td>\n",
       "      <td>630164</td>\n",
       "      <td>448</td>\n",
       "      <td>*</td>\n",
       "      <td>peak_2</td>\n",
       "      <td>ENSG00000225972.1</td>\n",
       "      <td>629062.0</td>\n",
       "      <td>629433.0</td>\n",
       "      <td>+</td>\n",
       "      <td>downstream</td>\n",
       "      <td>655.0</td>\n",
       "      <td>284.0</td>\n",
       "      <td>Overlapping</td>\n",
       "    </tr>\n",
       "    <tr>\n",
       "      <th>3</th>\n",
       "      <td>chr1</td>\n",
       "      <td>629717</td>\n",
       "      <td>630164</td>\n",
       "      <td>448</td>\n",
       "      <td>*</td>\n",
       "      <td>peak_2</td>\n",
       "      <td>ENSG00000230021.10</td>\n",
       "      <td>586071.0</td>\n",
       "      <td>827796.0</td>\n",
       "      <td>-</td>\n",
       "      <td>inside</td>\n",
       "      <td>198079.0</td>\n",
       "      <td>43646.0</td>\n",
       "      <td>Overlapping</td>\n",
       "    </tr>\n",
       "    <tr>\n",
       "      <th>4</th>\n",
       "      <td>chr1</td>\n",
       "      <td>629717</td>\n",
       "      <td>630164</td>\n",
       "      <td>448</td>\n",
       "      <td>*</td>\n",
       "      <td>peak_2</td>\n",
       "      <td>ENSG00000237973.1</td>\n",
       "      <td>631074.0</td>\n",
       "      <td>632616.0</td>\n",
       "      <td>+</td>\n",
       "      <td>upstream</td>\n",
       "      <td>-1357.0</td>\n",
       "      <td>910.0</td>\n",
       "      <td>Overlapping</td>\n",
       "    </tr>\n",
       "  </tbody>\n",
       "</table>\n",
       "</div>"
      ],
      "text/plain": [
       "  seqnames   start     end  width strand    peak             feature  \\\n",
       "0     chr1  180808  181706    899      *  peak_1   ENSG00000279928.2   \n",
       "1     chr1  629717  630164    448      *  peak_2   ENSG00000225630.1   \n",
       "2     chr1  629717  630164    448      *  peak_2   ENSG00000225972.1   \n",
       "3     chr1  629717  630164    448      *  peak_2  ENSG00000230021.10   \n",
       "4     chr1  629717  630164    448      *  peak_2   ENSG00000237973.1   \n",
       "\n",
       "   start_position  end_position feature_strand insideFeature  \\\n",
       "0        182696.0      184174.0              +      upstream   \n",
       "1        629640.0      630683.0              +        inside   \n",
       "2        629062.0      629433.0              +    downstream   \n",
       "3        586071.0      827796.0              -        inside   \n",
       "4        631074.0      632616.0              +      upstream   \n",
       "\n",
       "   distancetoFeature  shortestDistance fromOverlappingOrNearest  \n",
       "0            -1888.0             990.0              Overlapping  \n",
       "1               77.0              77.0              Overlapping  \n",
       "2              655.0             284.0              Overlapping  \n",
       "3           198079.0           43646.0              Overlapping  \n",
       "4            -1357.0             910.0              Overlapping  "
      ]
     },
     "execution_count": 91,
     "metadata": {},
     "output_type": "execute_result"
    }
   ],
   "source": [
    "anno.head()"
   ]
  },
  {
   "cell_type": "code",
   "execution_count": 26,
   "metadata": {},
   "outputs": [],
   "source": [
    "targets = [(\"H3K27ac\", \"_narrow\"), (\"H3K36me3\", \"\"), \n",
    "           (\"H3K4me1\", \"_narrow\"), (\"H3K4me2\", \"_narrow\"), (\"H3K4me3\", \"_narrow\"), (\"H3K79me2\", \"\"), \n",
    "           (\"H3K9ac\", \"_narrow\"), (\"H3K9me3\", \"\"), (\"H4K20me1\", \"\"), (\"H3K27me3\", \"\")]"
   ]
  },
  {
   "cell_type": "code",
   "execution_count": 81,
   "metadata": {},
   "outputs": [
    {
     "name": "stdout",
     "output_type": "stream",
     "text": [
      "H3K27ac\n",
      "(2031, 1018625)\n",
      "Xist!\n",
      "H3K36me3\n",
      "(1321, 424010)\n",
      "H3K4me1\n",
      "(1954, 1009358)\n",
      "Xist!\n",
      "H3K4me3\n",
      "(1752, 743721)\n",
      "H3K79me2\n",
      "(802, 264752)\n",
      "Xist!\n",
      "H3K9ac\n",
      "(1104, 370418)\n",
      "H3K9me3\n",
      "(1079, 353519)\n",
      "H4K20me1\n",
      "(841, 238524)\n",
      "Xist!\n",
      "H3K27me3\n",
      "(1401, 267955)\n"
     ]
    }
   ],
   "source": [
    "#JPX - H3K9me3\n",
    "#FTX - Methylation\n",
    "chrom_counts = defaultdict(dict)\n",
    "peaks_dict = defaultdict(dict)\n",
    "for t in targets:\n",
    "    print(t[0])\n",
    "    with h5py.File(\"../all_marks/\" + t[0] + \"/lncRNA_Peaks_corrs/lncRNA_Peaks_Correlations_corrected_non_zero.hdf5\", 'r') as f:\n",
    "        corr = f['corrs_matrix'][:]\n",
    "        print(corr.shape)\n",
    "        lncRNAsNames = f['lncRNAs_names'][:]\n",
    "        peaks = pd.read_csv(\"../all_marks/\" + t[0] + \"/merged_peaks_first_in_biosample.bed\", sep=\"\\t\", header=None)\n",
    "        \n",
    "        for i in range(0, corr.shape[0]):\n",
    "            row = corr[i, :]\n",
    "            lncRNA = lncRNAsNames[i]\n",
    "            if(lncRNA == 'ENSG00000229807'):\n",
    "                print('Xist!')\n",
    "            nonzero_corrs = row[np.nonzero(row)[0]]\n",
    "            nonzero_peaks = [\"peak_\" + str(i) for i in np.nonzero(row)[0]]\n",
    "            chrom_counts[lncRNA][t[0]] = peaks[peaks[3].isin(nonzero_peaks)][0].value_counts()\n",
    "            peaks_dict[lncRNA][t[0]] = list(peaks[peaks[3].isin(nonzero_peaks)][3])\n",
    "            "
   ]
  },
  {
   "cell_type": "code",
   "execution_count": 89,
   "metadata": {},
   "outputs": [
    {
     "data": {
      "text/plain": [
       "chrX                      1847\n",
       "chrY                       312\n",
       "chr1                        22\n",
       "chr4                        19\n",
       "chr7                        18\n",
       "chr5                        17\n",
       "chr6                        16\n",
       "chr3                        16\n",
       "chr11                       13\n",
       "chr13                       12\n",
       "chr2                        10\n",
       "chr8                        10\n",
       "chr10                        9\n",
       "chr12                        8\n",
       "chr15                        7\n",
       "chr18                        6\n",
       "chr14                        6\n",
       "chr9                         5\n",
       "chr16                        4\n",
       "chr20                        3\n",
       "chr22                        3\n",
       "chr17                        3\n",
       "chrY_KI270740v1_random       2\n",
       "chr19                        1\n",
       "Name: 0, dtype: int64"
      ]
     },
     "execution_count": 89,
     "metadata": {},
     "output_type": "execute_result"
    }
   ],
   "source": [
    "chrom_counts['ENSG00000225470']['H3K9me3']"
   ]
  },
  {
   "cell_type": "code",
   "execution_count": 94,
   "metadata": {},
   "outputs": [
    {
     "data": {
      "text/plain": [
       "528"
      ]
     },
     "execution_count": 94,
     "metadata": {},
     "output_type": "execute_result"
    }
   ],
   "source": [
    "a = anno[anno['peak'].isin(peaks_dict['ENSG00000225470']['H3K9me3'])]\n",
    "len(a[a['seqnames'] == 'chrX']['feature'].unique())"
   ]
  },
  {
   "cell_type": "code",
   "execution_count": 82,
   "metadata": {},
   "outputs": [],
   "source": [
    "#FTX -ENSG00000230590\n",
    "#JPX - ENSG00000225470\n",
    "#Xist - ENSG00000229807\n",
    "df = pd.DataFrame(chrom_counts['ENSG00000229807'])"
   ]
  },
  {
   "cell_type": "code",
   "execution_count": 75,
   "metadata": {},
   "outputs": [
    {
     "data": {
      "text/plain": [
       "chr1                       12.0\n",
       "chr5                       12.0\n",
       "chr12                      10.0\n",
       "chrX                       10.0\n",
       "chr11                      10.0\n",
       "chr2                        9.0\n",
       "chr7                        8.0\n",
       "chr17                       8.0\n",
       "chr8                        7.0\n",
       "chr15                       6.0\n",
       "chr10                       6.0\n",
       "chr14                       6.0\n",
       "chr16                       4.0\n",
       "chr19                       4.0\n",
       "chr20                       4.0\n",
       "chr22                       4.0\n",
       "chr3                        4.0\n",
       "chr4                        4.0\n",
       "chr6                        4.0\n",
       "chr13                       3.0\n",
       "chr18                       3.0\n",
       "chr9                        1.0\n",
       "chr21                       1.0\n",
       "chr22_KI270733v1_random     NaN\n",
       "Name: H3K27ac, dtype: float64"
      ]
     },
     "execution_count": 75,
     "metadata": {},
     "output_type": "execute_result"
    }
   ],
   "source": [
    "df.sort_values(['H3K27ac'], ascending=False)['H3K27ac']"
   ]
  },
  {
   "cell_type": "code",
   "execution_count": 77,
   "metadata": {},
   "outputs": [
    {
     "data": {
      "text/plain": [
       "<matplotlib.axes._subplots.AxesSubplot at 0x7fbcbf3cb5f8>"
      ]
     },
     "execution_count": 77,
     "metadata": {},
     "output_type": "execute_result"
    },
    {
     "data": {
      "image/png": "[encoded data removed]",
      "text/plain": [
       "<Figure size 432x288 with 1 Axes>"
      ]
     },
     "metadata": {},
     "output_type": "display_data"
    }
   ],
   "source": [
    "df.sort_values(['H3K4me1'], ascending=False)['H3K4me1'].plot(title=\"Xist H3K4me1 peaks count over chomosomes\", kind=\"bar\")"
   ]
  },
  {
   "cell_type": "code",
   "execution_count": null,
   "metadata": {},
   "outputs": [],
   "source": [
    "#Methylation"
   ]
  },
  {
   "cell_type": "code",
   "execution_count": 55,
   "metadata": {},
   "outputs": [
    {
     "name": "stdout",
     "output_type": "stream",
     "text": [
      "0\n",
      "1\n",
      "2\n",
      "3\n",
      "4\n",
      "5\n",
      "6\n",
      "7\n",
      "8\n",
      "9\n",
      "10\n",
      "11\n",
      "12\n",
      "13\n",
      "14\n",
      "15\n",
      "16\n",
      "17\n",
      "18\n"
     ]
    }
   ],
   "source": [
    "chrom_counts = defaultdict(dict)\n",
    "names = []\n",
    "for chunk in range(0, 19):\n",
    "    print(chunk)\n",
    "    with h5py.File(\"../all_marks/\" + \"methylation\" + \"/lncRNA_Peaks_corrs/lncRNA_Peaks_Correlations_corrected_non_zero_\" + str(chunk) + \".hdf5\", 'r') as f:\n",
    "        lncRNAsNames = f['lncRNAs_names'][:]\n",
    "        names.extend(lncRNAsNames)\n",
    "        if \"ENSG00000229807\" in lncRNAsNames:\n",
    "            i = list(lncRNAsNames).index(\"ENSG00000229807\")\n",
    "            row = f['corrs_matrix'][i, :]\n",
    "            print(\"index: \" + str(i))\n",
    "            peaks = pd.read_csv(\"../all_marks/\" + \"methylation\" + \"/merged_peaks_first_in_biosample.bed\", sep=\"\\t\", header=None)\n",
    "\n",
    "            lncRNA = lncRNAsNames[i]\n",
    "            nonzero_corrs = row[np.nonzero(row)[0]]\n",
    "            nonzero_peaks = [\"peak_\" + str(i) for i in np.nonzero(row)[0]]\n",
    "            chrom_counts[lncRNA][\"methylation\"] = peaks[peaks[3].isin(nonzero_peaks)][0].value_counts()"
   ]
  },
  {
   "cell_type": "code",
   "execution_count": 52,
   "metadata": {
    "scrolled": true
   },
   "outputs": [
    {
     "data": {
      "text/plain": [
       "<matplotlib.axes._subplots.AxesSubplot at 0x7fbcb92229b0>"
      ]
     },
     "execution_count": 52,
     "metadata": {},
     "output_type": "execute_result"
    },
    {
     "data": {
      "image/png": "[encoded data removed]",
      "text/plain": [
       "<Figure size 432x288 with 1 Axes>"
      ]
     },
     "metadata": {},
     "output_type": "display_data"
    }
   ],
   "source": [
    "pd.DataFrame(chrom_counts['ENSG00000230590']).plot(title=\"FTX Methylation peaks count over chomosomes\", kind=\"bar\")"
   ]
  },
  {
   "cell_type": "code",
   "execution_count": null,
   "metadata": {},
   "outputs": [],
   "source": []
  }
 ],
 "metadata": {
  "kernelspec": {
   "display_name": "Python 3",
   "language": "python",
   "name": "python3"
  },
  "language_info": {
   "codemirror_mode": {
    "name": "ipython",
    "version": 3
   },
   "file_extension": ".py",
   "mimetype": "text/x-python",
   "name": "python",
   "nbconvert_exporter": "python",
   "pygments_lexer": "ipython3",
   "version": "3.6.9"
  }
 },
 "nbformat": 4,
 "nbformat_minor": 2
}
